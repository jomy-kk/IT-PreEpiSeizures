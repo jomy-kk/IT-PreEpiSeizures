{
 "cells": [
  {
   "cell_type": "code",
   "execution_count": 11,
   "id": "initial_id",
   "metadata": {
    "collapsed": true,
    "ExecuteTime": {
     "end_time": "2024-01-23T07:05:55.091486Z",
     "start_time": "2024-01-23T07:05:55.045107Z"
    }
   },
   "outputs": [],
   "source": [
    "import pandas as pd\n",
    "import numpy as np\n",
    "import matplotlib.pyplot as plt\n",
    "from sklearn.metrics import confusion_matrix, f1_score, accuracy_score\n",
    "import seaborn as sns\n",
    "from sklearn.ensemble import GradientBoostingClassifier, RandomForestClassifier\n",
    "from sklearn.feature_selection import SelectFromModel, RFECV\n",
    "from sklearn.experimental import enable_halving_search_cv # explicitly require this experimental feature\n",
    "from sklearn.model_selection import KFold, HalvingGridSearchCV, train_test_split, ShuffleSplit\n",
    "from sklearn.svm import LinearSVC, SVC"
   ]
  },
  {
   "cell_type": "markdown",
   "source": [
    "# Reading Features"
   ],
   "metadata": {
    "collapsed": false
   },
   "id": "617743bdda2fa6fd"
  },
  {
   "cell_type": "code",
   "outputs": [],
   "source": [
    "# Read EEG Features\n",
    "features = pd.read_csv('all_features.csv', index_col=0)\n",
    "features = features.dropna(subset=['targets'])\n",
    "scores_max, scores_min = max(features['targets']), min(features['targets'])\n",
    "N_CLASSES = 2\n",
    "for subject_session in features.index:\n",
    "    score = features.loc[subject_session]['targets']\n",
    "    score = int((score-1e-6 - scores_min) / (scores_max - scores_min) * N_CLASSES)  # discretise\n",
    "    features.loc[subject_session, 'targets'] = score\n",
    "features.loc[:, 'targets'] = features['targets'].astype(int)\n",
    "\n",
    "# Normalize each feature column\n",
    "for column in features.columns[:-1]:\n",
    "    features.loc[:, column] = (features[column] - features[column].min()) / (features[column].max() - features[column].min())"
   ],
   "metadata": {
    "collapsed": false,
    "ExecuteTime": {
     "end_time": "2024-01-23T07:05:55.503828Z",
     "start_time": "2024-01-23T07:05:55.095248Z"
    }
   },
   "id": "4271b4bdca81498a",
   "execution_count": 12
  },
  {
   "cell_type": "code",
   "outputs": [],
   "source": [
    "# Remove columns completely filled with NaNs\n",
    "features = features.dropna(axis=1, how='all')"
   ],
   "metadata": {
    "collapsed": false,
    "ExecuteTime": {
     "end_time": "2024-01-23T07:05:55.510338Z",
     "start_time": "2024-01-23T07:05:55.503955Z"
    }
   },
   "id": "c52b60dd70219de5",
   "execution_count": 13
  },
  {
   "cell_type": "markdown",
   "source": [
    "### Keep only some features?"
   ],
   "metadata": {
    "collapsed": false
   },
   "id": "cc280f99481b279"
  },
  {
   "cell_type": "markdown",
   "source": [
    "From file? "
   ],
   "metadata": {
    "collapsed": false
   },
   "id": "c7be583da26bde96"
  },
  {
   "cell_type": "code",
   "outputs": [
    {
     "data": {
      "text/plain": "array(['lowalpha_T3-P3', 'lowalpha_T4-P3', 'lowalpha_T5-F3',\n       'lowalpha_T5-T4', 'lowalpha_T6-Fp1', 'delta_F8-F4', 'delta_O1-F4',\n       'delta_P4-F4', 'delta_T3-F7', 'delta_T4-Fp1', 'delta_T6-T3',\n       'highalpha_Fp1-C4', 'highalpha_Fp1-F7', 'highalpha_T4-T3',\n       'highalpha_T5-Fp2', 'highalpha_T6-T3', 'beta_O2-F4', 'beta_O2-Fp1',\n       'beta_T5-C3', 'theta_F3-C3', 'theta_F7-F3', 'theta_F8-F3',\n       'theta_P4-F8', 'theta_T3-F3', 'theta_T6-F7',\n       'C3_theta_relative_power', 'C4_theta_relative_power',\n       'C4_highalpha_spectral_diff', 'C4_beta_spectral_flatness',\n       'C4_lowgamma_relative_power', 'C4_lowgamma_spectral_flatness',\n       'Cz_delta_relative_power', 'Cz_theta_spectral_entropy',\n       'Cz_theta_spectral_flatness', 'Cz_lowalpha_spectral_diff',\n       'Cz_highalpha_spectral_flatness', 'Cz_highalpha_spectral_diff',\n       'Cz_lowgamma_spectral_entropy', 'Cz_lowgamma_spectral_flatness',\n       'F3_theta_relative_power', 'F3_theta_spectral_flatness',\n       'F3_beta_spectral_entropy', 'F3_beta_spectral_diff',\n       'F4_lowalpha_relative_power', 'F4_highalpha_relative_power',\n       'F4_beta_spectral_flatness', 'F7_lowalpha_spectral_diff',\n       'F7_beta_spectral_diff', 'Fp1_theta_relative_power',\n       'Fp1_theta_spectral_flatness', 'Fp2_beta_spectral_diff',\n       'Fpz_theta_spectral_entropy', 'Fpz_theta_spectral_flatness',\n       'Fpz_highalpha_spectral_entropy',\n       'Fpz_highalpha_spectral_flatness', 'Fpz_highalpha_spectral_diff',\n       'Fpz_beta_spectral_entropy', 'Fpz_lowgamma_spectral_entropy',\n       'Fz_theta_spectral_entropy', 'Fz_highalpha_spectral_entropy',\n       'Fz_lowgamma_spectral_flatness', 'O1_theta_spectral_entropy',\n       'O1_theta_spectral_flatness', 'O1_highalpha_spectral_diff',\n       'O1_beta_spectral_diff', 'O1_lowgamma_spectral_flatness',\n       'O2_theta_spectral_entropy', 'O2_theta_spectral_flatness',\n       'O2_lowgamma_spectral_entropy', 'O2_lowgamma_spectral_flatness',\n       'P3_highalpha_spectral_entropy', 'P3_highalpha_spectral_flatness',\n       'P3_highalpha_spectral_diff', 'P4_theta_relative_power',\n       'P4_theta_spectral_flatness', 'Pz_theta_relative_power',\n       'Pz_highalpha_spectral_diff', 'Pz_lowgamma_spectral_entropy',\n       'Pz_lowgamma_spectral_flatness', 'T3_theta_relative_power',\n       'T3_theta_spectral_entropy', 'T4_theta_relative_power',\n       'T4_highalpha_spectral_entropy', 'T4_lowgamma_spectral_entropy',\n       'T4_lowgamma_spectral_flatness', 'T5_theta_spectral_entropy',\n       'T6_theta_relative_power', 'T6_lowgamma_spectral_entropy',\n       'T6_lowgamma_spectral_flatness'], dtype='<U31')"
     },
     "execution_count": 14,
     "metadata": {},
     "output_type": "execute_result"
    }
   ],
   "source": [
    "#selected_features = np.loadtxt('results/optimal_pli_only.txt', dtype=str)\n",
    "selected_features = np.concatenate((np.loadtxt('results/optimal_pli_only.txt', dtype=str), np.loadtxt('results/optimal_64.txt', dtype=str)))\n",
    "selected_features"
   ],
   "metadata": {
    "collapsed": false,
    "ExecuteTime": {
     "end_time": "2024-01-23T07:05:55.517136Z",
     "start_time": "2024-01-23T07:05:55.508909Z"
    }
   },
   "id": "301cb1b884216a20",
   "execution_count": 14
  },
  {
   "cell_type": "markdown",
   "source": [
    "Select immediately? (e.g. to make feature selection on this subset)"
   ],
   "metadata": {
    "collapsed": false
   },
   "id": "f65c26a5c7e9f2f7"
  },
  {
   "cell_type": "code",
   "outputs": [],
   "source": [
    "features = features[np.append(selected_features, ['targets', ])]  # keep only the selected features and the targets\n",
    "features.dropna(axis=0, inplace=True)  # Discard subjects with NaNs"
   ],
   "metadata": {
    "collapsed": false,
    "ExecuteTime": {
     "end_time": "2024-01-23T07:05:55.517726Z",
     "start_time": "2024-01-23T07:05:55.514502Z"
    }
   },
   "id": "9a1951a85b474876",
   "execution_count": 15
  },
  {
   "cell_type": "markdown",
   "source": [
    "Just some groups?"
   ],
   "metadata": {
    "collapsed": false
   },
   "id": "57b088e27e178c83"
  },
  {
   "cell_type": "code",
   "outputs": [],
   "source": [
    "#targets = features.loc[:, 'targets']\n",
    "\n",
    "# Only Spectral\n",
    "#features = features.iloc[:, :600]\n",
    "\n",
    "# Only Hjorth\n",
    "#features = features.iloc[:, 600:666]\n",
    "\n",
    "# Only PLI\n",
    "#features = features.iloc[:, 666:-1]\n",
    "\n",
    "\n",
    "###########################\n",
    "#features.loc[:,'targets'] = targets  # restore targets\n",
    "#features = features.dropna()  # remove NaNs"
   ],
   "metadata": {
    "collapsed": false,
    "ExecuteTime": {
     "end_time": "2024-01-23T07:05:55.524111Z",
     "start_time": "2024-01-23T07:05:55.517861Z"
    }
   },
   "id": "fadf9195b503ae90",
   "execution_count": 16
  },
  {
   "cell_type": "markdown",
   "source": [
    "Show"
   ],
   "metadata": {
    "collapsed": false
   },
   "id": "f236215bd44cc7c9"
  },
  {
   "cell_type": "code",
   "outputs": [
    {
     "data": {
      "text/plain": "       lowalpha_T3-P3  lowalpha_T4-P3  lowalpha_T5-F3  lowalpha_T5-T4  \\\n300_2        0.238095        0.234694        0.175824        0.349754   \n042_1        0.148148        0.214286        0.269231        0.275862   \n261_2        0.111111        0.321429        0.230769        0.310345   \n327_1        0.415597        0.357143        0.342160        0.533819   \n200_2        0.425559        0.186665        0.070386        0.373449   \n\n       lowalpha_T6-Fp1  delta_F8-F4  delta_O1-F4  delta_P4-F4  delta_T3-F7  \\\n300_2     2.087912e-01     0.298701     0.200000     0.183673     0.238095   \n042_1     3.132770e-08     0.318182     0.288889     0.142857     0.333333   \n261_2     2.692308e-01     0.227273     0.200000     0.142857     0.288889   \n327_1     3.766269e-01     0.822902     0.412991     0.270878     0.265811   \n200_2     2.605144e-01     0.423642     0.224300     0.420478     0.365187   \n\n       delta_T4-Fp1  ...  T3_theta_spectral_entropy  T4_theta_relative_power  \\\n300_2      0.376623  ...                   0.955690                 0.613918   \n042_1      0.227273  ...                   0.980346                 0.453169   \n261_2      0.363636  ...                   0.833681                 0.506474   \n327_1      0.351835  ...                   0.949164                 0.346965   \n200_2      0.350760  ...                   0.967288                 0.655194   \n\n       T4_highalpha_spectral_entropy  T4_lowgamma_spectral_entropy  \\\n300_2                       0.940277                      0.853937   \n042_1                       0.938398                      0.764676   \n261_2                       0.947940                      0.764810   \n327_1                       0.942630                      0.734450   \n200_2                       0.919274                      0.629669   \n\n       T4_lowgamma_spectral_flatness  T5_theta_spectral_entropy  \\\n300_2                       0.861653                   0.962462   \n042_1                       0.776280                   0.943945   \n261_2                       0.778628                   0.000000   \n327_1                       0.748667                   0.913155   \n200_2                       0.648594                   0.821896   \n\n       T6_theta_relative_power  T6_lowgamma_spectral_entropy  \\\n300_2                 0.598220                      0.484590   \n042_1                 0.745716                      0.549604   \n261_2                 0.384719                      0.382847   \n327_1                 0.359049                      0.542795   \n200_2                 0.400464                      0.348748   \n\n       T6_lowgamma_spectral_flatness  targets  \n300_2                       0.485363      1.0  \n042_1                       0.548771      1.0  \n261_2                       0.389348      0.0  \n327_1                       0.547940      0.0  \n200_2                       0.350532      0.0  \n\n[5 rows x 90 columns]",
      "text/html": "<div>\n<style scoped>\n    .dataframe tbody tr th:only-of-type {\n        vertical-align: middle;\n    }\n\n    .dataframe tbody tr th {\n        vertical-align: top;\n    }\n\n    .dataframe thead th {\n        text-align: right;\n    }\n</style>\n<table border=\"1\" class=\"dataframe\">\n  <thead>\n    <tr style=\"text-align: right;\">\n      <th></th>\n      <th>lowalpha_T3-P3</th>\n      <th>lowalpha_T4-P3</th>\n      <th>lowalpha_T5-F3</th>\n      <th>lowalpha_T5-T4</th>\n      <th>lowalpha_T6-Fp1</th>\n      <th>delta_F8-F4</th>\n      <th>delta_O1-F4</th>\n      <th>delta_P4-F4</th>\n      <th>delta_T3-F7</th>\n      <th>delta_T4-Fp1</th>\n      <th>...</th>\n      <th>T3_theta_spectral_entropy</th>\n      <th>T4_theta_relative_power</th>\n      <th>T4_highalpha_spectral_entropy</th>\n      <th>T4_lowgamma_spectral_entropy</th>\n      <th>T4_lowgamma_spectral_flatness</th>\n      <th>T5_theta_spectral_entropy</th>\n      <th>T6_theta_relative_power</th>\n      <th>T6_lowgamma_spectral_entropy</th>\n      <th>T6_lowgamma_spectral_flatness</th>\n      <th>targets</th>\n    </tr>\n  </thead>\n  <tbody>\n    <tr>\n      <th>300_2</th>\n      <td>0.238095</td>\n      <td>0.234694</td>\n      <td>0.175824</td>\n      <td>0.349754</td>\n      <td>2.087912e-01</td>\n      <td>0.298701</td>\n      <td>0.200000</td>\n      <td>0.183673</td>\n      <td>0.238095</td>\n      <td>0.376623</td>\n      <td>...</td>\n      <td>0.955690</td>\n      <td>0.613918</td>\n      <td>0.940277</td>\n      <td>0.853937</td>\n      <td>0.861653</td>\n      <td>0.962462</td>\n      <td>0.598220</td>\n      <td>0.484590</td>\n      <td>0.485363</td>\n      <td>1.0</td>\n    </tr>\n    <tr>\n      <th>042_1</th>\n      <td>0.148148</td>\n      <td>0.214286</td>\n      <td>0.269231</td>\n      <td>0.275862</td>\n      <td>3.132770e-08</td>\n      <td>0.318182</td>\n      <td>0.288889</td>\n      <td>0.142857</td>\n      <td>0.333333</td>\n      <td>0.227273</td>\n      <td>...</td>\n      <td>0.980346</td>\n      <td>0.453169</td>\n      <td>0.938398</td>\n      <td>0.764676</td>\n      <td>0.776280</td>\n      <td>0.943945</td>\n      <td>0.745716</td>\n      <td>0.549604</td>\n      <td>0.548771</td>\n      <td>1.0</td>\n    </tr>\n    <tr>\n      <th>261_2</th>\n      <td>0.111111</td>\n      <td>0.321429</td>\n      <td>0.230769</td>\n      <td>0.310345</td>\n      <td>2.692308e-01</td>\n      <td>0.227273</td>\n      <td>0.200000</td>\n      <td>0.142857</td>\n      <td>0.288889</td>\n      <td>0.363636</td>\n      <td>...</td>\n      <td>0.833681</td>\n      <td>0.506474</td>\n      <td>0.947940</td>\n      <td>0.764810</td>\n      <td>0.778628</td>\n      <td>0.000000</td>\n      <td>0.384719</td>\n      <td>0.382847</td>\n      <td>0.389348</td>\n      <td>0.0</td>\n    </tr>\n    <tr>\n      <th>327_1</th>\n      <td>0.415597</td>\n      <td>0.357143</td>\n      <td>0.342160</td>\n      <td>0.533819</td>\n      <td>3.766269e-01</td>\n      <td>0.822902</td>\n      <td>0.412991</td>\n      <td>0.270878</td>\n      <td>0.265811</td>\n      <td>0.351835</td>\n      <td>...</td>\n      <td>0.949164</td>\n      <td>0.346965</td>\n      <td>0.942630</td>\n      <td>0.734450</td>\n      <td>0.748667</td>\n      <td>0.913155</td>\n      <td>0.359049</td>\n      <td>0.542795</td>\n      <td>0.547940</td>\n      <td>0.0</td>\n    </tr>\n    <tr>\n      <th>200_2</th>\n      <td>0.425559</td>\n      <td>0.186665</td>\n      <td>0.070386</td>\n      <td>0.373449</td>\n      <td>2.605144e-01</td>\n      <td>0.423642</td>\n      <td>0.224300</td>\n      <td>0.420478</td>\n      <td>0.365187</td>\n      <td>0.350760</td>\n      <td>...</td>\n      <td>0.967288</td>\n      <td>0.655194</td>\n      <td>0.919274</td>\n      <td>0.629669</td>\n      <td>0.648594</td>\n      <td>0.821896</td>\n      <td>0.400464</td>\n      <td>0.348748</td>\n      <td>0.350532</td>\n      <td>0.0</td>\n    </tr>\n  </tbody>\n</table>\n<p>5 rows × 90 columns</p>\n</div>"
     },
     "execution_count": 17,
     "metadata": {},
     "output_type": "execute_result"
    }
   ],
   "source": [
    "features.head()"
   ],
   "metadata": {
    "collapsed": false,
    "ExecuteTime": {
     "end_time": "2024-01-23T07:05:55.545505Z",
     "start_time": "2024-01-23T07:05:55.526322Z"
    }
   },
   "id": "aa55d5982c0e0eeb",
   "execution_count": 17
  },
  {
   "cell_type": "markdown",
   "source": [
    "# Model"
   ],
   "metadata": {
    "collapsed": false
   },
   "id": "2ee45457487c01e3"
  },
  {
   "cell_type": "code",
   "outputs": [],
   "source": [
    "params = {'class_weight': None,\n",
    "          'criterion': 'gini',\n",
    "          'max_depth': 5,\n",
    "          'max_features': 'sqrt',\n",
    "          'max_samples': None,\n",
    "          'min_samples_leaf': 0.51,\n",
    "          'min_samples_split': 5,\n",
    "          'n_estimators': 500,\n",
    "          'random_state': 0}\n",
    "#model = RandomForestClassifier(**params)\n",
    "model = RandomForestClassifier(500, max_depth=5, random_state=0) #, oob_score=True, warm_start=True)\n",
    "#model = GradientBoostingClassifier(loss='exponential', n_estimators=100, criterion='friedman_mse', max_depth=3, learning_rate=0.1, random_state=0)\n",
    "#model = SVC(kernel='rbf', C=4, class_weight='balanced', random_state=0)"
   ],
   "metadata": {
    "collapsed": false,
    "ExecuteTime": {
     "end_time": "2024-01-23T07:05:55.554214Z",
     "start_time": "2024-01-23T07:05:55.529683Z"
    }
   },
   "id": "1c40c0d6f53525b8",
   "execution_count": 18
  },
  {
   "cell_type": "markdown",
   "source": [
    "# Run Purpose"
   ],
   "metadata": {
    "collapsed": false
   },
   "id": "65a6328a55870f0a"
  },
  {
   "cell_type": "markdown",
   "source": [
    "Cross-Validation"
   ],
   "metadata": {
    "collapsed": false
   },
   "id": "131254d0a683cebb"
  },
  {
   "cell_type": "code",
   "outputs": [],
   "source": [
    "CV = True\n",
    "# 10-fold cross-validation\n",
    "#cv = StratifiedShuffleSplit(n_splits=10, random_state=0)\n",
    "#cv = StratifiedKFold(n_splits=10)  # sem shuffle\n",
    "#cv = ShuffleSplit(n_splits=10, random_state=0)  # sem estratificação\n",
    "#cv = KFold(n_splits=5)  # sem shuffle nem estratificação\n",
    "# Leave-4-out cross-validation\n",
    "#cv = StratifiedShuffleSplit(n_splits=179-4, random_state=0)\n",
    "#cv = ShuffleSplit(n_splits=179-4, random_state=0)  # sem estratificação\n",
    "#cv = KFold(n_splits=176-4)#len(features)-4)  # sem shuffle nem estratificação\n",
    "cv = KFold(n_splits=len(features) // 4)  # sem shuffle nem estratificação\n",
    "# My cross-validation\n",
    "#cv = StratifiedLeavePOut(C=2, P=4, with_repetition=False)"
   ],
   "metadata": {
    "collapsed": false,
    "ExecuteTime": {
     "end_time": "2024-01-23T07:05:55.554768Z",
     "start_time": "2024-01-23T07:05:55.532635Z"
    }
   },
   "id": "f843310825fa1dc7",
   "execution_count": 19
  },
  {
   "cell_type": "code",
   "outputs": [
    {
     "data": {
      "text/plain": "       lowalpha_T3-P3  lowalpha_T4-P3  lowalpha_T5-F3  lowalpha_T5-T4  \\\n003_1        0.555556        0.657143        0.584615        0.668966   \n003_2        0.269841        0.234694        0.208791        0.261084   \n004_1        0.155556        0.357143        0.123077        0.420690   \n004_2        0.703704        0.500000        0.461538        0.310345   \n008_1        0.333333        0.285714        0.461538        0.793103   \n\n       lowalpha_T6-Fp1  delta_F8-F4  delta_O1-F4  delta_P4-F4  delta_T3-F7  \\\n003_1         0.446154     0.345455     0.306667     0.257143     0.573333   \n003_2         0.175824     0.181818     0.276190     0.142857     0.238095   \n004_1         0.676923     0.181818     0.306667     0.314286     0.253333   \n004_2         0.384615     0.363636     0.733333     0.238095     0.822222   \n008_1         0.461538     0.727273     0.644444     0.904762     0.288889   \n\n       delta_T4-Fp1  ...  T3_theta_spectral_entropy  T4_theta_relative_power  \\\n003_1      0.618182  ...                   0.917590                 0.520918   \n003_2      0.259740  ...                   0.847459                 0.431068   \n004_1      0.454545  ...                   0.969509                 0.443410   \n004_2      0.545455  ...                   0.959975                 0.381429   \n008_1      0.545455  ...                   0.942268                 0.412536   \n\n       T4_highalpha_spectral_entropy  T4_lowgamma_spectral_entropy  \\\n003_1                       0.911382                      0.750272   \n003_2                       0.953421                      0.661108   \n004_1                       0.897787                      0.717253   \n004_2                       0.939636                      0.714462   \n008_1                       0.935425                      0.734992   \n\n       T4_lowgamma_spectral_flatness  T5_theta_spectral_entropy  \\\n003_1                       0.761138                   0.943000   \n003_2                       0.677053                   0.972406   \n004_1                       0.735612                   0.937004   \n004_2                       0.731291                   0.972169   \n008_1                       0.751389                   0.952731   \n\n       T6_theta_relative_power  T6_lowgamma_spectral_entropy  \\\n003_1                 0.596674                      0.230187   \n003_2                 0.754676                      0.720904   \n004_1                 0.675263                      0.490773   \n004_2                 0.587301                      0.436048   \n008_1                 0.540481                      0.668551   \n\n       T6_lowgamma_spectral_flatness  targets  \n003_1                       0.230450      0.0  \n003_2                       0.718389      0.0  \n004_1                       0.487508      0.0  \n004_2                       0.441635      0.0  \n008_1                       0.662824      0.0  \n\n[5 rows x 90 columns]",
      "text/html": "<div>\n<style scoped>\n    .dataframe tbody tr th:only-of-type {\n        vertical-align: middle;\n    }\n\n    .dataframe tbody tr th {\n        vertical-align: top;\n    }\n\n    .dataframe thead th {\n        text-align: right;\n    }\n</style>\n<table border=\"1\" class=\"dataframe\">\n  <thead>\n    <tr style=\"text-align: right;\">\n      <th></th>\n      <th>lowalpha_T3-P3</th>\n      <th>lowalpha_T4-P3</th>\n      <th>lowalpha_T5-F3</th>\n      <th>lowalpha_T5-T4</th>\n      <th>lowalpha_T6-Fp1</th>\n      <th>delta_F8-F4</th>\n      <th>delta_O1-F4</th>\n      <th>delta_P4-F4</th>\n      <th>delta_T3-F7</th>\n      <th>delta_T4-Fp1</th>\n      <th>...</th>\n      <th>T3_theta_spectral_entropy</th>\n      <th>T4_theta_relative_power</th>\n      <th>T4_highalpha_spectral_entropy</th>\n      <th>T4_lowgamma_spectral_entropy</th>\n      <th>T4_lowgamma_spectral_flatness</th>\n      <th>T5_theta_spectral_entropy</th>\n      <th>T6_theta_relative_power</th>\n      <th>T6_lowgamma_spectral_entropy</th>\n      <th>T6_lowgamma_spectral_flatness</th>\n      <th>targets</th>\n    </tr>\n  </thead>\n  <tbody>\n    <tr>\n      <th>003_1</th>\n      <td>0.555556</td>\n      <td>0.657143</td>\n      <td>0.584615</td>\n      <td>0.668966</td>\n      <td>0.446154</td>\n      <td>0.345455</td>\n      <td>0.306667</td>\n      <td>0.257143</td>\n      <td>0.573333</td>\n      <td>0.618182</td>\n      <td>...</td>\n      <td>0.917590</td>\n      <td>0.520918</td>\n      <td>0.911382</td>\n      <td>0.750272</td>\n      <td>0.761138</td>\n      <td>0.943000</td>\n      <td>0.596674</td>\n      <td>0.230187</td>\n      <td>0.230450</td>\n      <td>0.0</td>\n    </tr>\n    <tr>\n      <th>003_2</th>\n      <td>0.269841</td>\n      <td>0.234694</td>\n      <td>0.208791</td>\n      <td>0.261084</td>\n      <td>0.175824</td>\n      <td>0.181818</td>\n      <td>0.276190</td>\n      <td>0.142857</td>\n      <td>0.238095</td>\n      <td>0.259740</td>\n      <td>...</td>\n      <td>0.847459</td>\n      <td>0.431068</td>\n      <td>0.953421</td>\n      <td>0.661108</td>\n      <td>0.677053</td>\n      <td>0.972406</td>\n      <td>0.754676</td>\n      <td>0.720904</td>\n      <td>0.718389</td>\n      <td>0.0</td>\n    </tr>\n    <tr>\n      <th>004_1</th>\n      <td>0.155556</td>\n      <td>0.357143</td>\n      <td>0.123077</td>\n      <td>0.420690</td>\n      <td>0.676923</td>\n      <td>0.181818</td>\n      <td>0.306667</td>\n      <td>0.314286</td>\n      <td>0.253333</td>\n      <td>0.454545</td>\n      <td>...</td>\n      <td>0.969509</td>\n      <td>0.443410</td>\n      <td>0.897787</td>\n      <td>0.717253</td>\n      <td>0.735612</td>\n      <td>0.937004</td>\n      <td>0.675263</td>\n      <td>0.490773</td>\n      <td>0.487508</td>\n      <td>0.0</td>\n    </tr>\n    <tr>\n      <th>004_2</th>\n      <td>0.703704</td>\n      <td>0.500000</td>\n      <td>0.461538</td>\n      <td>0.310345</td>\n      <td>0.384615</td>\n      <td>0.363636</td>\n      <td>0.733333</td>\n      <td>0.238095</td>\n      <td>0.822222</td>\n      <td>0.545455</td>\n      <td>...</td>\n      <td>0.959975</td>\n      <td>0.381429</td>\n      <td>0.939636</td>\n      <td>0.714462</td>\n      <td>0.731291</td>\n      <td>0.972169</td>\n      <td>0.587301</td>\n      <td>0.436048</td>\n      <td>0.441635</td>\n      <td>0.0</td>\n    </tr>\n    <tr>\n      <th>008_1</th>\n      <td>0.333333</td>\n      <td>0.285714</td>\n      <td>0.461538</td>\n      <td>0.793103</td>\n      <td>0.461538</td>\n      <td>0.727273</td>\n      <td>0.644444</td>\n      <td>0.904762</td>\n      <td>0.288889</td>\n      <td>0.545455</td>\n      <td>...</td>\n      <td>0.942268</td>\n      <td>0.412536</td>\n      <td>0.935425</td>\n      <td>0.734992</td>\n      <td>0.751389</td>\n      <td>0.952731</td>\n      <td>0.540481</td>\n      <td>0.668551</td>\n      <td>0.662824</td>\n      <td>0.0</td>\n    </tr>\n  </tbody>\n</table>\n<p>5 rows × 90 columns</p>\n</div>"
     },
     "execution_count": 20,
     "metadata": {},
     "output_type": "execute_result"
    }
   ],
   "source": [
    "# Sort subjects?\n",
    "features = features.sort_index()\n",
    "# Remove subjects without session pair?\n",
    "features = features.drop(labels=['005_2', '102_2', '109_1', '195_2', '303_2'])\n",
    "features.dropna(axis=0, inplace=True)  # Discard subjects with NaNs\n",
    "features.head()"
   ],
   "metadata": {
    "collapsed": false,
    "ExecuteTime": {
     "end_time": "2024-01-23T07:05:55.562458Z",
     "start_time": "2024-01-23T07:05:55.542654Z"
    }
   },
   "id": "af9559f7393ea6e7",
   "execution_count": 20
  },
  {
   "cell_type": "markdown",
   "source": [
    "Selection"
   ],
   "metadata": {
    "collapsed": false
   },
   "id": "8d4f2829a6c51058"
  },
  {
   "cell_type": "code",
   "outputs": [],
   "source": [
    "SELECTION = True\n",
    "selector = RFECV\n",
    "min_features_to_select = 10\n",
    "max_features_to_select = 24\n",
    "n_features_to_select = 24"
   ],
   "metadata": {
    "collapsed": false,
    "ExecuteTime": {
     "end_time": "2024-01-23T07:05:55.563610Z",
     "start_time": "2024-01-23T07:05:55.547736Z"
    }
   },
   "id": "1534a5a29337eec1",
   "execution_count": 21
  },
  {
   "cell_type": "markdown",
   "source": [
    "Hyperparameters Tuning"
   ],
   "metadata": {
    "collapsed": false
   },
   "id": "54b701fad5b4dda7"
  },
  {
   "cell_type": "code",
   "outputs": [],
   "source": [
    "HYPERPARAMETERS_TUNING = False\n",
    "tunner = HalvingGridSearchCV\n",
    "hyperparameters = (\n",
    "    {'n_estimators': [100, 500, 1000],\n",
    "     'criterion': ['gini', 'entropy', 'log_loss'],\n",
    "     'max_depth': [5, 10, 20, None],\n",
    "     'min_samples_split': [5, 10, 0.51],\n",
    "     'min_samples_leaf': [1, 2, 0.51],\n",
    "     'max_features': ['sqrt', 'log2'],\n",
    "     'class_weight': [None, 'balanced', 'balanced_subsample'],\n",
    "     'max_samples': [None, 0.5, 0.75, 0.9],\n",
    "     }\n",
    ")  # n_candidates: 7776"
   ],
   "metadata": {
    "collapsed": false,
    "ExecuteTime": {
     "end_time": "2024-01-23T07:05:55.592069Z",
     "start_time": "2024-01-23T07:05:55.550786Z"
    }
   },
   "id": "13a9e9aebe88da2b",
   "execution_count": 22
  },
  {
   "cell_type": "markdown",
   "source": [
    "Sequential Selection"
   ],
   "metadata": {
    "collapsed": false
   },
   "id": "91c5eef7476233e8"
  },
  {
   "cell_type": "code",
   "outputs": [],
   "source": [
    "SEQUENTIAL_SELECTION = False\n",
    "additional_features = None  # pli_features"
   ],
   "metadata": {
    "collapsed": false,
    "ExecuteTime": {
     "end_time": "2024-01-23T07:05:55.593463Z",
     "start_time": "2024-01-23T07:05:55.554102Z"
    }
   },
   "id": "8a66cf7f9aca82c2",
   "execution_count": 23
  },
  {
   "cell_type": "markdown",
   "source": [
    "# Evaluation"
   ],
   "metadata": {
    "collapsed": false
   },
   "id": "4a1ee778ba55e990"
  },
  {
   "cell_type": "code",
   "outputs": [
    {
     "name": "stdout",
     "output_type": "stream",
     "text": [
      "Fitting estimator with 89 features.\n",
      "Fitting estimator with 88 features.\n",
      "Fitting estimator with 87 features.\n",
      "Fitting estimator with 86 features.\n",
      "Fitting estimator with 85 features.\n",
      "Fitting estimator with 84 features.\n",
      "Fitting estimator with 83 features.\n",
      "Fitting estimator with 82 features.\n",
      "Fitting estimator with 81 features.\n",
      "Fitting estimator with 80 features.\n",
      "Fitting estimator with 79 features.\n",
      "Fitting estimator with 78 features.\n",
      "Fitting estimator with 77 features.\n",
      "Fitting estimator with 76 features.\n",
      "Fitting estimator with 75 features.\n",
      "Optimal number of features: 74\n"
     ]
    },
    {
     "data": {
      "text/plain": "<Figure size 640x480 with 1 Axes>",
      "image/png": "[encoded data removed]"
     },
     "metadata": {},
     "output_type": "display_data"
    }
   ],
   "source": [
    "if SELECTION and CV and not HYPERPARAMETERS_TUNING:\n",
    "    selector_cv = selector(estimator=model, step=1, cv=cv,\n",
    "                            scoring='f1_weighted', min_features_to_select=min_features_to_select,\n",
    "                            verbose=2, n_jobs=-1)\n",
    "\n",
    "    selector_cv.fit(features.iloc[:, :-1], features['targets'])\n",
    "    print(f\"Optimal number of features: {selector_cv.n_features_}\")\n",
    "\n",
    "    # Plot number of features VS. cross-validation scores\n",
    "    n_scores = len(selector_cv.cv_results_[\"mean_test_score\"])\n",
    "    plt.figure()\n",
    "    plt.xlabel(\"Number of features selected\")\n",
    "    plt.ylabel(\"Mean test accuracy\")\n",
    "    plt.scatter(\n",
    "        range(min_features_to_select, n_scores + min_features_to_select),\n",
    "        selector_cv.cv_results_[\"mean_test_score\"],\n",
    "        #yerr=selector_cv.cv_results_[\"std_test_score\"],\n",
    "    )\n",
    "    plt.title(\"Recursive Feature Elimination \\nwith correlated features\")\n",
    "    plt.show()\n",
    "\n",
    "    # Get optimal features\n",
    "    selected_features = selector_cv.get_feature_names_out()"
   ],
   "metadata": {
    "collapsed": false,
    "ExecuteTime": {
     "end_time": "2024-01-23T07:10:14.354147Z",
     "start_time": "2024-01-23T07:05:55.560843Z"
    }
   },
   "id": "93cc41fdab3f3e58",
   "execution_count": 24
  },
  {
   "cell_type": "code",
   "outputs": [],
   "source": [
    "if SELECTION and not CV and not HYPERPARAMETERS_TUNING:\n",
    "    #selector = RFE(estimator=model, n_features_to_select=100, step=1, verbose=2)\n",
    "    #selector = selector(estimator=model, max_features=max_features_to_select)\n",
    "    selector = selector(LinearSVC(dual=True, penalty=\"l2\", loss='hinge'), max_features=max_features_to_select)\n",
    "    selector.fit(features.iloc[:, :-1], features['targets'])\n",
    "    selected_features = selector.get_feature_names_out()"
   ],
   "metadata": {
    "collapsed": false,
    "ExecuteTime": {
     "end_time": "2024-01-23T07:10:14.436516Z",
     "start_time": "2024-01-23T07:10:14.355994Z"
    }
   },
   "id": "9dac8c05eda09054",
   "execution_count": 25
  },
  {
   "cell_type": "code",
   "outputs": [
    {
     "data": {
      "text/plain": "array(['lowalpha_T4-P3', 'lowalpha_T5-T4', 'lowalpha_T6-Fp1',\n       'delta_F8-F4', 'delta_O1-F4', 'delta_P4-F4', 'delta_T3-F7',\n       'delta_T4-Fp1', 'highalpha_Fp1-C4', 'highalpha_T4-T3',\n       'highalpha_T5-Fp2', 'highalpha_T6-T3', 'beta_O2-F4', 'beta_O2-Fp1',\n       'beta_T5-C3', 'theta_F3-C3', 'theta_F7-F3', 'theta_P4-F8',\n       'theta_T3-F3', 'theta_T6-F7', 'C3_theta_relative_power',\n       'C4_theta_relative_power', 'C4_highalpha_spectral_diff',\n       'C4_beta_spectral_flatness', 'C4_lowgamma_relative_power',\n       'C4_lowgamma_spectral_flatness', 'Cz_delta_relative_power',\n       'Cz_theta_spectral_entropy', 'Cz_theta_spectral_flatness',\n       'Cz_lowalpha_spectral_diff', 'Cz_highalpha_spectral_flatness',\n       'Cz_highalpha_spectral_diff', 'Cz_lowgamma_spectral_entropy',\n       'Cz_lowgamma_spectral_flatness', 'F3_theta_spectral_flatness',\n       'F3_beta_spectral_entropy', 'F3_beta_spectral_diff',\n       'F4_lowalpha_relative_power', 'F4_beta_spectral_flatness',\n       'F7_beta_spectral_diff', 'Fp1_theta_relative_power',\n       'Fp1_theta_spectral_flatness', 'Fp2_beta_spectral_diff',\n       'Fpz_theta_spectral_entropy', 'Fpz_theta_spectral_flatness',\n       'Fpz_highalpha_spectral_entropy',\n       'Fpz_highalpha_spectral_flatness', 'Fpz_highalpha_spectral_diff',\n       'Fpz_beta_spectral_entropy', 'Fz_theta_spectral_entropy',\n       'Fz_highalpha_spectral_entropy', 'O1_theta_spectral_entropy',\n       'O1_theta_spectral_flatness', 'O1_highalpha_spectral_diff',\n       'O1_beta_spectral_diff', 'O1_lowgamma_spectral_flatness',\n       'O2_theta_spectral_entropy', 'O2_theta_spectral_flatness',\n       'O2_lowgamma_spectral_entropy', 'P3_highalpha_spectral_flatness',\n       'P4_theta_relative_power', 'P4_theta_spectral_flatness',\n       'Pz_theta_relative_power', 'Pz_lowgamma_spectral_entropy',\n       'Pz_lowgamma_spectral_flatness', 'T3_theta_spectral_entropy',\n       'T4_theta_relative_power', 'T4_highalpha_spectral_entropy',\n       'T4_lowgamma_spectral_entropy', 'T4_lowgamma_spectral_flatness',\n       'T5_theta_spectral_entropy', 'T6_theta_relative_power',\n       'T6_lowgamma_spectral_entropy', 'T6_lowgamma_spectral_flatness'],\n      dtype=object)"
     },
     "execution_count": 26,
     "metadata": {},
     "output_type": "execute_result"
    }
   ],
   "source": [
    "selected_features"
   ],
   "metadata": {
    "collapsed": false,
    "ExecuteTime": {
     "end_time": "2024-01-23T07:10:14.438622Z",
     "start_time": "2024-01-23T07:10:14.356198Z"
    }
   },
   "id": "34b3aba9ebb9385",
   "execution_count": 26
  },
  {
   "cell_type": "code",
   "outputs": [],
   "source": [
    "features = features[np.append(selected_features, ['targets', ])]  # keep only the selected features and the targets\n",
    "features.dropna(axis=0, inplace=True)  # Discard subjects with NaNs"
   ],
   "metadata": {
    "collapsed": false,
    "ExecuteTime": {
     "end_time": "2024-01-23T07:10:14.547737Z",
     "start_time": "2024-01-23T07:10:14.386046Z"
    }
   },
   "id": "5eb602bd16d7e4ef",
   "execution_count": 27
  },
  {
   "cell_type": "code",
   "outputs": [],
   "source": [
    "if CV and not SELECTION and not HYPERPARAMETERS_TUNING:\n",
    "    from sklearn.model_selection import cross_val_score\n",
    "    #print(\"Cross-Validation with StratifiedLeavePOut\")\n",
    "    #print(\"Number of splits:\", cv.get_n_splits(features['targets']))\n",
    "    #print(\"Size of test sets\", cv.p * cv.c * 2)\n",
    "    scores = cross_val_score(model, features[selected_features], features['targets'],\n",
    "                              cv=cv, scoring='f1_weighted', verbose=2, n_jobs=-1)\n",
    "    print(\"Cross-Validation mean score:\", scores.mean())\n",
    "    print(\"Cross-Validation std score:\", scores.std())\n",
    "    print(\"Cross-Validation max score:\", scores.max())\n",
    "    print(\"Cross-Validation min score:\", scores.min())"
   ],
   "metadata": {
    "collapsed": false,
    "ExecuteTime": {
     "end_time": "2024-01-23T07:10:14.579246Z",
     "start_time": "2024-01-23T07:10:14.386287Z"
    }
   },
   "id": "866d736a7091411c",
   "execution_count": 28
  },
  {
   "cell_type": "code",
   "outputs": [],
   "source": [
    "if not CV and not SELECTION and not HYPERPARAMETERS_TUNING and not SEQUENTIAL_SELECTION:\n",
    "    # Split subjects into train and test (using sklearn)\n",
    "    train_size = 0.98\n",
    "    n_train = int(len(features) * train_size)\n",
    "    n_test = len(features) - n_train\n",
    "    train_dataset, test_dataset = train_test_split(features, train_size=train_size,\n",
    "                                                   shuffle=True,\n",
    "                                                   #stratify=features['targets'],\n",
    "                                                   random_state=1)\n",
    "    train_features = train_dataset[selected_features]\n",
    "    train_targets = train_dataset['targets']\n",
    "    test_features = test_dataset[selected_features]\n",
    "    test_targets = test_dataset['targets']\n",
    "    print(\"Train features shape:\", train_features.shape)\n",
    "    print(\"Test features shape:\", test_features.shape)\n",
    "\n",
    "    # Train\n",
    "    model = model.fit(train_features, train_targets)\n",
    "\n",
    "    #test_features = train_features  # FIXME: remove this line\n",
    "    #test_targets = train_targets  # FIXME: remove this line\n",
    "\n",
    "    # Test\n",
    "    predictions = model.predict(test_features)\n",
    "    # Adjust predictions to the number of classes\n",
    "    #predictions_min, predictions_max = 0, 1\n",
    "    #for i in range(len(predictions)):\n",
    "    #    predictions[i] = int((predictions[i]-1e-6 - predictions_min) / (predictions_max - predictions_min) * N_CLASSES)  # discretise\n",
    "\n",
    "    # 7.1) Accuracy\n",
    "    accuracy = accuracy_score(test_targets, predictions)\n",
    "\n",
    "    # 7.2) F1-Score\n",
    "    f1 = f1_score(test_targets, predictions, average='weighted')\n",
    "\n",
    "    print(f'Accuracy: {accuracy}')\n",
    "    print(f'F1-Score: {f1}')\n",
    "    print('-----\\n')\n",
    "\n",
    "    # 8. Plot Confusion Matrix\n",
    "    from sklearn.metrics import confusion_matrix, f1_score, accuracy_score\n",
    "    import seaborn as sn\n",
    "    import pandas as pd\n",
    "    import matplotlib.pyplot as plt\n",
    "\n",
    "    cm = confusion_matrix(test_targets, predictions)\n",
    "    df_cm = pd.DataFrame(cm, range(N_CLASSES), range(N_CLASSES))\n",
    "    plt.figure(figsize=(10, 7))\n",
    "    sn.set(font_scale=1.4)  # for label size\n",
    "    sn.heatmap(df_cm, annot=True, annot_kws={\"size\": 16})  # font size\n",
    "    plt.show()"
   ],
   "metadata": {
    "collapsed": false,
    "ExecuteTime": {
     "end_time": "2024-01-23T07:10:14.580828Z",
     "start_time": "2024-01-23T07:10:14.421833Z"
    }
   },
   "id": "14b58b91a6f54d01",
   "execution_count": 29
  },
  {
   "cell_type": "code",
   "outputs": [],
   "source": [
    "if HYPERPARAMETERS_TUNING and CV and not SELECTION and not SEQUENTIAL_SELECTION:\n",
    "    print(\"Hyperparameter tuning\")\n",
    "    #_tunner = tunner(model, hyperparameters, resource='n_samples', min_resources=int(179*0.5),\n",
    "    #                 cv=cv, scoring='f1_weighted', error_score=0, random_state=0,\n",
    "    #                 verbose=2, n_jobs=-1)\n",
    "\n",
    "    _tunner = tunner(model, hyperparameters,\n",
    "                     cv=cv, scoring='f1_weighted', error_score=0, random_state=0,\n",
    "                     verbose=2, n_jobs=-1)\n",
    "\n",
    "    _tunner.fit(features[selected_features], features['targets'])\n",
    "    print(\"Finished hyperparameter tuning\")\n",
    "    print(\"Best parameters:\", _tunner.best_params_)\n",
    "    print(\"Best score:\", _tunner.best_score_)\n",
    "    print(\"All results:\")\n",
    "    all_results = pd.DataFrame(_tunner.cv_results_)\n",
    "    print(all_results)"
   ],
   "metadata": {
    "collapsed": false,
    "ExecuteTime": {
     "end_time": "2024-01-23T07:10:14.582393Z",
     "start_time": "2024-01-23T07:10:14.422109Z"
    }
   },
   "id": "ccb33e86550d5b47",
   "execution_count": 30
  },
  {
   "cell_type": "code",
   "outputs": [],
   "source": [
    "if SEQUENTIAL_SELECTION and not SELECTION and not CV and not HYPERPARAMETERS_TUNING:\n",
    "\n",
    "    def _train_test(model, experimental_features, train_size=0.85):\n",
    "        train_dataset, test_dataset = train_test_split(features, train_size=train_size, shuffle=True, stratify=features['targets'], random_state=0)\n",
    "        train_features, train_targets = train_dataset[experimental_features], train_dataset['targets']\n",
    "        test_features, test_targets = test_dataset[experimental_features], test_dataset['targets']\n",
    "        model.fit(train_features, train_targets)\n",
    "        predictions = model.predict(test_features)\n",
    "        f1 = f1_score(test_targets, predictions, average='weighted')\n",
    "        return f1\n",
    "\n",
    "    # Baseline test\n",
    "    f1_baseline = _train_test(RandomForestClassifier(**params), selected_features)\n",
    "\n",
    "    # Iterate through 'additional_features' and add the one that improves the most the model\n",
    "    print(\"Sequential feature selection\")\n",
    "    results = {'baseline': f1_baseline}\n",
    "    for feature in additional_features.columns:\n",
    "        experimental_set_features = np.append(selected_features, feature)\n",
    "        f1 = _train_test(RandomForestClassifier(**params), experimental_set_features, train_size=0.98)\n",
    "        print(f\"With '{feature}'\\nF1-score = {f1}\\n\")\n",
    "        results[feature] = f1"
   ],
   "metadata": {
    "collapsed": false,
    "ExecuteTime": {
     "end_time": "2024-01-23T07:10:14.585049Z",
     "start_time": "2024-01-23T07:10:14.422190Z"
    }
   },
   "id": "a2a7c6e5ff154c6f",
   "execution_count": 31
  }
 ],
 "metadata": {
  "kernelspec": {
   "display_name": "Python 3",
   "language": "python",
   "name": "python3"
  },
  "language_info": {
   "codemirror_mode": {
    "name": "ipython",
    "version": 2
   },
   "file_extension": ".py",
   "mimetype": "text/x-python",
   "name": "python",
   "nbconvert_exporter": "python",
   "pygments_lexer": "ipython2",
   "version": "2.7.6"
  }
 },
 "nbformat": 4,
 "nbformat_minor": 5
}
