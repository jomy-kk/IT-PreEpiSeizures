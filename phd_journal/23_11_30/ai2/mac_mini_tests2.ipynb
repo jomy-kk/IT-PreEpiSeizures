{
 "cells": [
  {
   "cell_type": "code",
   "execution_count": 211,
   "id": "initial_id",
   "metadata": {
    "collapsed": true,
    "ExecuteTime": {
     "end_time": "2024-01-23T07:03:58.103911Z",
     "start_time": "2024-01-23T07:03:58.056035Z"
    }
   },
   "outputs": [],
   "source": [
    "import pandas as pd\n",
    "import numpy as np\n",
    "import matplotlib.pyplot as plt\n",
    "from sklearn.linear_model import ElasticNet\n",
    "from sklearn.metrics import confusion_matrix, f1_score, accuracy_score\n",
    "import seaborn as sns\n",
    "from sklearn.ensemble import GradientBoostingClassifier, RandomForestClassifier\n",
    "from sklearn.feature_selection import SelectFromModel, RFECV\n",
    "from sklearn.experimental import enable_halving_search_cv # explicitly require this experimental feature\n",
    "from sklearn.model_selection import KFold, HalvingGridSearchCV, train_test_split, ShuffleSplit, StratifiedShuffleSplit\n",
    "from sklearn.svm import LinearSVC, SVC"
   ]
  },
  {
   "cell_type": "markdown",
   "source": [
    "# Reading Features"
   ],
   "metadata": {
    "collapsed": false
   },
   "id": "617743bdda2fa6fd"
  },
  {
   "cell_type": "code",
   "outputs": [],
   "source": [
    "# Read EEG Features\n",
    "features = pd.read_csv('all_features.csv', index_col=0)\n",
    "features = features.dropna(subset=['targets'])\n",
    "scores_max, scores_min = max(features['targets']), min(features['targets'])\n",
    "N_CLASSES = 2\n",
    "for subject_session in features.index:\n",
    "    score = features.loc[subject_session]['targets']\n",
    "    score = int((score-1e-6 - scores_min) / (scores_max - scores_min) * N_CLASSES)  # discretise\n",
    "    features.loc[subject_session, 'targets'] = score\n",
    "features.loc[:, 'targets'] = features['targets'].astype(int)\n",
    "\n",
    "# Normalize each feature column\n",
    "for column in features.columns[:-1]:\n",
    "    features.loc[:, column] = (features[column] - features[column].min()) / (features[column].max() - features[column].min())"
   ],
   "metadata": {
    "collapsed": false,
    "ExecuteTime": {
     "end_time": "2024-01-23T07:03:58.536181Z",
     "start_time": "2024-01-23T07:03:58.106939Z"
    }
   },
   "id": "4271b4bdca81498a",
   "execution_count": 212
  },
  {
   "cell_type": "code",
   "outputs": [],
   "source": [
    "# Remove columns completely filled with NaNs\n",
    "features = features.dropna(axis=1, how='all')"
   ],
   "metadata": {
    "collapsed": false,
    "ExecuteTime": {
     "end_time": "2024-01-23T07:03:58.541343Z",
     "start_time": "2024-01-23T07:03:58.537969Z"
    }
   },
   "id": "c52b60dd70219de5",
   "execution_count": 213
  },
  {
   "cell_type": "code",
   "outputs": [],
   "source": [
    "# Make targets int\n",
    "features = features.astype({'targets':'int'})"
   ],
   "metadata": {
    "collapsed": false,
    "ExecuteTime": {
     "end_time": "2024-01-23T07:03:58.591806Z",
     "start_time": "2024-01-23T07:03:58.544282Z"
    }
   },
   "id": "fc16ec6be7b3244d",
   "execution_count": 214
  },
  {
   "cell_type": "markdown",
   "source": [
    "### Keep only some features?"
   ],
   "metadata": {
    "collapsed": false
   },
   "id": "cc280f99481b279"
  },
  {
   "cell_type": "markdown",
   "source": [
    "From file? "
   ],
   "metadata": {
    "collapsed": false
   },
   "id": "c7be583da26bde96"
  },
  {
   "cell_type": "code",
   "outputs": [],
   "source": [
    "selected_features = np.loadtxt('results/optimal_hjorth_only.txt', dtype=str)"
   ],
   "metadata": {
    "collapsed": false,
    "ExecuteTime": {
     "end_time": "2024-01-23T07:03:58.597392Z",
     "start_time": "2024-01-23T07:03:58.593181Z"
    }
   },
   "id": "301cb1b884216a20",
   "execution_count": 215
  },
  {
   "cell_type": "markdown",
   "source": [
    "Just some groups?"
   ],
   "metadata": {
    "collapsed": false
   },
   "id": "57b088e27e178c83"
  },
  {
   "cell_type": "code",
   "outputs": [],
   "source": [
    "#targets = features.loc[:, 'targets']\n",
    "\n",
    "# Only Spectral\n",
    "#features = features.iloc[:, :600]\n",
    "\n",
    "# Only Hjorth\n",
    "#features = features.iloc[:, 600:666]\n",
    "\n",
    "\n",
    "###########################\n",
    "#features.loc[:,'targets'] = targets  # restore targets\n",
    "#features = features.dropna()  # remove NaNs"
   ],
   "metadata": {
    "collapsed": false,
    "ExecuteTime": {
     "end_time": "2024-01-23T07:03:58.598327Z",
     "start_time": "2024-01-23T07:03:58.596043Z"
    }
   },
   "id": "fadf9195b503ae90",
   "execution_count": 216
  },
  {
   "cell_type": "markdown",
   "source": [
    "Show"
   ],
   "metadata": {
    "collapsed": false
   },
   "id": "f236215bd44cc7c9"
  },
  {
   "cell_type": "code",
   "outputs": [
    {
     "data": {
      "text/plain": "       C3_delta_relative_power  C3_delta_spectral_entropy  \\\n300_2                 0.290847                   0.506399   \n042_1                 0.633370                   0.698376   \n261_2                 0.576232                   0.410789   \n327_1                 0.364361                   0.751537   \n200_2                 0.450184                   0.595821   \n\n       C3_delta_spectral_flatness  C3_delta_spectral_diff  \\\n300_2                    0.513087                0.677922   \n042_1                    0.703206                0.625373   \n261_2                    0.425846                0.240497   \n327_1                    0.751709                0.529935   \n200_2                    0.606345                0.605906   \n\n       C3_theta_relative_power  C3_theta_spectral_entropy  \\\n300_2                 0.483301                   0.961598   \n042_1                 0.724320                   0.985624   \n261_2                 0.004830                   0.331900   \n327_1                 0.640646                   0.970125   \n200_2                 0.461242                   0.985107   \n\n       C3_theta_spectral_flatness  C3_theta_spectral_diff  \\\n300_2                    0.963735                0.457664   \n042_1                    0.986713                0.462133   \n261_2                    0.330336                0.516979   \n327_1                    0.971902                0.165480   \n200_2                    0.986188                0.438587   \n\n       C3_lowalpha_relative_power  C3_lowalpha_spectral_entropy  ...  \\\n300_2                    0.651047                      0.916400  ...   \n042_1                    0.756865                      0.940794  ...   \n261_2                    0.780312                      0.956951  ...   \n327_1                    0.790988                      0.902258  ...   \n200_2                    0.434333                      0.742340  ...   \n\n       theta_T6-Fp1  theta_T6-Fp2  theta_T6-O1  theta_T6-O2  theta_T6-P3  \\\n300_2      0.166667      0.268571     0.275000     0.345865     0.323308   \n042_1      0.277778      0.253333     0.183333     0.236842     0.289474   \n261_2      0.138889      0.173333     0.037500     0.000000     0.263158   \n327_1      0.141774      0.260257     0.063638     0.123380     0.107996   \n200_2      0.137315      0.247290     0.254309     0.327196     0.285001   \n\n       theta_T6-P4  theta_T6-T3  theta_T6-T4  theta_T6-T5  targets  \n300_2     0.255639     0.295690     0.238095     0.300752        1  \n042_1     0.210526     0.041356     0.166667     0.342105        1  \n261_2     0.052632     0.178305     0.166667     0.210526        0  \n327_1     0.304858     0.145227     0.390704     0.466852        0  \n200_2     0.183689     0.000000     0.264164     0.331669        0  \n\n[5 rows x 1267 columns]",
      "text/html": "<div>\n<style scoped>\n    .dataframe tbody tr th:only-of-type {\n        vertical-align: middle;\n    }\n\n    .dataframe tbody tr th {\n        vertical-align: top;\n    }\n\n    .dataframe thead th {\n        text-align: right;\n    }\n</style>\n<table border=\"1\" class=\"dataframe\">\n  <thead>\n    <tr style=\"text-align: right;\">\n      <th></th>\n      <th>C3_delta_relative_power</th>\n      <th>C3_delta_spectral_entropy</th>\n      <th>C3_delta_spectral_flatness</th>\n      <th>C3_delta_spectral_diff</th>\n      <th>C3_theta_relative_power</th>\n      <th>C3_theta_spectral_entropy</th>\n      <th>C3_theta_spectral_flatness</th>\n      <th>C3_theta_spectral_diff</th>\n      <th>C3_lowalpha_relative_power</th>\n      <th>C3_lowalpha_spectral_entropy</th>\n      <th>...</th>\n      <th>theta_T6-Fp1</th>\n      <th>theta_T6-Fp2</th>\n      <th>theta_T6-O1</th>\n      <th>theta_T6-O2</th>\n      <th>theta_T6-P3</th>\n      <th>theta_T6-P4</th>\n      <th>theta_T6-T3</th>\n      <th>theta_T6-T4</th>\n      <th>theta_T6-T5</th>\n      <th>targets</th>\n    </tr>\n  </thead>\n  <tbody>\n    <tr>\n      <th>300_2</th>\n      <td>0.290847</td>\n      <td>0.506399</td>\n      <td>0.513087</td>\n      <td>0.677922</td>\n      <td>0.483301</td>\n      <td>0.961598</td>\n      <td>0.963735</td>\n      <td>0.457664</td>\n      <td>0.651047</td>\n      <td>0.916400</td>\n      <td>...</td>\n      <td>0.166667</td>\n      <td>0.268571</td>\n      <td>0.275000</td>\n      <td>0.345865</td>\n      <td>0.323308</td>\n      <td>0.255639</td>\n      <td>0.295690</td>\n      <td>0.238095</td>\n      <td>0.300752</td>\n      <td>1</td>\n    </tr>\n    <tr>\n      <th>042_1</th>\n      <td>0.633370</td>\n      <td>0.698376</td>\n      <td>0.703206</td>\n      <td>0.625373</td>\n      <td>0.724320</td>\n      <td>0.985624</td>\n      <td>0.986713</td>\n      <td>0.462133</td>\n      <td>0.756865</td>\n      <td>0.940794</td>\n      <td>...</td>\n      <td>0.277778</td>\n      <td>0.253333</td>\n      <td>0.183333</td>\n      <td>0.236842</td>\n      <td>0.289474</td>\n      <td>0.210526</td>\n      <td>0.041356</td>\n      <td>0.166667</td>\n      <td>0.342105</td>\n      <td>1</td>\n    </tr>\n    <tr>\n      <th>261_2</th>\n      <td>0.576232</td>\n      <td>0.410789</td>\n      <td>0.425846</td>\n      <td>0.240497</td>\n      <td>0.004830</td>\n      <td>0.331900</td>\n      <td>0.330336</td>\n      <td>0.516979</td>\n      <td>0.780312</td>\n      <td>0.956951</td>\n      <td>...</td>\n      <td>0.138889</td>\n      <td>0.173333</td>\n      <td>0.037500</td>\n      <td>0.000000</td>\n      <td>0.263158</td>\n      <td>0.052632</td>\n      <td>0.178305</td>\n      <td>0.166667</td>\n      <td>0.210526</td>\n      <td>0</td>\n    </tr>\n    <tr>\n      <th>327_1</th>\n      <td>0.364361</td>\n      <td>0.751537</td>\n      <td>0.751709</td>\n      <td>0.529935</td>\n      <td>0.640646</td>\n      <td>0.970125</td>\n      <td>0.971902</td>\n      <td>0.165480</td>\n      <td>0.790988</td>\n      <td>0.902258</td>\n      <td>...</td>\n      <td>0.141774</td>\n      <td>0.260257</td>\n      <td>0.063638</td>\n      <td>0.123380</td>\n      <td>0.107996</td>\n      <td>0.304858</td>\n      <td>0.145227</td>\n      <td>0.390704</td>\n      <td>0.466852</td>\n      <td>0</td>\n    </tr>\n    <tr>\n      <th>200_2</th>\n      <td>0.450184</td>\n      <td>0.595821</td>\n      <td>0.606345</td>\n      <td>0.605906</td>\n      <td>0.461242</td>\n      <td>0.985107</td>\n      <td>0.986188</td>\n      <td>0.438587</td>\n      <td>0.434333</td>\n      <td>0.742340</td>\n      <td>...</td>\n      <td>0.137315</td>\n      <td>0.247290</td>\n      <td>0.254309</td>\n      <td>0.327196</td>\n      <td>0.285001</td>\n      <td>0.183689</td>\n      <td>0.000000</td>\n      <td>0.264164</td>\n      <td>0.331669</td>\n      <td>0</td>\n    </tr>\n  </tbody>\n</table>\n<p>5 rows × 1267 columns</p>\n</div>"
     },
     "execution_count": 217,
     "metadata": {},
     "output_type": "execute_result"
    }
   ],
   "source": [
    "features.head()"
   ],
   "metadata": {
    "collapsed": false,
    "ExecuteTime": {
     "end_time": "2024-01-23T07:03:58.613412Z",
     "start_time": "2024-01-23T07:03:58.600540Z"
    }
   },
   "id": "aa55d5982c0e0eeb",
   "execution_count": 217
  },
  {
   "cell_type": "markdown",
   "source": [
    "# Model"
   ],
   "metadata": {
    "collapsed": false
   },
   "id": "2ee45457487c01e3"
  },
  {
   "cell_type": "code",
   "outputs": [],
   "source": [
    "params = {'class_weight': None,\n",
    "          'criterion': 'gini',\n",
    "          'max_depth': 5,\n",
    "          'max_features': 'sqrt',\n",
    "          'max_samples': None,\n",
    "          'min_samples_leaf': 0.51,\n",
    "          'min_samples_split': 5,\n",
    "          'n_estimators': 500,\n",
    "          'random_state': 0}\n",
    "#model = RandomForestClassifier(**params)\n",
    "model = RandomForestClassifier(500, max_depth=5, random_state=0) #, oob_score=True, warm_start=True)\n",
    "#model = GradientBoostingClassifier(loss='exponential', n_estimators=100, criterion='friedman_mse', max_depth=3, learning_rate=0.1, random_state=0)\n",
    "#model = SVC(kernel='rbf', C=5, class_weight='balanced', random_state=0)"
   ],
   "metadata": {
    "collapsed": false,
    "ExecuteTime": {
     "end_time": "2024-01-23T07:03:58.630840Z",
     "start_time": "2024-01-23T07:03:58.610178Z"
    }
   },
   "id": "1c40c0d6f53525b8",
   "execution_count": 218
  },
  {
   "cell_type": "markdown",
   "source": [
    "# Run Purpose"
   ],
   "metadata": {
    "collapsed": false
   },
   "id": "65a6328a55870f0a"
  },
  {
   "cell_type": "markdown",
   "source": [
    "Cross-Validation"
   ],
   "metadata": {
    "collapsed": false
   },
   "id": "131254d0a683cebb"
  },
  {
   "cell_type": "code",
   "outputs": [],
   "source": [
    "CV = True\n",
    "# 10-fold cross-validation\n",
    "#cv = StratifiedShuffleSplit(n_splits=10, random_state=0)\n",
    "#cv = StratifiedKFold(n_splits=10)  # sem shuffle\n",
    "#cv = ShuffleSplit(n_splits=10, random_state=0)  # sem estratificação\n",
    "#cv = KFold(n_splits=5)  # sem shuffle nem estratificação\n",
    "# Leave-4-out cross-validation\n",
    "#cv = StratifiedShuffleSplit(n_splits=179-4, random_state=0)\n",
    "#cv = ShuffleSplit(n_splits=179-4, random_state=0)  # sem estratificação\n",
    "#cv = KFold(n_splits=len(features)-4)  # sem shuffle nem estratificação\n",
    "cv = KFold(n_splits=len(features) // 4)  # sem shuffle nem estratificação\n",
    "# My cross-validation\n",
    "#cv = StratifiedLeavePOut(C=2, P=4, with_repetition=False)"
   ],
   "metadata": {
    "collapsed": false,
    "ExecuteTime": {
     "end_time": "2024-01-23T07:03:58.631952Z",
     "start_time": "2024-01-23T07:03:58.614734Z"
    }
   },
   "id": "f843310825fa1dc7",
   "execution_count": 219
  },
  {
   "cell_type": "code",
   "outputs": [
    {
     "data": {
      "text/plain": "       C3_delta_relative_power  C3_delta_spectral_entropy  \\\n003_1                 0.442878                   0.596282   \n003_2                 0.486413                   0.804029   \n004_1                 0.552516                   0.871960   \n004_2                 0.371168                   0.438033   \n008_1                 0.279384                   0.120382   \n...                        ...                        ...   \n351_2                 0.599715                   0.706324   \n355_1                 0.469039                   0.597319   \n355_2                 0.636086                   0.841833   \n356_1                 0.655786                   0.853059   \n356_2                 0.643594                   0.904308   \n\n       C3_delta_spectral_flatness  C3_delta_spectral_diff  \\\n003_1                    0.595396                0.296637   \n003_2                    0.805181                0.725483   \n004_1                    0.873773                0.728517   \n004_2                    0.441447                0.210781   \n008_1                    0.126638                0.040625   \n...                           ...                     ...   \n351_2                    0.709676                0.625200   \n355_1                    0.598046                0.268693   \n355_2                    0.844974                0.537610   \n356_1                    0.853764                0.642454   \n356_2                    0.905844                0.770174   \n\n       C3_theta_relative_power  C3_theta_spectral_entropy  \\\n003_1                 0.504101                   0.980879   \n003_2                 0.751756                   0.973147   \n004_1                 0.211744                   0.709394   \n004_2                 0.271195                   0.803898   \n008_1                 0.386846                   0.983939   \n...                        ...                        ...   \n351_2                 0.859793                   0.988145   \n355_1                 0.469655                   0.969750   \n355_2                 0.732354                   0.944329   \n356_1                 0.678495                   0.941064   \n356_2                 0.772115                   0.950716   \n\n       C3_theta_spectral_flatness  C3_theta_spectral_diff  \\\n003_1                    0.982634                0.492826   \n003_2                    0.975185                0.337463   \n004_1                    0.711538                0.551936   \n004_2                    0.809099                0.345361   \n008_1                    0.984982                0.610186   \n...                           ...                     ...   \n351_2                    0.988805                0.357386   \n355_1                    0.971496                0.715936   \n355_2                    0.947996                0.902838   \n356_1                    0.943437                0.322846   \n356_2                    0.952981                0.541365   \n\n       C3_lowalpha_relative_power  C3_lowalpha_spectral_entropy  ...  \\\n003_1                    0.730751                      0.853720  ...   \n003_2                    0.700120                      0.882486  ...   \n004_1                    0.553620                      0.914040  ...   \n004_2                    0.631242                      0.924679  ...   \n008_1                    0.150069                      0.857516  ...   \n...                           ...                           ...  ...   \n351_2                    0.702661                      0.626659  ...   \n355_1                    0.079379                      0.630700  ...   \n355_2                    0.057219                      0.663621  ...   \n356_1                    0.934990                      0.892372  ...   \n356_2                    0.915249                      0.943875  ...   \n\n       theta_T6-Fp1  theta_T6-Fp2  theta_T6-O1  theta_T6-O2  theta_T6-P3  \\\n003_1  1.333334e-01      0.360000     0.125000     0.178947     0.336842   \n003_2  3.095238e-01      0.222857     0.100000     0.233083     0.142857   \n004_1  4.000000e-01      0.456000     0.335000     0.400000     0.557895   \n004_2  5.555555e-01      0.733333     0.475000     0.578947     0.842105   \n008_1  4.444444e-01      0.306667     0.358333     0.421053     0.526316   \n...             ...           ...          ...          ...          ...   \n351_2  6.645887e-09      0.066667     0.066667     0.289474     0.210526   \n355_1  9.523808e-02      0.314286     0.200000     0.210526     0.120301   \n355_2  3.666667e-01      0.296000     0.335000     0.305263     0.336842   \n356_1  3.095238e-01      0.222857     0.250000     0.300752     0.255639   \n356_2  8.333331e-02      0.306667     0.125000     0.263158     0.421053   \n\n       theta_T6-P4  theta_T6-T3  theta_T6-T4  theta_T6-T5  targets  \n003_1     0.178947     0.506983     0.266667     0.336842        0  \n003_2     0.233083     0.248736     0.166667     0.165414        0  \n004_1     0.178947     0.309776     0.300000     0.526316        0  \n004_2     0.421053     0.616542     0.777778     0.736842        0  \n008_1     0.315790     0.397424     0.444444     0.578947        0  \n...            ...          ...          ...          ...      ...  \n351_2     0.210526     0.178305     0.027778     0.289474        0  \n355_1     0.255639     0.319167     0.142857     0.165414        1  \n355_2     0.431579     0.276909     0.266667     0.494737        1  \n356_1     0.233083     0.060920     0.357143     0.413534        0  \n356_2     0.342105     0.315254     0.250000     0.105263        0  \n\n[160 rows x 1267 columns]",
      "text/html": "<div>\n<style scoped>\n    .dataframe tbody tr th:only-of-type {\n        vertical-align: middle;\n    }\n\n    .dataframe tbody tr th {\n        vertical-align: top;\n    }\n\n    .dataframe thead th {\n        text-align: right;\n    }\n</style>\n<table border=\"1\" class=\"dataframe\">\n  <thead>\n    <tr style=\"text-align: right;\">\n      <th></th>\n      <th>C3_delta_relative_power</th>\n      <th>C3_delta_spectral_entropy</th>\n      <th>C3_delta_spectral_flatness</th>\n      <th>C3_delta_spectral_diff</th>\n      <th>C3_theta_relative_power</th>\n      <th>C3_theta_spectral_entropy</th>\n      <th>C3_theta_spectral_flatness</th>\n      <th>C3_theta_spectral_diff</th>\n      <th>C3_lowalpha_relative_power</th>\n      <th>C3_lowalpha_spectral_entropy</th>\n      <th>...</th>\n      <th>theta_T6-Fp1</th>\n      <th>theta_T6-Fp2</th>\n      <th>theta_T6-O1</th>\n      <th>theta_T6-O2</th>\n      <th>theta_T6-P3</th>\n      <th>theta_T6-P4</th>\n      <th>theta_T6-T3</th>\n      <th>theta_T6-T4</th>\n      <th>theta_T6-T5</th>\n      <th>targets</th>\n    </tr>\n  </thead>\n  <tbody>\n    <tr>\n      <th>003_1</th>\n      <td>0.442878</td>\n      <td>0.596282</td>\n      <td>0.595396</td>\n      <td>0.296637</td>\n      <td>0.504101</td>\n      <td>0.980879</td>\n      <td>0.982634</td>\n      <td>0.492826</td>\n      <td>0.730751</td>\n      <td>0.853720</td>\n      <td>...</td>\n      <td>1.333334e-01</td>\n      <td>0.360000</td>\n      <td>0.125000</td>\n      <td>0.178947</td>\n      <td>0.336842</td>\n      <td>0.178947</td>\n      <td>0.506983</td>\n      <td>0.266667</td>\n      <td>0.336842</td>\n      <td>0</td>\n    </tr>\n    <tr>\n      <th>003_2</th>\n      <td>0.486413</td>\n      <td>0.804029</td>\n      <td>0.805181</td>\n      <td>0.725483</td>\n      <td>0.751756</td>\n      <td>0.973147</td>\n      <td>0.975185</td>\n      <td>0.337463</td>\n      <td>0.700120</td>\n      <td>0.882486</td>\n      <td>...</td>\n      <td>3.095238e-01</td>\n      <td>0.222857</td>\n      <td>0.100000</td>\n      <td>0.233083</td>\n      <td>0.142857</td>\n      <td>0.233083</td>\n      <td>0.248736</td>\n      <td>0.166667</td>\n      <td>0.165414</td>\n      <td>0</td>\n    </tr>\n    <tr>\n      <th>004_1</th>\n      <td>0.552516</td>\n      <td>0.871960</td>\n      <td>0.873773</td>\n      <td>0.728517</td>\n      <td>0.211744</td>\n      <td>0.709394</td>\n      <td>0.711538</td>\n      <td>0.551936</td>\n      <td>0.553620</td>\n      <td>0.914040</td>\n      <td>...</td>\n      <td>4.000000e-01</td>\n      <td>0.456000</td>\n      <td>0.335000</td>\n      <td>0.400000</td>\n      <td>0.557895</td>\n      <td>0.178947</td>\n      <td>0.309776</td>\n      <td>0.300000</td>\n      <td>0.526316</td>\n      <td>0</td>\n    </tr>\n    <tr>\n      <th>004_2</th>\n      <td>0.371168</td>\n      <td>0.438033</td>\n      <td>0.441447</td>\n      <td>0.210781</td>\n      <td>0.271195</td>\n      <td>0.803898</td>\n      <td>0.809099</td>\n      <td>0.345361</td>\n      <td>0.631242</td>\n      <td>0.924679</td>\n      <td>...</td>\n      <td>5.555555e-01</td>\n      <td>0.733333</td>\n      <td>0.475000</td>\n      <td>0.578947</td>\n      <td>0.842105</td>\n      <td>0.421053</td>\n      <td>0.616542</td>\n      <td>0.777778</td>\n      <td>0.736842</td>\n      <td>0</td>\n    </tr>\n    <tr>\n      <th>008_1</th>\n      <td>0.279384</td>\n      <td>0.120382</td>\n      <td>0.126638</td>\n      <td>0.040625</td>\n      <td>0.386846</td>\n      <td>0.983939</td>\n      <td>0.984982</td>\n      <td>0.610186</td>\n      <td>0.150069</td>\n      <td>0.857516</td>\n      <td>...</td>\n      <td>4.444444e-01</td>\n      <td>0.306667</td>\n      <td>0.358333</td>\n      <td>0.421053</td>\n      <td>0.526316</td>\n      <td>0.315790</td>\n      <td>0.397424</td>\n      <td>0.444444</td>\n      <td>0.578947</td>\n      <td>0</td>\n    </tr>\n    <tr>\n      <th>...</th>\n      <td>...</td>\n      <td>...</td>\n      <td>...</td>\n      <td>...</td>\n      <td>...</td>\n      <td>...</td>\n      <td>...</td>\n      <td>...</td>\n      <td>...</td>\n      <td>...</td>\n      <td>...</td>\n      <td>...</td>\n      <td>...</td>\n      <td>...</td>\n      <td>...</td>\n      <td>...</td>\n      <td>...</td>\n      <td>...</td>\n      <td>...</td>\n      <td>...</td>\n      <td>...</td>\n    </tr>\n    <tr>\n      <th>351_2</th>\n      <td>0.599715</td>\n      <td>0.706324</td>\n      <td>0.709676</td>\n      <td>0.625200</td>\n      <td>0.859793</td>\n      <td>0.988145</td>\n      <td>0.988805</td>\n      <td>0.357386</td>\n      <td>0.702661</td>\n      <td>0.626659</td>\n      <td>...</td>\n      <td>6.645887e-09</td>\n      <td>0.066667</td>\n      <td>0.066667</td>\n      <td>0.289474</td>\n      <td>0.210526</td>\n      <td>0.210526</td>\n      <td>0.178305</td>\n      <td>0.027778</td>\n      <td>0.289474</td>\n      <td>0</td>\n    </tr>\n    <tr>\n      <th>355_1</th>\n      <td>0.469039</td>\n      <td>0.597319</td>\n      <td>0.598046</td>\n      <td>0.268693</td>\n      <td>0.469655</td>\n      <td>0.969750</td>\n      <td>0.971496</td>\n      <td>0.715936</td>\n      <td>0.079379</td>\n      <td>0.630700</td>\n      <td>...</td>\n      <td>9.523808e-02</td>\n      <td>0.314286</td>\n      <td>0.200000</td>\n      <td>0.210526</td>\n      <td>0.120301</td>\n      <td>0.255639</td>\n      <td>0.319167</td>\n      <td>0.142857</td>\n      <td>0.165414</td>\n      <td>1</td>\n    </tr>\n    <tr>\n      <th>355_2</th>\n      <td>0.636086</td>\n      <td>0.841833</td>\n      <td>0.844974</td>\n      <td>0.537610</td>\n      <td>0.732354</td>\n      <td>0.944329</td>\n      <td>0.947996</td>\n      <td>0.902838</td>\n      <td>0.057219</td>\n      <td>0.663621</td>\n      <td>...</td>\n      <td>3.666667e-01</td>\n      <td>0.296000</td>\n      <td>0.335000</td>\n      <td>0.305263</td>\n      <td>0.336842</td>\n      <td>0.431579</td>\n      <td>0.276909</td>\n      <td>0.266667</td>\n      <td>0.494737</td>\n      <td>1</td>\n    </tr>\n    <tr>\n      <th>356_1</th>\n      <td>0.655786</td>\n      <td>0.853059</td>\n      <td>0.853764</td>\n      <td>0.642454</td>\n      <td>0.678495</td>\n      <td>0.941064</td>\n      <td>0.943437</td>\n      <td>0.322846</td>\n      <td>0.934990</td>\n      <td>0.892372</td>\n      <td>...</td>\n      <td>3.095238e-01</td>\n      <td>0.222857</td>\n      <td>0.250000</td>\n      <td>0.300752</td>\n      <td>0.255639</td>\n      <td>0.233083</td>\n      <td>0.060920</td>\n      <td>0.357143</td>\n      <td>0.413534</td>\n      <td>0</td>\n    </tr>\n    <tr>\n      <th>356_2</th>\n      <td>0.643594</td>\n      <td>0.904308</td>\n      <td>0.905844</td>\n      <td>0.770174</td>\n      <td>0.772115</td>\n      <td>0.950716</td>\n      <td>0.952981</td>\n      <td>0.541365</td>\n      <td>0.915249</td>\n      <td>0.943875</td>\n      <td>...</td>\n      <td>8.333331e-02</td>\n      <td>0.306667</td>\n      <td>0.125000</td>\n      <td>0.263158</td>\n      <td>0.421053</td>\n      <td>0.342105</td>\n      <td>0.315254</td>\n      <td>0.250000</td>\n      <td>0.105263</td>\n      <td>0</td>\n    </tr>\n  </tbody>\n</table>\n<p>160 rows × 1267 columns</p>\n</div>"
     },
     "execution_count": 220,
     "metadata": {},
     "output_type": "execute_result"
    }
   ],
   "source": [
    "# Sort subjects?\n",
    "features = features.sort_index()\n",
    "# Remove subjects without session pair?\n",
    "features = features.drop(labels=['005_2', '102_2', '109_1', '195_2', '303_2'])\n",
    "features.dropna(axis=0, inplace=True)  # Discard subjects with NaNs\n",
    "features"
   ],
   "metadata": {
    "collapsed": false,
    "ExecuteTime": {
     "end_time": "2024-01-23T07:03:58.665979Z",
     "start_time": "2024-01-23T07:03:58.627417Z"
    }
   },
   "id": "dd947adf3ec95db6",
   "execution_count": 220
  },
  {
   "cell_type": "markdown",
   "source": [
    "Selection"
   ],
   "metadata": {
    "collapsed": false
   },
   "id": "8d4f2829a6c51058"
  },
  {
   "cell_type": "code",
   "outputs": [],
   "source": [
    "SELECTION = True\n",
    "selector = RFECV\n",
    "min_features_to_select = 10\n",
    "max_features_to_select = 24\n",
    "n_features_to_select = 24"
   ],
   "metadata": {
    "collapsed": false,
    "ExecuteTime": {
     "end_time": "2024-01-23T07:03:58.669386Z",
     "start_time": "2024-01-23T07:03:58.664045Z"
    }
   },
   "id": "1534a5a29337eec1",
   "execution_count": 221
  },
  {
   "cell_type": "markdown",
   "source": [
    "Hyperparameters Tuning"
   ],
   "metadata": {
    "collapsed": false
   },
   "id": "54b701fad5b4dda7"
  },
  {
   "cell_type": "code",
   "outputs": [],
   "source": [
    "HYPERPARAMETERS_TUNING = False\n",
    "tunner = HalvingGridSearchCV\n",
    "hyperparameters = (\n",
    "    {'n_estimators': [100, 500, 1000],\n",
    "     'criterion': ['gini', 'entropy', 'log_loss'],\n",
    "     'max_depth': [5, 10, 20, None],\n",
    "     'min_samples_split': [5, 10, 0.51],\n",
    "     'min_samples_leaf': [1, 2, 0.51],\n",
    "     'max_features': ['sqrt', 'log2'],\n",
    "     'class_weight': [None, 'balanced', 'balanced_subsample'],\n",
    "     'max_samples': [None, 0.5, 0.75, 0.9],\n",
    "     }\n",
    ")  # n_candidates: 7776"
   ],
   "metadata": {
    "collapsed": false,
    "ExecuteTime": {
     "end_time": "2024-01-23T07:03:58.670828Z",
     "start_time": "2024-01-23T07:03:58.667530Z"
    }
   },
   "id": "13a9e9aebe88da2b",
   "execution_count": 222
  },
  {
   "cell_type": "markdown",
   "source": [
    "Sequential Selection"
   ],
   "metadata": {
    "collapsed": false
   },
   "id": "91c5eef7476233e8"
  },
  {
   "cell_type": "code",
   "outputs": [],
   "source": [
    "SEQUENTIAL_SELECTION = False\n",
    "additional_features = None  # pli_features"
   ],
   "metadata": {
    "collapsed": false,
    "ExecuteTime": {
     "end_time": "2024-01-23T07:03:58.671877Z",
     "start_time": "2024-01-23T07:03:58.669611Z"
    }
   },
   "id": "8a66cf7f9aca82c2",
   "execution_count": 223
  },
  {
   "cell_type": "markdown",
   "source": [
    "# Evaluation"
   ],
   "metadata": {
    "collapsed": false
   },
   "id": "4a1ee778ba55e990"
  },
  {
   "cell_type": "code",
   "outputs": [
    {
     "ename": "ValueError",
     "evalue": "when `importance_getter=='auto'`, the underlying estimator SVC should have `coef_` or `feature_importances_` attribute. Either pass a fitted estimator to feature selector or call fit before calling transform.",
     "output_type": "error",
     "traceback": [
      "\u001B[0;31m---------------------------------------------------------------------------\u001B[0m",
      "\u001B[0;31m_RemoteTraceback\u001B[0m                          Traceback (most recent call last)",
      "\u001B[0;31m_RemoteTraceback\u001B[0m: \n\"\"\"\nTraceback (most recent call last):\n  File \"/Users/saraiva/PycharmProjects/LTBio/venv/lib/python3.9/site-packages/joblib/externals/loky/process_executor.py\", line 463, in _process_worker\n    r = call_item()\n  File \"/Users/saraiva/PycharmProjects/LTBio/venv/lib/python3.9/site-packages/joblib/externals/loky/process_executor.py\", line 291, in __call__\n    return self.fn(*self.args, **self.kwargs)\n  File \"/Users/saraiva/PycharmProjects/LTBio/venv/lib/python3.9/site-packages/joblib/parallel.py\", line 589, in __call__\n    return [func(*args, **kwargs)\n  File \"/Users/saraiva/PycharmProjects/LTBio/venv/lib/python3.9/site-packages/joblib/parallel.py\", line 589, in <listcomp>\n    return [func(*args, **kwargs)\n  File \"/Users/saraiva/PycharmProjects/LTBio/venv/lib/python3.9/site-packages/sklearn/utils/parallel.py\", line 129, in __call__\n    return self.function(*args, **kwargs)\n  File \"/Users/saraiva/PycharmProjects/LTBio/venv/lib/python3.9/site-packages/sklearn/feature_selection/_rfe.py\", line 35, in _rfe_single_fit\n    return rfe._fit(\n  File \"/Users/saraiva/PycharmProjects/LTBio/venv/lib/python3.9/site-packages/sklearn/feature_selection/_rfe.py\", line 308, in _fit\n    importances = _get_feature_importances(\n  File \"/Users/saraiva/PycharmProjects/LTBio/venv/lib/python3.9/site-packages/sklearn/feature_selection/_base.py\", line 215, in _get_feature_importances\n    raise ValueError(\nValueError: when `importance_getter=='auto'`, the underlying estimator SVC should have `coef_` or `feature_importances_` attribute. Either pass a fitted estimator to feature selector or call fit before calling transform.\n\"\"\"",
      "\nThe above exception was the direct cause of the following exception:\n",
      "\u001B[0;31mValueError\u001B[0m                                Traceback (most recent call last)",
      "Cell \u001B[0;32mIn[224], line 6\u001B[0m\n\u001B[1;32m      1\u001B[0m \u001B[38;5;28;01mif\u001B[39;00m SELECTION \u001B[38;5;129;01mand\u001B[39;00m CV \u001B[38;5;129;01mand\u001B[39;00m \u001B[38;5;129;01mnot\u001B[39;00m HYPERPARAMETERS_TUNING:\n\u001B[1;32m      2\u001B[0m     selector_cv \u001B[38;5;241m=\u001B[39m selector(estimator\u001B[38;5;241m=\u001B[39mmodel, step\u001B[38;5;241m=\u001B[39m\u001B[38;5;241m1\u001B[39m, cv\u001B[38;5;241m=\u001B[39mcv,\n\u001B[1;32m      3\u001B[0m                             scoring\u001B[38;5;241m=\u001B[39m\u001B[38;5;124m'\u001B[39m\u001B[38;5;124mf1_weighted\u001B[39m\u001B[38;5;124m'\u001B[39m, min_features_to_select\u001B[38;5;241m=\u001B[39mmin_features_to_select,\n\u001B[1;32m      4\u001B[0m                             verbose\u001B[38;5;241m=\u001B[39m\u001B[38;5;241m2\u001B[39m, n_jobs\u001B[38;5;241m=\u001B[39m\u001B[38;5;241m-\u001B[39m\u001B[38;5;241m1\u001B[39m)\n\u001B[0;32m----> 6\u001B[0m     \u001B[43mselector_cv\u001B[49m\u001B[38;5;241;43m.\u001B[39;49m\u001B[43mfit\u001B[49m\u001B[43m(\u001B[49m\u001B[43mfeatures\u001B[49m\u001B[38;5;241;43m.\u001B[39;49m\u001B[43miloc\u001B[49m\u001B[43m[\u001B[49m\u001B[43m:\u001B[49m\u001B[43m,\u001B[49m\u001B[43m \u001B[49m\u001B[43m:\u001B[49m\u001B[38;5;241;43m-\u001B[39;49m\u001B[38;5;241;43m1\u001B[39;49m\u001B[43m]\u001B[49m\u001B[43m,\u001B[49m\u001B[43m \u001B[49m\u001B[43mfeatures\u001B[49m\u001B[43m[\u001B[49m\u001B[38;5;124;43m'\u001B[39;49m\u001B[38;5;124;43mtargets\u001B[39;49m\u001B[38;5;124;43m'\u001B[39;49m\u001B[43m]\u001B[49m\u001B[43m)\u001B[49m\n\u001B[1;32m      7\u001B[0m     \u001B[38;5;28mprint\u001B[39m(\u001B[38;5;124mf\u001B[39m\u001B[38;5;124m\"\u001B[39m\u001B[38;5;124mOptimal number of features: \u001B[39m\u001B[38;5;132;01m{\u001B[39;00mselector_cv\u001B[38;5;241m.\u001B[39mn_features_\u001B[38;5;132;01m}\u001B[39;00m\u001B[38;5;124m\"\u001B[39m)\n\u001B[1;32m      9\u001B[0m     \u001B[38;5;66;03m# Plot number of features VS. cross-validation scores\u001B[39;00m\n",
      "File \u001B[0;32m~/PycharmProjects/LTBio/venv/lib/python3.9/site-packages/sklearn/base.py:1351\u001B[0m, in \u001B[0;36m_fit_context.<locals>.decorator.<locals>.wrapper\u001B[0;34m(estimator, *args, **kwargs)\u001B[0m\n\u001B[1;32m   1344\u001B[0m     estimator\u001B[38;5;241m.\u001B[39m_validate_params()\n\u001B[1;32m   1346\u001B[0m \u001B[38;5;28;01mwith\u001B[39;00m config_context(\n\u001B[1;32m   1347\u001B[0m     skip_parameter_validation\u001B[38;5;241m=\u001B[39m(\n\u001B[1;32m   1348\u001B[0m         prefer_skip_nested_validation \u001B[38;5;129;01mor\u001B[39;00m global_skip_validation\n\u001B[1;32m   1349\u001B[0m     )\n\u001B[1;32m   1350\u001B[0m ):\n\u001B[0;32m-> 1351\u001B[0m     \u001B[38;5;28;01mreturn\u001B[39;00m \u001B[43mfit_method\u001B[49m\u001B[43m(\u001B[49m\u001B[43mestimator\u001B[49m\u001B[43m,\u001B[49m\u001B[43m \u001B[49m\u001B[38;5;241;43m*\u001B[39;49m\u001B[43margs\u001B[49m\u001B[43m,\u001B[49m\u001B[43m \u001B[49m\u001B[38;5;241;43m*\u001B[39;49m\u001B[38;5;241;43m*\u001B[39;49m\u001B[43mkwargs\u001B[49m\u001B[43m)\u001B[49m\n",
      "File \u001B[0;32m~/PycharmProjects/LTBio/venv/lib/python3.9/site-packages/sklearn/feature_selection/_rfe.py:746\u001B[0m, in \u001B[0;36mRFECV.fit\u001B[0;34m(self, X, y, groups)\u001B[0m\n\u001B[1;32m    743\u001B[0m     parallel \u001B[38;5;241m=\u001B[39m Parallel(n_jobs\u001B[38;5;241m=\u001B[39m\u001B[38;5;28mself\u001B[39m\u001B[38;5;241m.\u001B[39mn_jobs)\n\u001B[1;32m    744\u001B[0m     func \u001B[38;5;241m=\u001B[39m delayed(_rfe_single_fit)\n\u001B[0;32m--> 746\u001B[0m scores \u001B[38;5;241m=\u001B[39m \u001B[43mparallel\u001B[49m\u001B[43m(\u001B[49m\n\u001B[1;32m    747\u001B[0m \u001B[43m    \u001B[49m\u001B[43mfunc\u001B[49m\u001B[43m(\u001B[49m\u001B[43mrfe\u001B[49m\u001B[43m,\u001B[49m\u001B[43m \u001B[49m\u001B[38;5;28;43mself\u001B[39;49m\u001B[38;5;241;43m.\u001B[39;49m\u001B[43mestimator\u001B[49m\u001B[43m,\u001B[49m\u001B[43m \u001B[49m\u001B[43mX\u001B[49m\u001B[43m,\u001B[49m\u001B[43m \u001B[49m\u001B[43my\u001B[49m\u001B[43m,\u001B[49m\u001B[43m \u001B[49m\u001B[43mtrain\u001B[49m\u001B[43m,\u001B[49m\u001B[43m \u001B[49m\u001B[43mtest\u001B[49m\u001B[43m,\u001B[49m\u001B[43m \u001B[49m\u001B[43mscorer\u001B[49m\u001B[43m)\u001B[49m\n\u001B[1;32m    748\u001B[0m \u001B[43m    \u001B[49m\u001B[38;5;28;43;01mfor\u001B[39;49;00m\u001B[43m \u001B[49m\u001B[43mtrain\u001B[49m\u001B[43m,\u001B[49m\u001B[43m \u001B[49m\u001B[43mtest\u001B[49m\u001B[43m \u001B[49m\u001B[38;5;129;43;01min\u001B[39;49;00m\u001B[43m \u001B[49m\u001B[43mcv\u001B[49m\u001B[38;5;241;43m.\u001B[39;49m\u001B[43msplit\u001B[49m\u001B[43m(\u001B[49m\u001B[43mX\u001B[49m\u001B[43m,\u001B[49m\u001B[43m \u001B[49m\u001B[43my\u001B[49m\u001B[43m,\u001B[49m\u001B[43m \u001B[49m\u001B[43mgroups\u001B[49m\u001B[43m)\u001B[49m\n\u001B[1;32m    749\u001B[0m \u001B[43m\u001B[49m\u001B[43m)\u001B[49m\n\u001B[1;32m    751\u001B[0m scores \u001B[38;5;241m=\u001B[39m np\u001B[38;5;241m.\u001B[39marray(scores)\n\u001B[1;32m    752\u001B[0m scores_sum \u001B[38;5;241m=\u001B[39m np\u001B[38;5;241m.\u001B[39msum(scores, axis\u001B[38;5;241m=\u001B[39m\u001B[38;5;241m0\u001B[39m)\n",
      "File \u001B[0;32m~/PycharmProjects/LTBio/venv/lib/python3.9/site-packages/sklearn/utils/parallel.py:67\u001B[0m, in \u001B[0;36mParallel.__call__\u001B[0;34m(self, iterable)\u001B[0m\n\u001B[1;32m     62\u001B[0m config \u001B[38;5;241m=\u001B[39m get_config()\n\u001B[1;32m     63\u001B[0m iterable_with_config \u001B[38;5;241m=\u001B[39m (\n\u001B[1;32m     64\u001B[0m     (_with_config(delayed_func, config), args, kwargs)\n\u001B[1;32m     65\u001B[0m     \u001B[38;5;28;01mfor\u001B[39;00m delayed_func, args, kwargs \u001B[38;5;129;01min\u001B[39;00m iterable\n\u001B[1;32m     66\u001B[0m )\n\u001B[0;32m---> 67\u001B[0m \u001B[38;5;28;01mreturn\u001B[39;00m \u001B[38;5;28;43msuper\u001B[39;49m\u001B[43m(\u001B[49m\u001B[43m)\u001B[49m\u001B[38;5;241;43m.\u001B[39;49m\u001B[38;5;21;43m__call__\u001B[39;49m\u001B[43m(\u001B[49m\u001B[43miterable_with_config\u001B[49m\u001B[43m)\u001B[49m\n",
      "File \u001B[0;32m~/PycharmProjects/LTBio/venv/lib/python3.9/site-packages/joblib/parallel.py:1952\u001B[0m, in \u001B[0;36mParallel.__call__\u001B[0;34m(self, iterable)\u001B[0m\n\u001B[1;32m   1946\u001B[0m \u001B[38;5;66;03m# The first item from the output is blank, but it makes the interpreter\u001B[39;00m\n\u001B[1;32m   1947\u001B[0m \u001B[38;5;66;03m# progress until it enters the Try/Except block of the generator and\u001B[39;00m\n\u001B[1;32m   1948\u001B[0m \u001B[38;5;66;03m# reach the first `yield` statement. This starts the aynchronous\u001B[39;00m\n\u001B[1;32m   1949\u001B[0m \u001B[38;5;66;03m# dispatch of the tasks to the workers.\u001B[39;00m\n\u001B[1;32m   1950\u001B[0m \u001B[38;5;28mnext\u001B[39m(output)\n\u001B[0;32m-> 1952\u001B[0m \u001B[38;5;28;01mreturn\u001B[39;00m output \u001B[38;5;28;01mif\u001B[39;00m \u001B[38;5;28mself\u001B[39m\u001B[38;5;241m.\u001B[39mreturn_generator \u001B[38;5;28;01melse\u001B[39;00m \u001B[38;5;28;43mlist\u001B[39;49m\u001B[43m(\u001B[49m\u001B[43moutput\u001B[49m\u001B[43m)\u001B[49m\n",
      "File \u001B[0;32m~/PycharmProjects/LTBio/venv/lib/python3.9/site-packages/joblib/parallel.py:1595\u001B[0m, in \u001B[0;36mParallel._get_outputs\u001B[0;34m(self, iterator, pre_dispatch)\u001B[0m\n\u001B[1;32m   1592\u001B[0m     \u001B[38;5;28;01myield\u001B[39;00m\n\u001B[1;32m   1594\u001B[0m     \u001B[38;5;28;01mwith\u001B[39;00m \u001B[38;5;28mself\u001B[39m\u001B[38;5;241m.\u001B[39m_backend\u001B[38;5;241m.\u001B[39mretrieval_context():\n\u001B[0;32m-> 1595\u001B[0m         \u001B[38;5;28;01myield from\u001B[39;00m \u001B[38;5;28mself\u001B[39m\u001B[38;5;241m.\u001B[39m_retrieve()\n\u001B[1;32m   1597\u001B[0m \u001B[38;5;28;01mexcept\u001B[39;00m \u001B[38;5;167;01mGeneratorExit\u001B[39;00m:\n\u001B[1;32m   1598\u001B[0m     \u001B[38;5;66;03m# The generator has been garbage collected before being fully\u001B[39;00m\n\u001B[1;32m   1599\u001B[0m     \u001B[38;5;66;03m# consumed. This aborts the remaining tasks if possible and warn\u001B[39;00m\n\u001B[1;32m   1600\u001B[0m     \u001B[38;5;66;03m# the user if necessary.\u001B[39;00m\n\u001B[1;32m   1601\u001B[0m     \u001B[38;5;28mself\u001B[39m\u001B[38;5;241m.\u001B[39m_exception \u001B[38;5;241m=\u001B[39m \u001B[38;5;28;01mTrue\u001B[39;00m\n",
      "File \u001B[0;32m~/PycharmProjects/LTBio/venv/lib/python3.9/site-packages/joblib/parallel.py:1699\u001B[0m, in \u001B[0;36mParallel._retrieve\u001B[0;34m(self)\u001B[0m\n\u001B[1;32m   1692\u001B[0m \u001B[38;5;28;01mwhile\u001B[39;00m \u001B[38;5;28mself\u001B[39m\u001B[38;5;241m.\u001B[39m_wait_retrieval():\n\u001B[1;32m   1693\u001B[0m \n\u001B[1;32m   1694\u001B[0m     \u001B[38;5;66;03m# If the callback thread of a worker has signaled that its task\u001B[39;00m\n\u001B[1;32m   1695\u001B[0m     \u001B[38;5;66;03m# triggered an exception, or if the retrieval loop has raised an\u001B[39;00m\n\u001B[1;32m   1696\u001B[0m     \u001B[38;5;66;03m# exception (e.g. `GeneratorExit`), exit the loop and surface the\u001B[39;00m\n\u001B[1;32m   1697\u001B[0m     \u001B[38;5;66;03m# worker traceback.\u001B[39;00m\n\u001B[1;32m   1698\u001B[0m     \u001B[38;5;28;01mif\u001B[39;00m \u001B[38;5;28mself\u001B[39m\u001B[38;5;241m.\u001B[39m_aborting:\n\u001B[0;32m-> 1699\u001B[0m         \u001B[38;5;28;43mself\u001B[39;49m\u001B[38;5;241;43m.\u001B[39;49m\u001B[43m_raise_error_fast\u001B[49m\u001B[43m(\u001B[49m\u001B[43m)\u001B[49m\n\u001B[1;32m   1700\u001B[0m         \u001B[38;5;28;01mbreak\u001B[39;00m\n\u001B[1;32m   1702\u001B[0m     \u001B[38;5;66;03m# If the next job is not ready for retrieval yet, we just wait for\u001B[39;00m\n\u001B[1;32m   1703\u001B[0m     \u001B[38;5;66;03m# async callbacks to progress.\u001B[39;00m\n",
      "File \u001B[0;32m~/PycharmProjects/LTBio/venv/lib/python3.9/site-packages/joblib/parallel.py:1734\u001B[0m, in \u001B[0;36mParallel._raise_error_fast\u001B[0;34m(self)\u001B[0m\n\u001B[1;32m   1730\u001B[0m \u001B[38;5;66;03m# If this error job exists, immediatly raise the error by\u001B[39;00m\n\u001B[1;32m   1731\u001B[0m \u001B[38;5;66;03m# calling get_result. This job might not exists if abort has been\u001B[39;00m\n\u001B[1;32m   1732\u001B[0m \u001B[38;5;66;03m# called directly or if the generator is gc'ed.\u001B[39;00m\n\u001B[1;32m   1733\u001B[0m \u001B[38;5;28;01mif\u001B[39;00m error_job \u001B[38;5;129;01mis\u001B[39;00m \u001B[38;5;129;01mnot\u001B[39;00m \u001B[38;5;28;01mNone\u001B[39;00m:\n\u001B[0;32m-> 1734\u001B[0m     \u001B[43merror_job\u001B[49m\u001B[38;5;241;43m.\u001B[39;49m\u001B[43mget_result\u001B[49m\u001B[43m(\u001B[49m\u001B[38;5;28;43mself\u001B[39;49m\u001B[38;5;241;43m.\u001B[39;49m\u001B[43mtimeout\u001B[49m\u001B[43m)\u001B[49m\n",
      "File \u001B[0;32m~/PycharmProjects/LTBio/venv/lib/python3.9/site-packages/joblib/parallel.py:736\u001B[0m, in \u001B[0;36mBatchCompletionCallBack.get_result\u001B[0;34m(self, timeout)\u001B[0m\n\u001B[1;32m    730\u001B[0m backend \u001B[38;5;241m=\u001B[39m \u001B[38;5;28mself\u001B[39m\u001B[38;5;241m.\u001B[39mparallel\u001B[38;5;241m.\u001B[39m_backend\n\u001B[1;32m    732\u001B[0m \u001B[38;5;28;01mif\u001B[39;00m backend\u001B[38;5;241m.\u001B[39msupports_retrieve_callback:\n\u001B[1;32m    733\u001B[0m     \u001B[38;5;66;03m# We assume that the result has already been retrieved by the\u001B[39;00m\n\u001B[1;32m    734\u001B[0m     \u001B[38;5;66;03m# callback thread, and is stored internally. It's just waiting to\u001B[39;00m\n\u001B[1;32m    735\u001B[0m     \u001B[38;5;66;03m# be returned.\u001B[39;00m\n\u001B[0;32m--> 736\u001B[0m     \u001B[38;5;28;01mreturn\u001B[39;00m \u001B[38;5;28;43mself\u001B[39;49m\u001B[38;5;241;43m.\u001B[39;49m\u001B[43m_return_or_raise\u001B[49m\u001B[43m(\u001B[49m\u001B[43m)\u001B[49m\n\u001B[1;32m    738\u001B[0m \u001B[38;5;66;03m# For other backends, the main thread needs to run the retrieval step.\u001B[39;00m\n\u001B[1;32m    739\u001B[0m \u001B[38;5;28;01mtry\u001B[39;00m:\n",
      "File \u001B[0;32m~/PycharmProjects/LTBio/venv/lib/python3.9/site-packages/joblib/parallel.py:754\u001B[0m, in \u001B[0;36mBatchCompletionCallBack._return_or_raise\u001B[0;34m(self)\u001B[0m\n\u001B[1;32m    752\u001B[0m \u001B[38;5;28;01mtry\u001B[39;00m:\n\u001B[1;32m    753\u001B[0m     \u001B[38;5;28;01mif\u001B[39;00m \u001B[38;5;28mself\u001B[39m\u001B[38;5;241m.\u001B[39mstatus \u001B[38;5;241m==\u001B[39m TASK_ERROR:\n\u001B[0;32m--> 754\u001B[0m         \u001B[38;5;28;01mraise\u001B[39;00m \u001B[38;5;28mself\u001B[39m\u001B[38;5;241m.\u001B[39m_result\n\u001B[1;32m    755\u001B[0m     \u001B[38;5;28;01mreturn\u001B[39;00m \u001B[38;5;28mself\u001B[39m\u001B[38;5;241m.\u001B[39m_result\n\u001B[1;32m    756\u001B[0m \u001B[38;5;28;01mfinally\u001B[39;00m:\n",
      "\u001B[0;31mValueError\u001B[0m: when `importance_getter=='auto'`, the underlying estimator SVC should have `coef_` or `feature_importances_` attribute. Either pass a fitted estimator to feature selector or call fit before calling transform."
     ]
    }
   ],
   "source": [
    "if SELECTION and CV and not HYPERPARAMETERS_TUNING:\n",
    "    selector_cv = selector(estimator=model, step=1, cv=cv,\n",
    "                            scoring='f1_weighted', min_features_to_select=min_features_to_select,\n",
    "                            verbose=2, n_jobs=-1)\n",
    "\n",
    "    selector_cv.fit(features.iloc[:, :-1], features['targets'])\n",
    "    print(f\"Optimal number of features: {selector_cv.n_features_}\")\n",
    "\n",
    "    # Plot number of features VS. cross-validation scores\n",
    "    n_scores = len(selector_cv.cv_results_[\"mean_test_score\"])\n",
    "    plt.figure()\n",
    "    plt.xlabel(\"Number of features selected\")\n",
    "    plt.ylabel(\"Mean test accuracy\")\n",
    "    plt.scatter(\n",
    "        range(min_features_to_select, n_scores + min_features_to_select),\n",
    "        selector_cv.cv_results_[\"mean_test_score\"],\n",
    "        #yerr=selector_cv.cv_results_[\"std_test_score\"],\n",
    "    )\n",
    "    plt.title(\"Recursive Feature Elimination \\nwith correlated features\")\n",
    "    plt.show()\n",
    "\n",
    "    # Get optimal features\n",
    "    selected_features = selector_cv.get_feature_names_out()"
   ],
   "metadata": {
    "collapsed": false,
    "ExecuteTime": {
     "end_time": "2024-01-23T07:03:59.790348Z",
     "start_time": "2024-01-23T07:03:58.692698Z"
    }
   },
   "id": "93cc41fdab3f3e58",
   "execution_count": 224
  },
  {
   "cell_type": "code",
   "outputs": [],
   "source": [
    "if SELECTION and not CV and not HYPERPARAMETERS_TUNING:\n",
    "    #selector = RFE(estimator=model, n_features_to_select=100, step=1, verbose=2)\n",
    "    #selector = selector(estimator=model, max_features=max_features_to_select)\n",
    "    selector = selector(LinearSVC(dual=True, penalty=\"l2\", loss='hinge'), max_features=max_features_to_select)\n",
    "    selector.fit(features.iloc[:, :-1], features['targets'])\n",
    "    selected_features = selector.get_feature_names_out()"
   ],
   "metadata": {
    "collapsed": false,
    "ExecuteTime": {
     "end_time": "2024-01-23T07:03:59.798942Z",
     "start_time": "2024-01-23T07:03:59.791472Z"
    }
   },
   "id": "9dac8c05eda09054",
   "execution_count": null
  },
  {
   "cell_type": "code",
   "outputs": [],
   "source": [
    "selected_features"
   ],
   "metadata": {
    "collapsed": false,
    "ExecuteTime": {
     "start_time": "2024-01-23T07:03:59.793017Z"
    }
   },
   "id": "34b3aba9ebb9385",
   "execution_count": null
  },
  {
   "cell_type": "code",
   "outputs": [],
   "source": [
    "features = features[np.append(selected_features, ['targets', ])]  # keep only the selected features and the targets"
   ],
   "metadata": {
    "collapsed": false,
    "ExecuteTime": {
     "start_time": "2024-01-23T07:03:59.794621Z"
    }
   },
   "id": "5eb602bd16d7e4ef",
   "execution_count": null
  },
  {
   "cell_type": "code",
   "outputs": [],
   "source": [
    "features.dropna(axis=0, inplace=True)  # Discard subjects with NaNs"
   ],
   "metadata": {
    "collapsed": false,
    "ExecuteTime": {
     "start_time": "2024-01-23T07:03:59.796304Z"
    }
   },
   "id": "12c24f0654299224",
   "execution_count": null
  },
  {
   "cell_type": "code",
   "outputs": [],
   "source": [
    "features"
   ],
   "metadata": {
    "collapsed": false,
    "ExecuteTime": {
     "start_time": "2024-01-23T07:03:59.797644Z"
    }
   },
   "id": "2fff4f6d69e74b2f",
   "execution_count": null
  },
  {
   "cell_type": "code",
   "outputs": [],
   "source": [
    "if CV and not SELECTION and not HYPERPARAMETERS_TUNING:\n",
    "    from sklearn.model_selection import cross_val_score\n",
    "    #print(\"Cross-Validation with StratifiedLeavePOut\")\n",
    "    #print(\"Number of splits:\", cv.get_n_splits(features['targets']))\n",
    "    #print(\"Size of test sets\", cv.p * cv.c * 2)\n",
    "    scores = cross_val_score(model, features[selected_features], features['targets'],\n",
    "                              cv=cv, scoring='f1_weighted', verbose=2, n_jobs=-1)\n",
    "    print(\"Cross-Validation mean score:\", scores.mean())\n",
    "    print(\"Cross-Validation std score:\", scores.std())\n",
    "    print(\"Cross-Validation max score:\", scores.max())\n",
    "    print(\"Cross-Validation min score:\", scores.min())"
   ],
   "metadata": {
    "collapsed": false,
    "ExecuteTime": {
     "start_time": "2024-01-23T07:03:59.798659Z"
    }
   },
   "id": "866d736a7091411c",
   "execution_count": null
  },
  {
   "cell_type": "code",
   "outputs": [],
   "source": [
    "if not CV and not SELECTION and not HYPERPARAMETERS_TUNING and not SEQUENTIAL_SELECTION:\n",
    "    # Split subjects into train and test (using sklearn)\n",
    "    train_size = 0.98\n",
    "    n_train = int(len(features) * train_size)\n",
    "    n_test = len(features) - n_train\n",
    "    train_dataset, test_dataset = train_test_split(features, train_size=train_size,\n",
    "                                                   shuffle=True,\n",
    "                                                   #stratify=features['targets'],\n",
    "                                                   random_state=1)\n",
    "    train_features = train_dataset[selected_features]\n",
    "    train_targets = train_dataset['targets']\n",
    "    test_features = test_dataset[selected_features]\n",
    "    test_targets = test_dataset['targets']\n",
    "    print(\"Train features shape:\", train_features.shape)\n",
    "    print(\"Test features shape:\", test_features.shape)\n",
    "\n",
    "    # Train\n",
    "    model = model.fit(train_features, train_targets)\n",
    "\n",
    "    #test_features = train_features  # FIXME: remove this line\n",
    "    #test_targets = train_targets  # FIXME: remove this line\n",
    "\n",
    "    # Test\n",
    "    predictions = model.predict(test_features)\n",
    "    # Adjust predictions to the number of classes\n",
    "    #predictions_min, predictions_max = 0, 1\n",
    "    #for i in range(len(predictions)):\n",
    "    #    predictions[i] = int((predictions[i]-1e-6 - predictions_min) / (predictions_max - predictions_min) * N_CLASSES)  # discretise\n",
    "\n",
    "    # 7.1) Accuracy\n",
    "    accuracy = accuracy_score(test_targets, predictions)\n",
    "\n",
    "    # 7.2) F1-Score\n",
    "    f1 = f1_score(test_targets, predictions, average='weighted')\n",
    "\n",
    "    print(f'Accuracy: {accuracy}')\n",
    "    print(f'F1-Score: {f1}')\n",
    "    print('-----\\n')\n",
    "\n",
    "    # 8. Plot Confusion Matrix\n",
    "    from sklearn.metrics import confusion_matrix, f1_score, accuracy_score\n",
    "    import seaborn as sn\n",
    "    import pandas as pd\n",
    "    import matplotlib.pyplot as plt\n",
    "\n",
    "    cm = confusion_matrix(test_targets, predictions)\n",
    "    df_cm = pd.DataFrame(cm, range(N_CLASSES), range(N_CLASSES))\n",
    "    plt.figure(figsize=(10, 7))\n",
    "    sn.set(font_scale=1.4)  # for label size\n",
    "    sn.heatmap(df_cm, annot=True, annot_kws={\"size\": 16})  # font size\n",
    "    plt.show()"
   ],
   "metadata": {
    "collapsed": false,
    "ExecuteTime": {
     "end_time": "2024-01-23T07:03:59.800050Z",
     "start_time": "2024-01-23T07:03:59.799509Z"
    }
   },
   "id": "14b58b91a6f54d01",
   "execution_count": null
  },
  {
   "cell_type": "code",
   "outputs": [],
   "source": [
    "if HYPERPARAMETERS_TUNING and CV and not SELECTION and not SEQUENTIAL_SELECTION:\n",
    "    print(\"Hyperparameter tuning\")\n",
    "    #_tunner = tunner(model, hyperparameters, resource='n_samples', min_resources=int(179*0.5),\n",
    "    #                 cv=cv, scoring='f1_weighted', error_score=0, random_state=0,\n",
    "    #                 verbose=2, n_jobs=-1)\n",
    "\n",
    "    _tunner = tunner(model, hyperparameters,\n",
    "                     cv=cv, scoring='f1_weighted', error_score=0, random_state=0,\n",
    "                     verbose=2, n_jobs=-1)\n",
    "\n",
    "    _tunner.fit(features[selected_features], features['targets'])\n",
    "    print(\"Finished hyperparameter tuning\")\n",
    "    print(\"Best parameters:\", _tunner.best_params_)\n",
    "    print(\"Best score:\", _tunner.best_score_)\n",
    "    print(\"All results:\")\n",
    "    all_results = pd.DataFrame(_tunner.cv_results_)\n",
    "    print(all_results)"
   ],
   "metadata": {
    "collapsed": false,
    "ExecuteTime": {
     "start_time": "2024-01-23T07:03:59.800375Z"
    }
   },
   "id": "ccb33e86550d5b47",
   "execution_count": null
  },
  {
   "cell_type": "code",
   "outputs": [],
   "source": [
    "if SEQUENTIAL_SELECTION and not SELECTION and not CV and not HYPERPARAMETERS_TUNING:\n",
    "\n",
    "    def _train_test(model, experimental_features, train_size=0.85):\n",
    "        train_dataset, test_dataset = train_test_split(features, train_size=train_size, shuffle=True, stratify=features['targets'], random_state=0)\n",
    "        train_features, train_targets = train_dataset[experimental_features], train_dataset['targets']\n",
    "        test_features, test_targets = test_dataset[experimental_features], test_dataset['targets']\n",
    "        model.fit(train_features, train_targets)\n",
    "        predictions = model.predict(test_features)\n",
    "        f1 = f1_score(test_targets, predictions, average='weighted')\n",
    "        return f1\n",
    "\n",
    "    # Baseline test\n",
    "    f1_baseline = _train_test(RandomForestClassifier(**params), selected_features)\n",
    "\n",
    "    # Iterate through 'additional_features' and add the one that improves the most the model\n",
    "    print(\"Sequential feature selection\")\n",
    "    results = {'baseline': f1_baseline}\n",
    "    for feature in additional_features.columns:\n",
    "        experimental_set_features = np.append(selected_features, feature)\n",
    "        f1 = _train_test(RandomForestClassifier(**params), experimental_set_features, train_size=0.98)\n",
    "        print(f\"With '{feature}'\\nF1-score = {f1}\\n\")\n",
    "        results[feature] = f1"
   ],
   "metadata": {
    "collapsed": false,
    "ExecuteTime": {
     "start_time": "2024-01-23T07:03:59.801262Z"
    }
   },
   "id": "a2a7c6e5ff154c6f",
   "execution_count": null
  }
 ],
 "metadata": {
  "kernelspec": {
   "display_name": "Python 3",
   "language": "python",
   "name": "python3"
  },
  "language_info": {
   "codemirror_mode": {
    "name": "ipython",
    "version": 2
   },
   "file_extension": ".py",
   "mimetype": "text/x-python",
   "name": "python",
   "nbconvert_exporter": "python",
   "pygments_lexer": "ipython2",
   "version": "2.7.6"
  }
 },
 "nbformat": 4,
 "nbformat_minor": 5
}
