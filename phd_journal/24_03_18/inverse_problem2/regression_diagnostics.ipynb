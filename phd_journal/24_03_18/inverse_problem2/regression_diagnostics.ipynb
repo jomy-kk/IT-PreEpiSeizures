{
 "cells": [
  {
   "cell_type": "markdown",
   "source": [
    "# MMSE Regressor"
   ],
   "metadata": {
    "collapsed": false
   }
  },
  {
   "cell_type": "code",
   "execution_count": 1,
   "source": [
    "from math import ceil, floor\n",
    "from matplotlib import pyplot as plt\n",
    "from pandas import Series\n",
    "import seaborn as sns\n",
    "import statsmodels.api as sm\n",
    "\n",
    "from read import *\n",
    "from utils import *"
   ],
   "metadata": {
    "collapsed": false,
    "ExecuteTime": {
     "end_time": "2024-04-23T09:07:51.575918Z",
     "start_time": "2024-04-23T09:07:49.704586Z"
    }
   },
   "outputs": []
  },
  {
   "cell_type": "code",
   "execution_count": 2,
   "source": [
    "# A. Load model\n",
    "from pickle import load\n",
    "with open('model_80feat.pkl', 'rb') as file:\n",
    "    model = load(file)"
   ],
   "metadata": {
    "collapsed": false,
    "ExecuteTime": {
     "end_time": "2024-04-23T09:07:51.995586Z",
     "start_time": "2024-04-23T09:07:51.577958Z"
    }
   },
   "outputs": []
  },
  {
   "cell_type": "code",
   "execution_count": 9,
   "source": [
    "# B. Get test data (KJPP)\n",
    "\n",
    "FEATURES_SELECTED = ['Spectral#RelativePower#F3#gamma', 'Hjorth#Complexity#T3', 'Spectral#PeakFrequency#O1#beta3', 'Spectral#Entropy#Pz#beta1', 'Spectral#RelativePower#Cz#beta2', 'Spectral#Diff#P4#beta2', 'Spectral#Flatness#T5#alpha2', 'Spectral#PeakFrequency#Fz#beta3', 'Spectral#EdgeFrequency#T3#delta', 'PLI#Temporal(L)-Occipital(L)#beta1', 'Spectral#RelativePower#C4#delta', 'Spectral#PeakFrequency#F8#alpha1', 'Spectral#EdgeFrequency#Pz#gamma', 'Spectral#PeakFrequency#Cz#gamma', 'Spectral#Flatness#T6#gamma', 'Spectral#RelativePower#Fz#delta', 'Spectral#EdgeFrequency#Fz#beta3', 'Spectral#EdgeFrequency#F8#beta3', 'Spectral#Diff#Cz#gamma', 'Hjorth#Activity#C3', 'Spectral#RelativePower#Cz#delta', 'Spectral#RelativePower#Fp2#gamma', 'Spectral#Entropy#F7#theta', 'PLI#Temporal(L)-Parietal(L)#alpha2', 'Spectral#RelativePower#T4#beta1', 'Spectral#RelativePower#Cz#gamma', 'Hjorth#Activity#P4', 'Spectral#RelativePower#Fz#gamma', 'Spectral#RelativePower#P3#theta', 'Spectral#EdgeFrequency#O2#beta2', 'Spectral#Diff#C4#beta1', 'Spectral#RelativePower#C3#gamma', 'Spectral#RelativePower#P4#beta3', 'Spectral#PeakFrequency#Fp2#beta2', 'Spectral#EdgeFrequency#T3#theta', 'Spectral#RelativePower#Fp1#beta1', 'Hjorth#Mobility#Pz', 'Spectral#RelativePower#Fpz#gamma', 'Spectral#Diff#T4#beta1', 'Spectral#Entropy#P3#alpha1', 'Spectral#Flatness#F4#beta2', 'Spectral#Entropy#F4#beta2', 'Spectral#RelativePower#C4#gamma', 'Spectral#RelativePower#Cz#beta3', 'Spectral#RelativePower#O1#alpha2', 'Spectral#PeakFrequency#Fz#gamma', 'Spectral#PeakFrequency#F4#delta', 'Spectral#RelativePower#P4#alpha1', 'Spectral#PeakFrequency#P3#gamma', 'Spectral#RelativePower#O2#beta3', 'Hjorth#Mobility#P4', 'Hjorth#Complexity#Fp2', 'Spectral#Diff#P3#beta1', 'Spectral#RelativePower#C3#beta1', 'Spectral#EdgeFrequency#Cz#beta3', 'Spectral#Diff#C3#theta', 'Spectral#RelativePower#Fp1#beta2', 'Spectral#EdgeFrequency#F4#delta', 'Spectral#RelativePower#P3#beta3', 'Spectral#RelativePower#F3#theta', 'Spectral#Entropy#O2#delta', 'Spectral#PeakFrequency#C4#beta1', 'Spectral#EdgeFrequency#Cz#gamma', 'Spectral#RelativePower#T6#beta1', 'Spectral#PeakFrequency#O2#theta', 'Spectral#Flatness#C4#gamma', 'Spectral#PeakFrequency#F7#gamma', 'Spectral#RelativePower#F7#gamma', 'Spectral#Diff#T5#beta1', 'Spectral#EdgeFrequency#Pz#beta3', 'Spectral#RelativePower#T3#beta3', 'Spectral#RelativePower#T4#gamma', 'Spectral#EdgeFrequency#F3#theta', 'Spectral#RelativePower#Fp2#beta1', 'Spectral#PeakFrequency#Fz#theta', 'Hjorth#Complexity#T5', 'Hjorth#Complexity#T4', 'Hjorth#Complexity#F8', 'Hjorth#Mobility#Cz', 'Spectral#PeakFrequency#Fp2#alpha1']\n",
    "\n",
    "# 1) Get features\n",
    "features = read_all_features('KJPP')\n",
    "features = features[FEATURES_SELECTED]\n",
    "print(\"Number of features selected:\", len(features.columns))\n",
    "\n",
    "# 2) Get targets\n",
    "y = Series()\n",
    "ages = read_ages('KJPP')\n",
    "for session in features.index:\n",
    "    try:\n",
    "        age = ages[session]\n",
    "        y.loc[session] = age\n",
    "    except KeyError:\n",
    "        continue\n",
    "\n",
    "# Drop nans in y\n",
    "y = y.dropna()\n",
    "features = features.loc[y.index]\n",
    "\n",
    "# 3) Normalise feature vectors between 0 and 1\n",
    "features = feature_wise_normalisation(features, 'min-max')\n",
    "\n",
    "# 4) Convert to an appropriate format\n",
    "feature_names = features.columns.to_numpy()\n",
    "sessions = features.index.to_numpy()\n",
    "X = [features.loc[code].to_numpy() for code in sessions]\n",
    "\n",
    "print(\"Number of samples:\", len(X))\n",
    "print(\"Number of features:\", len(X[0]))"
   ],
   "metadata": {
    "collapsed": false,
    "ExecuteTime": {
     "end_time": "2024-04-23T14:35:16.514880Z",
     "start_time": "2024-04-23T14:35:13.550713Z"
    }
   },
   "outputs": []
  },
  {
   "cell_type": "code",
   "execution_count": 10,
   "source": [
    "# C. Predictions\n",
    "yhat = model.predict(X)\n",
    "print(yhat.shape)\n",
    "print(y.shape)\n",
    "\n",
    "def is_good_developmental_age_estimate(age: float, mmse: int, margin:float=0) -> bool:\n",
    "    \"\"\"\n",
    "    Checks if the MMSE estimate is within the acceptable range for the given age.\n",
    "    A margin can be added to the acceptable range.\n",
    "    \"\"\"\n",
    "    assert 0 <= mmse <= 30, \"MMSE must be between 0 and 30\"\n",
    "    assert 0 <= age, f\"Developmental age estimate must be positive. It is {age}.\"\n",
    "\n",
    "    if age < 1.25:\n",
    "        return 0 - margin <= mmse <= age / 2 + margin\n",
    "    elif age < 2:\n",
    "        return floor((4 * age / 15) - (1 / 3)) - margin <= mmse <= ceil(age / 2) + margin\n",
    "    elif age < 5:\n",
    "        return (4 * age / 15) - (1 / 3) - margin <= mmse <= 2 * age + 5 + margin\n",
    "    elif age < 7:\n",
    "        return 2 * age - 6 - margin <= mmse <= (4 * age / 3) + (25 / 3) + margin\n",
    "    elif age < 8:\n",
    "        return (4 * age / 5) + (47 / 5) - margin <= mmse <= (4 * age / 3) + (25 / 3) + margin\n",
    "    elif age < 12:\n",
    "        return (4 * age / 5) + (47 / 5) - margin <= mmse <= (4 * age / 5) + (68 / 5) + margin\n",
    "    elif age < 13:\n",
    "        return (4 * age / 7) + (92 / 7) - margin <= mmse <= (4 * age / 5) + (68 / 5) + margin\n",
    "    elif age < 19:\n",
    "        return (4 * age / 7) + (92 / 7) - margin<= mmse <= 30 + margin\n",
    "    elif age >= 19:\n",
    "        return mmse - margin >= 29 + margin\n",
    "\n",
    "accurate = []\n",
    "inaccurate = []\n",
    "for prediction, age in zip(yhat, y):\n",
    "    if is_good_developmental_age_estimate(age, prediction, margin=1.5):\n",
    "        accurate.append((age, prediction))\n",
    "    else:\n",
    "        inaccurate.append((age, prediction))\n",
    "\n",
    "accurate_x, accurate_y = zip(*accurate)\n",
    "inaccurate_x, inaccurate_y = zip(*inaccurate)\n",
    "\n",
    "# 9. Plot predictions vs targets\n",
    "plt.figure(figsize=(10,6))\n",
    "plt.xlabel('Chronological Age (years)')\n",
    "plt.xlim(2, 20)\n",
    "plt.grid(linestyle='--', alpha=0.4)\n",
    "plt.scatter(accurate_x, accurate_y, color='g', marker='.', alpha=0.3)\n",
    "plt.scatter(inaccurate_x, inaccurate_y, color='r', marker='.', alpha=0.3)\n",
    "# remove box around plot\n",
    "plt.box(False)\n",
    "plt.show()"
   ],
   "metadata": {
    "collapsed": false,
    "ExecuteTime": {
     "end_time": "2024-04-23T14:35:25.533892Z",
     "start_time": "2024-04-23T14:35:25.175723Z"
    }
   },
   "outputs": []
  },
  {
   "cell_type": "code",
   "execution_count": 7,
   "source": [
    "df = DataFrame({'y': y, 'yhat': yhat})\n",
    "df.to_csv('predictions.csv', index=False)"
   ],
   "metadata": {
    "collapsed": false,
    "ExecuteTime": {
     "end_time": "2024-04-23T09:13:05.811833Z",
     "start_time": "2024-04-23T09:13:05.802384Z"
    }
   },
   "outputs": []
  },
  {
   "cell_type": "code",
   "execution_count": 15,
   "source": [
    "# D. Linear Regression\n",
    "reg = sm.OLS(y, sm.add_constant(yhat))\n",
    "fit = reg.fit()"
   ],
   "metadata": {
    "collapsed": false,
    "ExecuteTime": {
     "end_time": "2024-04-23T15:05:55.491367Z",
     "start_time": "2024-04-23T15:05:55.465510Z"
    }
   },
   "outputs": []
  },
  {
   "cell_type": "markdown",
   "source": [
    "## 1. Explanation of Variation\n",
    "#### (using a least-squares regression line)\n",
    "\n",
    "1.1. Coefficient of Determination (R^2)"
   ],
   "metadata": {
    "collapsed": false
   }
  },
  {
   "cell_type": "code",
   "execution_count": 16,
   "source": [
    "fit.f_pvalue"
   ],
   "metadata": {
    "collapsed": false,
    "ExecuteTime": {
     "end_time": "2024-04-23T15:05:56.630529Z",
     "start_time": "2024-04-23T15:05:56.612060Z"
    }
   },
   "outputs": []
  },
  {
   "cell_type": "code",
   "execution_count": 17,
   "source": [
    "fit.summary()"
   ],
   "metadata": {
    "collapsed": false,
    "ExecuteTime": {
     "end_time": "2024-04-23T15:05:58.675042Z",
     "start_time": "2024-04-23T15:05:58.651494Z"
    }
   },
   "outputs": []
  },
  {
   "cell_type": "code",
   "execution_count": 18,
   "metadata": {
    "collapsed": true,
    "ExecuteTime": {
     "end_time": "2024-04-23T07:43:53.344974Z",
     "start_time": "2024-04-23T07:43:53.308920Z"
    }
   },
   "source": [
    "import scipy.stats\n",
    "scipy.stats.spearmanr(y, yhat)"
   ],
   "outputs": []
  },
  {
   "cell_type": "markdown",
   "source": [
    "1.2. Sum of squared errors of prediction, SSE"
   ],
   "metadata": {
    "collapsed": false
   }
  },
  {
   "cell_type": "code",
   "execution_count": 7,
   "source": [
    "# doing the formula manually\n",
    "sse = sum((y - yhat)**2)\n",
    "sse"
   ],
   "metadata": {
    "collapsed": false,
    "ExecuteTime": {
     "end_time": "2024-04-23T06:55:36.379140Z",
     "start_time": "2024-04-23T06:55:36.364437Z"
    }
   },
   "outputs": []
  },
  {
   "cell_type": "markdown",
   "source": [
    "## 2. By Age Group"
   ],
   "metadata": {
    "collapsed": false
   }
  },
  {
   "cell_type": "code",
   "execution_count": 8,
   "source": [
    "y1 = y[y < 5]\n",
    "X1 = features.loc[y1.index]\n",
    "y2 = y[(5 <= y) & (y < 10)]\n",
    "X2 = features.loc[y2.index]\n",
    "y3 = y[(10 <= y) & (y < 15)]\n",
    "X3 = features.loc[y3.index]\n",
    "y4 = y[y >= 15]\n",
    "X4 = features.loc[y4.index]"
   ],
   "metadata": {
    "collapsed": false,
    "ExecuteTime": {
     "end_time": "2024-04-23T06:55:36.390447Z",
     "start_time": "2024-04-23T06:55:36.378652Z"
    }
   },
   "outputs": []
  },
  {
   "cell_type": "code",
   "execution_count": 9,
   "source": [
    "# predictions in each age group\n",
    "yhat1 = model.predict(X1)\n",
    "yhat2 = model.predict(X2)\n",
    "yhat3 = model.predict(X3)\n",
    "yhat4 = model.predict(X4)"
   ],
   "metadata": {
    "collapsed": false,
    "ExecuteTime": {
     "end_time": "2024-04-23T06:55:36.448866Z",
     "start_time": "2024-04-23T06:55:36.392204Z"
    }
   },
   "outputs": []
  },
  {
   "cell_type": "code",
   "execution_count": 14,
   "source": [
    "plt.figure(figsize=(3,3))\n",
    "plt.xlabel('Chronological Age (years)')\n",
    "plt.xlim(0, 5)\n",
    "plt.grid(linestyle='--', alpha=0.4)\n",
    "plt.scatter(y1, yhat1,marker='.', alpha=0.3)\n",
    "# remove box around plot\n",
    "plt.box(False)\n",
    "plt.show()\n",
    "\n",
    "plt.figure(figsize=(3,3))\n",
    "plt.xlabel('Chronological Age (years)')\n",
    "plt.xlim(5, 10)\n",
    "plt.grid(linestyle='--', alpha=0.4)\n",
    "plt.scatter(y2, yhat2,marker='.', alpha=0.3)\n",
    "# remove box around plot\n",
    "plt.box(False)\n",
    "plt.show()"
   ],
   "metadata": {
    "collapsed": false,
    "ExecuteTime": {
     "end_time": "2024-04-23T06:57:17.917522Z",
     "start_time": "2024-04-23T06:57:17.538924Z"
    }
   },
   "outputs": []
  },
  {
   "cell_type": "code",
   "execution_count": 10,
   "source": [
    "fit1 = sm.OLS(y1, yhat1).fit()\n",
    "fit2 = sm.OLS(y2, yhat2).fit()\n",
    "fit3 = sm.OLS(y3, yhat3).fit()\n",
    "fit4 = sm.OLS(y4, yhat4).fit()"
   ],
   "metadata": {
    "collapsed": false,
    "ExecuteTime": {
     "end_time": "2024-04-23T06:55:36.454469Z",
     "start_time": "2024-04-23T06:55:36.446517Z"
    }
   },
   "outputs": []
  },
  {
   "cell_type": "code",
   "execution_count": 11,
   "source": [
    "fit1.summary()"
   ],
   "metadata": {
    "collapsed": false,
    "ExecuteTime": {
     "end_time": "2024-04-23T06:55:36.495097Z",
     "start_time": "2024-04-23T06:55:36.455887Z"
    }
   },
   "outputs": []
  },
  {
   "cell_type": "code",
   "execution_count": 15,
   "source": [
    "fit2.summary()"
   ],
   "metadata": {
    "collapsed": false,
    "ExecuteTime": {
     "end_time": "2024-04-23T06:57:28.736896Z",
     "start_time": "2024-04-23T06:57:28.684083Z"
    }
   },
   "outputs": []
  },
  {
   "cell_type": "code",
   "execution_count": 16,
   "source": [
    "import numpy as np\n",
    "\n",
    "sns.set_theme(style=\"whitegrid\")\n",
    "\n",
    "rs = np.random.RandomState(7)\n",
    "n = 200\n",
    "x = rs.uniform(-100, 100, n)\n",
    "y_1 = 5 * x + rs.uniform(0, 25, n)\n",
    "y_2 = x ** 2 + rs.uniform(0, 25**2, n)\n",
    "\n",
    "def h(x):\n",
    "    return 100+.5*x**2\n",
    "# eps = abs(rs.normal(0, h(x), n))\n",
    "\n",
    "eps = np.arange(0, n)*h(x)\n",
    "\n",
    "y_3 = 4*abs(x) + rs.normal(25, eps, n)\n",
    "\n",
    "fig1 = plt.figure(figsize=(12, 3))\n",
    "sns.residplot(x=x, y=y_1, color=\"g\")\n",
    "plt.title(\"no violation\")\n",
    "plt.show()\n",
    "\n",
    "fig2 = plt.figure(figsize=(12, 3))\n",
    "sns.residplot(x=x, y=y_2, color=\"g\")\n",
    "plt.title(\"violation of linearity\")\n",
    "plt.show()\n",
    "\n",
    "fig3 = plt.figure(figsize=(12, 3))\n",
    "sns.residplot(x=abs(x), y=y_3, color=\"g\")\n",
    "plt.title(\"violation of constant standard deviation (Heteroscedasticity)\")\n",
    "plt.show()"
   ],
   "metadata": {
    "collapsed": false,
    "ExecuteTime": {
     "end_time": "2024-04-23T06:58:39.584264Z",
     "start_time": "2024-04-23T06:58:38.756768Z"
    }
   },
   "outputs": []
  },
  {
   "cell_type": "code",
   "execution_count": null,
   "source": [
    "fig = sm.qqplot(df['y_1'], line ='45')\n",
    "plt.show()\n",
    "\n",
    "fig = sm.qqplot(df['y_2'], line ='45')\n",
    "plt.show()\n",
    "\n",
    "fig = sm.qqplot(df['y_3'], line ='45')\n",
    "plt.show()"
   ],
   "metadata": {
    "collapsed": false
   },
   "outputs": []
  }
 ],
 "metadata": {
  "kernelspec": {
   "display_name": "Python 3",
   "language": "python",
   "name": "python3"
  },
  "language_info": {
   "codemirror_mode": {
    "name": "ipython",
    "version": 2
   },
   "file_extension": ".py",
   "mimetype": "text/x-python",
   "name": "python",
   "nbconvert_exporter": "python",
   "pygments_lexer": "ipython2",
   "version": "2.7.6"
  }
 },
 "nbformat": 4,
 "nbformat_minor": 0
}
