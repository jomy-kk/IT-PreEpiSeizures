{
 "cells": [
  {
   "cell_type": "code",
   "execution_count": 2,
   "id": "initial_id",
   "metadata": {
    "collapsed": true,
    "ExecuteTime": {
     "end_time": "2024-06-01T11:54:36.950237Z",
     "start_time": "2024-06-01T11:54:36.419385Z"
    }
   },
   "source": [
    "from glob import glob\n",
    "from os.path import join\n",
    "import pandas as pd\n",
    "import numpy as np"
   ],
   "outputs": []
  },
  {
   "cell_type": "code",
   "source": [
    "common_path = '/Volumes/MMIS-Saraiv/Datasets/Miltiadous Dataset/features'\n",
    "all_directories = glob(join(common_path, '*'))\n",
    "all_directories = [directory for directory in all_directories if not directory.endswith('.csv')]"
   ],
   "metadata": {
    "collapsed": false,
    "ExecuteTime": {
     "end_time": "2024-06-01T11:54:37.026809Z",
     "start_time": "2024-06-01T11:54:36.951622Z"
    }
   },
   "id": "bc4f10c251948d64",
   "execution_count": 3,
   "outputs": []
  },
  {
   "cell_type": "code",
   "source": [
    "FEATURES_SELECTED = ['Spectral#RelativePower#C3#beta1', 'Spectral#EdgeFrequency#C3#beta3', 'Spectral#RelativePower#C3#gamma', 'Spectral#EdgeFrequency#C4#alpha1', 'Spectral#RelativePower#C4#beta3', 'Spectral#EdgeFrequency#C4#beta3', 'Spectral#EdgeFrequency#C4#gamma', 'Spectral#Flatness#Cz#theta', 'Spectral#PeakFrequency#Cz#theta', 'Spectral#EdgeFrequency#Cz#beta3', 'Spectral#EdgeFrequency#Cz#gamma', 'Spectral#PeakFrequency#Cz#gamma', 'Spectral#RelativePower#F3#beta1', 'Spectral#Diff#F4#delta', 'Spectral#RelativePower#F7#beta3', 'Spectral#EdgeFrequency#F7#beta3', 'Spectral#RelativePower#F7#gamma', 'Spectral#RelativePower#F8#beta1', 'Spectral#EdgeFrequency#F8#beta3', 'Spectral#RelativePower#Fp1#beta1', 'Spectral#EdgeFrequency#Fp1#beta3', 'Spectral#Diff#Fp2#delta', 'Spectral#RelativePower#Fp2#beta1', 'Spectral#RelativePower#Fp2#beta3', 'Spectral#Diff#Fpz#beta2', 'Spectral#Entropy#O1#delta', 'Spectral#RelativePower#O1#beta2', 'Spectral#EdgeFrequency#O1#beta2', 'Spectral#EdgeFrequency#O1#beta3', 'Spectral#RelativePower#O2#delta', 'Spectral#PeakFrequency#O2#alpha1', 'Spectral#RelativePower#O2#beta1', 'Spectral#RelativePower#O2#beta3', 'Spectral#Diff#P3#beta1', 'Spectral#RelativePower#P3#beta3', 'Spectral#RelativePower#Pz#alpha1', 'Spectral#EdgeFrequency#Pz#beta3', 'Spectral#RelativePower#T4#alpha1', 'Spectral#RelativePower#T4#beta3', 'Spectral#RelativePower#T4#gamma', 'Spectral#EdgeFrequency#T5#beta2', 'Hjorth#Complexity#T5', 'Hjorth#Complexity#P4', 'Hjorth#Complexity#F7', 'Hjorth#Complexity#T4', 'Hjorth#Complexity#F8', 'Hjorth#Complexity#T3', 'Hjorth#Mobility#P3', 'PLI#Frontal(L)-Temporal(R)#alpha1', 'PLI#Frontal(L)-Occipital(L)#alpha1', 'PLI#Frontal(R)-Temporal(R)#alpha1', 'PLI#Temporal(R)-Parietal(R)#alpha1', 'PLI#Temporal(R)-Occipital(L)#alpha1', 'PLI#Parietal(R)-Occipital(L)#alpha1', 'PLI#Occipital(L)-Occipital(R)#alpha1', 'PLI#Temporal(R)-Occipital(R)#alpha2', 'PLI#Parietal(R)-Occipital(L)#alpha2', 'COH#Frontal(L)-Frontal(R)#theta', 'COH#Frontal(L)-Occipital(L)#theta', 'COH#Frontal(L)-Occipital(R)#alpha1', 'COH#Frontal(R)-Occipital(L)#alpha1', 'COH#Parietal(R)-Occipital(L)#alpha1', 'COH#Frontal(L)-Frontal(R)#alpha2', 'COH#Frontal(L)-Occipital(R)#alpha2', 'COH#Parietal(R)-Occipital(L)#alpha2', 'COH#Parietal(R)-Occipital(R)#alpha2', 'COH#Occipital(L)-Occipital(R)#alpha2', 'COH#Frontal(L)-Occipital(L)#beta1', 'COH#Temporal(R)-Parietal(R)#beta1', 'COH#Parietal(R)-Occipital(R)#beta1', 'COH#Frontal(L)-Parietal(L)#beta2', 'COH#Frontal(R)-Occipital(L)#beta2', 'COH#Frontal(L)-Temporal(R)#beta3', 'COH#Frontal(L)-Parietal(L)#beta3', 'COH#Frontal(L)-Occipital(L)#beta3', 'COH#Frontal(L)-Occipital(R)#beta3', 'COH#Frontal(R)-Occipital(L)#beta3', 'COH#Temporal(L)-Occipital(R)#beta3', 'COH#Frontal(L)-Occipital(R)#gamma', 'COH#Frontal(R)-Occipital(R)#gamma']\n"
   ],
   "metadata": {
    "collapsed": false,
    "ExecuteTime": {
     "end_time": "2024-06-01T11:54:37.027953Z",
     "start_time": "2024-06-01T11:54:37.022303Z"
    }
   },
   "id": "4cca7eabc6f58643",
   "execution_count": 4,
   "outputs": []
  },
  {
   "cell_type": "code",
   "source": [
    "underrepresented_targets = [4, 6, 9]"
   ],
   "metadata": {
    "collapsed": false,
    "ExecuteTime": {
     "end_time": "2024-06-01T11:54:37.295333Z",
     "start_time": "2024-06-01T11:54:37.289390Z"
    }
   },
   "id": "7285056c63a64eb8",
   "execution_count": 5,
   "outputs": []
  },
  {
   "cell_type": "code",
   "source": [
    "# Read all targets\n",
    "all_targets = pd.read_csv('/Volumes/MMIS-Saraiv/Datasets/Miltiadous Dataset/participants.tsv', index_col=0, sep='\\t')\n",
    "# Remove \"sub-\" from the index and make them integers\n",
    "all_targets.index = all_targets.index.str.replace('sub-', '')\n",
    "all_targets.index = all_targets.index.astype(int)\n",
    "all_targets"
   ],
   "metadata": {
    "collapsed": false,
    "ExecuteTime": {
     "end_time": "2024-06-01T11:54:37.829756Z",
     "start_time": "2024-06-01T11:54:37.770017Z"
    }
   },
   "id": "50d1dac4b96b09f5",
   "execution_count": 6,
   "outputs": []
  },
  {
   "cell_type": "code",
   "source": [
    "# Read all and standardize\n",
    "all_features = []\n",
    "for subject_path in all_directories:\n",
    "    subject = subject_path.split('/')[-1]\n",
    "        \n",
    "    # Get feature files\n",
    "    all_files = glob(join(subject_path, '*.csv'))\n",
    "    # remove all files that have \"Multiple\" in their name\n",
    "    all_files = [file for file in all_files if 'Multiple' not in file]\n",
    "    # Read them all\n",
    "    all_data = [pd.read_csv(file, index_col=0) for file in all_files]\n",
    "    # FIX: the spectral data has a different index\n",
    "    for data in all_data:\n",
    "        if 'Spectral' in data.columns[0]:\n",
    "            data.index = [int(subject),]\n",
    "    # Concatenate all their columns in a single DataFrame\n",
    "    all_data = pd.concat(all_data, axis=1)\n",
    "    # Keep only selected features\n",
    "    selected_features = all_data[FEATURES_SELECTED]\n",
    "    # drop nans\n",
    "    selected_features = selected_features.dropna()\n",
    "    \n",
    "    all_features.append(selected_features)\n",
    "    \n",
    "all_features = pd.concat(all_features, axis=0)\n",
    "\n",
    "# Standardize feature-wise\n",
    "#all_features = (all_features - all_features.mean()) / all_features.std()\n",
    "all_features"
   ],
   "metadata": {
    "collapsed": false,
    "ExecuteTime": {
     "end_time": "2024-06-01T12:00:07.557626Z",
     "start_time": "2024-06-01T12:00:00.373877Z"
    }
   },
   "id": "c0a8e0f67e1331ce",
   "execution_count": 18,
   "outputs": []
  },
  {
   "cell_type": "code",
   "source": [
    "all_features_not_norm = all_features.copy()"
   ],
   "metadata": {
    "collapsed": false,
    "ExecuteTime": {
     "end_time": "2024-06-01T12:01:32.283977Z",
     "start_time": "2024-06-01T12:01:32.267384Z"
    }
   },
   "id": "756b1cd1fdf0a554",
   "execution_count": 24,
   "outputs": []
  },
  {
   "cell_type": "code",
   "source": [
    "# Standardize feature-wise\n",
    "all_features = (all_features_not_norm - all_features_not_norm.mean()) / all_features_not_norm.std()"
   ],
   "metadata": {
    "collapsed": false,
    "ExecuteTime": {
     "end_time": "2024-06-01T12:01:52.340270Z",
     "start_time": "2024-06-01T12:01:52.327052Z"
    }
   },
   "id": "eccfdc27b2960197",
   "execution_count": 25,
   "outputs": []
  },
  {
   "cell_type": "code",
   "source": [
    "# Normalize feature-wise\n",
    "all_features = (all_features_not_norm - all_features_not_norm.min()) / (all_features_not_norm.max() - all_features_not_norm.min())"
   ],
   "metadata": {
    "collapsed": false,
    "ExecuteTime": {
     "end_time": "2024-06-01T12:02:34.938447Z",
     "start_time": "2024-06-01T12:02:34.927192Z"
    }
   },
   "id": "69dca996d0995f34",
   "execution_count": 30,
   "outputs": []
  },
  {
   "cell_type": "code",
   "source": [
    "# Keep only sessions that have MMSE in 'underrepresented_targets'\n",
    "single_examples = all_features.loc[all_targets[all_targets['MMSE'].isin(underrepresented_targets)].index]\n",
    "single_examples"
   ],
   "metadata": {
    "collapsed": false,
    "ExecuteTime": {
     "end_time": "2024-06-01T12:02:35.722503Z",
     "start_time": "2024-06-01T12:02:35.715996Z"
    }
   },
   "id": "c4ac6e50a86d251f",
   "execution_count": 31,
   "outputs": []
  },
  {
   "cell_type": "code",
   "source": [
    "from scipy.stats import kruskal, mannwhitneyu, wilcoxon, ttest_ind\n",
    "measure = wilcoxon\n",
    "# Compute statistical test between each single example and the rest of the examples\n",
    "for i, (index, example) in enumerate(single_examples.iterrows()):\n",
    "    print(f\"Example of target {all_targets.loc[index]['MMSE']}\")\n",
    "    avg_stat_same, avg_stat_diff = [], []\n",
    "    avg_p_same, avg_p_diff = [], []\n",
    "    n_same, n_diff = 0, 0\n",
    "    for j, (index2, example2) in enumerate(all_features.iterrows()):\n",
    "        if index == index2:\n",
    "            continue\n",
    "        #u_stat, p = mannwhitneyu(example, example2)\n",
    "        # Kruskal-Wallis H-test\n",
    "        stat, p = measure(example, example2)\n",
    "        statement = f\"With example of target {all_targets.loc[index2]['MMSE']}: \"\n",
    "        if p > 0.05:\n",
    "            avg_stat_same.append(stat)\n",
    "            avg_p_same.append(p)\n",
    "            n_same += 1\n",
    "        else:\n",
    "            n_diff += 1\n",
    "            avg_stat_diff.append(stat)\n",
    "            avg_p_diff.append(p)\n",
    "        #print(statement + f\"they come from the same subject (p={p:.3f}).\" if p > 0.05 else statement + f\"they come from different subjects (p={p:.3f}).\")\n",
    "    print(f\"Same: {n_same}, Different: {n_diff}\")\n",
    "    print(f\"Average statistic same: {np.mean(avg_stat_same):.3f}, Average p same: {np.mean(avg_p_same):.3f}\")\n",
    "    print(f\"Average statistic diff: {np.mean(avg_stat_diff):.3f}, Average p diff: {np.mean(avg_p_diff):.3f}\")\n",
    "    print(\"-------\")"
   ],
   "metadata": {
    "collapsed": false,
    "ExecuteTime": {
     "end_time": "2024-06-01T12:06:36.051648Z",
     "start_time": "2024-06-01T12:06:35.992212Z"
    }
   },
   "id": "2b7b85082c95ea13",
   "execution_count": 33,
   "outputs": []
  },
  {
   "cell_type": "code",
   "source": [
    "measure = mannwhitneyu\n",
    "# Compute statistical test between example with itself and others, considering only 26 <= MMSE <= 30\n",
    "healthy_examples = all_features.loc[all_targets[all_targets['MMSE'] >= 30].index]\n",
    "for i, (index, example) in enumerate(healthy_examples.iterrows()):\n",
    "    print(f\"Example of target {all_targets.loc[index]['MMSE']}\")\n",
    "    avg_stat_same, avg_stat_diff = [], []\n",
    "    avg_p_same, avg_p_diff = [], []\n",
    "    n_same, n_diff = 0, 0\n",
    "    for j, (index2, example2) in enumerate(all_features.iterrows()):\n",
    "        if index == index2:\n",
    "            print(\"With itself:\")\n",
    "            stat, p = measure(example, example2)\n",
    "            print(f\"Statistic: {stat:.3f}, p: {p:.3f}\")\n",
    "        else:\n",
    "            stat, p = measure(example, example2)\n",
    "            statement = f\"With example of target {all_targets.loc[index2]['MMSE']}: \"\n",
    "            if p > 0.05:\n",
    "                avg_stat_same.append(stat) \n",
    "                avg_p_same.append(p)\n",
    "                n_same += 1\n",
    "            else:\n",
    "                n_diff += 1\n",
    "                avg_stat_diff.append(stat)\n",
    "                avg_p_diff.append(p)\n",
    "    print(f\"Same: {n_same}, Different: {n_diff}\")\n",
    "    print(f\"Average statistic same: {np.mean(avg_stat_same):.3f}, Average p same: {np.mean(avg_p_same):.3f}\")\n",
    "    print(f\"Average statistic diff: {np.mean(avg_stat_diff):.3f}, Average p diff: {np.mean(avg_p_diff):.3f}\")\n",
    "    print(\"-------\")"
   ],
   "metadata": {
    "collapsed": false,
    "ExecuteTime": {
     "end_time": "2024-06-01T12:10:24.360833Z",
     "start_time": "2024-06-01T12:10:23.654063Z"
    }
   },
   "id": "92fa98dee44164b8",
   "execution_count": 37,
   "outputs": []
  },
  {
   "cell_type": "code",
   "source": [
    "from scipy.stats import mannwhitneyu\n",
    "\n",
    "\n",
    "# Data augmentation by iteratively interpolating examples with targets in between 4 and 6 (exclusive) and 6 and 9 (exclusive)\n",
    "# (4, 6) -> 5; then (4, 6) -> 4.5 and (5, 6) -> 5.5; and so on exponentially, until the distance between the targets is equal or less than 0.1\n",
    "# (6, 9) -> 7.5; then (6, 9) -> 8.25 and (7.5, 9) -> 8.75; and so on exponentially, until the distance between the targets is equal or less than 0.1\n",
    "def exponentially_generate_synthetic_examples(a, target_a, b, target_b, min_difference):\n",
    "    # Generate the middle target\n",
    "    middle_target = (target_a + target_b) / 2\n",
    "    # Generate the middle example by interpolating the feature vectors\n",
    "    middle_example = (a + b) / 2\n",
    "    # Apply gaussian noise to the middle example\n",
    "    #middle_example += np.random.normal(0, 0.15, middle_example.shape)\n",
    "    # Add the middle example to the list\n",
    "    synthetic_examples = [(middle_example, middle_target)]\n",
    "\n",
    "    # If the difference between the targets is less than the minimum difference, return the synthetic examples\n",
    "    if abs(target_a - target_b) <= min_difference:\n",
    "        return synthetic_examples\n",
    "    \n",
    "    # Otherwise, recursively generate the synthetic examples\n",
    "    synthetic_examples += exponentially_generate_synthetic_examples(a, target_a, middle_example, middle_target, min_difference)\n",
    "    synthetic_examples += exponentially_generate_synthetic_examples(middle_example, middle_target, b, target_b, min_difference)\n",
    "    return synthetic_examples\n",
    "\n",
    "\n"
   ],
   "metadata": {
    "collapsed": false,
    "ExecuteTime": {
     "end_time": "2024-05-31T13:31:06.337955Z",
     "start_time": "2024-05-31T13:31:06.329261Z"
    }
   },
   "id": "36ad351fdcbf8c46",
   "execution_count": 36,
   "outputs": []
  },
  {
   "cell_type": "code",
   "source": [
    "a, b = single_examples.loc[single_examples.index[0]], single_examples.loc[single_examples.index[1]]\n",
    "target_a, target_b = all_targets.loc[single_examples.index[0]]['MMSE'], all_targets.loc[single_examples.index[1]]['MMSE']\n",
    "\n",
    "synthetic = exponentially_generate_synthetic_examples(a, target_a, b, target_b, min_difference=0.5)\n",
    "\n",
    "# compute the statistical test between the two original examples\n",
    "u_stat_ref, p_ref = mannwhitneyu(a, b)\n",
    "statement = f\"With original examples of targets {target_a} and {target_b}: \"\n",
    "print(statement + f\"they come from the same subject (p={p_ref:.3f}).\" if p_ref > 0.05 else statement + f\"they come from different subjects (p={p_ref:.3f}).\")\n",
    "print(\"-------\")\n",
    "\n",
    "# compute the statistical test between every synthetic example and the original examples\n",
    "res = {}\n",
    "for example in synthetic:\n",
    "    vector, target = example\n",
    "    print(\"Synthetic example of target\", target)\n",
    "    u_stat_a, p_a = mannwhitneyu(a, example[0])\n",
    "    u_stat_b, p_b = mannwhitneyu(b, example[0])\n",
    "    statement = f\"With parent example of target {target_a}: \"\n",
    "    print(statement + f\"they come from the same subject (p={p_a:.3f}).\" if p_a > 0.05 else statement + f\"they come from different subjects (p={p_a:.3f}).\")\n",
    "    statement = f\"With parent example of target {target_b}: \"\n",
    "    print(statement + f\"they come from the same subject (p={p_b:.3f}).\" if p_b > 0.05 else statement + f\"they come from different subjects (p={p_b:.3f}).\")\n",
    "    print(\"-------\")\n",
    "    res[target] = (p_a>0.05, p_b>0.05)\n",
    "\n",
    "# Draw a plot illustrating the tendency of the synthetic examples to be closer to the target, using res\n",
    "# | ------------------------------------------------------- |\n",
    "# |    <-    |    <-   |    <-  ->    |    ->    |    ->    |   \n",
    "# | ------------------------------------------------------- |\n",
    "#     4.25      4.5      4.75    5.0      5.25     5.5\n",
    "\n",
    "import matplotlib.pyplot as plt\n",
    "\n",
    "plt.figure(figsize=(10, 3))\n",
    "close_to_left = [target for target, (left, right) in res.items() if left]\n",
    "close_to_right = [target for target, (left, right) in res.items() if right]\n",
    "plt.scatter([x - 0.01 for x in close_to_left], [0] * len(close_to_left), label='Assumed to the same subject as the 4',\n",
    "            color='blue')\n",
    "plt.scatter([x + 0.01 for x in close_to_right], [0] * len(close_to_right), label='Assumed to the same subject as the 6',\n",
    "            color='red')\n",
    "plt.legend()\n",
    "plt.show()"
   ],
   "metadata": {
    "collapsed": false,
    "ExecuteTime": {
     "end_time": "2024-05-31T13:31:06.954423Z",
     "start_time": "2024-05-31T13:31:06.882296Z"
    }
   },
   "id": "bc00312443feab47",
   "execution_count": 37,
   "outputs": []
  },
  {
   "cell_type": "code",
   "source": [
    "a, b = single_examples.loc[single_examples.index[0]], single_examples.loc[single_examples.index[2]]\n",
    "target_a, target_b = all_targets.loc[single_examples.index[0]]['MMSE'], all_targets.loc[single_examples.index[2]]['MMSE']\n",
    "\n",
    "synthetic = exponentially_generate_synthetic_examples(a, target_a, b, target_b, min_difference=0.5)\n",
    "\n",
    "# compute the statistical test between the two original examples\n",
    "u_stat_ref, p_ref = mannwhitneyu(a, b)\n",
    "statement = f\"With original examples of targets {target_a} and {target_b}: \"\n",
    "print(statement + f\"they come from the same subject (p={p_ref:.3f}).\" if p_ref > 0.05 else statement + f\"they come from different subjects (p={p_ref:.3f}).\")\n",
    "print(\"-------\")\n",
    "\n",
    "# compute the statistical test between every synthetic example and the original examples\n",
    "res = {}\n",
    "for example in synthetic:\n",
    "    vector, target = example\n",
    "    print(\"Synthetic example of target\", target)\n",
    "    u_stat_a, p_a = mannwhitneyu(a, example[0])\n",
    "    u_stat_b, p_b = mannwhitneyu(b, example[0])\n",
    "    statement = f\"With parent example of target {target_a}: \"\n",
    "    print(statement + f\"they come from the same subject (p={p_a:.3f}).\" if p_a > 0.05 else statement + f\"they come from different subjects (p={p_a:.3f}).\")\n",
    "    statement = f\"With parent example of target {target_b}: \"\n",
    "    print(statement + f\"they come from the same subject (p={p_b:.3f}).\" if p_b > 0.05 else statement + f\"they come from different subjects (p={p_b:.3f}).\")\n",
    "    print(\"-------\")\n",
    "    res[target] = (p_a>0.05, p_b>0.05)\n",
    "\n",
    "# Draw a plot illustrating the tendency of the synthetic examples to be closer to the target, using res\n",
    "# | ------------------------------------------------------- |\n",
    "# |    <-    |    <-   |    <-  ->    |    ->    |    ->    |   \n",
    "# | ------------------------------------------------------- |\n",
    "#     4.25      4.5      4.75    5.0      5.25     5.5\n",
    "\n",
    "import matplotlib.pyplot as plt\n",
    "\n",
    "plt.figure(figsize=(15, 2))\n",
    "close_to_left = [target for target, (left, right) in res.items() if left]\n",
    "close_to_right = [target for target, (left, right) in res.items() if right]\n",
    "plt.scatter([x - 0.01 for x in close_to_left], [0] * len(close_to_left), label='Assumed to the same subject as the 6',\n",
    "            color='blue')\n",
    "plt.scatter([x + 0.01 for x in close_to_right], [0] * len(close_to_right), label='Assumed to the same subject as the 9',\n",
    "            color='red')\n",
    "plt.legend()\n",
    "plt.show()"
   ],
   "metadata": {
    "collapsed": false,
    "ExecuteTime": {
     "end_time": "2024-05-31T13:32:59.973312Z",
     "start_time": "2024-05-31T13:32:59.898985Z"
    }
   },
   "id": "633552ec06d31a8d",
   "execution_count": 41,
   "outputs": []
  },
  {
   "cell_type": "code",
   "source": [],
   "metadata": {
    "collapsed": false
   },
   "id": "ed61fa2adad7f826",
   "execution_count": null,
   "outputs": []
  }
 ],
 "metadata": {
  "kernelspec": {
   "display_name": "Python 3",
   "language": "python",
   "name": "python3"
  },
  "language_info": {
   "codemirror_mode": {
    "name": "ipython",
    "version": 2
   },
   "file_extension": ".py",
   "mimetype": "text/x-python",
   "name": "python",
   "nbconvert_exporter": "python",
   "pygments_lexer": "ipython2",
   "version": "2.7.6"
  }
 },
 "nbformat": 4,
 "nbformat_minor": 5
}
