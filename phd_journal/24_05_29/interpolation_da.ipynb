{
 "cells": [
  {
   "cell_type": "code",
   "execution_count": 2,
   "id": "initial_id",
   "metadata": {
    "collapsed": true,
    "ExecuteTime": {
     "end_time": "2024-06-01T11:54:36.950237Z",
     "start_time": "2024-06-01T11:54:36.419385Z"
    }
   },
   "outputs": [
    {
     "name": "stderr",
     "output_type": "stream",
     "text": [
      "/Users/saraiva/PycharmProjects/LTBio/venv/lib/python3.10/site-packages/pandas/core/computation/expressions.py:21: UserWarning: Pandas requires version '2.8.4' or newer of 'numexpr' (version '2.8.3' currently installed).\n",
      "  from pandas.core.computation.check import NUMEXPR_INSTALLED\n"
     ]
    }
   ],
   "source": [
    "from glob import glob\n",
    "from os.path import join\n",
    "import pandas as pd\n",
    "import numpy as np"
   ]
  },
  {
   "cell_type": "code",
   "outputs": [],
   "source": [
    "common_path = '/Volumes/MMIS-Saraiv/Datasets/Miltiadous Dataset/features'\n",
    "all_directories = glob(join(common_path, '*'))\n",
    "all_directories = [directory for directory in all_directories if not directory.endswith('.csv')]"
   ],
   "metadata": {
    "collapsed": false,
    "ExecuteTime": {
     "end_time": "2024-06-01T11:54:37.026809Z",
     "start_time": "2024-06-01T11:54:36.951622Z"
    }
   },
   "id": "bc4f10c251948d64",
   "execution_count": 3
  },
  {
   "cell_type": "code",
   "outputs": [],
   "source": [
    "FEATURES_SELECTED = ['Spectral#RelativePower#C3#beta1', 'Spectral#EdgeFrequency#C3#beta3', 'Spectral#RelativePower#C3#gamma', 'Spectral#EdgeFrequency#C4#alpha1', 'Spectral#RelativePower#C4#beta3', 'Spectral#EdgeFrequency#C4#beta3', 'Spectral#EdgeFrequency#C4#gamma', 'Spectral#Flatness#Cz#theta', 'Spectral#PeakFrequency#Cz#theta', 'Spectral#EdgeFrequency#Cz#beta3', 'Spectral#EdgeFrequency#Cz#gamma', 'Spectral#PeakFrequency#Cz#gamma', 'Spectral#RelativePower#F3#beta1', 'Spectral#Diff#F4#delta', 'Spectral#RelativePower#F7#beta3', 'Spectral#EdgeFrequency#F7#beta3', 'Spectral#RelativePower#F7#gamma', 'Spectral#RelativePower#F8#beta1', 'Spectral#EdgeFrequency#F8#beta3', 'Spectral#RelativePower#Fp1#beta1', 'Spectral#EdgeFrequency#Fp1#beta3', 'Spectral#Diff#Fp2#delta', 'Spectral#RelativePower#Fp2#beta1', 'Spectral#RelativePower#Fp2#beta3', 'Spectral#Diff#Fpz#beta2', 'Spectral#Entropy#O1#delta', 'Spectral#RelativePower#O1#beta2', 'Spectral#EdgeFrequency#O1#beta2', 'Spectral#EdgeFrequency#O1#beta3', 'Spectral#RelativePower#O2#delta', 'Spectral#PeakFrequency#O2#alpha1', 'Spectral#RelativePower#O2#beta1', 'Spectral#RelativePower#O2#beta3', 'Spectral#Diff#P3#beta1', 'Spectral#RelativePower#P3#beta3', 'Spectral#RelativePower#Pz#alpha1', 'Spectral#EdgeFrequency#Pz#beta3', 'Spectral#RelativePower#T4#alpha1', 'Spectral#RelativePower#T4#beta3', 'Spectral#RelativePower#T4#gamma', 'Spectral#EdgeFrequency#T5#beta2', 'Hjorth#Complexity#T5', 'Hjorth#Complexity#P4', 'Hjorth#Complexity#F7', 'Hjorth#Complexity#T4', 'Hjorth#Complexity#F8', 'Hjorth#Complexity#T3', 'Hjorth#Mobility#P3', 'PLI#Frontal(L)-Temporal(R)#alpha1', 'PLI#Frontal(L)-Occipital(L)#alpha1', 'PLI#Frontal(R)-Temporal(R)#alpha1', 'PLI#Temporal(R)-Parietal(R)#alpha1', 'PLI#Temporal(R)-Occipital(L)#alpha1', 'PLI#Parietal(R)-Occipital(L)#alpha1', 'PLI#Occipital(L)-Occipital(R)#alpha1', 'PLI#Temporal(R)-Occipital(R)#alpha2', 'PLI#Parietal(R)-Occipital(L)#alpha2', 'COH#Frontal(L)-Frontal(R)#theta', 'COH#Frontal(L)-Occipital(L)#theta', 'COH#Frontal(L)-Occipital(R)#alpha1', 'COH#Frontal(R)-Occipital(L)#alpha1', 'COH#Parietal(R)-Occipital(L)#alpha1', 'COH#Frontal(L)-Frontal(R)#alpha2', 'COH#Frontal(L)-Occipital(R)#alpha2', 'COH#Parietal(R)-Occipital(L)#alpha2', 'COH#Parietal(R)-Occipital(R)#alpha2', 'COH#Occipital(L)-Occipital(R)#alpha2', 'COH#Frontal(L)-Occipital(L)#beta1', 'COH#Temporal(R)-Parietal(R)#beta1', 'COH#Parietal(R)-Occipital(R)#beta1', 'COH#Frontal(L)-Parietal(L)#beta2', 'COH#Frontal(R)-Occipital(L)#beta2', 'COH#Frontal(L)-Temporal(R)#beta3', 'COH#Frontal(L)-Parietal(L)#beta3', 'COH#Frontal(L)-Occipital(L)#beta3', 'COH#Frontal(L)-Occipital(R)#beta3', 'COH#Frontal(R)-Occipital(L)#beta3', 'COH#Temporal(L)-Occipital(R)#beta3', 'COH#Frontal(L)-Occipital(R)#gamma', 'COH#Frontal(R)-Occipital(R)#gamma']\n"
   ],
   "metadata": {
    "collapsed": false,
    "ExecuteTime": {
     "end_time": "2024-06-01T11:54:37.027953Z",
     "start_time": "2024-06-01T11:54:37.022303Z"
    }
   },
   "id": "4cca7eabc6f58643",
   "execution_count": 4
  },
  {
   "cell_type": "code",
   "outputs": [],
   "source": [
    "underrepresented_targets = [4, 6, 9]"
   ],
   "metadata": {
    "collapsed": false,
    "ExecuteTime": {
     "end_time": "2024-06-01T11:54:37.295333Z",
     "start_time": "2024-06-01T11:54:37.289390Z"
    }
   },
   "id": "7285056c63a64eb8",
   "execution_count": 5
  },
  {
   "cell_type": "code",
   "outputs": [
    {
     "data": {
      "text/plain": "               Gender  Age Group  MMSE\nparticipant_id                        \n1                   F   57     A    16\n2                   F   78     A    22\n3                   M   70     A    14\n4                   F   67     A    20\n5                   M   70     A    22\n...               ...  ...   ...   ...\n84                  F   71     F    24\n85                  M   64     F    26\n86                  M   49     F    26\n87                  M   73     F    24\n88                  M   55     F    24\n\n[88 rows x 4 columns]",
      "text/html": "<div>\n<style scoped>\n    .dataframe tbody tr th:only-of-type {\n        vertical-align: middle;\n    }\n\n    .dataframe tbody tr th {\n        vertical-align: top;\n    }\n\n    .dataframe thead th {\n        text-align: right;\n    }\n</style>\n<table border=\"1\" class=\"dataframe\">\n  <thead>\n    <tr style=\"text-align: right;\">\n      <th></th>\n      <th>Gender</th>\n      <th>Age</th>\n      <th>Group</th>\n      <th>MMSE</th>\n    </tr>\n    <tr>\n      <th>participant_id</th>\n      <th></th>\n      <th></th>\n      <th></th>\n      <th></th>\n    </tr>\n  </thead>\n  <tbody>\n    <tr>\n      <th>1</th>\n      <td>F</td>\n      <td>57</td>\n      <td>A</td>\n      <td>16</td>\n    </tr>\n    <tr>\n      <th>2</th>\n      <td>F</td>\n      <td>78</td>\n      <td>A</td>\n      <td>22</td>\n    </tr>\n    <tr>\n      <th>3</th>\n      <td>M</td>\n      <td>70</td>\n      <td>A</td>\n      <td>14</td>\n    </tr>\n    <tr>\n      <th>4</th>\n      <td>F</td>\n      <td>67</td>\n      <td>A</td>\n      <td>20</td>\n    </tr>\n    <tr>\n      <th>5</th>\n      <td>M</td>\n      <td>70</td>\n      <td>A</td>\n      <td>22</td>\n    </tr>\n    <tr>\n      <th>...</th>\n      <td>...</td>\n      <td>...</td>\n      <td>...</td>\n      <td>...</td>\n    </tr>\n    <tr>\n      <th>84</th>\n      <td>F</td>\n      <td>71</td>\n      <td>F</td>\n      <td>24</td>\n    </tr>\n    <tr>\n      <th>85</th>\n      <td>M</td>\n      <td>64</td>\n      <td>F</td>\n      <td>26</td>\n    </tr>\n    <tr>\n      <th>86</th>\n      <td>M</td>\n      <td>49</td>\n      <td>F</td>\n      <td>26</td>\n    </tr>\n    <tr>\n      <th>87</th>\n      <td>M</td>\n      <td>73</td>\n      <td>F</td>\n      <td>24</td>\n    </tr>\n    <tr>\n      <th>88</th>\n      <td>M</td>\n      <td>55</td>\n      <td>F</td>\n      <td>24</td>\n    </tr>\n  </tbody>\n</table>\n<p>88 rows × 4 columns</p>\n</div>"
     },
     "execution_count": 6,
     "metadata": {},
     "output_type": "execute_result"
    }
   ],
   "source": [
    "# Read all targets\n",
    "all_targets = pd.read_csv('/Volumes/MMIS-Saraiv/Datasets/Miltiadous Dataset/participants.tsv', index_col=0, sep='\\t')\n",
    "# Remove \"sub-\" from the index and make them integers\n",
    "all_targets.index = all_targets.index.str.replace('sub-', '')\n",
    "all_targets.index = all_targets.index.astype(int)\n",
    "all_targets"
   ],
   "metadata": {
    "collapsed": false,
    "ExecuteTime": {
     "end_time": "2024-06-01T11:54:37.829756Z",
     "start_time": "2024-06-01T11:54:37.770017Z"
    }
   },
   "id": "50d1dac4b96b09f5",
   "execution_count": 6
  },
  {
   "cell_type": "code",
   "outputs": [
    {
     "data": {
      "text/plain": "    Spectral#RelativePower#C3#beta1  Spectral#EdgeFrequency#C3#beta3  \\\n1                          0.039436                        24.991525   \n2                          0.069792                        23.738426   \n3                          0.026167                        25.171296   \n4                          0.022283                        24.320144   \n5                          0.081381                        23.615574   \n..                              ...                              ...   \n84                         0.037074                        23.531250   \n85                         0.023737                        23.681452   \n86                         0.031378                        25.079167   \n87                         0.082872                        24.133019   \n88                         0.085541                        22.529503   \n\n    Spectral#RelativePower#C3#gamma  Spectral#EdgeFrequency#C4#alpha1  \\\n1                          0.091456                          8.842161   \n2                          0.074919                          8.864583   \n3                          0.017158                          8.995370   \n4                          0.159259                          8.646583   \n5                          0.081324                          8.822131   \n..                              ...                               ...   \n84                         0.031172                          8.848790   \n85                         0.113275                          8.760753   \n86                         0.170297                          9.270833   \n87                         0.036247                          9.058491   \n88                         0.042958                          9.143634   \n\n    Spectral#RelativePower#C4#beta3  Spectral#EdgeFrequency#C4#beta3  \\\n1                          0.115293                        25.506356   \n2                          0.106948                        23.582176   \n3                          0.034257                        24.701389   \n4                          0.044704                        24.300360   \n5                          0.071278                        23.078689   \n..                              ...                              ...   \n84                         0.067530                        23.402218   \n85                         0.111541                        24.317204   \n86                         0.093677                        24.627083   \n87                         0.129195                        23.916038   \n88                         0.128888                        22.475932   \n\n    Spectral#EdgeFrequency#C4#gamma  Spectral#Flatness#Cz#theta  \\\n1                         35.838983                    0.127452   \n2                         35.806713                    0.115434   \n3                         35.412037                    0.136475   \n4                         37.686151                    0.133291   \n5                         36.132787                    0.140083   \n..                              ...                         ...   \n84                        36.619960                    0.115191   \n85                        37.377688                    0.129863   \n86                        36.989583                    0.116688   \n87                        35.468868                    0.128935   \n88                        35.097050                    0.135354   \n\n    Spectral#PeakFrequency#Cz#theta  Spectral#EdgeFrequency#Cz#beta3  ...  \\\n1                          5.276483                        26.326271  ...   \n2                          7.165509                        23.238426  ...   \n3                          6.432870                        24.981481  ...   \n4                          5.951439                        23.688849  ...   \n5                          5.980328                        23.536066  ...   \n..                              ...                              ...  ...   \n84                         6.115927                        23.208669  ...   \n85                         5.883065                        23.084677  ...   \n86                         6.587500                        24.191667  ...   \n87                         5.160377                        24.707547  ...   \n88                         5.981366                        24.920807  ...   \n\n    COH#Frontal(L)-Parietal(L)#beta2  COH#Frontal(R)-Occipital(L)#beta2  \\\n1                           0.307798                           0.510233   \n2                           0.333329                           0.479192   \n3                           0.222786                           0.448541   \n4                           0.171626                           0.238849   \n5                           0.366656                           0.420940   \n..                               ...                                ...   \n84                          0.244074                           0.367588   \n85                          0.367073                           0.334384   \n86                          0.498739                           0.288990   \n87                          0.412811                           0.450398   \n88                          0.381705                           0.642850   \n\n    COH#Frontal(L)-Temporal(R)#beta3  COH#Frontal(L)-Parietal(L)#beta3  \\\n1                           0.304944                          0.311908   \n2                           0.384262                          0.303056   \n3                           0.318974                          0.228924   \n4                           0.217934                          0.205100   \n5                           0.320895                          0.383389   \n..                               ...                               ...   \n84                          0.460919                          0.253342   \n85                          0.261974                          0.379605   \n86                          0.320795                          0.541792   \n87                          0.372567                          0.427900   \n88                          0.374059                          0.301389   \n\n    COH#Frontal(L)-Occipital(L)#beta3  COH#Frontal(L)-Occipital(R)#beta3  \\\n1                            0.557776                           0.444689   \n2                            0.517427                           0.434845   \n3                            0.426935                           0.376267   \n4                            0.271456                           0.222752   \n5                            0.457827                           0.459402   \n..                                ...                                ...   \n84                           0.555843                           0.423946   \n85                           0.344074                           0.291398   \n86                           0.317527                           0.318044   \n87                           0.637650                           0.568383   \n88                           0.620543                           0.467552   \n\n    COH#Frontal(R)-Occipital(L)#beta3  COH#Temporal(L)-Occipital(R)#beta3  \\\n1                            0.490033                            0.621373   \n2                            0.357328                            0.528313   \n3                            0.409265                            0.455983   \n4                            0.271839                            0.476216   \n5                            0.348832                            0.445901   \n..                                ...                                 ...   \n84                           0.379787                            0.428387   \n85                           0.311660                            0.572819   \n86                           0.267583                            0.543824   \n87                           0.406463                            0.337173   \n88                           0.522709                            0.471210   \n\n    COH#Frontal(L)-Occipital(R)#gamma  COH#Frontal(R)-Occipital(R)#gamma  \n1                            0.442344                           0.502248  \n2                            0.377293                           0.328462  \n3                            0.359072                           0.468082  \n4                            0.230640                           0.312694  \n5                            0.503806                           0.472348  \n..                                ...                                ...  \n84                           0.407962                           0.463481  \n85                           0.280490                           0.316188  \n86                           0.340795                           0.330625  \n87                           0.530055                           0.475657  \n88                           0.507702                           0.459346  \n\n[88 rows x 80 columns]",
      "text/html": "<div>\n<style scoped>\n    .dataframe tbody tr th:only-of-type {\n        vertical-align: middle;\n    }\n\n    .dataframe tbody tr th {\n        vertical-align: top;\n    }\n\n    .dataframe thead th {\n        text-align: right;\n    }\n</style>\n<table border=\"1\" class=\"dataframe\">\n  <thead>\n    <tr style=\"text-align: right;\">\n      <th></th>\n      <th>Spectral#RelativePower#C3#beta1</th>\n      <th>Spectral#EdgeFrequency#C3#beta3</th>\n      <th>Spectral#RelativePower#C3#gamma</th>\n      <th>Spectral#EdgeFrequency#C4#alpha1</th>\n      <th>Spectral#RelativePower#C4#beta3</th>\n      <th>Spectral#EdgeFrequency#C4#beta3</th>\n      <th>Spectral#EdgeFrequency#C4#gamma</th>\n      <th>Spectral#Flatness#Cz#theta</th>\n      <th>Spectral#PeakFrequency#Cz#theta</th>\n      <th>Spectral#EdgeFrequency#Cz#beta3</th>\n      <th>...</th>\n      <th>COH#Frontal(L)-Parietal(L)#beta2</th>\n      <th>COH#Frontal(R)-Occipital(L)#beta2</th>\n      <th>COH#Frontal(L)-Temporal(R)#beta3</th>\n      <th>COH#Frontal(L)-Parietal(L)#beta3</th>\n      <th>COH#Frontal(L)-Occipital(L)#beta3</th>\n      <th>COH#Frontal(L)-Occipital(R)#beta3</th>\n      <th>COH#Frontal(R)-Occipital(L)#beta3</th>\n      <th>COH#Temporal(L)-Occipital(R)#beta3</th>\n      <th>COH#Frontal(L)-Occipital(R)#gamma</th>\n      <th>COH#Frontal(R)-Occipital(R)#gamma</th>\n    </tr>\n  </thead>\n  <tbody>\n    <tr>\n      <th>1</th>\n      <td>0.039436</td>\n      <td>24.991525</td>\n      <td>0.091456</td>\n      <td>8.842161</td>\n      <td>0.115293</td>\n      <td>25.506356</td>\n      <td>35.838983</td>\n      <td>0.127452</td>\n      <td>5.276483</td>\n      <td>26.326271</td>\n      <td>...</td>\n      <td>0.307798</td>\n      <td>0.510233</td>\n      <td>0.304944</td>\n      <td>0.311908</td>\n      <td>0.557776</td>\n      <td>0.444689</td>\n      <td>0.490033</td>\n      <td>0.621373</td>\n      <td>0.442344</td>\n      <td>0.502248</td>\n    </tr>\n    <tr>\n      <th>2</th>\n      <td>0.069792</td>\n      <td>23.738426</td>\n      <td>0.074919</td>\n      <td>8.864583</td>\n      <td>0.106948</td>\n      <td>23.582176</td>\n      <td>35.806713</td>\n      <td>0.115434</td>\n      <td>7.165509</td>\n      <td>23.238426</td>\n      <td>...</td>\n      <td>0.333329</td>\n      <td>0.479192</td>\n      <td>0.384262</td>\n      <td>0.303056</td>\n      <td>0.517427</td>\n      <td>0.434845</td>\n      <td>0.357328</td>\n      <td>0.528313</td>\n      <td>0.377293</td>\n      <td>0.328462</td>\n    </tr>\n    <tr>\n      <th>3</th>\n      <td>0.026167</td>\n      <td>25.171296</td>\n      <td>0.017158</td>\n      <td>8.995370</td>\n      <td>0.034257</td>\n      <td>24.701389</td>\n      <td>35.412037</td>\n      <td>0.136475</td>\n      <td>6.432870</td>\n      <td>24.981481</td>\n      <td>...</td>\n      <td>0.222786</td>\n      <td>0.448541</td>\n      <td>0.318974</td>\n      <td>0.228924</td>\n      <td>0.426935</td>\n      <td>0.376267</td>\n      <td>0.409265</td>\n      <td>0.455983</td>\n      <td>0.359072</td>\n      <td>0.468082</td>\n    </tr>\n    <tr>\n      <th>4</th>\n      <td>0.022283</td>\n      <td>24.320144</td>\n      <td>0.159259</td>\n      <td>8.646583</td>\n      <td>0.044704</td>\n      <td>24.300360</td>\n      <td>37.686151</td>\n      <td>0.133291</td>\n      <td>5.951439</td>\n      <td>23.688849</td>\n      <td>...</td>\n      <td>0.171626</td>\n      <td>0.238849</td>\n      <td>0.217934</td>\n      <td>0.205100</td>\n      <td>0.271456</td>\n      <td>0.222752</td>\n      <td>0.271839</td>\n      <td>0.476216</td>\n      <td>0.230640</td>\n      <td>0.312694</td>\n    </tr>\n    <tr>\n      <th>5</th>\n      <td>0.081381</td>\n      <td>23.615574</td>\n      <td>0.081324</td>\n      <td>8.822131</td>\n      <td>0.071278</td>\n      <td>23.078689</td>\n      <td>36.132787</td>\n      <td>0.140083</td>\n      <td>5.980328</td>\n      <td>23.536066</td>\n      <td>...</td>\n      <td>0.366656</td>\n      <td>0.420940</td>\n      <td>0.320895</td>\n      <td>0.383389</td>\n      <td>0.457827</td>\n      <td>0.459402</td>\n      <td>0.348832</td>\n      <td>0.445901</td>\n      <td>0.503806</td>\n      <td>0.472348</td>\n    </tr>\n    <tr>\n      <th>...</th>\n      <td>...</td>\n      <td>...</td>\n      <td>...</td>\n      <td>...</td>\n      <td>...</td>\n      <td>...</td>\n      <td>...</td>\n      <td>...</td>\n      <td>...</td>\n      <td>...</td>\n      <td>...</td>\n      <td>...</td>\n      <td>...</td>\n      <td>...</td>\n      <td>...</td>\n      <td>...</td>\n      <td>...</td>\n      <td>...</td>\n      <td>...</td>\n      <td>...</td>\n      <td>...</td>\n    </tr>\n    <tr>\n      <th>84</th>\n      <td>0.037074</td>\n      <td>23.531250</td>\n      <td>0.031172</td>\n      <td>8.848790</td>\n      <td>0.067530</td>\n      <td>23.402218</td>\n      <td>36.619960</td>\n      <td>0.115191</td>\n      <td>6.115927</td>\n      <td>23.208669</td>\n      <td>...</td>\n      <td>0.244074</td>\n      <td>0.367588</td>\n      <td>0.460919</td>\n      <td>0.253342</td>\n      <td>0.555843</td>\n      <td>0.423946</td>\n      <td>0.379787</td>\n      <td>0.428387</td>\n      <td>0.407962</td>\n      <td>0.463481</td>\n    </tr>\n    <tr>\n      <th>85</th>\n      <td>0.023737</td>\n      <td>23.681452</td>\n      <td>0.113275</td>\n      <td>8.760753</td>\n      <td>0.111541</td>\n      <td>24.317204</td>\n      <td>37.377688</td>\n      <td>0.129863</td>\n      <td>5.883065</td>\n      <td>23.084677</td>\n      <td>...</td>\n      <td>0.367073</td>\n      <td>0.334384</td>\n      <td>0.261974</td>\n      <td>0.379605</td>\n      <td>0.344074</td>\n      <td>0.291398</td>\n      <td>0.311660</td>\n      <td>0.572819</td>\n      <td>0.280490</td>\n      <td>0.316188</td>\n    </tr>\n    <tr>\n      <th>86</th>\n      <td>0.031378</td>\n      <td>25.079167</td>\n      <td>0.170297</td>\n      <td>9.270833</td>\n      <td>0.093677</td>\n      <td>24.627083</td>\n      <td>36.989583</td>\n      <td>0.116688</td>\n      <td>6.587500</td>\n      <td>24.191667</td>\n      <td>...</td>\n      <td>0.498739</td>\n      <td>0.288990</td>\n      <td>0.320795</td>\n      <td>0.541792</td>\n      <td>0.317527</td>\n      <td>0.318044</td>\n      <td>0.267583</td>\n      <td>0.543824</td>\n      <td>0.340795</td>\n      <td>0.330625</td>\n    </tr>\n    <tr>\n      <th>87</th>\n      <td>0.082872</td>\n      <td>24.133019</td>\n      <td>0.036247</td>\n      <td>9.058491</td>\n      <td>0.129195</td>\n      <td>23.916038</td>\n      <td>35.468868</td>\n      <td>0.128935</td>\n      <td>5.160377</td>\n      <td>24.707547</td>\n      <td>...</td>\n      <td>0.412811</td>\n      <td>0.450398</td>\n      <td>0.372567</td>\n      <td>0.427900</td>\n      <td>0.637650</td>\n      <td>0.568383</td>\n      <td>0.406463</td>\n      <td>0.337173</td>\n      <td>0.530055</td>\n      <td>0.475657</td>\n    </tr>\n    <tr>\n      <th>88</th>\n      <td>0.085541</td>\n      <td>22.529503</td>\n      <td>0.042958</td>\n      <td>9.143634</td>\n      <td>0.128888</td>\n      <td>22.475932</td>\n      <td>35.097050</td>\n      <td>0.135354</td>\n      <td>5.981366</td>\n      <td>24.920807</td>\n      <td>...</td>\n      <td>0.381705</td>\n      <td>0.642850</td>\n      <td>0.374059</td>\n      <td>0.301389</td>\n      <td>0.620543</td>\n      <td>0.467552</td>\n      <td>0.522709</td>\n      <td>0.471210</td>\n      <td>0.507702</td>\n      <td>0.459346</td>\n    </tr>\n  </tbody>\n</table>\n<p>88 rows × 80 columns</p>\n</div>"
     },
     "execution_count": 18,
     "metadata": {},
     "output_type": "execute_result"
    }
   ],
   "source": [
    "# Read all and standardize\n",
    "all_features = []\n",
    "for subject_path in all_directories:\n",
    "    subject = subject_path.split('/')[-1]\n",
    "        \n",
    "    # Get feature files\n",
    "    all_files = glob(join(subject_path, '*.csv'))\n",
    "    # remove all files that have \"Multiple\" in their name\n",
    "    all_files = [file for file in all_files if 'Multiple' not in file]\n",
    "    # Read them all\n",
    "    all_data = [pd.read_csv(file, index_col=0) for file in all_files]\n",
    "    # FIX: the spectral data has a different index\n",
    "    for data in all_data:\n",
    "        if 'Spectral' in data.columns[0]:\n",
    "            data.index = [int(subject),]\n",
    "    # Concatenate all their columns in a single DataFrame\n",
    "    all_data = pd.concat(all_data, axis=1)\n",
    "    # Keep only selected features\n",
    "    selected_features = all_data[FEATURES_SELECTED]\n",
    "    # drop nans\n",
    "    selected_features = selected_features.dropna()\n",
    "    \n",
    "    all_features.append(selected_features)\n",
    "    \n",
    "all_features = pd.concat(all_features, axis=0)\n",
    "\n",
    "# Standardize feature-wise\n",
    "#all_features = (all_features - all_features.mean()) / all_features.std()\n",
    "all_features"
   ],
   "metadata": {
    "collapsed": false,
    "ExecuteTime": {
     "end_time": "2024-06-01T12:00:07.557626Z",
     "start_time": "2024-06-01T12:00:00.373877Z"
    }
   },
   "id": "c0a8e0f67e1331ce",
   "execution_count": 18
  },
  {
   "cell_type": "code",
   "outputs": [],
   "source": [
    "all_features_not_norm = all_features.copy()"
   ],
   "metadata": {
    "collapsed": false,
    "ExecuteTime": {
     "end_time": "2024-06-01T12:01:32.283977Z",
     "start_time": "2024-06-01T12:01:32.267384Z"
    }
   },
   "id": "756b1cd1fdf0a554",
   "execution_count": 24
  },
  {
   "cell_type": "code",
   "outputs": [],
   "source": [
    "# Standardize feature-wise\n",
    "all_features = (all_features_not_norm - all_features_not_norm.mean()) / all_features_not_norm.std()"
   ],
   "metadata": {
    "collapsed": false,
    "ExecuteTime": {
     "end_time": "2024-06-01T12:01:52.340270Z",
     "start_time": "2024-06-01T12:01:52.327052Z"
    }
   },
   "id": "eccfdc27b2960197",
   "execution_count": 25
  },
  {
   "cell_type": "code",
   "outputs": [],
   "source": [
    "# Normalize feature-wise\n",
    "all_features = (all_features_not_norm - all_features_not_norm.min()) / (all_features_not_norm.max() - all_features_not_norm.min())"
   ],
   "metadata": {
    "collapsed": false,
    "ExecuteTime": {
     "end_time": "2024-06-01T12:02:34.938447Z",
     "start_time": "2024-06-01T12:02:34.927192Z"
    }
   },
   "id": "69dca996d0995f34",
   "execution_count": 30
  },
  {
   "cell_type": "code",
   "outputs": [
    {
     "data": {
      "text/plain": "                Spectral#RelativePower#C3#beta1  \\\nparticipant_id                                    \n17                                     0.043513   \n20                                     0.144063   \n36                                     1.000000   \n\n                Spectral#EdgeFrequency#C3#beta3  \\\nparticipant_id                                    \n17                                     0.434345   \n20                                     0.682639   \n36                                     0.252212   \n\n                Spectral#RelativePower#C3#gamma  \\\nparticipant_id                                    \n17                                     0.051568   \n20                                     0.348764   \n36                                     0.037672   \n\n                Spectral#EdgeFrequency#C4#alpha1  \\\nparticipant_id                                     \n17                                      0.280283   \n20                                      0.348684   \n36                                      0.711605   \n\n                Spectral#RelativePower#C4#beta3  \\\nparticipant_id                                    \n17                                     0.125994   \n20                                     0.232213   \n36                                     0.242238   \n\n                Spectral#EdgeFrequency#C4#beta3  \\\nparticipant_id                                    \n17                                     0.337991   \n20                                     0.573318   \n36                                     0.169330   \n\n                Spectral#EdgeFrequency#C4#gamma  Spectral#Flatness#Cz#theta  \\\nparticipant_id                                                                \n17                                     0.860948                    0.944093   \n20                                     0.650052                    0.934607   \n36                                     0.080922                    0.919492   \n\n                Spectral#PeakFrequency#Cz#theta  \\\nparticipant_id                                    \n17                                     0.195056   \n20                                     0.173550   \n36                                     0.559064   \n\n                Spectral#EdgeFrequency#Cz#beta3  ...  \\\nparticipant_id                                   ...   \n17                                     0.515274  ...   \n20                                     0.683214  ...   \n36                                     0.674541  ...   \n\n                COH#Frontal(L)-Parietal(L)#beta2  \\\nparticipant_id                                     \n17                                      0.447107   \n20                                      0.324813   \n36                                      0.487009   \n\n                COH#Frontal(R)-Occipital(L)#beta2  \\\nparticipant_id                                      \n17                                       0.449446   \n20                                       0.598432   \n36                                       0.583036   \n\n                COH#Frontal(L)-Temporal(R)#beta3  \\\nparticipant_id                                     \n17                                      0.434580   \n20                                      0.388016   \n36                                      0.473184   \n\n                COH#Frontal(L)-Parietal(L)#beta3  \\\nparticipant_id                                     \n17                                      0.387003   \n20                                      0.181838   \n36                                      0.355411   \n\n                COH#Frontal(L)-Occipital(L)#beta3  \\\nparticipant_id                                      \n17                                       0.493219   \n20                                       0.510146   \n36                                       0.802832   \n\n                COH#Frontal(L)-Occipital(R)#beta3  \\\nparticipant_id                                      \n17                                       0.330595   \n20                                       0.460087   \n36                                       0.680564   \n\n                COH#Frontal(R)-Occipital(L)#beta3  \\\nparticipant_id                                      \n17                                       0.376687   \n20                                       0.572747   \n36                                       0.633044   \n\n                COH#Temporal(L)-Occipital(R)#beta3  \\\nparticipant_id                                       \n17                                        0.320716   \n20                                        0.456104   \n36                                        0.523104   \n\n                COH#Frontal(L)-Occipital(R)#gamma  \\\nparticipant_id                                      \n17                                       0.270593   \n20                                       0.507135   \n36                                       0.674923   \n\n                COH#Frontal(R)-Occipital(R)#gamma  \nparticipant_id                                     \n17                                       0.478154  \n20                                       0.486318  \n36                                       0.478788  \n\n[3 rows x 80 columns]",
      "text/html": "<div>\n<style scoped>\n    .dataframe tbody tr th:only-of-type {\n        vertical-align: middle;\n    }\n\n    .dataframe tbody tr th {\n        vertical-align: top;\n    }\n\n    .dataframe thead th {\n        text-align: right;\n    }\n</style>\n<table border=\"1\" class=\"dataframe\">\n  <thead>\n    <tr style=\"text-align: right;\">\n      <th></th>\n      <th>Spectral#RelativePower#C3#beta1</th>\n      <th>Spectral#EdgeFrequency#C3#beta3</th>\n      <th>Spectral#RelativePower#C3#gamma</th>\n      <th>Spectral#EdgeFrequency#C4#alpha1</th>\n      <th>Spectral#RelativePower#C4#beta3</th>\n      <th>Spectral#EdgeFrequency#C4#beta3</th>\n      <th>Spectral#EdgeFrequency#C4#gamma</th>\n      <th>Spectral#Flatness#Cz#theta</th>\n      <th>Spectral#PeakFrequency#Cz#theta</th>\n      <th>Spectral#EdgeFrequency#Cz#beta3</th>\n      <th>...</th>\n      <th>COH#Frontal(L)-Parietal(L)#beta2</th>\n      <th>COH#Frontal(R)-Occipital(L)#beta2</th>\n      <th>COH#Frontal(L)-Temporal(R)#beta3</th>\n      <th>COH#Frontal(L)-Parietal(L)#beta3</th>\n      <th>COH#Frontal(L)-Occipital(L)#beta3</th>\n      <th>COH#Frontal(L)-Occipital(R)#beta3</th>\n      <th>COH#Frontal(R)-Occipital(L)#beta3</th>\n      <th>COH#Temporal(L)-Occipital(R)#beta3</th>\n      <th>COH#Frontal(L)-Occipital(R)#gamma</th>\n      <th>COH#Frontal(R)-Occipital(R)#gamma</th>\n    </tr>\n    <tr>\n      <th>participant_id</th>\n      <th></th>\n      <th></th>\n      <th></th>\n      <th></th>\n      <th></th>\n      <th></th>\n      <th></th>\n      <th></th>\n      <th></th>\n      <th></th>\n      <th></th>\n      <th></th>\n      <th></th>\n      <th></th>\n      <th></th>\n      <th></th>\n      <th></th>\n      <th></th>\n      <th></th>\n      <th></th>\n      <th></th>\n    </tr>\n  </thead>\n  <tbody>\n    <tr>\n      <th>17</th>\n      <td>0.043513</td>\n      <td>0.434345</td>\n      <td>0.051568</td>\n      <td>0.280283</td>\n      <td>0.125994</td>\n      <td>0.337991</td>\n      <td>0.860948</td>\n      <td>0.944093</td>\n      <td>0.195056</td>\n      <td>0.515274</td>\n      <td>...</td>\n      <td>0.447107</td>\n      <td>0.449446</td>\n      <td>0.434580</td>\n      <td>0.387003</td>\n      <td>0.493219</td>\n      <td>0.330595</td>\n      <td>0.376687</td>\n      <td>0.320716</td>\n      <td>0.270593</td>\n      <td>0.478154</td>\n    </tr>\n    <tr>\n      <th>20</th>\n      <td>0.144063</td>\n      <td>0.682639</td>\n      <td>0.348764</td>\n      <td>0.348684</td>\n      <td>0.232213</td>\n      <td>0.573318</td>\n      <td>0.650052</td>\n      <td>0.934607</td>\n      <td>0.173550</td>\n      <td>0.683214</td>\n      <td>...</td>\n      <td>0.324813</td>\n      <td>0.598432</td>\n      <td>0.388016</td>\n      <td>0.181838</td>\n      <td>0.510146</td>\n      <td>0.460087</td>\n      <td>0.572747</td>\n      <td>0.456104</td>\n      <td>0.507135</td>\n      <td>0.486318</td>\n    </tr>\n    <tr>\n      <th>36</th>\n      <td>1.000000</td>\n      <td>0.252212</td>\n      <td>0.037672</td>\n      <td>0.711605</td>\n      <td>0.242238</td>\n      <td>0.169330</td>\n      <td>0.080922</td>\n      <td>0.919492</td>\n      <td>0.559064</td>\n      <td>0.674541</td>\n      <td>...</td>\n      <td>0.487009</td>\n      <td>0.583036</td>\n      <td>0.473184</td>\n      <td>0.355411</td>\n      <td>0.802832</td>\n      <td>0.680564</td>\n      <td>0.633044</td>\n      <td>0.523104</td>\n      <td>0.674923</td>\n      <td>0.478788</td>\n    </tr>\n  </tbody>\n</table>\n<p>3 rows × 80 columns</p>\n</div>"
     },
     "execution_count": 31,
     "metadata": {},
     "output_type": "execute_result"
    }
   ],
   "source": [
    "# Keep only sessions that have MMSE in 'underrepresented_targets'\n",
    "single_examples = all_features.loc[all_targets[all_targets['MMSE'].isin(underrepresented_targets)].index]\n",
    "single_examples"
   ],
   "metadata": {
    "collapsed": false,
    "ExecuteTime": {
     "end_time": "2024-06-01T12:02:35.722503Z",
     "start_time": "2024-06-01T12:02:35.715996Z"
    }
   },
   "id": "c4ac6e50a86d251f",
   "execution_count": 31
  },
  {
   "cell_type": "code",
   "outputs": [
    {
     "name": "stdout",
     "output_type": "stream",
     "text": [
      "Example of target 6\n",
      "Same: 53, Different: 34\n",
      "Average statistic same: 1443.113, Average p same: 0.461\n",
      "Average statistic diff: 1023.794, Average p diff: 0.014\n",
      "-------\n",
      "Example of target 4\n",
      "Same: 47, Different: 40\n",
      "Average statistic same: 1424.213, Average p same: 0.431\n",
      "Average statistic diff: 945.200, Average p diff: 0.009\n",
      "-------\n",
      "Example of target 9\n",
      "Same: 71, Different: 16\n",
      "Average statistic same: 1424.859, Average p same: 0.411\n",
      "Average statistic diff: 1098.938, Average p diff: 0.019\n",
      "-------\n"
     ]
    }
   ],
   "source": [
    "from scipy.stats import kruskal, mannwhitneyu, wilcoxon, ttest_ind\n",
    "measure = wilcoxon\n",
    "# Compute statistical test between each single example and the rest of the examples\n",
    "for i, (index, example) in enumerate(single_examples.iterrows()):\n",
    "    print(f\"Example of target {all_targets.loc[index]['MMSE']}\")\n",
    "    avg_stat_same, avg_stat_diff = [], []\n",
    "    avg_p_same, avg_p_diff = [], []\n",
    "    n_same, n_diff = 0, 0\n",
    "    for j, (index2, example2) in enumerate(all_features.iterrows()):\n",
    "        if index == index2:\n",
    "            continue\n",
    "        #u_stat, p = mannwhitneyu(example, example2)\n",
    "        # Kruskal-Wallis H-test\n",
    "        stat, p = measure(example, example2)\n",
    "        statement = f\"With example of target {all_targets.loc[index2]['MMSE']}: \"\n",
    "        if p > 0.05:\n",
    "            avg_stat_same.append(stat)\n",
    "            avg_p_same.append(p)\n",
    "            n_same += 1\n",
    "        else:\n",
    "            n_diff += 1\n",
    "            avg_stat_diff.append(stat)\n",
    "            avg_p_diff.append(p)\n",
    "        #print(statement + f\"they come from the same subject (p={p:.3f}).\" if p > 0.05 else statement + f\"they come from different subjects (p={p:.3f}).\")\n",
    "    print(f\"Same: {n_same}, Different: {n_diff}\")\n",
    "    print(f\"Average statistic same: {np.mean(avg_stat_same):.3f}, Average p same: {np.mean(avg_p_same):.3f}\")\n",
    "    print(f\"Average statistic diff: {np.mean(avg_stat_diff):.3f}, Average p diff: {np.mean(avg_p_diff):.3f}\")\n",
    "    print(\"-------\")"
   ],
   "metadata": {
    "collapsed": false,
    "ExecuteTime": {
     "end_time": "2024-06-01T12:06:36.051648Z",
     "start_time": "2024-06-01T12:06:35.992212Z"
    }
   },
   "id": "2b7b85082c95ea13",
   "execution_count": 33
  },
  {
   "cell_type": "code",
   "outputs": [
    {
     "name": "stdout",
     "output_type": "stream",
     "text": [
      "Example of target 30\n",
      "With itself:\n",
      "Statistic: 3200.000, p: 1.000\n",
      "Same: 43, Different: 44\n",
      "Average statistic same: 2901.267, Average p same: 0.325\n",
      "Average statistic diff: 2388.466, Average p diff: 0.014\n",
      "-------\n",
      "Example of target 30\n",
      "With itself:\n",
      "Statistic: 3200.000, p: 1.000\n",
      "Same: 49, Different: 38\n",
      "Average statistic same: 3470.633, Average p same: 0.411\n",
      "Average statistic diff: 3990.632, Average p diff: 0.016\n",
      "-------\n",
      "Example of target 30\n",
      "With itself:\n",
      "Statistic: 3200.000, p: 1.000\n",
      "Same: 76, Different: 11\n",
      "Average statistic same: 3141.605, Average p same: 0.472\n",
      "Average statistic diff: 2891.636, Average p diff: 0.023\n",
      "-------\n",
      "Example of target 30\n",
      "With itself:\n",
      "Statistic: 3200.000, p: 1.000\n",
      "Same: 76, Different: 11\n",
      "Average statistic same: 3196.539, Average p same: 0.449\n",
      "Average statistic diff: 3163.091, Average p diff: 0.021\n",
      "-------\n",
      "Example of target 30\n",
      "With itself:\n",
      "Statistic: 3200.000, p: 1.000\n",
      "Same: 29, Different: 58\n",
      "Average statistic same: 3567.638, Average p same: 0.252\n",
      "Average statistic diff: 4082.828, Average p diff: 0.008\n",
      "-------\n",
      "Example of target 30\n",
      "With itself:\n",
      "Statistic: 3200.000, p: 1.000\n",
      "Same: 66, Different: 21\n",
      "Average statistic same: 3045.273, Average p same: 0.461\n",
      "Average statistic diff: 2502.333, Average p diff: 0.015\n",
      "-------\n",
      "Example of target 30\n",
      "With itself:\n",
      "Statistic: 3200.000, p: 1.000\n",
      "Same: 62, Different: 25\n",
      "Average statistic same: 3047.081, Average p same: 0.472\n",
      "Average statistic diff: 2465.480, Average p diff: 0.013\n",
      "-------\n",
      "Example of target 30\n",
      "With itself:\n",
      "Statistic: 3200.000, p: 1.000\n",
      "Same: 82, Different: 5\n",
      "Average statistic same: 3322.433, Average p same: 0.491\n",
      "Average statistic diff: 3884.600, Average p diff: 0.024\n",
      "-------\n",
      "Example of target 30\n",
      "With itself:\n",
      "Statistic: 3200.000, p: 1.000\n",
      "Same: 63, Different: 24\n",
      "Average statistic same: 3040.571, Average p same: 0.463\n",
      "Average statistic diff: 2488.521, Average p diff: 0.016\n",
      "-------\n",
      "Example of target 30\n",
      "With itself:\n",
      "Statistic: 3200.000, p: 1.000\n",
      "Same: 75, Different: 12\n",
      "Average statistic same: 3212.307, Average p same: 0.427\n",
      "Average statistic diff: 3194.750, Average p diff: 0.016\n",
      "-------\n",
      "Example of target 30\n",
      "With itself:\n",
      "Statistic: 3200.000, p: 1.000\n",
      "Same: 81, Different: 6\n",
      "Average statistic same: 3284.741, Average p same: 0.450\n",
      "Average statistic diff: 3965.833, Average p diff: 0.015\n",
      "-------\n",
      "Example of target 30\n",
      "With itself:\n",
      "Statistic: 3200.000, p: 1.000\n",
      "Same: 70, Different: 17\n",
      "Average statistic same: 3348.500, Average p same: 0.413\n",
      "Average statistic diff: 3966.059, Average p diff: 0.017\n",
      "-------\n",
      "Example of target 30\n",
      "With itself:\n",
      "Statistic: 3200.000, p: 1.000\n",
      "Same: 58, Different: 29\n",
      "Average statistic same: 3430.621, Average p same: 0.427\n",
      "Average statistic diff: 3961.621, Average p diff: 0.018\n",
      "-------\n",
      "Example of target 30\n",
      "With itself:\n",
      "Statistic: 3200.000, p: 1.000\n",
      "Same: 39, Different: 48\n",
      "Average statistic same: 3488.449, Average p same: 0.375\n",
      "Average statistic diff: 4001.865, Average p diff: 0.015\n",
      "-------\n",
      "Example of target 30\n",
      "With itself:\n",
      "Statistic: 3200.000, p: 1.000\n",
      "Same: 40, Different: 47\n",
      "Average statistic same: 3445.150, Average p same: 0.410\n",
      "Average statistic diff: 4020.191, Average p diff: 0.015\n",
      "-------\n",
      "Example of target 30\n",
      "With itself:\n",
      "Statistic: 3200.000, p: 1.000\n",
      "Same: 74, Different: 13\n",
      "Average statistic same: 3263.784, Average p same: 0.410\n",
      "Average statistic diff: 3742.692, Average p diff: 0.018\n",
      "-------\n",
      "Example of target 30\n",
      "With itself:\n",
      "Statistic: 3200.000, p: 1.000\n",
      "Same: 74, Different: 13\n",
      "Average statistic same: 3106.480, Average p same: 0.482\n",
      "Average statistic diff: 2749.692, Average p diff: 0.028\n",
      "-------\n",
      "Example of target 30\n",
      "With itself:\n",
      "Statistic: 3200.000, p: 1.000\n",
      "Same: 50, Different: 37\n",
      "Average statistic same: 2939.070, Average p same: 0.367\n",
      "Average statistic diff: 2345.041, Average p diff: 0.010\n",
      "-------\n",
      "Example of target 30\n",
      "With itself:\n",
      "Statistic: 3200.000, p: 1.000\n",
      "Same: 78, Different: 9\n",
      "Average statistic same: 3263.538, Average p same: 0.435\n",
      "Average statistic diff: 3485.667, Average p diff: 0.025\n",
      "-------\n",
      "Example of target 30\n",
      "With itself:\n",
      "Statistic: 3200.000, p: 1.000\n",
      "Same: 79, Different: 8\n",
      "Average statistic same: 3295.127, Average p same: 0.436\n",
      "Average statistic diff: 3933.500, Average p diff: 0.020\n",
      "-------\n",
      "Example of target 30\n",
      "With itself:\n",
      "Statistic: 3200.000, p: 1.000\n",
      "Same: 78, Different: 9\n",
      "Average statistic same: 3263.705, Average p same: 0.434\n",
      "Average statistic diff: 3650.556, Average p diff: 0.022\n",
      "-------\n",
      "Example of target 30\n",
      "With itself:\n",
      "Statistic: 3200.000, p: 1.000\n",
      "Same: 31, Different: 56\n",
      "Average statistic same: 3490.435, Average p same: 0.366\n",
      "Average statistic diff: 4066.964, Average p diff: 0.010\n",
      "-------\n",
      "Example of target 30\n",
      "With itself:\n",
      "Statistic: 3200.000, p: 1.000\n",
      "Same: 77, Different: 10\n",
      "Average statistic same: 3203.552, Average p same: 0.455\n",
      "Average statistic diff: 3099.300, Average p diff: 0.022\n",
      "-------\n",
      "Example of target 30\n",
      "With itself:\n",
      "Statistic: 3200.000, p: 1.000\n",
      "Same: 60, Different: 27\n",
      "Average statistic same: 3028.817, Average p same: 0.466\n",
      "Average statistic diff: 2439.037, Average p diff: 0.016\n",
      "-------\n",
      "Example of target 30\n",
      "With itself:\n",
      "Statistic: 3200.000, p: 1.000\n",
      "Same: 57, Different: 30\n",
      "Average statistic same: 3466.684, Average p same: 0.377\n",
      "Average statistic diff: 3991.933, Average p diff: 0.014\n",
      "-------\n",
      "Example of target 30\n",
      "With itself:\n",
      "Statistic: 3200.000, p: 1.000\n",
      "Same: 78, Different: 9\n",
      "Average statistic same: 3364.756, Average p same: 0.436\n",
      "Average statistic diff: 3919.278, Average p diff: 0.021\n",
      "-------\n",
      "Example of target 30\n",
      "With itself:\n",
      "Statistic: 3200.000, p: 1.000\n",
      "Same: 70, Different: 17\n",
      "Average statistic same: 3324.486, Average p same: 0.411\n",
      "Average statistic diff: 3965.235, Average p diff: 0.016\n",
      "-------\n",
      "Example of target 30\n",
      "With itself:\n",
      "Statistic: 3200.000, p: 1.000\n",
      "Same: 71, Different: 16\n",
      "Average statistic same: 3076.690, Average p same: 0.503\n",
      "Average statistic diff: 2708.344, Average p diff: 0.031\n",
      "-------\n",
      "Example of target 30\n",
      "With itself:\n",
      "Statistic: 3200.000, p: 1.000\n",
      "Same: 76, Different: 11\n",
      "Average statistic same: 3224.092, Average p same: 0.442\n",
      "Average statistic diff: 3200.818, Average p diff: 0.025\n",
      "-------\n"
     ]
    }
   ],
   "source": [
    "measure = mannwhitneyu\n",
    "# Compute statistical test between example with itself and others, considering only 26 <= MMSE <= 30\n",
    "healthy_examples = all_features.loc[all_targets[all_targets['MMSE'] >= 30].index]\n",
    "for i, (index, example) in enumerate(healthy_examples.iterrows()):\n",
    "    print(f\"Example of target {all_targets.loc[index]['MMSE']}\")\n",
    "    avg_stat_same, avg_stat_diff = [], []\n",
    "    avg_p_same, avg_p_diff = [], []\n",
    "    n_same, n_diff = 0, 0\n",
    "    for j, (index2, example2) in enumerate(all_features.iterrows()):\n",
    "        if index == index2:\n",
    "            print(\"With itself:\")\n",
    "            stat, p = measure(example, example2)\n",
    "            print(f\"Statistic: {stat:.3f}, p: {p:.3f}\")\n",
    "        else:\n",
    "            stat, p = measure(example, example2)\n",
    "            statement = f\"With example of target {all_targets.loc[index2]['MMSE']}: \"\n",
    "            if p > 0.05:\n",
    "                avg_stat_same.append(stat) \n",
    "                avg_p_same.append(p)\n",
    "                n_same += 1\n",
    "            else:\n",
    "                n_diff += 1\n",
    "                avg_stat_diff.append(stat)\n",
    "                avg_p_diff.append(p)\n",
    "    print(f\"Same: {n_same}, Different: {n_diff}\")\n",
    "    print(f\"Average statistic same: {np.mean(avg_stat_same):.3f}, Average p same: {np.mean(avg_p_same):.3f}\")\n",
    "    print(f\"Average statistic diff: {np.mean(avg_stat_diff):.3f}, Average p diff: {np.mean(avg_p_diff):.3f}\")\n",
    "    print(\"-------\")"
   ],
   "metadata": {
    "collapsed": false,
    "ExecuteTime": {
     "end_time": "2024-06-01T12:10:24.360833Z",
     "start_time": "2024-06-01T12:10:23.654063Z"
    }
   },
   "id": "92fa98dee44164b8",
   "execution_count": 37
  },
  {
   "cell_type": "code",
   "outputs": [],
   "source": [
    "from scipy.stats import mannwhitneyu\n",
    "\n",
    "\n",
    "# Data augmentation by iteratively interpolating examples with targets in between 4 and 6 (exclusive) and 6 and 9 (exclusive)\n",
    "# (4, 6) -> 5; then (4, 6) -> 4.5 and (5, 6) -> 5.5; and so on exponentially, until the distance between the targets is equal or less than 0.1\n",
    "# (6, 9) -> 7.5; then (6, 9) -> 8.25 and (7.5, 9) -> 8.75; and so on exponentially, until the distance between the targets is equal or less than 0.1\n",
    "def exponentially_generate_synthetic_examples(a, target_a, b, target_b, min_difference):\n",
    "    # Generate the middle target\n",
    "    middle_target = (target_a + target_b) / 2\n",
    "    # Generate the middle example by interpolating the feature vectors\n",
    "    middle_example = (a + b) / 2\n",
    "    # Apply gaussian noise to the middle example\n",
    "    #middle_example += np.random.normal(0, 0.15, middle_example.shape)\n",
    "    # Add the middle example to the list\n",
    "    synthetic_examples = [(middle_example, middle_target)]\n",
    "\n",
    "    # If the difference between the targets is less than the minimum difference, return the synthetic examples\n",
    "    if abs(target_a - target_b) <= min_difference:\n",
    "        return synthetic_examples\n",
    "    \n",
    "    # Otherwise, recursively generate the synthetic examples\n",
    "    synthetic_examples += exponentially_generate_synthetic_examples(a, target_a, middle_example, middle_target, min_difference)\n",
    "    synthetic_examples += exponentially_generate_synthetic_examples(middle_example, middle_target, b, target_b, min_difference)\n",
    "    return synthetic_examples\n",
    "\n",
    "\n"
   ],
   "metadata": {
    "collapsed": false,
    "ExecuteTime": {
     "end_time": "2024-05-31T13:31:06.337955Z",
     "start_time": "2024-05-31T13:31:06.329261Z"
    }
   },
   "id": "36ad351fdcbf8c46",
   "execution_count": 36
  },
  {
   "cell_type": "code",
   "outputs": [
    {
     "name": "stdout",
     "output_type": "stream",
     "text": [
      "With original examples of targets 6 and 4: they come from different subjects (p=0.002).\n",
      "-------\n",
      "Synthetic example of target 5.0\n",
      "With parent example of target 6: they come from the same subject (p=0.053).\n",
      "With parent example of target 4: they come from the same subject (p=0.173).\n",
      "-------\n",
      "Synthetic example of target 5.5\n",
      "With parent example of target 6: they come from the same subject (p=0.271).\n",
      "With parent example of target 4: they come from different subjects (p=0.021).\n",
      "-------\n",
      "Synthetic example of target 5.75\n",
      "With parent example of target 6: they come from the same subject (p=0.558).\n",
      "With parent example of target 4: they come from different subjects (p=0.006).\n",
      "-------\n",
      "Synthetic example of target 5.25\n",
      "With parent example of target 6: they come from the same subject (p=0.119).\n",
      "With parent example of target 4: they come from the same subject (p=0.064).\n",
      "-------\n",
      "Synthetic example of target 4.5\n",
      "With parent example of target 6: they come from different subjects (p=0.007).\n",
      "With parent example of target 4: they come from the same subject (p=0.558).\n",
      "-------\n",
      "Synthetic example of target 4.75\n",
      "With parent example of target 6: they come from different subjects (p=0.018).\n",
      "With parent example of target 4: they come from the same subject (p=0.342).\n",
      "-------\n",
      "Synthetic example of target 4.25\n",
      "With parent example of target 6: they come from different subjects (p=0.003).\n",
      "With parent example of target 4: they come from the same subject (p=0.776).\n",
      "-------\n"
     ]
    },
    {
     "data": {
      "text/plain": "<Figure size 720x216 with 1 Axes>",
      "image/png": "[encoded data removed]"
     },
     "metadata": {
      "needs_background": "light"
     },
     "output_type": "display_data"
    }
   ],
   "source": [
    "a, b = single_examples.loc[single_examples.index[0]], single_examples.loc[single_examples.index[1]]\n",
    "target_a, target_b = all_targets.loc[single_examples.index[0]]['MMSE'], all_targets.loc[single_examples.index[1]]['MMSE']\n",
    "\n",
    "synthetic = exponentially_generate_synthetic_examples(a, target_a, b, target_b, min_difference=0.5)\n",
    "\n",
    "# compute the statistical test between the two original examples\n",
    "u_stat_ref, p_ref = mannwhitneyu(a, b)\n",
    "statement = f\"With original examples of targets {target_a} and {target_b}: \"\n",
    "print(statement + f\"they come from the same subject (p={p_ref:.3f}).\" if p_ref > 0.05 else statement + f\"they come from different subjects (p={p_ref:.3f}).\")\n",
    "print(\"-------\")\n",
    "\n",
    "# compute the statistical test between every synthetic example and the original examples\n",
    "res = {}\n",
    "for example in synthetic:\n",
    "    vector, target = example\n",
    "    print(\"Synthetic example of target\", target)\n",
    "    u_stat_a, p_a = mannwhitneyu(a, example[0])\n",
    "    u_stat_b, p_b = mannwhitneyu(b, example[0])\n",
    "    statement = f\"With parent example of target {target_a}: \"\n",
    "    print(statement + f\"they come from the same subject (p={p_a:.3f}).\" if p_a > 0.05 else statement + f\"they come from different subjects (p={p_a:.3f}).\")\n",
    "    statement = f\"With parent example of target {target_b}: \"\n",
    "    print(statement + f\"they come from the same subject (p={p_b:.3f}).\" if p_b > 0.05 else statement + f\"they come from different subjects (p={p_b:.3f}).\")\n",
    "    print(\"-------\")\n",
    "    res[target] = (p_a>0.05, p_b>0.05)\n",
    "\n",
    "# Draw a plot illustrating the tendency of the synthetic examples to be closer to the target, using res\n",
    "# | ------------------------------------------------------- |\n",
    "# |    <-    |    <-   |    <-  ->    |    ->    |    ->    |   \n",
    "# | ------------------------------------------------------- |\n",
    "#     4.25      4.5      4.75    5.0      5.25     5.5\n",
    "\n",
    "import matplotlib.pyplot as plt\n",
    "\n",
    "plt.figure(figsize=(10, 3))\n",
    "close_to_left = [target for target, (left, right) in res.items() if left]\n",
    "close_to_right = [target for target, (left, right) in res.items() if right]\n",
    "plt.scatter([x - 0.01 for x in close_to_left], [0] * len(close_to_left), label='Assumed to the same subject as the 4',\n",
    "            color='blue')\n",
    "plt.scatter([x + 0.01 for x in close_to_right], [0] * len(close_to_right), label='Assumed to the same subject as the 6',\n",
    "            color='red')\n",
    "plt.legend()\n",
    "plt.show()"
   ],
   "metadata": {
    "collapsed": false,
    "ExecuteTime": {
     "end_time": "2024-05-31T13:31:06.954423Z",
     "start_time": "2024-05-31T13:31:06.882296Z"
    }
   },
   "id": "bc00312443feab47",
   "execution_count": 37
  },
  {
   "cell_type": "code",
   "outputs": [
    {
     "name": "stdout",
     "output_type": "stream",
     "text": [
      "With original examples of targets 6 and 9: they come from the same subject (p=0.789).\n",
      "-------\n",
      "Synthetic example of target 7.5\n",
      "With parent example of target 6: they come from the same subject (p=0.180).\n",
      "With parent example of target 9: they come from the same subject (p=0.509).\n",
      "-------\n",
      "Synthetic example of target 6.75\n",
      "With parent example of target 6: they come from the same subject (p=0.279).\n",
      "With parent example of target 9: they come from the same subject (p=0.627).\n",
      "-------\n",
      "Synthetic example of target 6.375\n",
      "With parent example of target 6: they come from the same subject (p=0.556).\n",
      "With parent example of target 9: they come from the same subject (p=0.852).\n",
      "-------\n",
      "Synthetic example of target 6.1875\n",
      "With parent example of target 6: they come from the same subject (p=0.786).\n",
      "With parent example of target 9: they come from the same subject (p=1.000).\n",
      "-------\n",
      "Synthetic example of target 6.5625\n",
      "With parent example of target 6: they come from the same subject (p=0.391).\n",
      "With parent example of target 9: they come from the same subject (p=0.739).\n",
      "-------\n",
      "Synthetic example of target 7.125\n",
      "With parent example of target 6: they come from the same subject (p=0.188).\n",
      "With parent example of target 9: they come from the same subject (p=0.494).\n",
      "-------\n",
      "Synthetic example of target 6.9375\n",
      "With parent example of target 6: they come from the same subject (p=0.209).\n",
      "With parent example of target 9: they come from the same subject (p=0.513).\n",
      "-------\n",
      "Synthetic example of target 7.3125\n",
      "With parent example of target 6: they come from the same subject (p=0.166).\n",
      "With parent example of target 9: they come from the same subject (p=0.516).\n",
      "-------\n",
      "Synthetic example of target 8.25\n",
      "With parent example of target 6: they come from the same subject (p=0.286).\n",
      "With parent example of target 9: they come from the same subject (p=0.755).\n",
      "-------\n",
      "Synthetic example of target 7.875\n",
      "With parent example of target 6: they come from the same subject (p=0.205).\n",
      "With parent example of target 9: they come from the same subject (p=0.649).\n",
      "-------\n",
      "Synthetic example of target 7.6875\n",
      "With parent example of target 6: they come from the same subject (p=0.199).\n",
      "With parent example of target 9: they come from the same subject (p=0.577).\n",
      "-------\n",
      "Synthetic example of target 8.0625\n",
      "With parent example of target 6: they come from the same subject (p=0.233).\n",
      "With parent example of target 9: they come from the same subject (p=0.734).\n",
      "-------\n",
      "Synthetic example of target 8.625\n",
      "With parent example of target 6: they come from the same subject (p=0.462).\n",
      "With parent example of target 9: they come from the same subject (p=0.904).\n",
      "-------\n",
      "Synthetic example of target 8.4375\n",
      "With parent example of target 6: they come from the same subject (p=0.363).\n",
      "With parent example of target 9: they come from the same subject (p=0.813).\n",
      "-------\n",
      "Synthetic example of target 8.8125\n",
      "With parent example of target 6: they come from the same subject (p=0.608).\n",
      "With parent example of target 9: they come from the same subject (p=0.931).\n",
      "-------\n"
     ]
    },
    {
     "data": {
      "text/plain": "<Figure size 1080x144 with 1 Axes>",
      "image/png": "[encoded data removed]"
     },
     "metadata": {
      "needs_background": "light"
     },
     "output_type": "display_data"
    }
   ],
   "source": [
    "a, b = single_examples.loc[single_examples.index[0]], single_examples.loc[single_examples.index[2]]\n",
    "target_a, target_b = all_targets.loc[single_examples.index[0]]['MMSE'], all_targets.loc[single_examples.index[2]]['MMSE']\n",
    "\n",
    "synthetic = exponentially_generate_synthetic_examples(a, target_a, b, target_b, min_difference=0.5)\n",
    "\n",
    "# compute the statistical test between the two original examples\n",
    "u_stat_ref, p_ref = mannwhitneyu(a, b)\n",
    "statement = f\"With original examples of targets {target_a} and {target_b}: \"\n",
    "print(statement + f\"they come from the same subject (p={p_ref:.3f}).\" if p_ref > 0.05 else statement + f\"they come from different subjects (p={p_ref:.3f}).\")\n",
    "print(\"-------\")\n",
    "\n",
    "# compute the statistical test between every synthetic example and the original examples\n",
    "res = {}\n",
    "for example in synthetic:\n",
    "    vector, target = example\n",
    "    print(\"Synthetic example of target\", target)\n",
    "    u_stat_a, p_a = mannwhitneyu(a, example[0])\n",
    "    u_stat_b, p_b = mannwhitneyu(b, example[0])\n",
    "    statement = f\"With parent example of target {target_a}: \"\n",
    "    print(statement + f\"they come from the same subject (p={p_a:.3f}).\" if p_a > 0.05 else statement + f\"they come from different subjects (p={p_a:.3f}).\")\n",
    "    statement = f\"With parent example of target {target_b}: \"\n",
    "    print(statement + f\"they come from the same subject (p={p_b:.3f}).\" if p_b > 0.05 else statement + f\"they come from different subjects (p={p_b:.3f}).\")\n",
    "    print(\"-------\")\n",
    "    res[target] = (p_a>0.05, p_b>0.05)\n",
    "\n",
    "# Draw a plot illustrating the tendency of the synthetic examples to be closer to the target, using res\n",
    "# | ------------------------------------------------------- |\n",
    "# |    <-    |    <-   |    <-  ->    |    ->    |    ->    |   \n",
    "# | ------------------------------------------------------- |\n",
    "#     4.25      4.5      4.75    5.0      5.25     5.5\n",
    "\n",
    "import matplotlib.pyplot as plt\n",
    "\n",
    "plt.figure(figsize=(15, 2))\n",
    "close_to_left = [target for target, (left, right) in res.items() if left]\n",
    "close_to_right = [target for target, (left, right) in res.items() if right]\n",
    "plt.scatter([x - 0.01 for x in close_to_left], [0] * len(close_to_left), label='Assumed to the same subject as the 6',\n",
    "            color='blue')\n",
    "plt.scatter([x + 0.01 for x in close_to_right], [0] * len(close_to_right), label='Assumed to the same subject as the 9',\n",
    "            color='red')\n",
    "plt.legend()\n",
    "plt.show()"
   ],
   "metadata": {
    "collapsed": false,
    "ExecuteTime": {
     "end_time": "2024-05-31T13:32:59.973312Z",
     "start_time": "2024-05-31T13:32:59.898985Z"
    }
   },
   "id": "633552ec06d31a8d",
   "execution_count": 41
  },
  {
   "cell_type": "code",
   "outputs": [],
   "source": [],
   "metadata": {
    "collapsed": false
   },
   "id": "ed61fa2adad7f826"
  }
 ],
 "metadata": {
  "kernelspec": {
   "display_name": "Python 3",
   "language": "python",
   "name": "python3"
  },
  "language_info": {
   "codemirror_mode": {
    "name": "ipython",
    "version": 2
   },
   "file_extension": ".py",
   "mimetype": "text/x-python",
   "name": "python",
   "nbconvert_exporter": "python",
   "pygments_lexer": "ipython2",
   "version": "2.7.6"
  }
 },
 "nbformat": 4,
 "nbformat_minor": 5
}
