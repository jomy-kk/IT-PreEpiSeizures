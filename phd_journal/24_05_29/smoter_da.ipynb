{
 "cells": [
  {
   "cell_type": "code",
   "execution_count": 3,
   "id": "initial_id",
   "metadata": {
    "collapsed": true,
    "ExecuteTime": {
     "end_time": "2024-06-01T12:16:47.778141Z",
     "start_time": "2024-06-01T12:16:47.529220Z"
    }
   },
   "outputs": [
    {
     "name": "stderr",
     "output_type": "stream",
     "text": [
      "/Users/saraiva/PycharmProjects/LTBio/venv/lib/python3.10/site-packages/pandas/core/computation/expressions.py:21: UserWarning: Pandas requires version '2.8.4' or newer of 'numexpr' (version '2.8.3' currently installed).\n",
      "  from pandas.core.computation.check import NUMEXPR_INSTALLED\n"
     ]
    }
   ],
   "source": [
    "from glob import glob\n",
    "from os.path import join\n",
    "import pandas as pd\n",
    "import numpy as np"
   ]
  },
  {
   "cell_type": "code",
   "outputs": [],
   "source": [
    "common_path = '/Volumes/MMIS-Saraiv/Datasets/Miltiadous Dataset/features'\n",
    "all_directories = glob(join(common_path, '*'))\n",
    "all_directories = [directory for directory in all_directories if not directory.endswith('.csv')]"
   ],
   "metadata": {
    "collapsed": false,
    "ExecuteTime": {
     "end_time": "2024-06-01T12:16:47.785903Z",
     "start_time": "2024-06-01T12:16:47.779423Z"
    }
   },
   "id": "bc4f10c251948d64",
   "execution_count": 4
  },
  {
   "cell_type": "code",
   "outputs": [],
   "source": [
    "FEATURES_SELECTED = ['Spectral#RelativePower#C3#beta1', 'Spectral#EdgeFrequency#C3#beta3', 'Spectral#RelativePower#C3#gamma', 'Spectral#EdgeFrequency#C4#alpha1', 'Spectral#RelativePower#C4#beta3', 'Spectral#EdgeFrequency#C4#beta3', 'Spectral#EdgeFrequency#C4#gamma', 'Spectral#Flatness#Cz#theta', 'Spectral#PeakFrequency#Cz#theta', 'Spectral#EdgeFrequency#Cz#beta3', 'Spectral#EdgeFrequency#Cz#gamma', 'Spectral#PeakFrequency#Cz#gamma', 'Spectral#RelativePower#F3#beta1', 'Spectral#Diff#F4#delta', 'Spectral#RelativePower#F7#beta3', 'Spectral#EdgeFrequency#F7#beta3', 'Spectral#RelativePower#F7#gamma', 'Spectral#RelativePower#F8#beta1', 'Spectral#EdgeFrequency#F8#beta3', 'Spectral#RelativePower#Fp1#beta1', 'Spectral#EdgeFrequency#Fp1#beta3', 'Spectral#Diff#Fp2#delta', 'Spectral#RelativePower#Fp2#beta1', 'Spectral#RelativePower#Fp2#beta3', 'Spectral#Diff#Fpz#beta2', 'Spectral#Entropy#O1#delta', 'Spectral#RelativePower#O1#beta2', 'Spectral#EdgeFrequency#O1#beta2', 'Spectral#EdgeFrequency#O1#beta3', 'Spectral#RelativePower#O2#delta', 'Spectral#PeakFrequency#O2#alpha1', 'Spectral#RelativePower#O2#beta1', 'Spectral#RelativePower#O2#beta3', 'Spectral#Diff#P3#beta1', 'Spectral#RelativePower#P3#beta3', 'Spectral#RelativePower#Pz#alpha1', 'Spectral#EdgeFrequency#Pz#beta3', 'Spectral#RelativePower#T4#alpha1', 'Spectral#RelativePower#T4#beta3', 'Spectral#RelativePower#T4#gamma', 'Spectral#EdgeFrequency#T5#beta2', 'Hjorth#Complexity#T5', 'Hjorth#Complexity#P4', 'Hjorth#Complexity#F7', 'Hjorth#Complexity#T4', 'Hjorth#Complexity#F8', 'Hjorth#Complexity#T3', 'Hjorth#Mobility#P3', 'PLI#Frontal(L)-Temporal(R)#alpha1', 'PLI#Frontal(L)-Occipital(L)#alpha1', 'PLI#Frontal(R)-Temporal(R)#alpha1', 'PLI#Temporal(R)-Parietal(R)#alpha1', 'PLI#Temporal(R)-Occipital(L)#alpha1', 'PLI#Parietal(R)-Occipital(L)#alpha1', 'PLI#Occipital(L)-Occipital(R)#alpha1', 'PLI#Temporal(R)-Occipital(R)#alpha2', 'PLI#Parietal(R)-Occipital(L)#alpha2', 'COH#Frontal(L)-Frontal(R)#theta', 'COH#Frontal(L)-Occipital(L)#theta', 'COH#Frontal(L)-Occipital(R)#alpha1', 'COH#Frontal(R)-Occipital(L)#alpha1', 'COH#Parietal(R)-Occipital(L)#alpha1', 'COH#Frontal(L)-Frontal(R)#alpha2', 'COH#Frontal(L)-Occipital(R)#alpha2', 'COH#Parietal(R)-Occipital(L)#alpha2', 'COH#Parietal(R)-Occipital(R)#alpha2', 'COH#Occipital(L)-Occipital(R)#alpha2', 'COH#Frontal(L)-Occipital(L)#beta1', 'COH#Temporal(R)-Parietal(R)#beta1', 'COH#Parietal(R)-Occipital(R)#beta1', 'COH#Frontal(L)-Parietal(L)#beta2', 'COH#Frontal(R)-Occipital(L)#beta2', 'COH#Frontal(L)-Temporal(R)#beta3', 'COH#Frontal(L)-Parietal(L)#beta3', 'COH#Frontal(L)-Occipital(L)#beta3', 'COH#Frontal(L)-Occipital(R)#beta3', 'COH#Frontal(R)-Occipital(L)#beta3', 'COH#Temporal(L)-Occipital(R)#beta3', 'COH#Frontal(L)-Occipital(R)#gamma', 'COH#Frontal(R)-Occipital(R)#gamma']\n"
   ],
   "metadata": {
    "collapsed": false,
    "ExecuteTime": {
     "end_time": "2024-06-01T12:16:47.974022Z",
     "start_time": "2024-06-01T12:16:47.968913Z"
    }
   },
   "id": "4cca7eabc6f58643",
   "execution_count": 5
  },
  {
   "cell_type": "code",
   "outputs": [],
   "source": [
    "underrepresented_targets = [4, 6, 9]"
   ],
   "metadata": {
    "collapsed": false,
    "ExecuteTime": {
     "end_time": "2024-06-01T12:16:48.195057Z",
     "start_time": "2024-06-01T12:16:48.191632Z"
    }
   },
   "id": "7285056c63a64eb8",
   "execution_count": 6
  },
  {
   "cell_type": "code",
   "outputs": [
    {
     "data": {
      "text/plain": "               Gender  Age Group  MMSE\nparticipant_id                        \n1                   F   57     A    16\n2                   F   78     A    22\n3                   M   70     A    14\n4                   F   67     A    20\n5                   M   70     A    22\n...               ...  ...   ...   ...\n84                  F   71     F    24\n85                  M   64     F    26\n86                  M   49     F    26\n87                  M   73     F    24\n88                  M   55     F    24\n\n[88 rows x 4 columns]",
      "text/html": "<div>\n<style scoped>\n    .dataframe tbody tr th:only-of-type {\n        vertical-align: middle;\n    }\n\n    .dataframe tbody tr th {\n        vertical-align: top;\n    }\n\n    .dataframe thead th {\n        text-align: right;\n    }\n</style>\n<table border=\"1\" class=\"dataframe\">\n  <thead>\n    <tr style=\"text-align: right;\">\n      <th></th>\n      <th>Gender</th>\n      <th>Age</th>\n      <th>Group</th>\n      <th>MMSE</th>\n    </tr>\n    <tr>\n      <th>participant_id</th>\n      <th></th>\n      <th></th>\n      <th></th>\n      <th></th>\n    </tr>\n  </thead>\n  <tbody>\n    <tr>\n      <th>1</th>\n      <td>F</td>\n      <td>57</td>\n      <td>A</td>\n      <td>16</td>\n    </tr>\n    <tr>\n      <th>2</th>\n      <td>F</td>\n      <td>78</td>\n      <td>A</td>\n      <td>22</td>\n    </tr>\n    <tr>\n      <th>3</th>\n      <td>M</td>\n      <td>70</td>\n      <td>A</td>\n      <td>14</td>\n    </tr>\n    <tr>\n      <th>4</th>\n      <td>F</td>\n      <td>67</td>\n      <td>A</td>\n      <td>20</td>\n    </tr>\n    <tr>\n      <th>5</th>\n      <td>M</td>\n      <td>70</td>\n      <td>A</td>\n      <td>22</td>\n    </tr>\n    <tr>\n      <th>...</th>\n      <td>...</td>\n      <td>...</td>\n      <td>...</td>\n      <td>...</td>\n    </tr>\n    <tr>\n      <th>84</th>\n      <td>F</td>\n      <td>71</td>\n      <td>F</td>\n      <td>24</td>\n    </tr>\n    <tr>\n      <th>85</th>\n      <td>M</td>\n      <td>64</td>\n      <td>F</td>\n      <td>26</td>\n    </tr>\n    <tr>\n      <th>86</th>\n      <td>M</td>\n      <td>49</td>\n      <td>F</td>\n      <td>26</td>\n    </tr>\n    <tr>\n      <th>87</th>\n      <td>M</td>\n      <td>73</td>\n      <td>F</td>\n      <td>24</td>\n    </tr>\n    <tr>\n      <th>88</th>\n      <td>M</td>\n      <td>55</td>\n      <td>F</td>\n      <td>24</td>\n    </tr>\n  </tbody>\n</table>\n<p>88 rows × 4 columns</p>\n</div>"
     },
     "execution_count": 7,
     "metadata": {},
     "output_type": "execute_result"
    }
   ],
   "source": [
    "# Read all targets\n",
    "all_targets = pd.read_csv('/Volumes/MMIS-Saraiv/Datasets/Miltiadous Dataset/participants.tsv', index_col=0, sep='\\t')\n",
    "# Remove \"sub-\" from the index and make them integers\n",
    "all_targets.index = all_targets.index.str.replace('sub-', '')\n",
    "all_targets.index = all_targets.index.astype(int)\n",
    "all_targets"
   ],
   "metadata": {
    "collapsed": false,
    "ExecuteTime": {
     "end_time": "2024-06-01T12:16:48.903553Z",
     "start_time": "2024-06-01T12:16:48.515337Z"
    }
   },
   "id": "50d1dac4b96b09f5",
   "execution_count": 7
  },
  {
   "cell_type": "code",
   "outputs": [
    {
     "data": {
      "text/plain": "    Spectral#RelativePower#C3#beta1  Spectral#EdgeFrequency#C3#beta3  \\\n1                         -0.813540                         1.606738   \n2                         -0.033664                        -0.317543   \n3                         -1.154445                         1.882797   \n4                         -1.254234                         0.575753   \n5                          0.264062                        -0.506197   \n..                              ...                              ...   \n84                        -0.874233                        -0.635686   \n85                        -1.216882                        -0.405034   \n86                        -1.020571                         1.741321   \n87                         0.302367                         0.288400   \n88                         0.370949                        -2.173986   \n\n    Spectral#RelativePower#C3#gamma  Spectral#EdgeFrequency#C4#alpha1  \\\n1                          0.154111                         -0.857721   \n2                         -0.107550                         -0.755139   \n3                         -1.021495                         -0.156794   \n4                          1.226954                         -1.752483   \n5                         -0.006203                         -0.949357   \n..                              ...                               ...   \n84                        -0.799761                         -0.827392   \n85                         0.499358                         -1.230161   \n86                         1.401623                          1.103438   \n87                        -0.719455                          0.131978   \n88                        -0.613257                          0.521504   \n\n    Spectral#RelativePower#C4#beta3  Spectral#EdgeFrequency#C4#beta3  \\\n1                          0.224815                         2.238438   \n2                          0.054987                        -0.460885   \n3                         -1.424255                         1.109195   \n4                         -1.211657                         0.546614   \n5                         -0.670891                        -1.167200   \n..                              ...                              ...   \n84                        -0.747147                        -0.713339   \n85                         0.148454                         0.570244   \n86                        -0.215066                         1.004956   \n87                         0.507717                         0.007470   \n88                         0.501458                        -2.012773   \n\n    Spectral#EdgeFrequency#C4#gamma  Spectral#Flatness#Cz#theta  \\\n1                         -0.563627                    0.006231   \n2                         -0.601328                   -0.794429   \n3                         -1.062432                    0.607385   \n4                          1.594436                    0.395285   \n5                         -0.220373                    0.847810   \n..                              ...                         ...   \n84                         0.348795                   -0.810643   \n85                         1.234056                    0.166869   \n86                         0.780630                   -0.710866   \n87                        -0.996035                    0.105071   \n88                        -1.430434                    0.532734   \n\n    Spectral#PeakFrequency#Cz#theta  Spectral#EdgeFrequency#Cz#beta3  ...  \\\n1                         -1.273021                         2.837764  ...   \n2                          1.604787                        -1.053052  ...   \n3                          0.488660                         1.143272  ...   \n4                         -0.244770                        -0.485500  ...   \n5                         -0.200759                        -0.678013  ...   \n..                              ...                              ...  ...   \n84                         0.005818                        -1.090546  ...   \n85                        -0.348934                        -1.246781  ...   \n86                         0.724228                         0.148072  ...   \n87                        -1.449900                         0.798103  ...   \n88                        -0.199177                         1.066820  ...   \n\n    COH#Frontal(L)-Parietal(L)#beta2  COH#Frontal(R)-Occipital(L)#beta2  \\\n1                          -0.068399                           0.904929   \n2                           0.355459                           0.563426   \n3                          -1.479721                           0.226215   \n4                          -2.329057                          -2.080761   \n5                           0.908738                          -0.077441   \n..                               ...                                ...   \n84                         -1.126299                          -0.664410   \n85                          0.915669                          -1.029708   \n86                          3.101518                          -1.529124   \n87                          1.674983                           0.246648   \n88                          1.158577                           2.363948   \n\n    COH#Frontal(L)-Temporal(R)#beta3  COH#Frontal(L)-Parietal(L)#beta3  \\\n1                          -0.566126                          0.054189   \n2                           0.601700                         -0.093774   \n3                          -0.359557                         -1.332807   \n4                          -1.847199                         -1.730998   \n5                          -0.331272                          1.248903   \n..                               ...                               ...   \n84                          1.730351                         -0.924681   \n85                         -1.198789                          1.185661   \n86                         -0.332736                          3.896433   \n87                          0.429508                          1.992853   \n88                          0.451479                         -0.121638   \n\n    COH#Frontal(L)-Occipital(L)#beta3  COH#Frontal(L)-Occipital(R)#beta3  \\\n1                            0.948733                           0.610158   \n2                            0.539566                           0.506951   \n3                           -0.378067                          -0.107204   \n4                           -1.954706                          -1.716702   \n5                           -0.064808                           0.764413   \n..                                ...                                ...   \n84                           0.929126                           0.392679   \n85                          -1.218323                          -0.997000   \n86                          -1.487516                          -0.717636   \n87                           1.758692                           1.907005   \n88                           1.585214                           0.849864   \n\n    COH#Frontal(R)-Occipital(L)#beta3  COH#Temporal(L)-Occipital(R)#beta3  \\\n1                            1.021883                            1.518036   \n2                           -0.515592                            0.364257   \n3                            0.086134                           -0.532508   \n4                           -1.506039                           -0.281655   \n5                           -0.614033                           -0.657505   \n..                                ...                                 ...   \n84                          -0.255394                           -0.874653   \n85                          -1.044695                            0.916055   \n86                          -1.555355                            0.556569   \n87                           0.053669                           -2.005538   \n88                           1.400458                           -0.343720   \n\n    COH#Frontal(L)-Occipital(R)#gamma  COH#Frontal(R)-Occipital(R)#gamma  \n1                            0.652578                           0.466059  \n2                           -0.011330                          -1.231515  \n3                           -0.197294                           0.132320  \n4                           -1.508070                          -1.385533  \n5                            1.279856                           0.173993  \n..                                ...                                ...  \n84                           0.301673                           0.087385  \n85                          -0.999309                          -1.351405  \n86                          -0.383834                          -1.210385  \n87                           1.547752                           0.206318  \n88                           1.319621                           0.046993  \n\n[88 rows x 80 columns]",
      "text/html": "<div>\n<style scoped>\n    .dataframe tbody tr th:only-of-type {\n        vertical-align: middle;\n    }\n\n    .dataframe tbody tr th {\n        vertical-align: top;\n    }\n\n    .dataframe thead th {\n        text-align: right;\n    }\n</style>\n<table border=\"1\" class=\"dataframe\">\n  <thead>\n    <tr style=\"text-align: right;\">\n      <th></th>\n      <th>Spectral#RelativePower#C3#beta1</th>\n      <th>Spectral#EdgeFrequency#C3#beta3</th>\n      <th>Spectral#RelativePower#C3#gamma</th>\n      <th>Spectral#EdgeFrequency#C4#alpha1</th>\n      <th>Spectral#RelativePower#C4#beta3</th>\n      <th>Spectral#EdgeFrequency#C4#beta3</th>\n      <th>Spectral#EdgeFrequency#C4#gamma</th>\n      <th>Spectral#Flatness#Cz#theta</th>\n      <th>Spectral#PeakFrequency#Cz#theta</th>\n      <th>Spectral#EdgeFrequency#Cz#beta3</th>\n      <th>...</th>\n      <th>COH#Frontal(L)-Parietal(L)#beta2</th>\n      <th>COH#Frontal(R)-Occipital(L)#beta2</th>\n      <th>COH#Frontal(L)-Temporal(R)#beta3</th>\n      <th>COH#Frontal(L)-Parietal(L)#beta3</th>\n      <th>COH#Frontal(L)-Occipital(L)#beta3</th>\n      <th>COH#Frontal(L)-Occipital(R)#beta3</th>\n      <th>COH#Frontal(R)-Occipital(L)#beta3</th>\n      <th>COH#Temporal(L)-Occipital(R)#beta3</th>\n      <th>COH#Frontal(L)-Occipital(R)#gamma</th>\n      <th>COH#Frontal(R)-Occipital(R)#gamma</th>\n    </tr>\n  </thead>\n  <tbody>\n    <tr>\n      <th>1</th>\n      <td>-0.813540</td>\n      <td>1.606738</td>\n      <td>0.154111</td>\n      <td>-0.857721</td>\n      <td>0.224815</td>\n      <td>2.238438</td>\n      <td>-0.563627</td>\n      <td>0.006231</td>\n      <td>-1.273021</td>\n      <td>2.837764</td>\n      <td>...</td>\n      <td>-0.068399</td>\n      <td>0.904929</td>\n      <td>-0.566126</td>\n      <td>0.054189</td>\n      <td>0.948733</td>\n      <td>0.610158</td>\n      <td>1.021883</td>\n      <td>1.518036</td>\n      <td>0.652578</td>\n      <td>0.466059</td>\n    </tr>\n    <tr>\n      <th>2</th>\n      <td>-0.033664</td>\n      <td>-0.317543</td>\n      <td>-0.107550</td>\n      <td>-0.755139</td>\n      <td>0.054987</td>\n      <td>-0.460885</td>\n      <td>-0.601328</td>\n      <td>-0.794429</td>\n      <td>1.604787</td>\n      <td>-1.053052</td>\n      <td>...</td>\n      <td>0.355459</td>\n      <td>0.563426</td>\n      <td>0.601700</td>\n      <td>-0.093774</td>\n      <td>0.539566</td>\n      <td>0.506951</td>\n      <td>-0.515592</td>\n      <td>0.364257</td>\n      <td>-0.011330</td>\n      <td>-1.231515</td>\n    </tr>\n    <tr>\n      <th>3</th>\n      <td>-1.154445</td>\n      <td>1.882797</td>\n      <td>-1.021495</td>\n      <td>-0.156794</td>\n      <td>-1.424255</td>\n      <td>1.109195</td>\n      <td>-1.062432</td>\n      <td>0.607385</td>\n      <td>0.488660</td>\n      <td>1.143272</td>\n      <td>...</td>\n      <td>-1.479721</td>\n      <td>0.226215</td>\n      <td>-0.359557</td>\n      <td>-1.332807</td>\n      <td>-0.378067</td>\n      <td>-0.107204</td>\n      <td>0.086134</td>\n      <td>-0.532508</td>\n      <td>-0.197294</td>\n      <td>0.132320</td>\n    </tr>\n    <tr>\n      <th>4</th>\n      <td>-1.254234</td>\n      <td>0.575753</td>\n      <td>1.226954</td>\n      <td>-1.752483</td>\n      <td>-1.211657</td>\n      <td>0.546614</td>\n      <td>1.594436</td>\n      <td>0.395285</td>\n      <td>-0.244770</td>\n      <td>-0.485500</td>\n      <td>...</td>\n      <td>-2.329057</td>\n      <td>-2.080761</td>\n      <td>-1.847199</td>\n      <td>-1.730998</td>\n      <td>-1.954706</td>\n      <td>-1.716702</td>\n      <td>-1.506039</td>\n      <td>-0.281655</td>\n      <td>-1.508070</td>\n      <td>-1.385533</td>\n    </tr>\n    <tr>\n      <th>5</th>\n      <td>0.264062</td>\n      <td>-0.506197</td>\n      <td>-0.006203</td>\n      <td>-0.949357</td>\n      <td>-0.670891</td>\n      <td>-1.167200</td>\n      <td>-0.220373</td>\n      <td>0.847810</td>\n      <td>-0.200759</td>\n      <td>-0.678013</td>\n      <td>...</td>\n      <td>0.908738</td>\n      <td>-0.077441</td>\n      <td>-0.331272</td>\n      <td>1.248903</td>\n      <td>-0.064808</td>\n      <td>0.764413</td>\n      <td>-0.614033</td>\n      <td>-0.657505</td>\n      <td>1.279856</td>\n      <td>0.173993</td>\n    </tr>\n    <tr>\n      <th>...</th>\n      <td>...</td>\n      <td>...</td>\n      <td>...</td>\n      <td>...</td>\n      <td>...</td>\n      <td>...</td>\n      <td>...</td>\n      <td>...</td>\n      <td>...</td>\n      <td>...</td>\n      <td>...</td>\n      <td>...</td>\n      <td>...</td>\n      <td>...</td>\n      <td>...</td>\n      <td>...</td>\n      <td>...</td>\n      <td>...</td>\n      <td>...</td>\n      <td>...</td>\n      <td>...</td>\n    </tr>\n    <tr>\n      <th>84</th>\n      <td>-0.874233</td>\n      <td>-0.635686</td>\n      <td>-0.799761</td>\n      <td>-0.827392</td>\n      <td>-0.747147</td>\n      <td>-0.713339</td>\n      <td>0.348795</td>\n      <td>-0.810643</td>\n      <td>0.005818</td>\n      <td>-1.090546</td>\n      <td>...</td>\n      <td>-1.126299</td>\n      <td>-0.664410</td>\n      <td>1.730351</td>\n      <td>-0.924681</td>\n      <td>0.929126</td>\n      <td>0.392679</td>\n      <td>-0.255394</td>\n      <td>-0.874653</td>\n      <td>0.301673</td>\n      <td>0.087385</td>\n    </tr>\n    <tr>\n      <th>85</th>\n      <td>-1.216882</td>\n      <td>-0.405034</td>\n      <td>0.499358</td>\n      <td>-1.230161</td>\n      <td>0.148454</td>\n      <td>0.570244</td>\n      <td>1.234056</td>\n      <td>0.166869</td>\n      <td>-0.348934</td>\n      <td>-1.246781</td>\n      <td>...</td>\n      <td>0.915669</td>\n      <td>-1.029708</td>\n      <td>-1.198789</td>\n      <td>1.185661</td>\n      <td>-1.218323</td>\n      <td>-0.997000</td>\n      <td>-1.044695</td>\n      <td>0.916055</td>\n      <td>-0.999309</td>\n      <td>-1.351405</td>\n    </tr>\n    <tr>\n      <th>86</th>\n      <td>-1.020571</td>\n      <td>1.741321</td>\n      <td>1.401623</td>\n      <td>1.103438</td>\n      <td>-0.215066</td>\n      <td>1.004956</td>\n      <td>0.780630</td>\n      <td>-0.710866</td>\n      <td>0.724228</td>\n      <td>0.148072</td>\n      <td>...</td>\n      <td>3.101518</td>\n      <td>-1.529124</td>\n      <td>-0.332736</td>\n      <td>3.896433</td>\n      <td>-1.487516</td>\n      <td>-0.717636</td>\n      <td>-1.555355</td>\n      <td>0.556569</td>\n      <td>-0.383834</td>\n      <td>-1.210385</td>\n    </tr>\n    <tr>\n      <th>87</th>\n      <td>0.302367</td>\n      <td>0.288400</td>\n      <td>-0.719455</td>\n      <td>0.131978</td>\n      <td>0.507717</td>\n      <td>0.007470</td>\n      <td>-0.996035</td>\n      <td>0.105071</td>\n      <td>-1.449900</td>\n      <td>0.798103</td>\n      <td>...</td>\n      <td>1.674983</td>\n      <td>0.246648</td>\n      <td>0.429508</td>\n      <td>1.992853</td>\n      <td>1.758692</td>\n      <td>1.907005</td>\n      <td>0.053669</td>\n      <td>-2.005538</td>\n      <td>1.547752</td>\n      <td>0.206318</td>\n    </tr>\n    <tr>\n      <th>88</th>\n      <td>0.370949</td>\n      <td>-2.173986</td>\n      <td>-0.613257</td>\n      <td>0.521504</td>\n      <td>0.501458</td>\n      <td>-2.012773</td>\n      <td>-1.430434</td>\n      <td>0.532734</td>\n      <td>-0.199177</td>\n      <td>1.066820</td>\n      <td>...</td>\n      <td>1.158577</td>\n      <td>2.363948</td>\n      <td>0.451479</td>\n      <td>-0.121638</td>\n      <td>1.585214</td>\n      <td>0.849864</td>\n      <td>1.400458</td>\n      <td>-0.343720</td>\n      <td>1.319621</td>\n      <td>0.046993</td>\n    </tr>\n  </tbody>\n</table>\n<p>88 rows × 80 columns</p>\n</div>"
     },
     "execution_count": 8,
     "metadata": {},
     "output_type": "execute_result"
    }
   ],
   "source": [
    "# Read all and standardize\n",
    "all_features = []\n",
    "for subject_path in all_directories:\n",
    "    subject = subject_path.split('/')[-1]\n",
    "        \n",
    "    # Get feature files\n",
    "    all_files = glob(join(subject_path, '*.csv'))\n",
    "    # remove all files that have \"Multiple\" in their name\n",
    "    all_files = [file for file in all_files if 'Multiple' not in file]\n",
    "    # Read them all\n",
    "    all_data = [pd.read_csv(file, index_col=0) for file in all_files]\n",
    "    # FIX: the spectral data has a different index\n",
    "    for data in all_data:\n",
    "        if 'Spectral' in data.columns[0]:\n",
    "            data.index = [int(subject),]\n",
    "    # Concatenate all their columns in a single DataFrame\n",
    "    all_data = pd.concat(all_data, axis=1)\n",
    "    # Keep only selected features\n",
    "    selected_features = all_data[FEATURES_SELECTED]\n",
    "    # drop nans\n",
    "    selected_features = selected_features.dropna()\n",
    "    \n",
    "    all_features.append(selected_features)\n",
    "    \n",
    "all_features = pd.concat(all_features, axis=0)\n",
    "\n",
    "# Standardize feature-wise\n",
    "all_features = (all_features - all_features.mean()) / all_features.std()\n",
    "all_features"
   ],
   "metadata": {
    "collapsed": false,
    "ExecuteTime": {
     "end_time": "2024-06-01T12:16:55.503025Z",
     "start_time": "2024-06-01T12:16:48.903748Z"
    }
   },
   "id": "c0a8e0f67e1331ce",
   "execution_count": 8
  },
  {
   "cell_type": "code",
   "outputs": [
    {
     "data": {
      "text/plain": "    Spectral#RelativePower#C3#beta1  Spectral#EdgeFrequency#C3#beta3  \\\n1                         -0.813540                         1.606738   \n2                         -0.033664                        -0.317543   \n3                         -1.154445                         1.882797   \n4                         -1.254234                         0.575753   \n5                          0.264062                        -0.506197   \n..                              ...                              ...   \n84                        -0.874233                        -0.635686   \n85                        -1.216882                        -0.405034   \n86                        -1.020571                         1.741321   \n87                         0.302367                         0.288400   \n88                         0.370949                        -2.173986   \n\n    Spectral#RelativePower#C3#gamma  Spectral#EdgeFrequency#C4#alpha1  \\\n1                          0.154111                         -0.857721   \n2                         -0.107550                         -0.755139   \n3                         -1.021495                         -0.156794   \n4                          1.226954                         -1.752483   \n5                         -0.006203                         -0.949357   \n..                              ...                               ...   \n84                        -0.799761                         -0.827392   \n85                         0.499358                         -1.230161   \n86                         1.401623                          1.103438   \n87                        -0.719455                          0.131978   \n88                        -0.613257                          0.521504   \n\n    Spectral#RelativePower#C4#beta3  Spectral#EdgeFrequency#C4#beta3  \\\n1                          0.224815                         2.238438   \n2                          0.054987                        -0.460885   \n3                         -1.424255                         1.109195   \n4                         -1.211657                         0.546614   \n5                         -0.670891                        -1.167200   \n..                              ...                              ...   \n84                        -0.747147                        -0.713339   \n85                         0.148454                         0.570244   \n86                        -0.215066                         1.004956   \n87                         0.507717                         0.007470   \n88                         0.501458                        -2.012773   \n\n    Spectral#EdgeFrequency#C4#gamma  Spectral#Flatness#Cz#theta  \\\n1                         -0.563627                    0.006231   \n2                         -0.601328                   -0.794429   \n3                         -1.062432                    0.607385   \n4                          1.594436                    0.395285   \n5                         -0.220373                    0.847810   \n..                              ...                         ...   \n84                         0.348795                   -0.810643   \n85                         1.234056                    0.166869   \n86                         0.780630                   -0.710866   \n87                        -0.996035                    0.105071   \n88                        -1.430434                    0.532734   \n\n    Spectral#PeakFrequency#Cz#theta  Spectral#EdgeFrequency#Cz#beta3  ...  \\\n1                         -1.273021                         2.837764  ...   \n2                          1.604787                        -1.053052  ...   \n3                          0.488660                         1.143272  ...   \n4                         -0.244770                        -0.485500  ...   \n5                         -0.200759                        -0.678013  ...   \n..                              ...                              ...  ...   \n84                         0.005818                        -1.090546  ...   \n85                        -0.348934                        -1.246781  ...   \n86                         0.724228                         0.148072  ...   \n87                        -1.449900                         0.798103  ...   \n88                        -0.199177                         1.066820  ...   \n\n    COH#Frontal(R)-Occipital(L)#beta2  COH#Frontal(L)-Temporal(R)#beta3  \\\n1                            0.904929                         -0.566126   \n2                            0.563426                          0.601700   \n3                            0.226215                         -0.359557   \n4                           -2.080761                         -1.847199   \n5                           -0.077441                         -0.331272   \n..                                ...                               ...   \n84                          -0.664410                          1.730351   \n85                          -1.029708                         -1.198789   \n86                          -1.529124                         -0.332736   \n87                           0.246648                          0.429508   \n88                           2.363948                          0.451479   \n\n    COH#Frontal(L)-Parietal(L)#beta3  COH#Frontal(L)-Occipital(L)#beta3  \\\n1                           0.054189                           0.948733   \n2                          -0.093774                           0.539566   \n3                          -1.332807                          -0.378067   \n4                          -1.730998                          -1.954706   \n5                           1.248903                          -0.064808   \n..                               ...                                ...   \n84                         -0.924681                           0.929126   \n85                          1.185661                          -1.218323   \n86                          3.896433                          -1.487516   \n87                          1.992853                           1.758692   \n88                         -0.121638                           1.585214   \n\n    COH#Frontal(L)-Occipital(R)#beta3  COH#Frontal(R)-Occipital(L)#beta3  \\\n1                            0.610158                           1.021883   \n2                            0.506951                          -0.515592   \n3                           -0.107204                           0.086134   \n4                           -1.716702                          -1.506039   \n5                            0.764413                          -0.614033   \n..                                ...                                ...   \n84                           0.392679                          -0.255394   \n85                          -0.997000                          -1.044695   \n86                          -0.717636                          -1.555355   \n87                           1.907005                           0.053669   \n88                           0.849864                           1.400458   \n\n    COH#Temporal(L)-Occipital(R)#beta3  COH#Frontal(L)-Occipital(R)#gamma  \\\n1                             1.518036                           0.652578   \n2                             0.364257                          -0.011330   \n3                            -0.532508                          -0.197294   \n4                            -0.281655                          -1.508070   \n5                            -0.657505                           1.279856   \n..                                 ...                                ...   \n84                           -0.874653                           0.301673   \n85                            0.916055                          -0.999309   \n86                            0.556569                          -0.383834   \n87                           -2.005538                           1.547752   \n88                           -0.343720                           1.319621   \n\n    COH#Frontal(R)-Occipital(R)#gamma  target  \n1                            0.466059      16  \n2                           -1.231515      22  \n3                            0.132320      14  \n4                           -1.385533      20  \n5                            0.173993      22  \n..                                ...     ...  \n84                           0.087385      24  \n85                          -1.351405      26  \n86                          -1.210385      26  \n87                           0.206318      24  \n88                           0.046993      24  \n\n[88 rows x 81 columns]",
      "text/html": "<div>\n<style scoped>\n    .dataframe tbody tr th:only-of-type {\n        vertical-align: middle;\n    }\n\n    .dataframe tbody tr th {\n        vertical-align: top;\n    }\n\n    .dataframe thead th {\n        text-align: right;\n    }\n</style>\n<table border=\"1\" class=\"dataframe\">\n  <thead>\n    <tr style=\"text-align: right;\">\n      <th></th>\n      <th>Spectral#RelativePower#C3#beta1</th>\n      <th>Spectral#EdgeFrequency#C3#beta3</th>\n      <th>Spectral#RelativePower#C3#gamma</th>\n      <th>Spectral#EdgeFrequency#C4#alpha1</th>\n      <th>Spectral#RelativePower#C4#beta3</th>\n      <th>Spectral#EdgeFrequency#C4#beta3</th>\n      <th>Spectral#EdgeFrequency#C4#gamma</th>\n      <th>Spectral#Flatness#Cz#theta</th>\n      <th>Spectral#PeakFrequency#Cz#theta</th>\n      <th>Spectral#EdgeFrequency#Cz#beta3</th>\n      <th>...</th>\n      <th>COH#Frontal(R)-Occipital(L)#beta2</th>\n      <th>COH#Frontal(L)-Temporal(R)#beta3</th>\n      <th>COH#Frontal(L)-Parietal(L)#beta3</th>\n      <th>COH#Frontal(L)-Occipital(L)#beta3</th>\n      <th>COH#Frontal(L)-Occipital(R)#beta3</th>\n      <th>COH#Frontal(R)-Occipital(L)#beta3</th>\n      <th>COH#Temporal(L)-Occipital(R)#beta3</th>\n      <th>COH#Frontal(L)-Occipital(R)#gamma</th>\n      <th>COH#Frontal(R)-Occipital(R)#gamma</th>\n      <th>target</th>\n    </tr>\n  </thead>\n  <tbody>\n    <tr>\n      <th>1</th>\n      <td>-0.813540</td>\n      <td>1.606738</td>\n      <td>0.154111</td>\n      <td>-0.857721</td>\n      <td>0.224815</td>\n      <td>2.238438</td>\n      <td>-0.563627</td>\n      <td>0.006231</td>\n      <td>-1.273021</td>\n      <td>2.837764</td>\n      <td>...</td>\n      <td>0.904929</td>\n      <td>-0.566126</td>\n      <td>0.054189</td>\n      <td>0.948733</td>\n      <td>0.610158</td>\n      <td>1.021883</td>\n      <td>1.518036</td>\n      <td>0.652578</td>\n      <td>0.466059</td>\n      <td>16</td>\n    </tr>\n    <tr>\n      <th>2</th>\n      <td>-0.033664</td>\n      <td>-0.317543</td>\n      <td>-0.107550</td>\n      <td>-0.755139</td>\n      <td>0.054987</td>\n      <td>-0.460885</td>\n      <td>-0.601328</td>\n      <td>-0.794429</td>\n      <td>1.604787</td>\n      <td>-1.053052</td>\n      <td>...</td>\n      <td>0.563426</td>\n      <td>0.601700</td>\n      <td>-0.093774</td>\n      <td>0.539566</td>\n      <td>0.506951</td>\n      <td>-0.515592</td>\n      <td>0.364257</td>\n      <td>-0.011330</td>\n      <td>-1.231515</td>\n      <td>22</td>\n    </tr>\n    <tr>\n      <th>3</th>\n      <td>-1.154445</td>\n      <td>1.882797</td>\n      <td>-1.021495</td>\n      <td>-0.156794</td>\n      <td>-1.424255</td>\n      <td>1.109195</td>\n      <td>-1.062432</td>\n      <td>0.607385</td>\n      <td>0.488660</td>\n      <td>1.143272</td>\n      <td>...</td>\n      <td>0.226215</td>\n      <td>-0.359557</td>\n      <td>-1.332807</td>\n      <td>-0.378067</td>\n      <td>-0.107204</td>\n      <td>0.086134</td>\n      <td>-0.532508</td>\n      <td>-0.197294</td>\n      <td>0.132320</td>\n      <td>14</td>\n    </tr>\n    <tr>\n      <th>4</th>\n      <td>-1.254234</td>\n      <td>0.575753</td>\n      <td>1.226954</td>\n      <td>-1.752483</td>\n      <td>-1.211657</td>\n      <td>0.546614</td>\n      <td>1.594436</td>\n      <td>0.395285</td>\n      <td>-0.244770</td>\n      <td>-0.485500</td>\n      <td>...</td>\n      <td>-2.080761</td>\n      <td>-1.847199</td>\n      <td>-1.730998</td>\n      <td>-1.954706</td>\n      <td>-1.716702</td>\n      <td>-1.506039</td>\n      <td>-0.281655</td>\n      <td>-1.508070</td>\n      <td>-1.385533</td>\n      <td>20</td>\n    </tr>\n    <tr>\n      <th>5</th>\n      <td>0.264062</td>\n      <td>-0.506197</td>\n      <td>-0.006203</td>\n      <td>-0.949357</td>\n      <td>-0.670891</td>\n      <td>-1.167200</td>\n      <td>-0.220373</td>\n      <td>0.847810</td>\n      <td>-0.200759</td>\n      <td>-0.678013</td>\n      <td>...</td>\n      <td>-0.077441</td>\n      <td>-0.331272</td>\n      <td>1.248903</td>\n      <td>-0.064808</td>\n      <td>0.764413</td>\n      <td>-0.614033</td>\n      <td>-0.657505</td>\n      <td>1.279856</td>\n      <td>0.173993</td>\n      <td>22</td>\n    </tr>\n    <tr>\n      <th>...</th>\n      <td>...</td>\n      <td>...</td>\n      <td>...</td>\n      <td>...</td>\n      <td>...</td>\n      <td>...</td>\n      <td>...</td>\n      <td>...</td>\n      <td>...</td>\n      <td>...</td>\n      <td>...</td>\n      <td>...</td>\n      <td>...</td>\n      <td>...</td>\n      <td>...</td>\n      <td>...</td>\n      <td>...</td>\n      <td>...</td>\n      <td>...</td>\n      <td>...</td>\n      <td>...</td>\n    </tr>\n    <tr>\n      <th>84</th>\n      <td>-0.874233</td>\n      <td>-0.635686</td>\n      <td>-0.799761</td>\n      <td>-0.827392</td>\n      <td>-0.747147</td>\n      <td>-0.713339</td>\n      <td>0.348795</td>\n      <td>-0.810643</td>\n      <td>0.005818</td>\n      <td>-1.090546</td>\n      <td>...</td>\n      <td>-0.664410</td>\n      <td>1.730351</td>\n      <td>-0.924681</td>\n      <td>0.929126</td>\n      <td>0.392679</td>\n      <td>-0.255394</td>\n      <td>-0.874653</td>\n      <td>0.301673</td>\n      <td>0.087385</td>\n      <td>24</td>\n    </tr>\n    <tr>\n      <th>85</th>\n      <td>-1.216882</td>\n      <td>-0.405034</td>\n      <td>0.499358</td>\n      <td>-1.230161</td>\n      <td>0.148454</td>\n      <td>0.570244</td>\n      <td>1.234056</td>\n      <td>0.166869</td>\n      <td>-0.348934</td>\n      <td>-1.246781</td>\n      <td>...</td>\n      <td>-1.029708</td>\n      <td>-1.198789</td>\n      <td>1.185661</td>\n      <td>-1.218323</td>\n      <td>-0.997000</td>\n      <td>-1.044695</td>\n      <td>0.916055</td>\n      <td>-0.999309</td>\n      <td>-1.351405</td>\n      <td>26</td>\n    </tr>\n    <tr>\n      <th>86</th>\n      <td>-1.020571</td>\n      <td>1.741321</td>\n      <td>1.401623</td>\n      <td>1.103438</td>\n      <td>-0.215066</td>\n      <td>1.004956</td>\n      <td>0.780630</td>\n      <td>-0.710866</td>\n      <td>0.724228</td>\n      <td>0.148072</td>\n      <td>...</td>\n      <td>-1.529124</td>\n      <td>-0.332736</td>\n      <td>3.896433</td>\n      <td>-1.487516</td>\n      <td>-0.717636</td>\n      <td>-1.555355</td>\n      <td>0.556569</td>\n      <td>-0.383834</td>\n      <td>-1.210385</td>\n      <td>26</td>\n    </tr>\n    <tr>\n      <th>87</th>\n      <td>0.302367</td>\n      <td>0.288400</td>\n      <td>-0.719455</td>\n      <td>0.131978</td>\n      <td>0.507717</td>\n      <td>0.007470</td>\n      <td>-0.996035</td>\n      <td>0.105071</td>\n      <td>-1.449900</td>\n      <td>0.798103</td>\n      <td>...</td>\n      <td>0.246648</td>\n      <td>0.429508</td>\n      <td>1.992853</td>\n      <td>1.758692</td>\n      <td>1.907005</td>\n      <td>0.053669</td>\n      <td>-2.005538</td>\n      <td>1.547752</td>\n      <td>0.206318</td>\n      <td>24</td>\n    </tr>\n    <tr>\n      <th>88</th>\n      <td>0.370949</td>\n      <td>-2.173986</td>\n      <td>-0.613257</td>\n      <td>0.521504</td>\n      <td>0.501458</td>\n      <td>-2.012773</td>\n      <td>-1.430434</td>\n      <td>0.532734</td>\n      <td>-0.199177</td>\n      <td>1.066820</td>\n      <td>...</td>\n      <td>2.363948</td>\n      <td>0.451479</td>\n      <td>-0.121638</td>\n      <td>1.585214</td>\n      <td>0.849864</td>\n      <td>1.400458</td>\n      <td>-0.343720</td>\n      <td>1.319621</td>\n      <td>0.046993</td>\n      <td>24</td>\n    </tr>\n  </tbody>\n</table>\n<p>88 rows × 81 columns</p>\n</div>"
     },
     "execution_count": 9,
     "metadata": {},
     "output_type": "execute_result"
    }
   ],
   "source": [
    "# Append target column\n",
    "all_features['target'] = all_targets['MMSE']\n",
    "all_features"
   ],
   "metadata": {
    "collapsed": false,
    "ExecuteTime": {
     "end_time": "2024-06-01T12:16:55.512082Z",
     "start_time": "2024-06-01T12:16:55.508357Z"
    }
   },
   "id": "3f849708789c5c12",
   "execution_count": 9
  },
  {
   "cell_type": "code",
   "outputs": [
    {
     "name": "stderr",
     "output_type": "stream",
     "text": [
      "dist_matrix: 100%|##########| 8/8 [00:00<00:00, 300.44it/s]\n",
      "synth_matrix: 100%|##########| 8/8 [00:00<00:00, 54.19it/s]\n",
      "r_index: 100%|##########| 4/4 [00:00<00:00, 220.78it/s]\n"
     ]
    },
    {
     "data": {
      "text/plain": "1     16.0\n2     22.0\n3     14.0\n4     20.0\n6     14.0\n      ... \n31    17.0\n32    17.0\n33     3.0\n34    22.0\n35    30.0\nName: target, Length: 80, dtype: float64"
     },
     "execution_count": 14,
     "metadata": {},
     "output_type": "execute_result"
    }
   ],
   "source": [
    "# Apply SMOTE-R to balance the dataset\n",
    "import smogn\n",
    "\n",
    "# Apply SMOGN to balance the dataset\n",
    "balanced_data = smogn.smoter(\n",
    "    data = all_features, \n",
    "    y = 'target'\n",
    ")\n",
    "balanced_data_targets = balanced_data['target']\n",
    "balanced_data_targets\n"
   ],
   "metadata": {
    "collapsed": false,
    "ExecuteTime": {
     "end_time": "2024-06-01T12:23:45.674185Z",
     "start_time": "2024-06-01T12:23:45.428088Z"
    }
   },
   "id": "ed61fa2adad7f826",
   "execution_count": 14
  },
  {
   "cell_type": "code",
   "outputs": [
    {
     "data": {
      "text/plain": "<Figure size 432x288 with 1 Axes>",
      "image/png": "[encoded data removed]"
     },
     "metadata": {
      "needs_background": "light"
     },
     "output_type": "display_data"
    },
    {
     "data": {
      "text/plain": "<Figure size 432x288 with 1 Axes>",
      "image/png": "[encoded data removed]"
     },
     "metadata": {
      "needs_background": "light"
     },
     "output_type": "display_data"
    }
   ],
   "source": [
    "# Plot target distribution before and after\n",
    "import matplotlib.pyplot as plt\n",
    "\n",
    "plt.hist(all_features['target'], bins=30)\n",
    "plt.title(\"Before\")\n",
    "plt.ylim((0, 30))\n",
    "plt.show()\n",
    "\n",
    "plt.hist(balanced_data_targets, bins=30)\n",
    "plt.title(\"After\")\n",
    "plt.ylim((0, 30))\n",
    "plt.show()"
   ],
   "metadata": {
    "collapsed": false,
    "ExecuteTime": {
     "end_time": "2024-06-01T12:25:51.647045Z",
     "start_time": "2024-06-01T12:25:51.543991Z"
    }
   },
   "id": "e55272f190f4fbc7",
   "execution_count": 20
  },
  {
   "cell_type": "code",
   "outputs": [],
   "source": [],
   "metadata": {
    "collapsed": false
   },
   "id": "2b5cc5b05cb02f8b"
  }
 ],
 "metadata": {
  "kernelspec": {
   "display_name": "Python 3",
   "language": "python",
   "name": "python3"
  },
  "language_info": {
   "codemirror_mode": {
    "name": "ipython",
    "version": 2
   },
   "file_extension": ".py",
   "mimetype": "text/x-python",
   "name": "python",
   "nbconvert_exporter": "python",
   "pygments_lexer": "ipython2",
   "version": "2.7.6"
  }
 },
 "nbformat": 4,
 "nbformat_minor": 5
}
