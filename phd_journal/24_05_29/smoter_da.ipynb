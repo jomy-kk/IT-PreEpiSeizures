{
 "cells": [
  {
   "cell_type": "code",
   "execution_count": 3,
   "id": "initial_id",
   "metadata": {
    "collapsed": true,
    "ExecuteTime": {
     "end_time": "2024-06-01T12:16:47.778141Z",
     "start_time": "2024-06-01T12:16:47.529220Z"
    }
   },
   "source": [
    "from glob import glob\n",
    "from os.path import join\n",
    "import pandas as pd\n",
    "import numpy as np"
   ],
   "outputs": []
  },
  {
   "cell_type": "code",
   "source": [
    "common_path = '/Volumes/MMIS-Saraiv/Datasets/Miltiadous Dataset/features'\n",
    "all_directories = glob(join(common_path, '*'))\n",
    "all_directories = [directory for directory in all_directories if not directory.endswith('.csv')]"
   ],
   "metadata": {
    "collapsed": false,
    "ExecuteTime": {
     "end_time": "2024-06-01T12:16:47.785903Z",
     "start_time": "2024-06-01T12:16:47.779423Z"
    }
   },
   "id": "bc4f10c251948d64",
   "execution_count": 4,
   "outputs": []
  },
  {
   "cell_type": "code",
   "source": [
    "FEATURES_SELECTED = ['Spectral#RelativePower#C3#beta1', 'Spectral#EdgeFrequency#C3#beta3', 'Spectral#RelativePower#C3#gamma', 'Spectral#EdgeFrequency#C4#alpha1', 'Spectral#RelativePower#C4#beta3', 'Spectral#EdgeFrequency#C4#beta3', 'Spectral#EdgeFrequency#C4#gamma', 'Spectral#Flatness#Cz#theta', 'Spectral#PeakFrequency#Cz#theta', 'Spectral#EdgeFrequency#Cz#beta3', 'Spectral#EdgeFrequency#Cz#gamma', 'Spectral#PeakFrequency#Cz#gamma', 'Spectral#RelativePower#F3#beta1', 'Spectral#Diff#F4#delta', 'Spectral#RelativePower#F7#beta3', 'Spectral#EdgeFrequency#F7#beta3', 'Spectral#RelativePower#F7#gamma', 'Spectral#RelativePower#F8#beta1', 'Spectral#EdgeFrequency#F8#beta3', 'Spectral#RelativePower#Fp1#beta1', 'Spectral#EdgeFrequency#Fp1#beta3', 'Spectral#Diff#Fp2#delta', 'Spectral#RelativePower#Fp2#beta1', 'Spectral#RelativePower#Fp2#beta3', 'Spectral#Diff#Fpz#beta2', 'Spectral#Entropy#O1#delta', 'Spectral#RelativePower#O1#beta2', 'Spectral#EdgeFrequency#O1#beta2', 'Spectral#EdgeFrequency#O1#beta3', 'Spectral#RelativePower#O2#delta', 'Spectral#PeakFrequency#O2#alpha1', 'Spectral#RelativePower#O2#beta1', 'Spectral#RelativePower#O2#beta3', 'Spectral#Diff#P3#beta1', 'Spectral#RelativePower#P3#beta3', 'Spectral#RelativePower#Pz#alpha1', 'Spectral#EdgeFrequency#Pz#beta3', 'Spectral#RelativePower#T4#alpha1', 'Spectral#RelativePower#T4#beta3', 'Spectral#RelativePower#T4#gamma', 'Spectral#EdgeFrequency#T5#beta2', 'Hjorth#Complexity#T5', 'Hjorth#Complexity#P4', 'Hjorth#Complexity#F7', 'Hjorth#Complexity#T4', 'Hjorth#Complexity#F8', 'Hjorth#Complexity#T3', 'Hjorth#Mobility#P3', 'PLI#Frontal(L)-Temporal(R)#alpha1', 'PLI#Frontal(L)-Occipital(L)#alpha1', 'PLI#Frontal(R)-Temporal(R)#alpha1', 'PLI#Temporal(R)-Parietal(R)#alpha1', 'PLI#Temporal(R)-Occipital(L)#alpha1', 'PLI#Parietal(R)-Occipital(L)#alpha1', 'PLI#Occipital(L)-Occipital(R)#alpha1', 'PLI#Temporal(R)-Occipital(R)#alpha2', 'PLI#Parietal(R)-Occipital(L)#alpha2', 'COH#Frontal(L)-Frontal(R)#theta', 'COH#Frontal(L)-Occipital(L)#theta', 'COH#Frontal(L)-Occipital(R)#alpha1', 'COH#Frontal(R)-Occipital(L)#alpha1', 'COH#Parietal(R)-Occipital(L)#alpha1', 'COH#Frontal(L)-Frontal(R)#alpha2', 'COH#Frontal(L)-Occipital(R)#alpha2', 'COH#Parietal(R)-Occipital(L)#alpha2', 'COH#Parietal(R)-Occipital(R)#alpha2', 'COH#Occipital(L)-Occipital(R)#alpha2', 'COH#Frontal(L)-Occipital(L)#beta1', 'COH#Temporal(R)-Parietal(R)#beta1', 'COH#Parietal(R)-Occipital(R)#beta1', 'COH#Frontal(L)-Parietal(L)#beta2', 'COH#Frontal(R)-Occipital(L)#beta2', 'COH#Frontal(L)-Temporal(R)#beta3', 'COH#Frontal(L)-Parietal(L)#beta3', 'COH#Frontal(L)-Occipital(L)#beta3', 'COH#Frontal(L)-Occipital(R)#beta3', 'COH#Frontal(R)-Occipital(L)#beta3', 'COH#Temporal(L)-Occipital(R)#beta3', 'COH#Frontal(L)-Occipital(R)#gamma', 'COH#Frontal(R)-Occipital(R)#gamma']\n"
   ],
   "metadata": {
    "collapsed": false,
    "ExecuteTime": {
     "end_time": "2024-06-01T12:16:47.974022Z",
     "start_time": "2024-06-01T12:16:47.968913Z"
    }
   },
   "id": "4cca7eabc6f58643",
   "execution_count": 5,
   "outputs": []
  },
  {
   "cell_type": "code",
   "source": [
    "underrepresented_targets = [4, 6, 9]"
   ],
   "metadata": {
    "collapsed": false,
    "ExecuteTime": {
     "end_time": "2024-06-01T12:16:48.195057Z",
     "start_time": "2024-06-01T12:16:48.191632Z"
    }
   },
   "id": "7285056c63a64eb8",
   "execution_count": 6,
   "outputs": []
  },
  {
   "cell_type": "code",
   "source": [
    "# Read all targets\n",
    "all_targets = pd.read_csv('/Volumes/MMIS-Saraiv/Datasets/Miltiadous Dataset/participants.tsv', index_col=0, sep='\\t')\n",
    "# Remove \"sub-\" from the index and make them integers\n",
    "all_targets.index = all_targets.index.str.replace('sub-', '')\n",
    "all_targets.index = all_targets.index.astype(int)\n",
    "all_targets"
   ],
   "metadata": {
    "collapsed": false,
    "ExecuteTime": {
     "end_time": "2024-06-01T12:16:48.903553Z",
     "start_time": "2024-06-01T12:16:48.515337Z"
    }
   },
   "id": "50d1dac4b96b09f5",
   "execution_count": 7,
   "outputs": []
  },
  {
   "cell_type": "code",
   "source": [
    "# Read all and standardize\n",
    "all_features = []\n",
    "for subject_path in all_directories:\n",
    "    subject = subject_path.split('/')[-1]\n",
    "        \n",
    "    # Get feature files\n",
    "    all_files = glob(join(subject_path, '*.csv'))\n",
    "    # remove all files that have \"Multiple\" in their name\n",
    "    all_files = [file for file in all_files if 'Multiple' not in file]\n",
    "    # Read them all\n",
    "    all_data = [pd.read_csv(file, index_col=0) for file in all_files]\n",
    "    # FIX: the spectral data has a different index\n",
    "    for data in all_data:\n",
    "        if 'Spectral' in data.columns[0]:\n",
    "            data.index = [int(subject),]\n",
    "    # Concatenate all their columns in a single DataFrame\n",
    "    all_data = pd.concat(all_data, axis=1)\n",
    "    # Keep only selected features\n",
    "    selected_features = all_data[FEATURES_SELECTED]\n",
    "    # drop nans\n",
    "    selected_features = selected_features.dropna()\n",
    "    \n",
    "    all_features.append(selected_features)\n",
    "    \n",
    "all_features = pd.concat(all_features, axis=0)\n",
    "\n",
    "# Standardize feature-wise\n",
    "all_features = (all_features - all_features.mean()) / all_features.std()\n",
    "all_features"
   ],
   "metadata": {
    "collapsed": false,
    "ExecuteTime": {
     "end_time": "2024-06-01T12:16:55.503025Z",
     "start_time": "2024-06-01T12:16:48.903748Z"
    }
   },
   "id": "c0a8e0f67e1331ce",
   "execution_count": 8,
   "outputs": []
  },
  {
   "cell_type": "code",
   "source": [
    "# Append target column\n",
    "all_features['target'] = all_targets['MMSE']\n",
    "all_features"
   ],
   "metadata": {
    "collapsed": false,
    "ExecuteTime": {
     "end_time": "2024-06-01T12:16:55.512082Z",
     "start_time": "2024-06-01T12:16:55.508357Z"
    }
   },
   "id": "3f849708789c5c12",
   "execution_count": 9,
   "outputs": []
  },
  {
   "cell_type": "code",
   "source": [
    "# Apply SMOTE-R to balance the dataset\n",
    "import smogn\n",
    "\n",
    "# Apply SMOGN to balance the dataset\n",
    "balanced_data = smogn.smoter(\n",
    "    data = all_features, \n",
    "    y = 'target'\n",
    ")\n",
    "balanced_data_targets = balanced_data['target']\n",
    "balanced_data_targets\n"
   ],
   "metadata": {
    "collapsed": false,
    "ExecuteTime": {
     "end_time": "2024-06-01T12:23:45.674185Z",
     "start_time": "2024-06-01T12:23:45.428088Z"
    }
   },
   "id": "ed61fa2adad7f826",
   "execution_count": 14,
   "outputs": []
  },
  {
   "cell_type": "code",
   "source": [
    "# Plot target distribution before and after\n",
    "import matplotlib.pyplot as plt\n",
    "\n",
    "plt.hist(all_features['target'], bins=30)\n",
    "plt.title(\"Before\")\n",
    "plt.ylim((0, 30))\n",
    "plt.show()\n",
    "\n",
    "plt.hist(balanced_data_targets, bins=30)\n",
    "plt.title(\"After\")\n",
    "plt.ylim((0, 30))\n",
    "plt.show()"
   ],
   "metadata": {
    "collapsed": false,
    "ExecuteTime": {
     "end_time": "2024-06-01T12:25:51.647045Z",
     "start_time": "2024-06-01T12:25:51.543991Z"
    }
   },
   "id": "e55272f190f4fbc7",
   "execution_count": 20,
   "outputs": []
  },
  {
   "cell_type": "code",
   "source": [],
   "metadata": {
    "collapsed": false
   },
   "id": "2b5cc5b05cb02f8b",
   "execution_count": null,
   "outputs": []
  }
 ],
 "metadata": {
  "kernelspec": {
   "display_name": "Python 3",
   "language": "python",
   "name": "python3"
  },
  "language_info": {
   "codemirror_mode": {
    "name": "ipython",
    "version": 2
   },
   "file_extension": ".py",
   "mimetype": "text/x-python",
   "name": "python",
   "nbconvert_exporter": "python",
   "pygments_lexer": "ipython2",
   "version": "2.7.6"
  }
 },
 "nbformat": 4,
 "nbformat_minor": 5
}
