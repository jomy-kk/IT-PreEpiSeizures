{
 "cells": [
  {
   "cell_type": "code",
   "id": "initial_id",
   "metadata": {
    "collapsed": true,
    "ExecuteTime": {
     "end_time": "2024-11-26T12:35:51.909586Z",
     "start_time": "2024-11-26T12:35:51.905688Z"
    }
   },
   "source": [
    "from glob import glob\n",
    "from os.path import join, basename\n",
    "\n",
    "import pandas as pd\n",
    "import numpy as np\n",
    "from biosppy.signals.tools import welch_spectrum\n",
    "import seaborn as sns\n",
    "import matplotlib.pyplot as plt"
   ],
   "outputs": [],
   "execution_count": 8
  },
  {
   "metadata": {
    "ExecuteTime": {
     "end_time": "2024-11-26T12:35:51.926013Z",
     "start_time": "2024-11-26T12:35:51.923075Z"
    }
   },
   "cell_type": "code",
   "source": [
    "common_path = \"/Volumes/MMIS-Saraiv/Datasets/Istambul/denoised_txt_epochs\"\n",
    "#common_path = \"/Volumes/MMIS-Saraiv/Datasets/Sapienza/denoised_txt_epochs_matlab\"\n",
    "out_path = '/Volumes/MMIS-Saraiv/Datasets/Istambul/iaf_tf_my-boudaries.csv'\n",
    "sf = 128.0"
   ],
   "id": "7c37a64a692db3fe",
   "outputs": [],
   "execution_count": 9
  },
  {
   "metadata": {
    "ExecuteTime": {
     "end_time": "2024-11-26T12:35:51.934474Z",
     "start_time": "2024-11-26T12:35:51.928552Z"
    }
   },
   "cell_type": "code",
   "source": [
    "all_subjects = glob(join(common_path, '*'))\n",
    "all_subjects"
   ],
   "id": "2b72e165101177bc",
   "outputs": [
    {
     "data": {
      "text/plain": [
       "['/Volumes/MMIS-Saraiv/Datasets/Istambul/denoised_txt_epochs/alzhay1',\n",
       " '/Volumes/MMIS-Saraiv/Datasets/Istambul/denoised_txt_epochs/alzhpeh1',\n",
       " '/Volumes/MMIS-Saraiv/Datasets/Istambul/denoised_txt_epochs/alzmsap1',\n",
       " '/Volumes/MMIS-Saraiv/Datasets/Istambul/denoised_txt_epochs/d1kyil1',\n",
       " '/Volumes/MMIS-Saraiv/Datasets/Istambul/denoised_txt_epochs/eoabob1',\n",
       " '/Volumes/MMIS-Saraiv/Datasets/Istambul/denoised_txt_epochs/eocars1',\n",
       " '/Volumes/MMIS-Saraiv/Datasets/Istambul/denoised_txt_epochs/eoeakt1',\n",
       " '/Volumes/MMIS-Saraiv/Datasets/Istambul/denoised_txt_epochs/eofyil1',\n",
       " '/Volumes/MMIS-Saraiv/Datasets/Istambul/denoised_txt_epochs/eohboz1',\n",
       " '/Volumes/MMIS-Saraiv/Datasets/Istambul/denoised_txt_epochs/eoherk1',\n",
       " '/Volumes/MMIS-Saraiv/Datasets/Istambul/denoised_txt_epochs/eohuzu1',\n",
       " '/Volumes/MMIS-Saraiv/Datasets/Istambul/denoised_txt_epochs/eoibal1',\n",
       " '/Volumes/MMIS-Saraiv/Datasets/Istambul/denoised_txt_epochs/eomrus1',\n",
       " '/Volumes/MMIS-Saraiv/Datasets/Istambul/denoised_txt_epochs/eomtyil1',\n",
       " '/Volumes/MMIS-Saraiv/Datasets/Istambul/denoised_txt_epochs/eomyil1',\n",
       " '/Volumes/MMIS-Saraiv/Datasets/Istambul/denoised_txt_epochs/eosbar1',\n",
       " '/Volumes/MMIS-Saraiv/Datasets/Istambul/denoised_txt_epochs/eosber1',\n",
       " '/Volumes/MMIS-Saraiv/Datasets/Istambul/denoised_txt_epochs/eoskap1',\n",
       " '/Volumes/MMIS-Saraiv/Datasets/Istambul/denoised_txt_epochs/ergoz1',\n",
       " '/Volumes/MMIS-Saraiv/Datasets/Istambul/denoised_txt_epochs/faladar1',\n",
       " '/Volumes/MMIS-Saraiv/Datasets/Istambul/denoised_txt_epochs/falames1',\n",
       " '/Volumes/MMIS-Saraiv/Datasets/Istambul/denoised_txt_epochs/falcehl1',\n",
       " '/Volumes/MMIS-Saraiv/Datasets/Istambul/denoised_txt_epochs/falecir1',\n",
       " '/Volumes/MMIS-Saraiv/Datasets/Istambul/denoised_txt_epochs/faledev1',\n",
       " '/Volumes/MMIS-Saraiv/Datasets/Istambul/denoised_txt_epochs/falekab1',\n",
       " '/Volumes/MMIS-Saraiv/Datasets/Istambul/denoised_txt_epochs/falfsev1',\n",
       " '/Volumes/MMIS-Saraiv/Datasets/Istambul/denoised_txt_epochs/falgdon1',\n",
       " '/Volumes/MMIS-Saraiv/Datasets/Istambul/denoised_txt_epochs/falherb1',\n",
       " '/Volumes/MMIS-Saraiv/Datasets/Istambul/denoised_txt_epochs/falmasi1',\n",
       " '/Volumes/MMIS-Saraiv/Datasets/Istambul/denoised_txt_epochs/falmcek1',\n",
       " '/Volumes/MMIS-Saraiv/Datasets/Istambul/denoised_txt_epochs/falmdem1',\n",
       " '/Volumes/MMIS-Saraiv/Datasets/Istambul/denoised_txt_epochs/falmedi1',\n",
       " '/Volumes/MMIS-Saraiv/Datasets/Istambul/denoised_txt_epochs/falmgun1',\n",
       " '/Volumes/MMIS-Saraiv/Datasets/Istambul/denoised_txt_epochs/falmozb1',\n",
       " '/Volumes/MMIS-Saraiv/Datasets/Istambul/denoised_txt_epochs/falmyil1',\n",
       " '/Volumes/MMIS-Saraiv/Datasets/Istambul/denoised_txt_epochs/falnpos1',\n",
       " '/Volumes/MMIS-Saraiv/Datasets/Istambul/denoised_txt_epochs/falnsad1',\n",
       " '/Volumes/MMIS-Saraiv/Datasets/Istambul/denoised_txt_epochs/falnsez1',\n",
       " '/Volumes/MMIS-Saraiv/Datasets/Istambul/denoised_txt_epochs/faloero1',\n",
       " '/Volumes/MMIS-Saraiv/Datasets/Istambul/denoised_txt_epochs/falrakk1',\n",
       " '/Volumes/MMIS-Saraiv/Datasets/Istambul/denoised_txt_epochs/falscan1',\n",
       " '/Volumes/MMIS-Saraiv/Datasets/Istambul/denoised_txt_epochs/falserg1',\n",
       " '/Volumes/MMIS-Saraiv/Datasets/Istambul/denoised_txt_epochs/falsgul1',\n",
       " '/Volumes/MMIS-Saraiv/Datasets/Istambul/denoised_txt_epochs/falskar1',\n",
       " '/Volumes/MMIS-Saraiv/Datasets/Istambul/denoised_txt_epochs/falssah1',\n",
       " '/Volumes/MMIS-Saraiv/Datasets/Istambul/denoised_txt_epochs/faltkar1',\n",
       " '/Volumes/MMIS-Saraiv/Datasets/Istambul/denoised_txt_epochs/falyakd1',\n",
       " '/Volumes/MMIS-Saraiv/Datasets/Istambul/denoised_txt_epochs/falyedi1',\n",
       " '/Volumes/MMIS-Saraiv/Datasets/Istambul/denoised_txt_epochs/falymem1',\n",
       " '/Volumes/MMIS-Saraiv/Datasets/Istambul/denoised_txt_epochs/falzbil1',\n",
       " '/Volumes/MMIS-Saraiv/Datasets/Istambul/denoised_txt_epochs/falzsah1',\n",
       " '/Volumes/MMIS-Saraiv/Datasets/Istambul/denoised_txt_epochs/falzzsag1',\n",
       " '/Volumes/MMIS-Saraiv/Datasets/Istambul/denoised_txt_epochs/feabek1',\n",
       " '/Volumes/MMIS-Saraiv/Datasets/Istambul/denoised_txt_epochs/febuyig1',\n",
       " '/Volumes/MMIS-Saraiv/Datasets/Istambul/denoised_txt_epochs/febyig1',\n",
       " '/Volumes/MMIS-Saraiv/Datasets/Istambul/denoised_txt_epochs/femdal1',\n",
       " '/Volumes/MMIS-Saraiv/Datasets/Istambul/denoised_txt_epochs/femkar1',\n",
       " '/Volumes/MMIS-Saraiv/Datasets/Istambul/denoised_txt_epochs/fesbek1',\n",
       " '/Volumes/MMIS-Saraiv/Datasets/Istambul/denoised_txt_epochs/feykar1',\n",
       " '/Volumes/MMIS-Saraiv/Datasets/Istambul/denoised_txt_epochs/fhegsag1',\n",
       " '/Volumes/MMIS-Saraiv/Datasets/Istambul/denoised_txt_epochs/fhhel1',\n",
       " '/Volumes/MMIS-Saraiv/Datasets/Istambul/denoised_txt_epochs/fhtun1',\n",
       " '/Volumes/MMIS-Saraiv/Datasets/Istambul/denoised_txt_epochs/fmacinata1',\n",
       " '/Volumes/MMIS-Saraiv/Datasets/Istambul/denoised_txt_epochs/fmciayil1',\n",
       " '/Volumes/MMIS-Saraiv/Datasets/Istambul/denoised_txt_epochs/fmciduzu1',\n",
       " '/Volumes/MMIS-Saraiv/Datasets/Istambul/denoised_txt_epochs/fmcifyil1',\n",
       " '/Volumes/MMIS-Saraiv/Datasets/Istambul/denoised_txt_epochs/fmcihdal1',\n",
       " '/Volumes/MMIS-Saraiv/Datasets/Istambul/denoised_txt_epochs/fmcimaky1',\n",
       " '/Volumes/MMIS-Saraiv/Datasets/Istambul/denoised_txt_epochs/fmcimtas1',\n",
       " '/Volumes/MMIS-Saraiv/Datasets/Istambul/denoised_txt_epochs/fmcinedi1',\n",
       " '/Volumes/MMIS-Saraiv/Datasets/Istambul/denoised_txt_epochs/fmciskes1',\n",
       " '/Volumes/MMIS-Saraiv/Datasets/Istambul/denoised_txt_epochs/fmcıhzek1',\n",
       " '/Volumes/MMIS-Saraiv/Datasets/Istambul/denoised_txt_epochs/fpdemryal1',\n",
       " '/Volumes/MMIS-Saraiv/Datasets/Istambul/denoised_txt_epochs/fpfdem1',\n",
       " '/Volumes/MMIS-Saraiv/Datasets/Istambul/denoised_txt_epochs/frekakt1',\n",
       " '/Volumes/MMIS-Saraiv/Datasets/Istambul/denoised_txt_epochs/ftdhaka1',\n",
       " '/Volumes/MMIS-Saraiv/Datasets/Istambul/denoised_txt_epochs/ftdnbob1',\n",
       " '/Volumes/MMIS-Saraiv/Datasets/Istambul/denoised_txt_epochs/lathusev1',\n",
       " '/Volumes/MMIS-Saraiv/Datasets/Istambul/denoised_txt_epochs/latnurkı1',\n",
       " '/Volumes/MMIS-Saraiv/Datasets/Istambul/denoised_txt_epochs/latvekul1',\n",
       " '/Volumes/MMIS-Saraiv/Datasets/Istambul/denoised_txt_epochs/paarı1',\n",
       " '/Volumes/MMIS-Saraiv/Datasets/Istambul/denoised_txt_epochs/pacik1',\n",
       " '/Volumes/MMIS-Saraiv/Datasets/Istambul/denoised_txt_epochs/pcaka',\n",
       " '/Volumes/MMIS-Saraiv/Datasets/Istambul/denoised_txt_epochs/pccak1',\n",
       " '/Volumes/MMIS-Saraiv/Datasets/Istambul/denoised_txt_epochs/pcgul1',\n",
       " '/Volumes/MMIS-Saraiv/Datasets/Istambul/denoised_txt_epochs/peakk1',\n",
       " '/Volumes/MMIS-Saraiv/Datasets/Istambul/denoised_txt_epochs/pegun1',\n",
       " '/Volumes/MMIS-Saraiv/Datasets/Istambul/denoised_txt_epochs/pfdum1',\n",
       " '/Volumes/MMIS-Saraiv/Datasets/Istambul/denoised_txt_epochs/phber1',\n",
       " '/Volumes/MMIS-Saraiv/Datasets/Istambul/denoised_txt_epochs/phbic1',\n",
       " '/Volumes/MMIS-Saraiv/Datasets/Istambul/denoised_txt_epochs/phcan1',\n",
       " '/Volumes/MMIS-Saraiv/Datasets/Istambul/denoised_txt_epochs/phcet1',\n",
       " '/Volumes/MMIS-Saraiv/Datasets/Istambul/denoised_txt_epochs/pidum1',\n",
       " '/Volumes/MMIS-Saraiv/Datasets/Istambul/denoised_txt_epochs/pisog1',\n",
       " '/Volumes/MMIS-Saraiv/Datasets/Istambul/denoised_txt_epochs/pkbay1',\n",
       " '/Volumes/MMIS-Saraiv/Datasets/Istambul/denoised_txt_epochs/pmyel11',\n",
       " '/Volumes/MMIS-Saraiv/Datasets/Istambul/denoised_txt_epochs/pnakt1',\n",
       " '/Volumes/MMIS-Saraiv/Datasets/Istambul/denoised_txt_epochs/pndon11',\n",
       " '/Volumes/MMIS-Saraiv/Datasets/Istambul/denoised_txt_epochs/pnkok1',\n",
       " '/Volumes/MMIS-Saraiv/Datasets/Istambul/denoised_txt_epochs/pnsog1',\n",
       " '/Volumes/MMIS-Saraiv/Datasets/Istambul/denoised_txt_epochs/pnusa1',\n",
       " '/Volumes/MMIS-Saraiv/Datasets/Istambul/denoised_txt_epochs/podog11',\n",
       " '/Volumes/MMIS-Saraiv/Datasets/Istambul/denoised_txt_epochs/prcav1',\n",
       " '/Volumes/MMIS-Saraiv/Datasets/Istambul/denoised_txt_epochs/prsav1',\n",
       " '/Volumes/MMIS-Saraiv/Datasets/Istambul/denoised_txt_epochs/pscak1',\n",
       " '/Volumes/MMIS-Saraiv/Datasets/Istambul/denoised_txt_epochs/psgul1',\n",
       " '/Volumes/MMIS-Saraiv/Datasets/Istambul/denoised_txt_epochs/psin1',\n",
       " '/Volumes/MMIS-Saraiv/Datasets/Istambul/denoised_txt_epochs/pspam1',\n",
       " '/Volumes/MMIS-Saraiv/Datasets/Istambul/denoised_txt_epochs/pssen1',\n",
       " '/Volumes/MMIS-Saraiv/Datasets/Istambul/denoised_txt_epochs/pssog1',\n",
       " '/Volumes/MMIS-Saraiv/Datasets/Istambul/denoised_txt_epochs/psyil1',\n",
       " '/Volumes/MMIS-Saraiv/Datasets/Istambul/denoised_txt_epochs/pukab1']"
      ]
     },
     "execution_count": 10,
     "metadata": {},
     "output_type": "execute_result"
    }
   ],
   "execution_count": 10
  },
  {
   "metadata": {
    "ExecuteTime": {
     "end_time": "2024-11-26T12:35:51.942611Z",
     "start_time": "2024-11-26T12:35:51.937828Z"
    }
   },
   "cell_type": "code",
   "source": "res = pd.DataFrame(columns=['Subject', 'IAF', 'TF'])",
   "id": "6052d105546b6657",
   "outputs": [],
   "execution_count": 11
  },
  {
   "metadata": {
    "ExecuteTime": {
     "end_time": "2024-11-26T12:36:45.198494Z",
     "start_time": "2024-11-26T12:35:51.945282Z"
    }
   },
   "cell_type": "code",
   "source": [
    "MULTIPLIER = 2\n",
    "for subject_path in all_subjects:\n",
    "    subject = basename(subject_path)\n",
    "    #subject = basename(subject_path).split('PARTICIPANT')[1]\n",
    "    print(\"Subject Code\", subject)\n",
    "    all_files = glob(join(subject_path, '*.txt'))\n",
    "    power = []\n",
    "    freqs = None\n",
    "    # go by epoch\n",
    "    for file in all_files:\n",
    "        data = pd.read_csv(file, sep='\\t', dtype=float)  # time x channels\n",
    "        # select electrodes O1 (18), Oz (19), O2 (20)\n",
    "        freqs1, power1 = welch_spectrum(data.iloc[:, 17], sampling_rate=sf, decibel=True, size=int(sf*MULTIPLIER-1))\n",
    "        freqs2, power2 = welch_spectrum(data.iloc[:, 18], sampling_rate=sf, decibel=True, size=int(sf*MULTIPLIER-1))\n",
    "        freqs3, power3 = welch_spectrum(data.iloc[:, 19], sampling_rate=sf, decibel=True, size=int(sf*MULTIPLIER-1))\n",
    "        assert np.all(freqs1 == freqs2) and np.all(freqs2 == freqs3)\n",
    "        # Average power of the three electrodes\n",
    "        power.append((power1 + power2 + power3) / 3)\n",
    "        freqs = freqs1\n",
    "    \n",
    "    # average power across epochs\n",
    "    power_avg = np.mean(np.array(power), axis=0)\n",
    "    \n",
    "    # find IAF between 8 and 14 Hz\n",
    "    iaf = freqs[np.argmax(power_avg[8*MULTIPLIER:12*MULTIPLIER]) + 8*MULTIPLIER]\n",
    "    iaf = round(iaf, 1)\n",
    "    print(\"IAF\", iaf)\n",
    "    # find TF between 3 and 8 Hz\n",
    "    tf = freqs[np.argmin(power_avg[4*MULTIPLIER:8*MULTIPLIER]) + 4*MULTIPLIER]\n",
    "    tf = round(tf, 1)\n",
    "    print(\"TF\", tf)\n",
    "    \n",
    "    # plot all psds\n",
    "    \"\"\"\n",
    "    sns.set_palette(\"husl\")\n",
    "    for p in power:\n",
    "        sns.lineplot(x=freqs[:46], y=p[:46], alpha=0.05, color='orange')\n",
    "    sns.lineplot(x=freqs[:46], y=power_avg[:46], linewidth=3, color='black')\n",
    "    plt.axvline(iaf, color='red', linestyle='--')\n",
    "    plt.axvline(tf, color='blue', linestyle='--')\n",
    "    sns.despine()\n",
    "    plt.title(\"Subject Code {}\".format(subject))\n",
    "    plt.xlabel(\"Frequency (Hz)\")\n",
    "    plt.ylabel(\"Power (dB)\")\n",
    "    plt.show()\n",
    "    \"\"\"\n",
    "    \n",
    "    res = res.append({'Subject': subject, 'IAF': iaf, 'TF': tf}, ignore_index=True)"
   ],
   "id": "b9a3811bb08b7377",
   "outputs": [
    {
     "name": "stdout",
     "output_type": "stream",
     "text": [
      "Subject Code alzhay1\n",
      "IAF 9.0\n",
      "TF 5.5\n"
     ]
    },
    {
     "name": "stderr",
     "output_type": "stream",
     "text": [
      "/var/folders/1g/sc9mrb8x18s7r9d97p9glqch0000gp/T/ipykernel_57418/1816990409.py:48: FutureWarning: The frame.append method is deprecated and will be removed from pandas in a future version. Use pandas.concat instead.\n",
      "  res = res.append({'Subject': subject, 'IAF': iaf, 'TF': tf}, ignore_index=True)\n"
     ]
    },
    {
     "name": "stdout",
     "output_type": "stream",
     "text": [
      "Subject Code alzhpeh1\n",
      "IAF 8.0\n",
      "TF 4.0\n",
      "Subject Code alzmsap1\n"
     ]
    },
    {
     "name": "stderr",
     "output_type": "stream",
     "text": [
      "/var/folders/1g/sc9mrb8x18s7r9d97p9glqch0000gp/T/ipykernel_57418/1816990409.py:48: FutureWarning: The frame.append method is deprecated and will be removed from pandas in a future version. Use pandas.concat instead.\n",
      "  res = res.append({'Subject': subject, 'IAF': iaf, 'TF': tf}, ignore_index=True)\n"
     ]
    },
    {
     "name": "stdout",
     "output_type": "stream",
     "text": [
      "IAF 8.0\n",
      "TF 7.5\n",
      "Subject Code d1kyil1\n"
     ]
    },
    {
     "name": "stderr",
     "output_type": "stream",
     "text": [
      "/var/folders/1g/sc9mrb8x18s7r9d97p9glqch0000gp/T/ipykernel_57418/1816990409.py:48: FutureWarning: The frame.append method is deprecated and will be removed from pandas in a future version. Use pandas.concat instead.\n",
      "  res = res.append({'Subject': subject, 'IAF': iaf, 'TF': tf}, ignore_index=True)\n"
     ]
    },
    {
     "name": "stdout",
     "output_type": "stream",
     "text": [
      "IAF 9.5\n",
      "TF 7.5\n",
      "Subject Code eoabob1\n"
     ]
    },
    {
     "name": "stderr",
     "output_type": "stream",
     "text": [
      "/var/folders/1g/sc9mrb8x18s7r9d97p9glqch0000gp/T/ipykernel_57418/1816990409.py:48: FutureWarning: The frame.append method is deprecated and will be removed from pandas in a future version. Use pandas.concat instead.\n",
      "  res = res.append({'Subject': subject, 'IAF': iaf, 'TF': tf}, ignore_index=True)\n"
     ]
    },
    {
     "name": "stdout",
     "output_type": "stream",
     "text": [
      "IAF 10.0\n",
      "TF 5.5\n",
      "Subject Code eocars1\n"
     ]
    },
    {
     "name": "stderr",
     "output_type": "stream",
     "text": [
      "/var/folders/1g/sc9mrb8x18s7r9d97p9glqch0000gp/T/ipykernel_57418/1816990409.py:48: FutureWarning: The frame.append method is deprecated and will be removed from pandas in a future version. Use pandas.concat instead.\n",
      "  res = res.append({'Subject': subject, 'IAF': iaf, 'TF': tf}, ignore_index=True)\n"
     ]
    },
    {
     "name": "stdout",
     "output_type": "stream",
     "text": [
      "IAF 10.0\n",
      "TF 7.5\n",
      "Subject Code eoeakt1\n"
     ]
    },
    {
     "name": "stderr",
     "output_type": "stream",
     "text": [
      "/var/folders/1g/sc9mrb8x18s7r9d97p9glqch0000gp/T/ipykernel_57418/1816990409.py:48: FutureWarning: The frame.append method is deprecated and will be removed from pandas in a future version. Use pandas.concat instead.\n",
      "  res = res.append({'Subject': subject, 'IAF': iaf, 'TF': tf}, ignore_index=True)\n"
     ]
    },
    {
     "name": "stdout",
     "output_type": "stream",
     "text": [
      "IAF 9.0\n",
      "TF 6.5\n",
      "Subject Code eofyil1\n"
     ]
    },
    {
     "name": "stderr",
     "output_type": "stream",
     "text": [
      "/var/folders/1g/sc9mrb8x18s7r9d97p9glqch0000gp/T/ipykernel_57418/1816990409.py:48: FutureWarning: The frame.append method is deprecated and will be removed from pandas in a future version. Use pandas.concat instead.\n",
      "  res = res.append({'Subject': subject, 'IAF': iaf, 'TF': tf}, ignore_index=True)\n"
     ]
    },
    {
     "name": "stdout",
     "output_type": "stream",
     "text": [
      "IAF 10.0\n",
      "TF 7.5\n",
      "Subject Code eohboz1\n"
     ]
    },
    {
     "name": "stderr",
     "output_type": "stream",
     "text": [
      "/var/folders/1g/sc9mrb8x18s7r9d97p9glqch0000gp/T/ipykernel_57418/1816990409.py:48: FutureWarning: The frame.append method is deprecated and will be removed from pandas in a future version. Use pandas.concat instead.\n",
      "  res = res.append({'Subject': subject, 'IAF': iaf, 'TF': tf}, ignore_index=True)\n"
     ]
    },
    {
     "name": "stdout",
     "output_type": "stream",
     "text": [
      "IAF 9.0\n",
      "TF 5.5\n",
      "Subject Code eoherk1\n"
     ]
    },
    {
     "name": "stderr",
     "output_type": "stream",
     "text": [
      "/var/folders/1g/sc9mrb8x18s7r9d97p9glqch0000gp/T/ipykernel_57418/1816990409.py:48: FutureWarning: The frame.append method is deprecated and will be removed from pandas in a future version. Use pandas.concat instead.\n",
      "  res = res.append({'Subject': subject, 'IAF': iaf, 'TF': tf}, ignore_index=True)\n"
     ]
    },
    {
     "name": "stdout",
     "output_type": "stream",
     "text": [
      "IAF 8.0\n",
      "TF 4.0\n",
      "Subject Code eohuzu1\n"
     ]
    },
    {
     "name": "stderr",
     "output_type": "stream",
     "text": [
      "/var/folders/1g/sc9mrb8x18s7r9d97p9glqch0000gp/T/ipykernel_57418/1816990409.py:48: FutureWarning: The frame.append method is deprecated and will be removed from pandas in a future version. Use pandas.concat instead.\n",
      "  res = res.append({'Subject': subject, 'IAF': iaf, 'TF': tf}, ignore_index=True)\n"
     ]
    },
    {
     "name": "stdout",
     "output_type": "stream",
     "text": [
      "IAF 10.0\n",
      "TF 7.0\n",
      "Subject Code eoibal1\n"
     ]
    },
    {
     "name": "stderr",
     "output_type": "stream",
     "text": [
      "/var/folders/1g/sc9mrb8x18s7r9d97p9glqch0000gp/T/ipykernel_57418/1816990409.py:48: FutureWarning: The frame.append method is deprecated and will be removed from pandas in a future version. Use pandas.concat instead.\n",
      "  res = res.append({'Subject': subject, 'IAF': iaf, 'TF': tf}, ignore_index=True)\n"
     ]
    },
    {
     "name": "stdout",
     "output_type": "stream",
     "text": [
      "IAF 9.5\n",
      "TF 7.0\n",
      "Subject Code eomrus1\n"
     ]
    },
    {
     "name": "stderr",
     "output_type": "stream",
     "text": [
      "/var/folders/1g/sc9mrb8x18s7r9d97p9glqch0000gp/T/ipykernel_57418/1816990409.py:48: FutureWarning: The frame.append method is deprecated and will be removed from pandas in a future version. Use pandas.concat instead.\n",
      "  res = res.append({'Subject': subject, 'IAF': iaf, 'TF': tf}, ignore_index=True)\n"
     ]
    },
    {
     "name": "stdout",
     "output_type": "stream",
     "text": [
      "IAF 10.5\n",
      "TF 4.5\n",
      "Subject Code eomtyil1\n"
     ]
    },
    {
     "name": "stderr",
     "output_type": "stream",
     "text": [
      "/var/folders/1g/sc9mrb8x18s7r9d97p9glqch0000gp/T/ipykernel_57418/1816990409.py:48: FutureWarning: The frame.append method is deprecated and will be removed from pandas in a future version. Use pandas.concat instead.\n",
      "  res = res.append({'Subject': subject, 'IAF': iaf, 'TF': tf}, ignore_index=True)\n"
     ]
    },
    {
     "name": "stdout",
     "output_type": "stream",
     "text": [
      "IAF 9.0\n",
      "TF 6.0\n",
      "Subject Code eomyil1\n"
     ]
    },
    {
     "name": "stderr",
     "output_type": "stream",
     "text": [
      "/var/folders/1g/sc9mrb8x18s7r9d97p9glqch0000gp/T/ipykernel_57418/1816990409.py:48: FutureWarning: The frame.append method is deprecated and will be removed from pandas in a future version. Use pandas.concat instead.\n",
      "  res = res.append({'Subject': subject, 'IAF': iaf, 'TF': tf}, ignore_index=True)\n"
     ]
    },
    {
     "name": "stdout",
     "output_type": "stream",
     "text": [
      "IAF 10.0\n",
      "TF 6.5\n",
      "Subject Code eosbar1\n"
     ]
    },
    {
     "name": "stderr",
     "output_type": "stream",
     "text": [
      "/var/folders/1g/sc9mrb8x18s7r9d97p9glqch0000gp/T/ipykernel_57418/1816990409.py:48: FutureWarning: The frame.append method is deprecated and will be removed from pandas in a future version. Use pandas.concat instead.\n",
      "  res = res.append({'Subject': subject, 'IAF': iaf, 'TF': tf}, ignore_index=True)\n"
     ]
    },
    {
     "name": "stdout",
     "output_type": "stream",
     "text": [
      "IAF 10.5\n",
      "TF 4.5\n",
      "Subject Code eosber1\n"
     ]
    },
    {
     "name": "stderr",
     "output_type": "stream",
     "text": [
      "/var/folders/1g/sc9mrb8x18s7r9d97p9glqch0000gp/T/ipykernel_57418/1816990409.py:48: FutureWarning: The frame.append method is deprecated and will be removed from pandas in a future version. Use pandas.concat instead.\n",
      "  res = res.append({'Subject': subject, 'IAF': iaf, 'TF': tf}, ignore_index=True)\n"
     ]
    },
    {
     "name": "stdout",
     "output_type": "stream",
     "text": [
      "IAF 9.0\n",
      "TF 7.5\n",
      "Subject Code eoskap1\n"
     ]
    },
    {
     "name": "stderr",
     "output_type": "stream",
     "text": [
      "/var/folders/1g/sc9mrb8x18s7r9d97p9glqch0000gp/T/ipykernel_57418/1816990409.py:48: FutureWarning: The frame.append method is deprecated and will be removed from pandas in a future version. Use pandas.concat instead.\n",
      "  res = res.append({'Subject': subject, 'IAF': iaf, 'TF': tf}, ignore_index=True)\n"
     ]
    },
    {
     "name": "stdout",
     "output_type": "stream",
     "text": [
      "IAF 8.0\n",
      "TF 4.0\n",
      "Subject Code ergoz1\n"
     ]
    },
    {
     "name": "stderr",
     "output_type": "stream",
     "text": [
      "/var/folders/1g/sc9mrb8x18s7r9d97p9glqch0000gp/T/ipykernel_57418/1816990409.py:48: FutureWarning: The frame.append method is deprecated and will be removed from pandas in a future version. Use pandas.concat instead.\n",
      "  res = res.append({'Subject': subject, 'IAF': iaf, 'TF': tf}, ignore_index=True)\n"
     ]
    },
    {
     "name": "stdout",
     "output_type": "stream",
     "text": [
      "IAF 10.5\n",
      "TF 7.5\n",
      "Subject Code faladar1\n"
     ]
    },
    {
     "name": "stderr",
     "output_type": "stream",
     "text": [
      "/var/folders/1g/sc9mrb8x18s7r9d97p9glqch0000gp/T/ipykernel_57418/1816990409.py:48: FutureWarning: The frame.append method is deprecated and will be removed from pandas in a future version. Use pandas.concat instead.\n",
      "  res = res.append({'Subject': subject, 'IAF': iaf, 'TF': tf}, ignore_index=True)\n"
     ]
    },
    {
     "name": "stdout",
     "output_type": "stream",
     "text": [
      "IAF 11.0\n",
      "TF 4.0\n",
      "Subject Code falames1\n"
     ]
    },
    {
     "name": "stderr",
     "output_type": "stream",
     "text": [
      "/var/folders/1g/sc9mrb8x18s7r9d97p9glqch0000gp/T/ipykernel_57418/1816990409.py:48: FutureWarning: The frame.append method is deprecated and will be removed from pandas in a future version. Use pandas.concat instead.\n",
      "  res = res.append({'Subject': subject, 'IAF': iaf, 'TF': tf}, ignore_index=True)\n"
     ]
    },
    {
     "name": "stdout",
     "output_type": "stream",
     "text": [
      "IAF 8.0\n",
      "TF 4.5\n",
      "Subject Code falcehl1\n"
     ]
    },
    {
     "name": "stderr",
     "output_type": "stream",
     "text": [
      "/var/folders/1g/sc9mrb8x18s7r9d97p9glqch0000gp/T/ipykernel_57418/1816990409.py:48: FutureWarning: The frame.append method is deprecated and will be removed from pandas in a future version. Use pandas.concat instead.\n",
      "  res = res.append({'Subject': subject, 'IAF': iaf, 'TF': tf}, ignore_index=True)\n"
     ]
    },
    {
     "name": "stdout",
     "output_type": "stream",
     "text": [
      "IAF 8.5\n",
      "TF 4.5\n",
      "Subject Code falecir1\n"
     ]
    },
    {
     "name": "stderr",
     "output_type": "stream",
     "text": [
      "/var/folders/1g/sc9mrb8x18s7r9d97p9glqch0000gp/T/ipykernel_57418/1816990409.py:48: FutureWarning: The frame.append method is deprecated and will be removed from pandas in a future version. Use pandas.concat instead.\n",
      "  res = res.append({'Subject': subject, 'IAF': iaf, 'TF': tf}, ignore_index=True)\n"
     ]
    },
    {
     "name": "stdout",
     "output_type": "stream",
     "text": [
      "IAF 9.0\n",
      "TF 4.0\n",
      "Subject Code faledev1\n"
     ]
    },
    {
     "name": "stderr",
     "output_type": "stream",
     "text": [
      "/var/folders/1g/sc9mrb8x18s7r9d97p9glqch0000gp/T/ipykernel_57418/1816990409.py:48: FutureWarning: The frame.append method is deprecated and will be removed from pandas in a future version. Use pandas.concat instead.\n",
      "  res = res.append({'Subject': subject, 'IAF': iaf, 'TF': tf}, ignore_index=True)\n"
     ]
    },
    {
     "name": "stdout",
     "output_type": "stream",
     "text": [
      "IAF 10.0\n",
      "TF 7.5\n",
      "Subject Code falekab1\n"
     ]
    },
    {
     "name": "stderr",
     "output_type": "stream",
     "text": [
      "/var/folders/1g/sc9mrb8x18s7r9d97p9glqch0000gp/T/ipykernel_57418/1816990409.py:48: FutureWarning: The frame.append method is deprecated and will be removed from pandas in a future version. Use pandas.concat instead.\n",
      "  res = res.append({'Subject': subject, 'IAF': iaf, 'TF': tf}, ignore_index=True)\n"
     ]
    },
    {
     "name": "stdout",
     "output_type": "stream",
     "text": [
      "IAF 10.0\n",
      "TF 4.5\n",
      "Subject Code falfsev1\n"
     ]
    },
    {
     "name": "stderr",
     "output_type": "stream",
     "text": [
      "/var/folders/1g/sc9mrb8x18s7r9d97p9glqch0000gp/T/ipykernel_57418/1816990409.py:48: FutureWarning: The frame.append method is deprecated and will be removed from pandas in a future version. Use pandas.concat instead.\n",
      "  res = res.append({'Subject': subject, 'IAF': iaf, 'TF': tf}, ignore_index=True)\n"
     ]
    },
    {
     "name": "stdout",
     "output_type": "stream",
     "text": [
      "IAF 8.5\n",
      "TF 7.5\n",
      "Subject Code falgdon1\n"
     ]
    },
    {
     "name": "stderr",
     "output_type": "stream",
     "text": [
      "/var/folders/1g/sc9mrb8x18s7r9d97p9glqch0000gp/T/ipykernel_57418/1816990409.py:48: FutureWarning: The frame.append method is deprecated and will be removed from pandas in a future version. Use pandas.concat instead.\n",
      "  res = res.append({'Subject': subject, 'IAF': iaf, 'TF': tf}, ignore_index=True)\n"
     ]
    },
    {
     "name": "stdout",
     "output_type": "stream",
     "text": [
      "IAF 9.0\n",
      "TF 4.0\n",
      "Subject Code falherb1\n"
     ]
    },
    {
     "name": "stderr",
     "output_type": "stream",
     "text": [
      "/var/folders/1g/sc9mrb8x18s7r9d97p9glqch0000gp/T/ipykernel_57418/1816990409.py:48: FutureWarning: The frame.append method is deprecated and will be removed from pandas in a future version. Use pandas.concat instead.\n",
      "  res = res.append({'Subject': subject, 'IAF': iaf, 'TF': tf}, ignore_index=True)\n"
     ]
    },
    {
     "name": "stdout",
     "output_type": "stream",
     "text": [
      "IAF 10.0\n",
      "TF 5.0\n",
      "Subject Code falmasi1\n"
     ]
    },
    {
     "name": "stderr",
     "output_type": "stream",
     "text": [
      "/var/folders/1g/sc9mrb8x18s7r9d97p9glqch0000gp/T/ipykernel_57418/1816990409.py:48: FutureWarning: The frame.append method is deprecated and will be removed from pandas in a future version. Use pandas.concat instead.\n",
      "  res = res.append({'Subject': subject, 'IAF': iaf, 'TF': tf}, ignore_index=True)\n"
     ]
    },
    {
     "name": "stdout",
     "output_type": "stream",
     "text": [
      "IAF 8.5\n",
      "TF 5.0\n",
      "Subject Code falmcek1\n"
     ]
    },
    {
     "name": "stderr",
     "output_type": "stream",
     "text": [
      "/var/folders/1g/sc9mrb8x18s7r9d97p9glqch0000gp/T/ipykernel_57418/1816990409.py:48: FutureWarning: The frame.append method is deprecated and will be removed from pandas in a future version. Use pandas.concat instead.\n",
      "  res = res.append({'Subject': subject, 'IAF': iaf, 'TF': tf}, ignore_index=True)\n"
     ]
    },
    {
     "name": "stdout",
     "output_type": "stream",
     "text": [
      "IAF 8.0\n",
      "TF 7.5\n",
      "Subject Code falmdem1\n"
     ]
    },
    {
     "name": "stderr",
     "output_type": "stream",
     "text": [
      "/var/folders/1g/sc9mrb8x18s7r9d97p9glqch0000gp/T/ipykernel_57418/1816990409.py:48: FutureWarning: The frame.append method is deprecated and will be removed from pandas in a future version. Use pandas.concat instead.\n",
      "  res = res.append({'Subject': subject, 'IAF': iaf, 'TF': tf}, ignore_index=True)\n"
     ]
    },
    {
     "name": "stdout",
     "output_type": "stream",
     "text": [
      "IAF 9.5\n",
      "TF 4.5\n",
      "Subject Code falmedi1\n"
     ]
    },
    {
     "name": "stderr",
     "output_type": "stream",
     "text": [
      "/var/folders/1g/sc9mrb8x18s7r9d97p9glqch0000gp/T/ipykernel_57418/1816990409.py:48: FutureWarning: The frame.append method is deprecated and will be removed from pandas in a future version. Use pandas.concat instead.\n",
      "  res = res.append({'Subject': subject, 'IAF': iaf, 'TF': tf}, ignore_index=True)\n"
     ]
    },
    {
     "name": "stdout",
     "output_type": "stream",
     "text": [
      "IAF 9.5\n",
      "TF 6.5\n",
      "Subject Code falmgun1\n"
     ]
    },
    {
     "name": "stderr",
     "output_type": "stream",
     "text": [
      "/var/folders/1g/sc9mrb8x18s7r9d97p9glqch0000gp/T/ipykernel_57418/1816990409.py:48: FutureWarning: The frame.append method is deprecated and will be removed from pandas in a future version. Use pandas.concat instead.\n",
      "  res = res.append({'Subject': subject, 'IAF': iaf, 'TF': tf}, ignore_index=True)\n"
     ]
    },
    {
     "name": "stdout",
     "output_type": "stream",
     "text": [
      "IAF 10.5\n",
      "TF 5.0\n",
      "Subject Code falmozb1\n"
     ]
    },
    {
     "name": "stderr",
     "output_type": "stream",
     "text": [
      "/var/folders/1g/sc9mrb8x18s7r9d97p9glqch0000gp/T/ipykernel_57418/1816990409.py:48: FutureWarning: The frame.append method is deprecated and will be removed from pandas in a future version. Use pandas.concat instead.\n",
      "  res = res.append({'Subject': subject, 'IAF': iaf, 'TF': tf}, ignore_index=True)\n"
     ]
    },
    {
     "name": "stdout",
     "output_type": "stream",
     "text": [
      "IAF 9.5\n",
      "TF 4.0\n",
      "Subject Code falmyil1\n"
     ]
    },
    {
     "name": "stderr",
     "output_type": "stream",
     "text": [
      "/var/folders/1g/sc9mrb8x18s7r9d97p9glqch0000gp/T/ipykernel_57418/1816990409.py:48: FutureWarning: The frame.append method is deprecated and will be removed from pandas in a future version. Use pandas.concat instead.\n",
      "  res = res.append({'Subject': subject, 'IAF': iaf, 'TF': tf}, ignore_index=True)\n"
     ]
    },
    {
     "name": "stdout",
     "output_type": "stream",
     "text": [
      "IAF 9.5\n",
      "TF 6.5\n",
      "Subject Code falnpos1\n"
     ]
    },
    {
     "name": "stderr",
     "output_type": "stream",
     "text": [
      "/var/folders/1g/sc9mrb8x18s7r9d97p9glqch0000gp/T/ipykernel_57418/1816990409.py:48: FutureWarning: The frame.append method is deprecated and will be removed from pandas in a future version. Use pandas.concat instead.\n",
      "  res = res.append({'Subject': subject, 'IAF': iaf, 'TF': tf}, ignore_index=True)\n"
     ]
    },
    {
     "name": "stdout",
     "output_type": "stream",
     "text": [
      "IAF 8.5\n",
      "TF 5.0\n",
      "Subject Code falnsad1\n"
     ]
    },
    {
     "name": "stderr",
     "output_type": "stream",
     "text": [
      "/var/folders/1g/sc9mrb8x18s7r9d97p9glqch0000gp/T/ipykernel_57418/1816990409.py:48: FutureWarning: The frame.append method is deprecated and will be removed from pandas in a future version. Use pandas.concat instead.\n",
      "  res = res.append({'Subject': subject, 'IAF': iaf, 'TF': tf}, ignore_index=True)\n"
     ]
    },
    {
     "name": "stdout",
     "output_type": "stream",
     "text": [
      "IAF 9.5\n",
      "TF 4.5\n",
      "Subject Code falnsez1\n"
     ]
    },
    {
     "name": "stderr",
     "output_type": "stream",
     "text": [
      "/var/folders/1g/sc9mrb8x18s7r9d97p9glqch0000gp/T/ipykernel_57418/1816990409.py:48: FutureWarning: The frame.append method is deprecated and will be removed from pandas in a future version. Use pandas.concat instead.\n",
      "  res = res.append({'Subject': subject, 'IAF': iaf, 'TF': tf}, ignore_index=True)\n"
     ]
    },
    {
     "name": "stdout",
     "output_type": "stream",
     "text": [
      "IAF 11.0\n",
      "TF 5.5\n",
      "Subject Code faloero1\n"
     ]
    },
    {
     "name": "stderr",
     "output_type": "stream",
     "text": [
      "/var/folders/1g/sc9mrb8x18s7r9d97p9glqch0000gp/T/ipykernel_57418/1816990409.py:48: FutureWarning: The frame.append method is deprecated and will be removed from pandas in a future version. Use pandas.concat instead.\n",
      "  res = res.append({'Subject': subject, 'IAF': iaf, 'TF': tf}, ignore_index=True)\n"
     ]
    },
    {
     "name": "stdout",
     "output_type": "stream",
     "text": [
      "IAF 11.0\n",
      "TF 7.0\n",
      "Subject Code falrakk1\n"
     ]
    },
    {
     "name": "stderr",
     "output_type": "stream",
     "text": [
      "/var/folders/1g/sc9mrb8x18s7r9d97p9glqch0000gp/T/ipykernel_57418/1816990409.py:48: FutureWarning: The frame.append method is deprecated and will be removed from pandas in a future version. Use pandas.concat instead.\n",
      "  res = res.append({'Subject': subject, 'IAF': iaf, 'TF': tf}, ignore_index=True)\n"
     ]
    },
    {
     "name": "stdout",
     "output_type": "stream",
     "text": [
      "IAF 8.0\n",
      "TF 4.5\n",
      "Subject Code falscan1\n"
     ]
    },
    {
     "name": "stderr",
     "output_type": "stream",
     "text": [
      "/var/folders/1g/sc9mrb8x18s7r9d97p9glqch0000gp/T/ipykernel_57418/1816990409.py:48: FutureWarning: The frame.append method is deprecated and will be removed from pandas in a future version. Use pandas.concat instead.\n",
      "  res = res.append({'Subject': subject, 'IAF': iaf, 'TF': tf}, ignore_index=True)\n"
     ]
    },
    {
     "name": "stdout",
     "output_type": "stream",
     "text": [
      "IAF 9.5\n",
      "TF 4.0\n",
      "Subject Code falserg1\n"
     ]
    },
    {
     "name": "stderr",
     "output_type": "stream",
     "text": [
      "/var/folders/1g/sc9mrb8x18s7r9d97p9glqch0000gp/T/ipykernel_57418/1816990409.py:48: FutureWarning: The frame.append method is deprecated and will be removed from pandas in a future version. Use pandas.concat instead.\n",
      "  res = res.append({'Subject': subject, 'IAF': iaf, 'TF': tf}, ignore_index=True)\n"
     ]
    },
    {
     "name": "stdout",
     "output_type": "stream",
     "text": [
      "IAF 8.0\n",
      "TF 5.5\n",
      "Subject Code falsgul1\n"
     ]
    },
    {
     "name": "stderr",
     "output_type": "stream",
     "text": [
      "/var/folders/1g/sc9mrb8x18s7r9d97p9glqch0000gp/T/ipykernel_57418/1816990409.py:48: FutureWarning: The frame.append method is deprecated and will be removed from pandas in a future version. Use pandas.concat instead.\n",
      "  res = res.append({'Subject': subject, 'IAF': iaf, 'TF': tf}, ignore_index=True)\n"
     ]
    },
    {
     "name": "stdout",
     "output_type": "stream",
     "text": [
      "IAF 10.0\n",
      "TF 7.0\n",
      "Subject Code falskar1\n"
     ]
    },
    {
     "name": "stderr",
     "output_type": "stream",
     "text": [
      "/var/folders/1g/sc9mrb8x18s7r9d97p9glqch0000gp/T/ipykernel_57418/1816990409.py:48: FutureWarning: The frame.append method is deprecated and will be removed from pandas in a future version. Use pandas.concat instead.\n",
      "  res = res.append({'Subject': subject, 'IAF': iaf, 'TF': tf}, ignore_index=True)\n"
     ]
    },
    {
     "name": "stdout",
     "output_type": "stream",
     "text": [
      "IAF 11.5\n",
      "TF 5.0\n",
      "Subject Code falssah1\n",
      "IAF 10.0\n",
      "TF 4.5\n",
      "Subject Code faltkar1\n"
     ]
    },
    {
     "name": "stderr",
     "output_type": "stream",
     "text": [
      "/var/folders/1g/sc9mrb8x18s7r9d97p9glqch0000gp/T/ipykernel_57418/1816990409.py:48: FutureWarning: The frame.append method is deprecated and will be removed from pandas in a future version. Use pandas.concat instead.\n",
      "  res = res.append({'Subject': subject, 'IAF': iaf, 'TF': tf}, ignore_index=True)\n",
      "/var/folders/1g/sc9mrb8x18s7r9d97p9glqch0000gp/T/ipykernel_57418/1816990409.py:48: FutureWarning: The frame.append method is deprecated and will be removed from pandas in a future version. Use pandas.concat instead.\n",
      "  res = res.append({'Subject': subject, 'IAF': iaf, 'TF': tf}, ignore_index=True)\n"
     ]
    },
    {
     "name": "stdout",
     "output_type": "stream",
     "text": [
      "IAF 8.0\n",
      "TF 7.5\n",
      "Subject Code falyakd1\n"
     ]
    },
    {
     "name": "stderr",
     "output_type": "stream",
     "text": [
      "/var/folders/1g/sc9mrb8x18s7r9d97p9glqch0000gp/T/ipykernel_57418/1816990409.py:48: FutureWarning: The frame.append method is deprecated and will be removed from pandas in a future version. Use pandas.concat instead.\n",
      "  res = res.append({'Subject': subject, 'IAF': iaf, 'TF': tf}, ignore_index=True)\n"
     ]
    },
    {
     "name": "stdout",
     "output_type": "stream",
     "text": [
      "IAF 8.5\n",
      "TF 5.5\n",
      "Subject Code falyedi1\n"
     ]
    },
    {
     "name": "stderr",
     "output_type": "stream",
     "text": [
      "/var/folders/1g/sc9mrb8x18s7r9d97p9glqch0000gp/T/ipykernel_57418/1816990409.py:48: FutureWarning: The frame.append method is deprecated and will be removed from pandas in a future version. Use pandas.concat instead.\n",
      "  res = res.append({'Subject': subject, 'IAF': iaf, 'TF': tf}, ignore_index=True)\n"
     ]
    },
    {
     "name": "stdout",
     "output_type": "stream",
     "text": [
      "IAF 10.0\n",
      "TF 7.0\n",
      "Subject Code falymem1\n"
     ]
    },
    {
     "name": "stderr",
     "output_type": "stream",
     "text": [
      "/var/folders/1g/sc9mrb8x18s7r9d97p9glqch0000gp/T/ipykernel_57418/1816990409.py:48: FutureWarning: The frame.append method is deprecated and will be removed from pandas in a future version. Use pandas.concat instead.\n",
      "  res = res.append({'Subject': subject, 'IAF': iaf, 'TF': tf}, ignore_index=True)\n"
     ]
    },
    {
     "name": "stdout",
     "output_type": "stream",
     "text": [
      "IAF 10.0\n",
      "TF 6.0\n",
      "Subject Code falzbil1\n"
     ]
    },
    {
     "name": "stderr",
     "output_type": "stream",
     "text": [
      "/var/folders/1g/sc9mrb8x18s7r9d97p9glqch0000gp/T/ipykernel_57418/1816990409.py:48: FutureWarning: The frame.append method is deprecated and will be removed from pandas in a future version. Use pandas.concat instead.\n",
      "  res = res.append({'Subject': subject, 'IAF': iaf, 'TF': tf}, ignore_index=True)\n"
     ]
    },
    {
     "name": "stdout",
     "output_type": "stream",
     "text": [
      "IAF 8.0\n",
      "TF 5.0\n",
      "Subject Code falzsah1\n"
     ]
    },
    {
     "name": "stderr",
     "output_type": "stream",
     "text": [
      "/var/folders/1g/sc9mrb8x18s7r9d97p9glqch0000gp/T/ipykernel_57418/1816990409.py:48: FutureWarning: The frame.append method is deprecated and will be removed from pandas in a future version. Use pandas.concat instead.\n",
      "  res = res.append({'Subject': subject, 'IAF': iaf, 'TF': tf}, ignore_index=True)\n"
     ]
    },
    {
     "name": "stdout",
     "output_type": "stream",
     "text": [
      "IAF 9.5\n",
      "TF 5.5\n",
      "Subject Code falzzsag1\n"
     ]
    },
    {
     "name": "stderr",
     "output_type": "stream",
     "text": [
      "/var/folders/1g/sc9mrb8x18s7r9d97p9glqch0000gp/T/ipykernel_57418/1816990409.py:48: FutureWarning: The frame.append method is deprecated and will be removed from pandas in a future version. Use pandas.concat instead.\n",
      "  res = res.append({'Subject': subject, 'IAF': iaf, 'TF': tf}, ignore_index=True)\n"
     ]
    },
    {
     "name": "stdout",
     "output_type": "stream",
     "text": [
      "IAF 8.0\n",
      "TF 5.5\n",
      "Subject Code feabek1\n",
      "IAF 10.5\n",
      "TF 5.5\n",
      "Subject Code febuyig1\n"
     ]
    },
    {
     "name": "stderr",
     "output_type": "stream",
     "text": [
      "/var/folders/1g/sc9mrb8x18s7r9d97p9glqch0000gp/T/ipykernel_57418/1816990409.py:48: FutureWarning: The frame.append method is deprecated and will be removed from pandas in a future version. Use pandas.concat instead.\n",
      "  res = res.append({'Subject': subject, 'IAF': iaf, 'TF': tf}, ignore_index=True)\n",
      "/var/folders/1g/sc9mrb8x18s7r9d97p9glqch0000gp/T/ipykernel_57418/1816990409.py:48: FutureWarning: The frame.append method is deprecated and will be removed from pandas in a future version. Use pandas.concat instead.\n",
      "  res = res.append({'Subject': subject, 'IAF': iaf, 'TF': tf}, ignore_index=True)\n"
     ]
    },
    {
     "name": "stdout",
     "output_type": "stream",
     "text": [
      "IAF 10.0\n",
      "TF 6.0\n",
      "Subject Code febyig1\n"
     ]
    },
    {
     "name": "stderr",
     "output_type": "stream",
     "text": [
      "/var/folders/1g/sc9mrb8x18s7r9d97p9glqch0000gp/T/ipykernel_57418/1816990409.py:48: FutureWarning: The frame.append method is deprecated and will be removed from pandas in a future version. Use pandas.concat instead.\n",
      "  res = res.append({'Subject': subject, 'IAF': iaf, 'TF': tf}, ignore_index=True)\n"
     ]
    },
    {
     "name": "stdout",
     "output_type": "stream",
     "text": [
      "IAF 10.0\n",
      "TF 6.5\n",
      "Subject Code femdal1\n"
     ]
    },
    {
     "name": "stderr",
     "output_type": "stream",
     "text": [
      "/var/folders/1g/sc9mrb8x18s7r9d97p9glqch0000gp/T/ipykernel_57418/1816990409.py:48: FutureWarning: The frame.append method is deprecated and will be removed from pandas in a future version. Use pandas.concat instead.\n",
      "  res = res.append({'Subject': subject, 'IAF': iaf, 'TF': tf}, ignore_index=True)\n"
     ]
    },
    {
     "name": "stdout",
     "output_type": "stream",
     "text": [
      "IAF 8.5\n",
      "TF 4.0\n",
      "Subject Code femkar1\n"
     ]
    },
    {
     "name": "stderr",
     "output_type": "stream",
     "text": [
      "/var/folders/1g/sc9mrb8x18s7r9d97p9glqch0000gp/T/ipykernel_57418/1816990409.py:48: FutureWarning: The frame.append method is deprecated and will be removed from pandas in a future version. Use pandas.concat instead.\n",
      "  res = res.append({'Subject': subject, 'IAF': iaf, 'TF': tf}, ignore_index=True)\n"
     ]
    },
    {
     "name": "stdout",
     "output_type": "stream",
     "text": [
      "IAF 10.0\n",
      "TF 7.5\n",
      "Subject Code fesbek1\n"
     ]
    },
    {
     "name": "stderr",
     "output_type": "stream",
     "text": [
      "/var/folders/1g/sc9mrb8x18s7r9d97p9glqch0000gp/T/ipykernel_57418/1816990409.py:48: FutureWarning: The frame.append method is deprecated and will be removed from pandas in a future version. Use pandas.concat instead.\n",
      "  res = res.append({'Subject': subject, 'IAF': iaf, 'TF': tf}, ignore_index=True)\n"
     ]
    },
    {
     "name": "stdout",
     "output_type": "stream",
     "text": [
      "IAF 9.0\n",
      "TF 5.0\n",
      "Subject Code feykar1\n"
     ]
    },
    {
     "name": "stderr",
     "output_type": "stream",
     "text": [
      "/var/folders/1g/sc9mrb8x18s7r9d97p9glqch0000gp/T/ipykernel_57418/1816990409.py:48: FutureWarning: The frame.append method is deprecated and will be removed from pandas in a future version. Use pandas.concat instead.\n",
      "  res = res.append({'Subject': subject, 'IAF': iaf, 'TF': tf}, ignore_index=True)\n"
     ]
    },
    {
     "name": "stdout",
     "output_type": "stream",
     "text": [
      "IAF 9.5\n",
      "TF 5.5\n",
      "Subject Code fhegsag1\n"
     ]
    },
    {
     "name": "stderr",
     "output_type": "stream",
     "text": [
      "/var/folders/1g/sc9mrb8x18s7r9d97p9glqch0000gp/T/ipykernel_57418/1816990409.py:48: FutureWarning: The frame.append method is deprecated and will be removed from pandas in a future version. Use pandas.concat instead.\n",
      "  res = res.append({'Subject': subject, 'IAF': iaf, 'TF': tf}, ignore_index=True)\n"
     ]
    },
    {
     "name": "stdout",
     "output_type": "stream",
     "text": [
      "IAF 11.5\n",
      "TF 6.0\n",
      "Subject Code fhhel1\n"
     ]
    },
    {
     "name": "stderr",
     "output_type": "stream",
     "text": [
      "/var/folders/1g/sc9mrb8x18s7r9d97p9glqch0000gp/T/ipykernel_57418/1816990409.py:48: FutureWarning: The frame.append method is deprecated and will be removed from pandas in a future version. Use pandas.concat instead.\n",
      "  res = res.append({'Subject': subject, 'IAF': iaf, 'TF': tf}, ignore_index=True)\n"
     ]
    },
    {
     "name": "stdout",
     "output_type": "stream",
     "text": [
      "IAF 9.0\n",
      "TF 6.0\n",
      "Subject Code fhtun1\n"
     ]
    },
    {
     "name": "stderr",
     "output_type": "stream",
     "text": [
      "/var/folders/1g/sc9mrb8x18s7r9d97p9glqch0000gp/T/ipykernel_57418/1816990409.py:48: FutureWarning: The frame.append method is deprecated and will be removed from pandas in a future version. Use pandas.concat instead.\n",
      "  res = res.append({'Subject': subject, 'IAF': iaf, 'TF': tf}, ignore_index=True)\n"
     ]
    },
    {
     "name": "stdout",
     "output_type": "stream",
     "text": [
      "IAF 9.0\n",
      "TF 4.5\n",
      "Subject Code fmacinata1\n"
     ]
    },
    {
     "name": "stderr",
     "output_type": "stream",
     "text": [
      "/var/folders/1g/sc9mrb8x18s7r9d97p9glqch0000gp/T/ipykernel_57418/1816990409.py:48: FutureWarning: The frame.append method is deprecated and will be removed from pandas in a future version. Use pandas.concat instead.\n",
      "  res = res.append({'Subject': subject, 'IAF': iaf, 'TF': tf}, ignore_index=True)\n"
     ]
    },
    {
     "name": "stdout",
     "output_type": "stream",
     "text": [
      "IAF 10.0\n",
      "TF 4.0\n",
      "Subject Code fmciayil1\n"
     ]
    },
    {
     "name": "stderr",
     "output_type": "stream",
     "text": [
      "/var/folders/1g/sc9mrb8x18s7r9d97p9glqch0000gp/T/ipykernel_57418/1816990409.py:48: FutureWarning: The frame.append method is deprecated and will be removed from pandas in a future version. Use pandas.concat instead.\n",
      "  res = res.append({'Subject': subject, 'IAF': iaf, 'TF': tf}, ignore_index=True)\n"
     ]
    },
    {
     "name": "stdout",
     "output_type": "stream",
     "text": [
      "IAF 11.5\n",
      "TF 7.5\n",
      "Subject Code fmciduzu1\n"
     ]
    },
    {
     "name": "stderr",
     "output_type": "stream",
     "text": [
      "/var/folders/1g/sc9mrb8x18s7r9d97p9glqch0000gp/T/ipykernel_57418/1816990409.py:48: FutureWarning: The frame.append method is deprecated and will be removed from pandas in a future version. Use pandas.concat instead.\n",
      "  res = res.append({'Subject': subject, 'IAF': iaf, 'TF': tf}, ignore_index=True)\n"
     ]
    },
    {
     "name": "stdout",
     "output_type": "stream",
     "text": [
      "IAF 10.0\n",
      "TF 6.0\n",
      "Subject Code fmcifyil1\n"
     ]
    },
    {
     "name": "stderr",
     "output_type": "stream",
     "text": [
      "/var/folders/1g/sc9mrb8x18s7r9d97p9glqch0000gp/T/ipykernel_57418/1816990409.py:48: FutureWarning: The frame.append method is deprecated and will be removed from pandas in a future version. Use pandas.concat instead.\n",
      "  res = res.append({'Subject': subject, 'IAF': iaf, 'TF': tf}, ignore_index=True)\n"
     ]
    },
    {
     "name": "stdout",
     "output_type": "stream",
     "text": [
      "IAF 10.5\n",
      "TF 5.5\n",
      "Subject Code fmcihdal1\n"
     ]
    },
    {
     "name": "stderr",
     "output_type": "stream",
     "text": [
      "/var/folders/1g/sc9mrb8x18s7r9d97p9glqch0000gp/T/ipykernel_57418/1816990409.py:48: FutureWarning: The frame.append method is deprecated and will be removed from pandas in a future version. Use pandas.concat instead.\n",
      "  res = res.append({'Subject': subject, 'IAF': iaf, 'TF': tf}, ignore_index=True)\n"
     ]
    },
    {
     "name": "stdout",
     "output_type": "stream",
     "text": [
      "IAF 10.0\n",
      "TF 7.0\n",
      "Subject Code fmcimaky1\n"
     ]
    },
    {
     "name": "stderr",
     "output_type": "stream",
     "text": [
      "/var/folders/1g/sc9mrb8x18s7r9d97p9glqch0000gp/T/ipykernel_57418/1816990409.py:48: FutureWarning: The frame.append method is deprecated and will be removed from pandas in a future version. Use pandas.concat instead.\n",
      "  res = res.append({'Subject': subject, 'IAF': iaf, 'TF': tf}, ignore_index=True)\n"
     ]
    },
    {
     "name": "stdout",
     "output_type": "stream",
     "text": [
      "IAF 8.0\n",
      "TF 5.5\n",
      "Subject Code fmcimtas1\n"
     ]
    },
    {
     "name": "stderr",
     "output_type": "stream",
     "text": [
      "/var/folders/1g/sc9mrb8x18s7r9d97p9glqch0000gp/T/ipykernel_57418/1816990409.py:48: FutureWarning: The frame.append method is deprecated and will be removed from pandas in a future version. Use pandas.concat instead.\n",
      "  res = res.append({'Subject': subject, 'IAF': iaf, 'TF': tf}, ignore_index=True)\n"
     ]
    },
    {
     "name": "stdout",
     "output_type": "stream",
     "text": [
      "IAF 9.0\n",
      "TF 4.5\n",
      "Subject Code fmcinedi1\n"
     ]
    },
    {
     "name": "stderr",
     "output_type": "stream",
     "text": [
      "/var/folders/1g/sc9mrb8x18s7r9d97p9glqch0000gp/T/ipykernel_57418/1816990409.py:48: FutureWarning: The frame.append method is deprecated and will be removed from pandas in a future version. Use pandas.concat instead.\n",
      "  res = res.append({'Subject': subject, 'IAF': iaf, 'TF': tf}, ignore_index=True)\n"
     ]
    },
    {
     "name": "stdout",
     "output_type": "stream",
     "text": [
      "IAF 10.0\n",
      "TF 5.5\n",
      "Subject Code fmciskes1\n"
     ]
    },
    {
     "name": "stderr",
     "output_type": "stream",
     "text": [
      "/var/folders/1g/sc9mrb8x18s7r9d97p9glqch0000gp/T/ipykernel_57418/1816990409.py:48: FutureWarning: The frame.append method is deprecated and will be removed from pandas in a future version. Use pandas.concat instead.\n",
      "  res = res.append({'Subject': subject, 'IAF': iaf, 'TF': tf}, ignore_index=True)\n"
     ]
    },
    {
     "name": "stdout",
     "output_type": "stream",
     "text": [
      "IAF 8.0\n",
      "TF 4.0\n",
      "Subject Code fmcıhzek1\n",
      "IAF 9.5\n",
      "TF 5.0\n",
      "Subject Code fpdemryal1\n"
     ]
    },
    {
     "name": "stderr",
     "output_type": "stream",
     "text": [
      "/var/folders/1g/sc9mrb8x18s7r9d97p9glqch0000gp/T/ipykernel_57418/1816990409.py:48: FutureWarning: The frame.append method is deprecated and will be removed from pandas in a future version. Use pandas.concat instead.\n",
      "  res = res.append({'Subject': subject, 'IAF': iaf, 'TF': tf}, ignore_index=True)\n",
      "/var/folders/1g/sc9mrb8x18s7r9d97p9glqch0000gp/T/ipykernel_57418/1816990409.py:48: FutureWarning: The frame.append method is deprecated and will be removed from pandas in a future version. Use pandas.concat instead.\n",
      "  res = res.append({'Subject': subject, 'IAF': iaf, 'TF': tf}, ignore_index=True)\n"
     ]
    },
    {
     "name": "stdout",
     "output_type": "stream",
     "text": [
      "IAF 8.5\n",
      "TF 5.0\n",
      "Subject Code fpfdem1\n"
     ]
    },
    {
     "name": "stderr",
     "output_type": "stream",
     "text": [
      "/var/folders/1g/sc9mrb8x18s7r9d97p9glqch0000gp/T/ipykernel_57418/1816990409.py:48: FutureWarning: The frame.append method is deprecated and will be removed from pandas in a future version. Use pandas.concat instead.\n",
      "  res = res.append({'Subject': subject, 'IAF': iaf, 'TF': tf}, ignore_index=True)\n"
     ]
    },
    {
     "name": "stdout",
     "output_type": "stream",
     "text": [
      "IAF 10.5\n",
      "TF 7.0\n",
      "Subject Code frekakt1\n"
     ]
    },
    {
     "name": "stderr",
     "output_type": "stream",
     "text": [
      "/var/folders/1g/sc9mrb8x18s7r9d97p9glqch0000gp/T/ipykernel_57418/1816990409.py:48: FutureWarning: The frame.append method is deprecated and will be removed from pandas in a future version. Use pandas.concat instead.\n",
      "  res = res.append({'Subject': subject, 'IAF': iaf, 'TF': tf}, ignore_index=True)\n"
     ]
    },
    {
     "name": "stdout",
     "output_type": "stream",
     "text": [
      "IAF 10.0\n",
      "TF 6.0\n",
      "Subject Code ftdhaka1\n"
     ]
    },
    {
     "name": "stderr",
     "output_type": "stream",
     "text": [
      "/var/folders/1g/sc9mrb8x18s7r9d97p9glqch0000gp/T/ipykernel_57418/1816990409.py:48: FutureWarning: The frame.append method is deprecated and will be removed from pandas in a future version. Use pandas.concat instead.\n",
      "  res = res.append({'Subject': subject, 'IAF': iaf, 'TF': tf}, ignore_index=True)\n"
     ]
    },
    {
     "name": "stdout",
     "output_type": "stream",
     "text": [
      "IAF 8.0\n",
      "TF 7.5\n",
      "Subject Code ftdnbob1\n"
     ]
    },
    {
     "name": "stderr",
     "output_type": "stream",
     "text": [
      "/var/folders/1g/sc9mrb8x18s7r9d97p9glqch0000gp/T/ipykernel_57418/1816990409.py:48: FutureWarning: The frame.append method is deprecated and will be removed from pandas in a future version. Use pandas.concat instead.\n",
      "  res = res.append({'Subject': subject, 'IAF': iaf, 'TF': tf}, ignore_index=True)\n"
     ]
    },
    {
     "name": "stdout",
     "output_type": "stream",
     "text": [
      "IAF 8.0\n",
      "TF 5.5\n",
      "Subject Code lathusev1\n"
     ]
    },
    {
     "name": "stderr",
     "output_type": "stream",
     "text": [
      "/var/folders/1g/sc9mrb8x18s7r9d97p9glqch0000gp/T/ipykernel_57418/1816990409.py:48: FutureWarning: The frame.append method is deprecated and will be removed from pandas in a future version. Use pandas.concat instead.\n",
      "  res = res.append({'Subject': subject, 'IAF': iaf, 'TF': tf}, ignore_index=True)\n"
     ]
    },
    {
     "name": "stdout",
     "output_type": "stream",
     "text": [
      "IAF 10.5\n",
      "TF 7.5\n",
      "Subject Code latnurkı1\n"
     ]
    },
    {
     "name": "stderr",
     "output_type": "stream",
     "text": [
      "/var/folders/1g/sc9mrb8x18s7r9d97p9glqch0000gp/T/ipykernel_57418/1816990409.py:48: FutureWarning: The frame.append method is deprecated and will be removed from pandas in a future version. Use pandas.concat instead.\n",
      "  res = res.append({'Subject': subject, 'IAF': iaf, 'TF': tf}, ignore_index=True)\n"
     ]
    },
    {
     "name": "stdout",
     "output_type": "stream",
     "text": [
      "IAF 9.5\n",
      "TF 4.5\n",
      "Subject Code latvekul1\n"
     ]
    },
    {
     "name": "stderr",
     "output_type": "stream",
     "text": [
      "/var/folders/1g/sc9mrb8x18s7r9d97p9glqch0000gp/T/ipykernel_57418/1816990409.py:48: FutureWarning: The frame.append method is deprecated and will be removed from pandas in a future version. Use pandas.concat instead.\n",
      "  res = res.append({'Subject': subject, 'IAF': iaf, 'TF': tf}, ignore_index=True)\n"
     ]
    },
    {
     "name": "stdout",
     "output_type": "stream",
     "text": [
      "IAF 8.5\n",
      "TF 4.5\n",
      "Subject Code paarı1\n"
     ]
    },
    {
     "name": "stderr",
     "output_type": "stream",
     "text": [
      "/var/folders/1g/sc9mrb8x18s7r9d97p9glqch0000gp/T/ipykernel_57418/1816990409.py:48: FutureWarning: The frame.append method is deprecated and will be removed from pandas in a future version. Use pandas.concat instead.\n",
      "  res = res.append({'Subject': subject, 'IAF': iaf, 'TF': tf}, ignore_index=True)\n"
     ]
    },
    {
     "name": "stdout",
     "output_type": "stream",
     "text": [
      "IAF 10.5\n",
      "TF 7.5\n",
      "Subject Code pacik1\n"
     ]
    },
    {
     "name": "stderr",
     "output_type": "stream",
     "text": [
      "/var/folders/1g/sc9mrb8x18s7r9d97p9glqch0000gp/T/ipykernel_57418/1816990409.py:48: FutureWarning: The frame.append method is deprecated and will be removed from pandas in a future version. Use pandas.concat instead.\n",
      "  res = res.append({'Subject': subject, 'IAF': iaf, 'TF': tf}, ignore_index=True)\n"
     ]
    },
    {
     "name": "stdout",
     "output_type": "stream",
     "text": [
      "IAF 10.5\n",
      "TF 4.5\n",
      "Subject Code pcaka\n"
     ]
    },
    {
     "name": "stderr",
     "output_type": "stream",
     "text": [
      "/var/folders/1g/sc9mrb8x18s7r9d97p9glqch0000gp/T/ipykernel_57418/1816990409.py:48: FutureWarning: The frame.append method is deprecated and will be removed from pandas in a future version. Use pandas.concat instead.\n",
      "  res = res.append({'Subject': subject, 'IAF': iaf, 'TF': tf}, ignore_index=True)\n"
     ]
    },
    {
     "name": "stdout",
     "output_type": "stream",
     "text": [
      "IAF 9.0\n",
      "TF 6.0\n",
      "Subject Code pccak1\n"
     ]
    },
    {
     "name": "stderr",
     "output_type": "stream",
     "text": [
      "/var/folders/1g/sc9mrb8x18s7r9d97p9glqch0000gp/T/ipykernel_57418/1816990409.py:48: FutureWarning: The frame.append method is deprecated and will be removed from pandas in a future version. Use pandas.concat instead.\n",
      "  res = res.append({'Subject': subject, 'IAF': iaf, 'TF': tf}, ignore_index=True)\n"
     ]
    },
    {
     "name": "stdout",
     "output_type": "stream",
     "text": [
      "IAF 9.5\n",
      "TF 5.0\n",
      "Subject Code pcgul1\n"
     ]
    },
    {
     "name": "stderr",
     "output_type": "stream",
     "text": [
      "/var/folders/1g/sc9mrb8x18s7r9d97p9glqch0000gp/T/ipykernel_57418/1816990409.py:48: FutureWarning: The frame.append method is deprecated and will be removed from pandas in a future version. Use pandas.concat instead.\n",
      "  res = res.append({'Subject': subject, 'IAF': iaf, 'TF': tf}, ignore_index=True)\n"
     ]
    },
    {
     "name": "stdout",
     "output_type": "stream",
     "text": [
      "IAF 9.5\n",
      "TF 4.0\n",
      "Subject Code peakk1\n"
     ]
    },
    {
     "name": "stderr",
     "output_type": "stream",
     "text": [
      "/var/folders/1g/sc9mrb8x18s7r9d97p9glqch0000gp/T/ipykernel_57418/1816990409.py:48: FutureWarning: The frame.append method is deprecated and will be removed from pandas in a future version. Use pandas.concat instead.\n",
      "  res = res.append({'Subject': subject, 'IAF': iaf, 'TF': tf}, ignore_index=True)\n"
     ]
    },
    {
     "name": "stdout",
     "output_type": "stream",
     "text": [
      "IAF 9.5\n",
      "TF 6.0\n",
      "Subject Code pegun1\n",
      "IAF 10.5\n",
      "TF 4.0\n",
      "Subject Code pfdum1\n"
     ]
    },
    {
     "name": "stderr",
     "output_type": "stream",
     "text": [
      "/var/folders/1g/sc9mrb8x18s7r9d97p9glqch0000gp/T/ipykernel_57418/1816990409.py:48: FutureWarning: The frame.append method is deprecated and will be removed from pandas in a future version. Use pandas.concat instead.\n",
      "  res = res.append({'Subject': subject, 'IAF': iaf, 'TF': tf}, ignore_index=True)\n",
      "/var/folders/1g/sc9mrb8x18s7r9d97p9glqch0000gp/T/ipykernel_57418/1816990409.py:48: FutureWarning: The frame.append method is deprecated and will be removed from pandas in a future version. Use pandas.concat instead.\n",
      "  res = res.append({'Subject': subject, 'IAF': iaf, 'TF': tf}, ignore_index=True)\n"
     ]
    },
    {
     "name": "stdout",
     "output_type": "stream",
     "text": [
      "IAF 8.5\n",
      "TF 5.0\n",
      "Subject Code phber1\n"
     ]
    },
    {
     "name": "stderr",
     "output_type": "stream",
     "text": [
      "/var/folders/1g/sc9mrb8x18s7r9d97p9glqch0000gp/T/ipykernel_57418/1816990409.py:48: FutureWarning: The frame.append method is deprecated and will be removed from pandas in a future version. Use pandas.concat instead.\n",
      "  res = res.append({'Subject': subject, 'IAF': iaf, 'TF': tf}, ignore_index=True)\n"
     ]
    },
    {
     "name": "stdout",
     "output_type": "stream",
     "text": [
      "IAF 11.0\n",
      "TF 5.5\n",
      "Subject Code phbic1\n"
     ]
    },
    {
     "name": "stderr",
     "output_type": "stream",
     "text": [
      "/var/folders/1g/sc9mrb8x18s7r9d97p9glqch0000gp/T/ipykernel_57418/1816990409.py:48: FutureWarning: The frame.append method is deprecated and will be removed from pandas in a future version. Use pandas.concat instead.\n",
      "  res = res.append({'Subject': subject, 'IAF': iaf, 'TF': tf}, ignore_index=True)\n"
     ]
    },
    {
     "name": "stdout",
     "output_type": "stream",
     "text": [
      "IAF 10.0\n",
      "TF 6.0\n",
      "Subject Code phcan1\n"
     ]
    },
    {
     "name": "stderr",
     "output_type": "stream",
     "text": [
      "/var/folders/1g/sc9mrb8x18s7r9d97p9glqch0000gp/T/ipykernel_57418/1816990409.py:48: FutureWarning: The frame.append method is deprecated and will be removed from pandas in a future version. Use pandas.concat instead.\n",
      "  res = res.append({'Subject': subject, 'IAF': iaf, 'TF': tf}, ignore_index=True)\n"
     ]
    },
    {
     "name": "stdout",
     "output_type": "stream",
     "text": [
      "IAF 8.5\n",
      "TF 4.0\n",
      "Subject Code phcet1\n"
     ]
    },
    {
     "name": "stderr",
     "output_type": "stream",
     "text": [
      "/var/folders/1g/sc9mrb8x18s7r9d97p9glqch0000gp/T/ipykernel_57418/1816990409.py:48: FutureWarning: The frame.append method is deprecated and will be removed from pandas in a future version. Use pandas.concat instead.\n",
      "  res = res.append({'Subject': subject, 'IAF': iaf, 'TF': tf}, ignore_index=True)\n"
     ]
    },
    {
     "name": "stdout",
     "output_type": "stream",
     "text": [
      "IAF 11.0\n",
      "TF 4.5\n",
      "Subject Code pidum1\n"
     ]
    },
    {
     "name": "stderr",
     "output_type": "stream",
     "text": [
      "/var/folders/1g/sc9mrb8x18s7r9d97p9glqch0000gp/T/ipykernel_57418/1816990409.py:48: FutureWarning: The frame.append method is deprecated and will be removed from pandas in a future version. Use pandas.concat instead.\n",
      "  res = res.append({'Subject': subject, 'IAF': iaf, 'TF': tf}, ignore_index=True)\n",
      "/var/folders/1g/sc9mrb8x18s7r9d97p9glqch0000gp/T/ipykernel_57418/1816990409.py:48: FutureWarning: The frame.append method is deprecated and will be removed from pandas in a future version. Use pandas.concat instead.\n",
      "  res = res.append({'Subject': subject, 'IAF': iaf, 'TF': tf}, ignore_index=True)\n"
     ]
    },
    {
     "name": "stdout",
     "output_type": "stream",
     "text": [
      "IAF 9.0\n",
      "TF 6.0\n",
      "Subject Code pisog1\n",
      "IAF 9.0\n",
      "TF 4.0\n",
      "Subject Code pkbay1\n"
     ]
    },
    {
     "name": "stderr",
     "output_type": "stream",
     "text": [
      "/var/folders/1g/sc9mrb8x18s7r9d97p9glqch0000gp/T/ipykernel_57418/1816990409.py:48: FutureWarning: The frame.append method is deprecated and will be removed from pandas in a future version. Use pandas.concat instead.\n",
      "  res = res.append({'Subject': subject, 'IAF': iaf, 'TF': tf}, ignore_index=True)\n"
     ]
    },
    {
     "name": "stdout",
     "output_type": "stream",
     "text": [
      "IAF 9.0\n",
      "TF 5.0\n",
      "Subject Code pmyel11\n"
     ]
    },
    {
     "name": "stderr",
     "output_type": "stream",
     "text": [
      "/var/folders/1g/sc9mrb8x18s7r9d97p9glqch0000gp/T/ipykernel_57418/1816990409.py:48: FutureWarning: The frame.append method is deprecated and will be removed from pandas in a future version. Use pandas.concat instead.\n",
      "  res = res.append({'Subject': subject, 'IAF': iaf, 'TF': tf}, ignore_index=True)\n"
     ]
    },
    {
     "name": "stdout",
     "output_type": "stream",
     "text": [
      "IAF 8.5\n",
      "TF 4.0\n",
      "Subject Code pnakt1\n"
     ]
    },
    {
     "name": "stderr",
     "output_type": "stream",
     "text": [
      "/var/folders/1g/sc9mrb8x18s7r9d97p9glqch0000gp/T/ipykernel_57418/1816990409.py:48: FutureWarning: The frame.append method is deprecated and will be removed from pandas in a future version. Use pandas.concat instead.\n",
      "  res = res.append({'Subject': subject, 'IAF': iaf, 'TF': tf}, ignore_index=True)\n"
     ]
    },
    {
     "name": "stdout",
     "output_type": "stream",
     "text": [
      "IAF 10.5\n",
      "TF 4.0\n",
      "Subject Code pndon11\n"
     ]
    },
    {
     "name": "stderr",
     "output_type": "stream",
     "text": [
      "/var/folders/1g/sc9mrb8x18s7r9d97p9glqch0000gp/T/ipykernel_57418/1816990409.py:48: FutureWarning: The frame.append method is deprecated and will be removed from pandas in a future version. Use pandas.concat instead.\n",
      "  res = res.append({'Subject': subject, 'IAF': iaf, 'TF': tf}, ignore_index=True)\n"
     ]
    },
    {
     "name": "stdout",
     "output_type": "stream",
     "text": [
      "IAF 10.5\n",
      "TF 7.5\n",
      "Subject Code pnkok1\n"
     ]
    },
    {
     "name": "stderr",
     "output_type": "stream",
     "text": [
      "/var/folders/1g/sc9mrb8x18s7r9d97p9glqch0000gp/T/ipykernel_57418/1816990409.py:48: FutureWarning: The frame.append method is deprecated and will be removed from pandas in a future version. Use pandas.concat instead.\n",
      "  res = res.append({'Subject': subject, 'IAF': iaf, 'TF': tf}, ignore_index=True)\n"
     ]
    },
    {
     "name": "stdout",
     "output_type": "stream",
     "text": [
      "IAF 9.0\n",
      "TF 5.0\n",
      "Subject Code pnsog1\n"
     ]
    },
    {
     "name": "stderr",
     "output_type": "stream",
     "text": [
      "/var/folders/1g/sc9mrb8x18s7r9d97p9glqch0000gp/T/ipykernel_57418/1816990409.py:48: FutureWarning: The frame.append method is deprecated and will be removed from pandas in a future version. Use pandas.concat instead.\n",
      "  res = res.append({'Subject': subject, 'IAF': iaf, 'TF': tf}, ignore_index=True)\n"
     ]
    },
    {
     "name": "stdout",
     "output_type": "stream",
     "text": [
      "IAF 9.5\n",
      "TF 5.5\n",
      "Subject Code pnusa1\n"
     ]
    },
    {
     "name": "stderr",
     "output_type": "stream",
     "text": [
      "/var/folders/1g/sc9mrb8x18s7r9d97p9glqch0000gp/T/ipykernel_57418/1816990409.py:48: FutureWarning: The frame.append method is deprecated and will be removed from pandas in a future version. Use pandas.concat instead.\n",
      "  res = res.append({'Subject': subject, 'IAF': iaf, 'TF': tf}, ignore_index=True)\n"
     ]
    },
    {
     "name": "stdout",
     "output_type": "stream",
     "text": [
      "IAF 10.5\n",
      "TF 5.5\n",
      "Subject Code podog11\n"
     ]
    },
    {
     "name": "stderr",
     "output_type": "stream",
     "text": [
      "/var/folders/1g/sc9mrb8x18s7r9d97p9glqch0000gp/T/ipykernel_57418/1816990409.py:48: FutureWarning: The frame.append method is deprecated and will be removed from pandas in a future version. Use pandas.concat instead.\n",
      "  res = res.append({'Subject': subject, 'IAF': iaf, 'TF': tf}, ignore_index=True)\n"
     ]
    },
    {
     "name": "stdout",
     "output_type": "stream",
     "text": [
      "IAF 9.5\n",
      "TF 6.0\n",
      "Subject Code prcav1\n"
     ]
    },
    {
     "name": "stderr",
     "output_type": "stream",
     "text": [
      "/var/folders/1g/sc9mrb8x18s7r9d97p9glqch0000gp/T/ipykernel_57418/1816990409.py:48: FutureWarning: The frame.append method is deprecated and will be removed from pandas in a future version. Use pandas.concat instead.\n",
      "  res = res.append({'Subject': subject, 'IAF': iaf, 'TF': tf}, ignore_index=True)\n"
     ]
    },
    {
     "name": "stdout",
     "output_type": "stream",
     "text": [
      "IAF 8.0\n",
      "TF 6.0\n",
      "Subject Code prsav1\n"
     ]
    },
    {
     "name": "stderr",
     "output_type": "stream",
     "text": [
      "/var/folders/1g/sc9mrb8x18s7r9d97p9glqch0000gp/T/ipykernel_57418/1816990409.py:48: FutureWarning: The frame.append method is deprecated and will be removed from pandas in a future version. Use pandas.concat instead.\n",
      "  res = res.append({'Subject': subject, 'IAF': iaf, 'TF': tf}, ignore_index=True)\n"
     ]
    },
    {
     "name": "stdout",
     "output_type": "stream",
     "text": [
      "IAF 8.5\n",
      "TF 5.5\n",
      "Subject Code pscak1\n"
     ]
    },
    {
     "name": "stderr",
     "output_type": "stream",
     "text": [
      "/var/folders/1g/sc9mrb8x18s7r9d97p9glqch0000gp/T/ipykernel_57418/1816990409.py:48: FutureWarning: The frame.append method is deprecated and will be removed from pandas in a future version. Use pandas.concat instead.\n",
      "  res = res.append({'Subject': subject, 'IAF': iaf, 'TF': tf}, ignore_index=True)\n"
     ]
    },
    {
     "name": "stdout",
     "output_type": "stream",
     "text": [
      "IAF 9.0\n",
      "TF 4.5\n",
      "Subject Code psgul1\n"
     ]
    },
    {
     "name": "stderr",
     "output_type": "stream",
     "text": [
      "/var/folders/1g/sc9mrb8x18s7r9d97p9glqch0000gp/T/ipykernel_57418/1816990409.py:48: FutureWarning: The frame.append method is deprecated and will be removed from pandas in a future version. Use pandas.concat instead.\n",
      "  res = res.append({'Subject': subject, 'IAF': iaf, 'TF': tf}, ignore_index=True)\n"
     ]
    },
    {
     "name": "stdout",
     "output_type": "stream",
     "text": [
      "IAF 9.5\n",
      "TF 7.0\n",
      "Subject Code psin1\n"
     ]
    },
    {
     "name": "stderr",
     "output_type": "stream",
     "text": [
      "/var/folders/1g/sc9mrb8x18s7r9d97p9glqch0000gp/T/ipykernel_57418/1816990409.py:48: FutureWarning: The frame.append method is deprecated and will be removed from pandas in a future version. Use pandas.concat instead.\n",
      "  res = res.append({'Subject': subject, 'IAF': iaf, 'TF': tf}, ignore_index=True)\n"
     ]
    },
    {
     "name": "stdout",
     "output_type": "stream",
     "text": [
      "IAF 9.0\n",
      "TF 5.5\n",
      "Subject Code pspam1\n"
     ]
    },
    {
     "name": "stderr",
     "output_type": "stream",
     "text": [
      "/var/folders/1g/sc9mrb8x18s7r9d97p9glqch0000gp/T/ipykernel_57418/1816990409.py:48: FutureWarning: The frame.append method is deprecated and will be removed from pandas in a future version. Use pandas.concat instead.\n",
      "  res = res.append({'Subject': subject, 'IAF': iaf, 'TF': tf}, ignore_index=True)\n"
     ]
    },
    {
     "name": "stdout",
     "output_type": "stream",
     "text": [
      "IAF 9.0\n",
      "TF 4.5\n",
      "Subject Code pssen1\n"
     ]
    },
    {
     "name": "stderr",
     "output_type": "stream",
     "text": [
      "/var/folders/1g/sc9mrb8x18s7r9d97p9glqch0000gp/T/ipykernel_57418/1816990409.py:48: FutureWarning: The frame.append method is deprecated and will be removed from pandas in a future version. Use pandas.concat instead.\n",
      "  res = res.append({'Subject': subject, 'IAF': iaf, 'TF': tf}, ignore_index=True)\n"
     ]
    },
    {
     "name": "stdout",
     "output_type": "stream",
     "text": [
      "IAF 8.0\n",
      "TF 4.5\n",
      "Subject Code pssog1\n"
     ]
    },
    {
     "name": "stderr",
     "output_type": "stream",
     "text": [
      "/var/folders/1g/sc9mrb8x18s7r9d97p9glqch0000gp/T/ipykernel_57418/1816990409.py:48: FutureWarning: The frame.append method is deprecated and will be removed from pandas in a future version. Use pandas.concat instead.\n",
      "  res = res.append({'Subject': subject, 'IAF': iaf, 'TF': tf}, ignore_index=True)\n"
     ]
    },
    {
     "name": "stdout",
     "output_type": "stream",
     "text": [
      "IAF 9.5\n",
      "TF 5.5\n",
      "Subject Code psyil1\n"
     ]
    },
    {
     "name": "stderr",
     "output_type": "stream",
     "text": [
      "/var/folders/1g/sc9mrb8x18s7r9d97p9glqch0000gp/T/ipykernel_57418/1816990409.py:48: FutureWarning: The frame.append method is deprecated and will be removed from pandas in a future version. Use pandas.concat instead.\n",
      "  res = res.append({'Subject': subject, 'IAF': iaf, 'TF': tf}, ignore_index=True)\n"
     ]
    },
    {
     "name": "stdout",
     "output_type": "stream",
     "text": [
      "IAF 10.0\n",
      "TF 6.5\n",
      "Subject Code pukab1\n"
     ]
    },
    {
     "name": "stderr",
     "output_type": "stream",
     "text": [
      "/var/folders/1g/sc9mrb8x18s7r9d97p9glqch0000gp/T/ipykernel_57418/1816990409.py:48: FutureWarning: The frame.append method is deprecated and will be removed from pandas in a future version. Use pandas.concat instead.\n",
      "  res = res.append({'Subject': subject, 'IAF': iaf, 'TF': tf}, ignore_index=True)\n"
     ]
    },
    {
     "name": "stdout",
     "output_type": "stream",
     "text": [
      "IAF 8.0\n",
      "TF 5.5\n"
     ]
    },
    {
     "name": "stderr",
     "output_type": "stream",
     "text": [
      "/var/folders/1g/sc9mrb8x18s7r9d97p9glqch0000gp/T/ipykernel_57418/1816990409.py:48: FutureWarning: The frame.append method is deprecated and will be removed from pandas in a future version. Use pandas.concat instead.\n",
      "  res = res.append({'Subject': subject, 'IAF': iaf, 'TF': tf}, ignore_index=True)\n"
     ]
    }
   ],
   "execution_count": 12
  },
  {
   "metadata": {
    "ExecuteTime": {
     "end_time": "2024-11-26T12:36:45.223225Z",
     "start_time": "2024-11-26T12:36:45.200940Z"
    }
   },
   "cell_type": "code",
   "source": [
    "res.index = res['Subject']\n",
    "res = res.drop(columns=['Subject'])\n",
    "res"
   ],
   "id": "5f7452f0c78b9cf1",
   "outputs": [
    {
     "data": {
      "text/plain": [
       "           IAF   TF\n",
       "Subject            \n",
       "alzhay1    9.0  5.5\n",
       "alzhpeh1   8.0  4.0\n",
       "alzmsap1   8.0  7.5\n",
       "d1kyil1    9.5  7.5\n",
       "eoabob1   10.0  5.5\n",
       "...        ...  ...\n",
       "pspam1     9.0  4.5\n",
       "pssen1     8.0  4.5\n",
       "pssog1     9.5  5.5\n",
       "psyil1    10.0  6.5\n",
       "pukab1     8.0  5.5\n",
       "\n",
       "[112 rows x 2 columns]"
      ],
      "text/html": [
       "<div>\n",
       "<style scoped>\n",
       "    .dataframe tbody tr th:only-of-type {\n",
       "        vertical-align: middle;\n",
       "    }\n",
       "\n",
       "    .dataframe tbody tr th {\n",
       "        vertical-align: top;\n",
       "    }\n",
       "\n",
       "    .dataframe thead th {\n",
       "        text-align: right;\n",
       "    }\n",
       "</style>\n",
       "<table border=\"1\" class=\"dataframe\">\n",
       "  <thead>\n",
       "    <tr style=\"text-align: right;\">\n",
       "      <th></th>\n",
       "      <th>IAF</th>\n",
       "      <th>TF</th>\n",
       "    </tr>\n",
       "    <tr>\n",
       "      <th>Subject</th>\n",
       "      <th></th>\n",
       "      <th></th>\n",
       "    </tr>\n",
       "  </thead>\n",
       "  <tbody>\n",
       "    <tr>\n",
       "      <th>alzhay1</th>\n",
       "      <td>9.0</td>\n",
       "      <td>5.5</td>\n",
       "    </tr>\n",
       "    <tr>\n",
       "      <th>alzhpeh1</th>\n",
       "      <td>8.0</td>\n",
       "      <td>4.0</td>\n",
       "    </tr>\n",
       "    <tr>\n",
       "      <th>alzmsap1</th>\n",
       "      <td>8.0</td>\n",
       "      <td>7.5</td>\n",
       "    </tr>\n",
       "    <tr>\n",
       "      <th>d1kyil1</th>\n",
       "      <td>9.5</td>\n",
       "      <td>7.5</td>\n",
       "    </tr>\n",
       "    <tr>\n",
       "      <th>eoabob1</th>\n",
       "      <td>10.0</td>\n",
       "      <td>5.5</td>\n",
       "    </tr>\n",
       "    <tr>\n",
       "      <th>...</th>\n",
       "      <td>...</td>\n",
       "      <td>...</td>\n",
       "    </tr>\n",
       "    <tr>\n",
       "      <th>pspam1</th>\n",
       "      <td>9.0</td>\n",
       "      <td>4.5</td>\n",
       "    </tr>\n",
       "    <tr>\n",
       "      <th>pssen1</th>\n",
       "      <td>8.0</td>\n",
       "      <td>4.5</td>\n",
       "    </tr>\n",
       "    <tr>\n",
       "      <th>pssog1</th>\n",
       "      <td>9.5</td>\n",
       "      <td>5.5</td>\n",
       "    </tr>\n",
       "    <tr>\n",
       "      <th>psyil1</th>\n",
       "      <td>10.0</td>\n",
       "      <td>6.5</td>\n",
       "    </tr>\n",
       "    <tr>\n",
       "      <th>pukab1</th>\n",
       "      <td>8.0</td>\n",
       "      <td>5.5</td>\n",
       "    </tr>\n",
       "  </tbody>\n",
       "</table>\n",
       "<p>112 rows × 2 columns</p>\n",
       "</div>"
      ]
     },
     "execution_count": 13,
     "metadata": {},
     "output_type": "execute_result"
    }
   ],
   "execution_count": 13
  },
  {
   "metadata": {
    "ExecuteTime": {
     "end_time": "2024-11-26T12:36:45.235376Z",
     "start_time": "2024-11-26T12:36:45.224947Z"
    }
   },
   "cell_type": "code",
   "source": [
    "# Save to CSV\n",
    "res.to_csv(out_path)"
   ],
   "id": "79ebdf9447cc8b0f",
   "outputs": [],
   "execution_count": 14
  },
  {
   "metadata": {
    "ExecuteTime": {
     "end_time": "2024-11-26T12:36:45.242713Z",
     "start_time": "2024-11-26T12:36:45.239605Z"
    }
   },
   "cell_type": "code",
   "source": "",
   "id": "f689440c7b30a893",
   "outputs": [],
   "execution_count": 14
  }
 ],
 "metadata": {
  "kernelspec": {
   "display_name": "Python 3",
   "language": "python",
   "name": "python3"
  },
  "language_info": {
   "codemirror_mode": {
    "name": "ipython",
    "version": 2
   },
   "file_extension": ".py",
   "mimetype": "text/x-python",
   "name": "python",
   "nbconvert_exporter": "python",
   "pygments_lexer": "ipython2",
   "version": "2.7.6"
  }
 },
 "nbformat": 4,
 "nbformat_minor": 5
}
