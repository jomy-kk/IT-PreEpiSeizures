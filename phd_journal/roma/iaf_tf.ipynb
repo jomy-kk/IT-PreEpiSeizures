{
 "cells": [
  {
   "cell_type": "code",
   "id": "initial_id",
   "metadata": {
    "collapsed": true,
    "ExecuteTime": {
     "end_time": "2024-12-02T14:55:02.481688Z",
     "start_time": "2024-12-02T14:55:02.401337Z"
    }
   },
   "source": [
    "from glob import glob\n",
    "from os.path import join, basename\n",
    "\n",
    "import numpy as np\n",
    "import pandas as pd\n",
    "from biosppy.signals.tools import welch_spectrum"
   ],
   "outputs": [],
   "execution_count": 1
  },
  {
   "metadata": {
    "ExecuteTime": {
     "end_time": "2024-12-02T14:55:02.488974Z",
     "start_time": "2024-12-02T14:55:02.481935Z"
    }
   },
   "cell_type": "code",
   "source": [
    "common_path = \"/Volumes/MMIS-Saraiv/Datasets/Miltiadous Dataset/denoised_txt_epochs\"\n",
    "#common_path = \"/Volumes/MMIS-Saraiv/Datasets/Sapienza/denoised_txt_epochs_matlab\"\n",
    "out_path = '/Volumes/MMIS-Saraiv/Datasets/Miltiadous Dataset/iaf_tf_my-boudaries.csv'\n",
    "sf = 128.0"
   ],
   "id": "7c37a64a692db3fe",
   "outputs": [],
   "execution_count": 2
  },
  {
   "metadata": {
    "ExecuteTime": {
     "end_time": "2024-12-02T14:55:02.903057Z",
     "start_time": "2024-12-02T14:55:02.487033Z"
    }
   },
   "cell_type": "code",
   "source": [
    "all_subjects = glob(join(common_path, '*'))\n",
    "all_subjects"
   ],
   "id": "2b72e165101177bc",
   "outputs": [
    {
     "data": {
      "text/plain": "['/Volumes/MMIS-Saraiv/Datasets/Miltiadous Dataset/denoised_txt_epochs/001',\n '/Volumes/MMIS-Saraiv/Datasets/Miltiadous Dataset/denoised_txt_epochs/002',\n '/Volumes/MMIS-Saraiv/Datasets/Miltiadous Dataset/denoised_txt_epochs/003',\n '/Volumes/MMIS-Saraiv/Datasets/Miltiadous Dataset/denoised_txt_epochs/004',\n '/Volumes/MMIS-Saraiv/Datasets/Miltiadous Dataset/denoised_txt_epochs/005',\n '/Volumes/MMIS-Saraiv/Datasets/Miltiadous Dataset/denoised_txt_epochs/006',\n '/Volumes/MMIS-Saraiv/Datasets/Miltiadous Dataset/denoised_txt_epochs/007',\n '/Volumes/MMIS-Saraiv/Datasets/Miltiadous Dataset/denoised_txt_epochs/008',\n '/Volumes/MMIS-Saraiv/Datasets/Miltiadous Dataset/denoised_txt_epochs/009',\n '/Volumes/MMIS-Saraiv/Datasets/Miltiadous Dataset/denoised_txt_epochs/010',\n '/Volumes/MMIS-Saraiv/Datasets/Miltiadous Dataset/denoised_txt_epochs/011',\n '/Volumes/MMIS-Saraiv/Datasets/Miltiadous Dataset/denoised_txt_epochs/012',\n '/Volumes/MMIS-Saraiv/Datasets/Miltiadous Dataset/denoised_txt_epochs/013',\n '/Volumes/MMIS-Saraiv/Datasets/Miltiadous Dataset/denoised_txt_epochs/014',\n '/Volumes/MMIS-Saraiv/Datasets/Miltiadous Dataset/denoised_txt_epochs/015',\n '/Volumes/MMIS-Saraiv/Datasets/Miltiadous Dataset/denoised_txt_epochs/016',\n '/Volumes/MMIS-Saraiv/Datasets/Miltiadous Dataset/denoised_txt_epochs/017',\n '/Volumes/MMIS-Saraiv/Datasets/Miltiadous Dataset/denoised_txt_epochs/018',\n '/Volumes/MMIS-Saraiv/Datasets/Miltiadous Dataset/denoised_txt_epochs/019',\n '/Volumes/MMIS-Saraiv/Datasets/Miltiadous Dataset/denoised_txt_epochs/020',\n '/Volumes/MMIS-Saraiv/Datasets/Miltiadous Dataset/denoised_txt_epochs/021',\n '/Volumes/MMIS-Saraiv/Datasets/Miltiadous Dataset/denoised_txt_epochs/022',\n '/Volumes/MMIS-Saraiv/Datasets/Miltiadous Dataset/denoised_txt_epochs/023',\n '/Volumes/MMIS-Saraiv/Datasets/Miltiadous Dataset/denoised_txt_epochs/024',\n '/Volumes/MMIS-Saraiv/Datasets/Miltiadous Dataset/denoised_txt_epochs/025',\n '/Volumes/MMIS-Saraiv/Datasets/Miltiadous Dataset/denoised_txt_epochs/026',\n '/Volumes/MMIS-Saraiv/Datasets/Miltiadous Dataset/denoised_txt_epochs/027',\n '/Volumes/MMIS-Saraiv/Datasets/Miltiadous Dataset/denoised_txt_epochs/028',\n '/Volumes/MMIS-Saraiv/Datasets/Miltiadous Dataset/denoised_txt_epochs/029',\n '/Volumes/MMIS-Saraiv/Datasets/Miltiadous Dataset/denoised_txt_epochs/030',\n '/Volumes/MMIS-Saraiv/Datasets/Miltiadous Dataset/denoised_txt_epochs/031',\n '/Volumes/MMIS-Saraiv/Datasets/Miltiadous Dataset/denoised_txt_epochs/032',\n '/Volumes/MMIS-Saraiv/Datasets/Miltiadous Dataset/denoised_txt_epochs/033',\n '/Volumes/MMIS-Saraiv/Datasets/Miltiadous Dataset/denoised_txt_epochs/034',\n '/Volumes/MMIS-Saraiv/Datasets/Miltiadous Dataset/denoised_txt_epochs/035',\n '/Volumes/MMIS-Saraiv/Datasets/Miltiadous Dataset/denoised_txt_epochs/036',\n '/Volumes/MMIS-Saraiv/Datasets/Miltiadous Dataset/denoised_txt_epochs/037',\n '/Volumes/MMIS-Saraiv/Datasets/Miltiadous Dataset/denoised_txt_epochs/038',\n '/Volumes/MMIS-Saraiv/Datasets/Miltiadous Dataset/denoised_txt_epochs/039',\n '/Volumes/MMIS-Saraiv/Datasets/Miltiadous Dataset/denoised_txt_epochs/040',\n '/Volumes/MMIS-Saraiv/Datasets/Miltiadous Dataset/denoised_txt_epochs/041',\n '/Volumes/MMIS-Saraiv/Datasets/Miltiadous Dataset/denoised_txt_epochs/042',\n '/Volumes/MMIS-Saraiv/Datasets/Miltiadous Dataset/denoised_txt_epochs/043',\n '/Volumes/MMIS-Saraiv/Datasets/Miltiadous Dataset/denoised_txt_epochs/044',\n '/Volumes/MMIS-Saraiv/Datasets/Miltiadous Dataset/denoised_txt_epochs/045',\n '/Volumes/MMIS-Saraiv/Datasets/Miltiadous Dataset/denoised_txt_epochs/046',\n '/Volumes/MMIS-Saraiv/Datasets/Miltiadous Dataset/denoised_txt_epochs/047',\n '/Volumes/MMIS-Saraiv/Datasets/Miltiadous Dataset/denoised_txt_epochs/048',\n '/Volumes/MMIS-Saraiv/Datasets/Miltiadous Dataset/denoised_txt_epochs/049',\n '/Volumes/MMIS-Saraiv/Datasets/Miltiadous Dataset/denoised_txt_epochs/050',\n '/Volumes/MMIS-Saraiv/Datasets/Miltiadous Dataset/denoised_txt_epochs/051',\n '/Volumes/MMIS-Saraiv/Datasets/Miltiadous Dataset/denoised_txt_epochs/052',\n '/Volumes/MMIS-Saraiv/Datasets/Miltiadous Dataset/denoised_txt_epochs/053',\n '/Volumes/MMIS-Saraiv/Datasets/Miltiadous Dataset/denoised_txt_epochs/054',\n '/Volumes/MMIS-Saraiv/Datasets/Miltiadous Dataset/denoised_txt_epochs/055',\n '/Volumes/MMIS-Saraiv/Datasets/Miltiadous Dataset/denoised_txt_epochs/056',\n '/Volumes/MMIS-Saraiv/Datasets/Miltiadous Dataset/denoised_txt_epochs/057',\n '/Volumes/MMIS-Saraiv/Datasets/Miltiadous Dataset/denoised_txt_epochs/058',\n '/Volumes/MMIS-Saraiv/Datasets/Miltiadous Dataset/denoised_txt_epochs/059',\n '/Volumes/MMIS-Saraiv/Datasets/Miltiadous Dataset/denoised_txt_epochs/060',\n '/Volumes/MMIS-Saraiv/Datasets/Miltiadous Dataset/denoised_txt_epochs/061',\n '/Volumes/MMIS-Saraiv/Datasets/Miltiadous Dataset/denoised_txt_epochs/062',\n '/Volumes/MMIS-Saraiv/Datasets/Miltiadous Dataset/denoised_txt_epochs/063',\n '/Volumes/MMIS-Saraiv/Datasets/Miltiadous Dataset/denoised_txt_epochs/064',\n '/Volumes/MMIS-Saraiv/Datasets/Miltiadous Dataset/denoised_txt_epochs/065',\n '/Volumes/MMIS-Saraiv/Datasets/Miltiadous Dataset/denoised_txt_epochs/066',\n '/Volumes/MMIS-Saraiv/Datasets/Miltiadous Dataset/denoised_txt_epochs/067',\n '/Volumes/MMIS-Saraiv/Datasets/Miltiadous Dataset/denoised_txt_epochs/068',\n '/Volumes/MMIS-Saraiv/Datasets/Miltiadous Dataset/denoised_txt_epochs/069',\n '/Volumes/MMIS-Saraiv/Datasets/Miltiadous Dataset/denoised_txt_epochs/070',\n '/Volumes/MMIS-Saraiv/Datasets/Miltiadous Dataset/denoised_txt_epochs/071',\n '/Volumes/MMIS-Saraiv/Datasets/Miltiadous Dataset/denoised_txt_epochs/072',\n '/Volumes/MMIS-Saraiv/Datasets/Miltiadous Dataset/denoised_txt_epochs/073',\n '/Volumes/MMIS-Saraiv/Datasets/Miltiadous Dataset/denoised_txt_epochs/074',\n '/Volumes/MMIS-Saraiv/Datasets/Miltiadous Dataset/denoised_txt_epochs/075',\n '/Volumes/MMIS-Saraiv/Datasets/Miltiadous Dataset/denoised_txt_epochs/076',\n '/Volumes/MMIS-Saraiv/Datasets/Miltiadous Dataset/denoised_txt_epochs/077',\n '/Volumes/MMIS-Saraiv/Datasets/Miltiadous Dataset/denoised_txt_epochs/078',\n '/Volumes/MMIS-Saraiv/Datasets/Miltiadous Dataset/denoised_txt_epochs/079',\n '/Volumes/MMIS-Saraiv/Datasets/Miltiadous Dataset/denoised_txt_epochs/080',\n '/Volumes/MMIS-Saraiv/Datasets/Miltiadous Dataset/denoised_txt_epochs/081',\n '/Volumes/MMIS-Saraiv/Datasets/Miltiadous Dataset/denoised_txt_epochs/082',\n '/Volumes/MMIS-Saraiv/Datasets/Miltiadous Dataset/denoised_txt_epochs/083',\n '/Volumes/MMIS-Saraiv/Datasets/Miltiadous Dataset/denoised_txt_epochs/084',\n '/Volumes/MMIS-Saraiv/Datasets/Miltiadous Dataset/denoised_txt_epochs/085',\n '/Volumes/MMIS-Saraiv/Datasets/Miltiadous Dataset/denoised_txt_epochs/086',\n '/Volumes/MMIS-Saraiv/Datasets/Miltiadous Dataset/denoised_txt_epochs/087',\n '/Volumes/MMIS-Saraiv/Datasets/Miltiadous Dataset/denoised_txt_epochs/088']"
     },
     "execution_count": 3,
     "metadata": {},
     "output_type": "execute_result"
    }
   ],
   "execution_count": 3
  },
  {
   "metadata": {
    "ExecuteTime": {
     "end_time": "2024-12-02T14:55:02.904245Z",
     "start_time": "2024-12-02T14:55:02.896837Z"
    }
   },
   "cell_type": "code",
   "source": [
    "res = pd.DataFrame(columns=['Subject', 'IAF', 'TF'])"
   ],
   "id": "6052d105546b6657",
   "outputs": [],
   "execution_count": 4
  },
  {
   "metadata": {
    "ExecuteTime": {
     "end_time": "2024-12-02T14:57:53.316702Z",
     "start_time": "2024-12-02T14:57:52.838623Z"
    }
   },
   "cell_type": "code",
   "source": [
    "MULTIPLIER = 2\n",
    "for subject_path in all_subjects:\n",
    "    subject = basename(subject_path)\n",
    "    #subject = basename(subject_path).split('PARTICIPANT')[1]\n",
    "    print(\"Subject Code\", subject)\n",
    "    all_files = glob(join(subject_path, '*.txt'))\n",
    "    power = []\n",
    "    freqs = None\n",
    "    # go by epoch\n",
    "    print(all_files)\n",
    "    for file in all_files:\n",
    "        data = pd.read_csv(file, sep='\\t', dtype=float)  # time x channels\n",
    "        # select electrodes O1 (18), Oz (19), O2 (20)\n",
    "        freqs1, power1 = welch_spectrum(data.iloc[:, 17], sampling_rate=sf, decibel=True, size=int(sf*MULTIPLIER-1))\n",
    "        freqs2, power2 = welch_spectrum(data.iloc[:, 18], sampling_rate=sf, decibel=True, size=int(sf*MULTIPLIER-1))\n",
    "        #freqs3, power3 = welch_spectrum(data.iloc[:, 19], sampling_rate=sf, decibel=True, size=int(sf*MULTIPLIER-1))\n",
    "        assert np.all(freqs1 == freqs2) #and np.all(freqs2 == freqs3)\n",
    "        # Average power of the three electrodes\n",
    "        #power.append((power1 + power2 + power3) / 3)\n",
    "        power.append((power1 + power2) / 3)\n",
    "        freqs = freqs1\n",
    "    \n",
    "    # average power across epochs\n",
    "    power_avg = np.mean(np.array(power), axis=0)\n",
    "    \n",
    "    # find IAF between 8 and 14 Hz\n",
    "    iaf = freqs[np.argmax(power_avg[8*MULTIPLIER:12*MULTIPLIER]) + 8*MULTIPLIER]\n",
    "    iaf = round(iaf, 1)\n",
    "    print(\"IAF\", iaf)\n",
    "    # find TF between 3 and 8 Hz\n",
    "    tf = freqs[np.argmin(power_avg[4*MULTIPLIER:8*MULTIPLIER]) + 4*MULTIPLIER]\n",
    "    tf = round(tf, 1)\n",
    "    print(\"TF\", tf)\n",
    "    \n",
    "    # plot all psds\n",
    "    \"\"\"\n",
    "    sns.set_palette(\"husl\")\n",
    "    for p in power:\n",
    "        sns.lineplot(x=freqs[:46], y=p[:46], alpha=0.05, color='orange')\n",
    "    sns.lineplot(x=freqs[:46], y=power_avg[:46], linewidth=3, color='black')\n",
    "    plt.axvline(iaf, color='red', linestyle='--')\n",
    "    plt.axvline(tf, color='blue', linestyle='--')\n",
    "    sns.despine()\n",
    "    plt.title(\"Subject Code {}\".format(subject))\n",
    "    plt.xlabel(\"Frequency (Hz)\")\n",
    "    plt.ylabel(\"Power (dB)\")\n",
    "    plt.show()\n",
    "    \"\"\"\n",
    "    \n",
    "    res = res.append({'Subject': subject, 'IAF': iaf, 'TF': tf}, ignore_index=True)"
   ],
   "id": "b9a3811bb08b7377",
   "outputs": [
    {
     "name": "stdout",
     "output_type": "stream",
     "text": [
      "Subject Code 001\n",
      "['/Volumes/MMIS-Saraiv/Datasets/Miltiadous Dataset/denoised_txt_epochs/001/001_0.txt', '/Volumes/MMIS-Saraiv/Datasets/Miltiadous Dataset/denoised_txt_epochs/001/001_1.txt', '/Volumes/MMIS-Saraiv/Datasets/Miltiadous Dataset/denoised_txt_epochs/001/001_2.txt', '/Volumes/MMIS-Saraiv/Datasets/Miltiadous Dataset/denoised_txt_epochs/001/001_3.txt', '/Volumes/MMIS-Saraiv/Datasets/Miltiadous Dataset/denoised_txt_epochs/001/001_4.txt', '/Volumes/MMIS-Saraiv/Datasets/Miltiadous Dataset/denoised_txt_epochs/001/001_5.txt', '/Volumes/MMIS-Saraiv/Datasets/Miltiadous Dataset/denoised_txt_epochs/001/001_6.txt', '/Volumes/MMIS-Saraiv/Datasets/Miltiadous Dataset/denoised_txt_epochs/001/001_7.txt', '/Volumes/MMIS-Saraiv/Datasets/Miltiadous Dataset/denoised_txt_epochs/001/001_8.txt', '/Volumes/MMIS-Saraiv/Datasets/Miltiadous Dataset/denoised_txt_epochs/001/001_9.txt', '/Volumes/MMIS-Saraiv/Datasets/Miltiadous Dataset/denoised_txt_epochs/001/001_10.txt', '/Volumes/MMIS-Saraiv/Datasets/Miltiadous Dataset/denoised_txt_epochs/001/001_11.txt', '/Volumes/MMIS-Saraiv/Datasets/Miltiadous Dataset/denoised_txt_epochs/001/001_12.txt', '/Volumes/MMIS-Saraiv/Datasets/Miltiadous Dataset/denoised_txt_epochs/001/001_13.txt', '/Volumes/MMIS-Saraiv/Datasets/Miltiadous Dataset/denoised_txt_epochs/001/001_14.txt', '/Volumes/MMIS-Saraiv/Datasets/Miltiadous Dataset/denoised_txt_epochs/001/001_15.txt', '/Volumes/MMIS-Saraiv/Datasets/Miltiadous Dataset/denoised_txt_epochs/001/001_16.txt', '/Volumes/MMIS-Saraiv/Datasets/Miltiadous Dataset/denoised_txt_epochs/001/001_17.txt', '/Volumes/MMIS-Saraiv/Datasets/Miltiadous Dataset/denoised_txt_epochs/001/001_18.txt', '/Volumes/MMIS-Saraiv/Datasets/Miltiadous Dataset/denoised_txt_epochs/001/001_19.txt', '/Volumes/MMIS-Saraiv/Datasets/Miltiadous Dataset/denoised_txt_epochs/001/001_20.txt', '/Volumes/MMIS-Saraiv/Datasets/Miltiadous Dataset/denoised_txt_epochs/001/001_21.txt', '/Volumes/MMIS-Saraiv/Datasets/Miltiadous Dataset/denoised_txt_epochs/001/001_22.txt', '/Volumes/MMIS-Saraiv/Datasets/Miltiadous Dataset/denoised_txt_epochs/001/001_23.txt', '/Volumes/MMIS-Saraiv/Datasets/Miltiadous Dataset/denoised_txt_epochs/001/001_24.txt', '/Volumes/MMIS-Saraiv/Datasets/Miltiadous Dataset/denoised_txt_epochs/001/001_25.txt', '/Volumes/MMIS-Saraiv/Datasets/Miltiadous Dataset/denoised_txt_epochs/001/001_26.txt', '/Volumes/MMIS-Saraiv/Datasets/Miltiadous Dataset/denoised_txt_epochs/001/001_27.txt', '/Volumes/MMIS-Saraiv/Datasets/Miltiadous Dataset/denoised_txt_epochs/001/001_28.txt', '/Volumes/MMIS-Saraiv/Datasets/Miltiadous Dataset/denoised_txt_epochs/001/001_29.txt', '/Volumes/MMIS-Saraiv/Datasets/Miltiadous Dataset/denoised_txt_epochs/001/001_30.txt', '/Volumes/MMIS-Saraiv/Datasets/Miltiadous Dataset/denoised_txt_epochs/001/001_31.txt', '/Volumes/MMIS-Saraiv/Datasets/Miltiadous Dataset/denoised_txt_epochs/001/001_32.txt', '/Volumes/MMIS-Saraiv/Datasets/Miltiadous Dataset/denoised_txt_epochs/001/001_33.txt', '/Volumes/MMIS-Saraiv/Datasets/Miltiadous Dataset/denoised_txt_epochs/001/001_34.txt', '/Volumes/MMIS-Saraiv/Datasets/Miltiadous Dataset/denoised_txt_epochs/001/001_35.txt', '/Volumes/MMIS-Saraiv/Datasets/Miltiadous Dataset/denoised_txt_epochs/001/001_36.txt', '/Volumes/MMIS-Saraiv/Datasets/Miltiadous Dataset/denoised_txt_epochs/001/001_37.txt', '/Volumes/MMIS-Saraiv/Datasets/Miltiadous Dataset/denoised_txt_epochs/001/001_38.txt', '/Volumes/MMIS-Saraiv/Datasets/Miltiadous Dataset/denoised_txt_epochs/001/001_39.txt', '/Volumes/MMIS-Saraiv/Datasets/Miltiadous Dataset/denoised_txt_epochs/001/001_40.txt', '/Volumes/MMIS-Saraiv/Datasets/Miltiadous Dataset/denoised_txt_epochs/001/001_41.txt', '/Volumes/MMIS-Saraiv/Datasets/Miltiadous Dataset/denoised_txt_epochs/001/001_42.txt', '/Volumes/MMIS-Saraiv/Datasets/Miltiadous Dataset/denoised_txt_epochs/001/001_43.txt', '/Volumes/MMIS-Saraiv/Datasets/Miltiadous Dataset/denoised_txt_epochs/001/001_44.txt', '/Volumes/MMIS-Saraiv/Datasets/Miltiadous Dataset/denoised_txt_epochs/001/001_45.txt', '/Volumes/MMIS-Saraiv/Datasets/Miltiadous Dataset/denoised_txt_epochs/001/001_46.txt', '/Volumes/MMIS-Saraiv/Datasets/Miltiadous Dataset/denoised_txt_epochs/001/001_47.txt', '/Volumes/MMIS-Saraiv/Datasets/Miltiadous Dataset/denoised_txt_epochs/001/001_48.txt', '/Volumes/MMIS-Saraiv/Datasets/Miltiadous Dataset/denoised_txt_epochs/001/001_49.txt', '/Volumes/MMIS-Saraiv/Datasets/Miltiadous Dataset/denoised_txt_epochs/001/001_50.txt', '/Volumes/MMIS-Saraiv/Datasets/Miltiadous Dataset/denoised_txt_epochs/001/001_51.txt', '/Volumes/MMIS-Saraiv/Datasets/Miltiadous Dataset/denoised_txt_epochs/001/001_52.txt', '/Volumes/MMIS-Saraiv/Datasets/Miltiadous Dataset/denoised_txt_epochs/001/001_53.txt', '/Volumes/MMIS-Saraiv/Datasets/Miltiadous Dataset/denoised_txt_epochs/001/001_54.txt', '/Volumes/MMIS-Saraiv/Datasets/Miltiadous Dataset/denoised_txt_epochs/001/001_55.txt', '/Volumes/MMIS-Saraiv/Datasets/Miltiadous Dataset/denoised_txt_epochs/001/001_56.txt', '/Volumes/MMIS-Saraiv/Datasets/Miltiadous Dataset/denoised_txt_epochs/001/001_57.txt', '/Volumes/MMIS-Saraiv/Datasets/Miltiadous Dataset/denoised_txt_epochs/001/001_58.txt', '/Volumes/MMIS-Saraiv/Datasets/Miltiadous Dataset/denoised_txt_epochs/001/001_59.txt', '/Volumes/MMIS-Saraiv/Datasets/Miltiadous Dataset/denoised_txt_epochs/001/001_60.txt', '/Volumes/MMIS-Saraiv/Datasets/Miltiadous Dataset/denoised_txt_epochs/001/001_61.txt', '/Volumes/MMIS-Saraiv/Datasets/Miltiadous Dataset/denoised_txt_epochs/001/001_62.txt', '/Volumes/MMIS-Saraiv/Datasets/Miltiadous Dataset/denoised_txt_epochs/001/001_63.txt', '/Volumes/MMIS-Saraiv/Datasets/Miltiadous Dataset/denoised_txt_epochs/001/001_64.txt', '/Volumes/MMIS-Saraiv/Datasets/Miltiadous Dataset/denoised_txt_epochs/001/001_65.txt', '/Volumes/MMIS-Saraiv/Datasets/Miltiadous Dataset/denoised_txt_epochs/001/001_66.txt', '/Volumes/MMIS-Saraiv/Datasets/Miltiadous Dataset/denoised_txt_epochs/001/001_67.txt', '/Volumes/MMIS-Saraiv/Datasets/Miltiadous Dataset/denoised_txt_epochs/001/001_68.txt', '/Volumes/MMIS-Saraiv/Datasets/Miltiadous Dataset/denoised_txt_epochs/001/001_69.txt', '/Volumes/MMIS-Saraiv/Datasets/Miltiadous Dataset/denoised_txt_epochs/001/001_70.txt', '/Volumes/MMIS-Saraiv/Datasets/Miltiadous Dataset/denoised_txt_epochs/001/001_71.txt', '/Volumes/MMIS-Saraiv/Datasets/Miltiadous Dataset/denoised_txt_epochs/001/001_72.txt', '/Volumes/MMIS-Saraiv/Datasets/Miltiadous Dataset/denoised_txt_epochs/001/001_73.txt', '/Volumes/MMIS-Saraiv/Datasets/Miltiadous Dataset/denoised_txt_epochs/001/001_74.txt', '/Volumes/MMIS-Saraiv/Datasets/Miltiadous Dataset/denoised_txt_epochs/001/001_75.txt', '/Volumes/MMIS-Saraiv/Datasets/Miltiadous Dataset/denoised_txt_epochs/001/001_76.txt', '/Volumes/MMIS-Saraiv/Datasets/Miltiadous Dataset/denoised_txt_epochs/001/001_77.txt', '/Volumes/MMIS-Saraiv/Datasets/Miltiadous Dataset/denoised_txt_epochs/001/001_78.txt', '/Volumes/MMIS-Saraiv/Datasets/Miltiadous Dataset/denoised_txt_epochs/001/001_79.txt', '/Volumes/MMIS-Saraiv/Datasets/Miltiadous Dataset/denoised_txt_epochs/001/001_80.txt', '/Volumes/MMIS-Saraiv/Datasets/Miltiadous Dataset/denoised_txt_epochs/001/001_81.txt', '/Volumes/MMIS-Saraiv/Datasets/Miltiadous Dataset/denoised_txt_epochs/001/001_82.txt', '/Volumes/MMIS-Saraiv/Datasets/Miltiadous Dataset/denoised_txt_epochs/001/001_83.txt', '/Volumes/MMIS-Saraiv/Datasets/Miltiadous Dataset/denoised_txt_epochs/001/001_84.txt', '/Volumes/MMIS-Saraiv/Datasets/Miltiadous Dataset/denoised_txt_epochs/001/001_85.txt', '/Volumes/MMIS-Saraiv/Datasets/Miltiadous Dataset/denoised_txt_epochs/001/001_86.txt', '/Volumes/MMIS-Saraiv/Datasets/Miltiadous Dataset/denoised_txt_epochs/001/001_87.txt', '/Volumes/MMIS-Saraiv/Datasets/Miltiadous Dataset/denoised_txt_epochs/001/001_88.txt', '/Volumes/MMIS-Saraiv/Datasets/Miltiadous Dataset/denoised_txt_epochs/001/001_89.txt', '/Volumes/MMIS-Saraiv/Datasets/Miltiadous Dataset/denoised_txt_epochs/001/001_90.txt', '/Volumes/MMIS-Saraiv/Datasets/Miltiadous Dataset/denoised_txt_epochs/001/001_91.txt', '/Volumes/MMIS-Saraiv/Datasets/Miltiadous Dataset/denoised_txt_epochs/001/001_92.txt', '/Volumes/MMIS-Saraiv/Datasets/Miltiadous Dataset/denoised_txt_epochs/001/001_93.txt', '/Volumes/MMIS-Saraiv/Datasets/Miltiadous Dataset/denoised_txt_epochs/001/001_94.txt', '/Volumes/MMIS-Saraiv/Datasets/Miltiadous Dataset/denoised_txt_epochs/001/001_95.txt', '/Volumes/MMIS-Saraiv/Datasets/Miltiadous Dataset/denoised_txt_epochs/001/001_96.txt', '/Volumes/MMIS-Saraiv/Datasets/Miltiadous Dataset/denoised_txt_epochs/001/001_97.txt', '/Volumes/MMIS-Saraiv/Datasets/Miltiadous Dataset/denoised_txt_epochs/001/001_98.txt', '/Volumes/MMIS-Saraiv/Datasets/Miltiadous Dataset/denoised_txt_epochs/001/001_99.txt', '/Volumes/MMIS-Saraiv/Datasets/Miltiadous Dataset/denoised_txt_epochs/001/001_100.txt', '/Volumes/MMIS-Saraiv/Datasets/Miltiadous Dataset/denoised_txt_epochs/001/001_101.txt', '/Volumes/MMIS-Saraiv/Datasets/Miltiadous Dataset/denoised_txt_epochs/001/001_102.txt', '/Volumes/MMIS-Saraiv/Datasets/Miltiadous Dataset/denoised_txt_epochs/001/001_103.txt', '/Volumes/MMIS-Saraiv/Datasets/Miltiadous Dataset/denoised_txt_epochs/001/001_104.txt', '/Volumes/MMIS-Saraiv/Datasets/Miltiadous Dataset/denoised_txt_epochs/001/001_105.txt', '/Volumes/MMIS-Saraiv/Datasets/Miltiadous Dataset/denoised_txt_epochs/001/001_106.txt', '/Volumes/MMIS-Saraiv/Datasets/Miltiadous Dataset/denoised_txt_epochs/001/001_107.txt', '/Volumes/MMIS-Saraiv/Datasets/Miltiadous Dataset/denoised_txt_epochs/001/001_108.txt', '/Volumes/MMIS-Saraiv/Datasets/Miltiadous Dataset/denoised_txt_epochs/001/001_109.txt', '/Volumes/MMIS-Saraiv/Datasets/Miltiadous Dataset/denoised_txt_epochs/001/001_110.txt', '/Volumes/MMIS-Saraiv/Datasets/Miltiadous Dataset/denoised_txt_epochs/001/001_111.txt', '/Volumes/MMIS-Saraiv/Datasets/Miltiadous Dataset/denoised_txt_epochs/001/001_112.txt', '/Volumes/MMIS-Saraiv/Datasets/Miltiadous Dataset/denoised_txt_epochs/001/001_113.txt', '/Volumes/MMIS-Saraiv/Datasets/Miltiadous Dataset/denoised_txt_epochs/001/001_114.txt', '/Volumes/MMIS-Saraiv/Datasets/Miltiadous Dataset/denoised_txt_epochs/001/001_115.txt', '/Volumes/MMIS-Saraiv/Datasets/Miltiadous Dataset/denoised_txt_epochs/001/001_116.txt', '/Volumes/MMIS-Saraiv/Datasets/Miltiadous Dataset/denoised_txt_epochs/001/001_117.txt', '/Volumes/MMIS-Saraiv/Datasets/Miltiadous Dataset/denoised_txt_epochs/001/001_118.txt', '/Volumes/MMIS-Saraiv/Datasets/Miltiadous Dataset/denoised_txt_epochs/001/001_119.txt', '/Volumes/MMIS-Saraiv/Datasets/Miltiadous Dataset/denoised_txt_epochs/001/001_120.txt', '/Volumes/MMIS-Saraiv/Datasets/Miltiadous Dataset/denoised_txt_epochs/001/001_121.txt', '/Volumes/MMIS-Saraiv/Datasets/Miltiadous Dataset/denoised_txt_epochs/001/001_122.txt', '/Volumes/MMIS-Saraiv/Datasets/Miltiadous Dataset/denoised_txt_epochs/001/001_123.txt', '/Volumes/MMIS-Saraiv/Datasets/Miltiadous Dataset/denoised_txt_epochs/001/001_124.txt', '/Volumes/MMIS-Saraiv/Datasets/Miltiadous Dataset/denoised_txt_epochs/001/001_125.txt', '/Volumes/MMIS-Saraiv/Datasets/Miltiadous Dataset/denoised_txt_epochs/001/001_126.txt', '/Volumes/MMIS-Saraiv/Datasets/Miltiadous Dataset/denoised_txt_epochs/001/001_127.txt', '/Volumes/MMIS-Saraiv/Datasets/Miltiadous Dataset/denoised_txt_epochs/001/001_128.txt', '/Volumes/MMIS-Saraiv/Datasets/Miltiadous Dataset/denoised_txt_epochs/001/001_129.txt', '/Volumes/MMIS-Saraiv/Datasets/Miltiadous Dataset/denoised_txt_epochs/001/001_130.txt', '/Volumes/MMIS-Saraiv/Datasets/Miltiadous Dataset/denoised_txt_epochs/001/001_131.txt', '/Volumes/MMIS-Saraiv/Datasets/Miltiadous Dataset/denoised_txt_epochs/001/001_132.txt', '/Volumes/MMIS-Saraiv/Datasets/Miltiadous Dataset/denoised_txt_epochs/001/001_133.txt', '/Volumes/MMIS-Saraiv/Datasets/Miltiadous Dataset/denoised_txt_epochs/001/001_134.txt', '/Volumes/MMIS-Saraiv/Datasets/Miltiadous Dataset/denoised_txt_epochs/001/001_135.txt', '/Volumes/MMIS-Saraiv/Datasets/Miltiadous Dataset/denoised_txt_epochs/001/001_136.txt', '/Volumes/MMIS-Saraiv/Datasets/Miltiadous Dataset/denoised_txt_epochs/001/001_137.txt', '/Volumes/MMIS-Saraiv/Datasets/Miltiadous Dataset/denoised_txt_epochs/001/001_138.txt', '/Volumes/MMIS-Saraiv/Datasets/Miltiadous Dataset/denoised_txt_epochs/001/001_139.txt', '/Volumes/MMIS-Saraiv/Datasets/Miltiadous Dataset/denoised_txt_epochs/001/001_140.txt', '/Volumes/MMIS-Saraiv/Datasets/Miltiadous Dataset/denoised_txt_epochs/001/001_141.txt', '/Volumes/MMIS-Saraiv/Datasets/Miltiadous Dataset/denoised_txt_epochs/001/001_142.txt', '/Volumes/MMIS-Saraiv/Datasets/Miltiadous Dataset/denoised_txt_epochs/001/001_143.txt', '/Volumes/MMIS-Saraiv/Datasets/Miltiadous Dataset/denoised_txt_epochs/001/001_144.txt', '/Volumes/MMIS-Saraiv/Datasets/Miltiadous Dataset/denoised_txt_epochs/001/001_145.txt', '/Volumes/MMIS-Saraiv/Datasets/Miltiadous Dataset/denoised_txt_epochs/001/001_146.txt', '/Volumes/MMIS-Saraiv/Datasets/Miltiadous Dataset/denoised_txt_epochs/001/001_147.txt', '/Volumes/MMIS-Saraiv/Datasets/Miltiadous Dataset/denoised_txt_epochs/001/001_148.txt', '/Volumes/MMIS-Saraiv/Datasets/Miltiadous Dataset/denoised_txt_epochs/001/001_149.txt', '/Volumes/MMIS-Saraiv/Datasets/Miltiadous Dataset/denoised_txt_epochs/001/001_150.txt', '/Volumes/MMIS-Saraiv/Datasets/Miltiadous Dataset/denoised_txt_epochs/001/001_151.txt', '/Volumes/MMIS-Saraiv/Datasets/Miltiadous Dataset/denoised_txt_epochs/001/001_152.txt', '/Volumes/MMIS-Saraiv/Datasets/Miltiadous Dataset/denoised_txt_epochs/001/001_153.txt', '/Volumes/MMIS-Saraiv/Datasets/Miltiadous Dataset/denoised_txt_epochs/001/001_154.txt', '/Volumes/MMIS-Saraiv/Datasets/Miltiadous Dataset/denoised_txt_epochs/001/001_155.txt', '/Volumes/MMIS-Saraiv/Datasets/Miltiadous Dataset/denoised_txt_epochs/001/001_156.txt', '/Volumes/MMIS-Saraiv/Datasets/Miltiadous Dataset/denoised_txt_epochs/001/001_157.txt', '/Volumes/MMIS-Saraiv/Datasets/Miltiadous Dataset/denoised_txt_epochs/001/001_158.txt', '/Volumes/MMIS-Saraiv/Datasets/Miltiadous Dataset/denoised_txt_epochs/001/001_159.txt', '/Volumes/MMIS-Saraiv/Datasets/Miltiadous Dataset/denoised_txt_epochs/001/001_160.txt', '/Volumes/MMIS-Saraiv/Datasets/Miltiadous Dataset/denoised_txt_epochs/001/001_161.txt', '/Volumes/MMIS-Saraiv/Datasets/Miltiadous Dataset/denoised_txt_epochs/001/001_162.txt', '/Volumes/MMIS-Saraiv/Datasets/Miltiadous Dataset/denoised_txt_epochs/001/001_163.txt', '/Volumes/MMIS-Saraiv/Datasets/Miltiadous Dataset/denoised_txt_epochs/001/001_164.txt', '/Volumes/MMIS-Saraiv/Datasets/Miltiadous Dataset/denoised_txt_epochs/001/001_165.txt', '/Volumes/MMIS-Saraiv/Datasets/Miltiadous Dataset/denoised_txt_epochs/001/001_166.txt', '/Volumes/MMIS-Saraiv/Datasets/Miltiadous Dataset/denoised_txt_epochs/001/001_167.txt', '/Volumes/MMIS-Saraiv/Datasets/Miltiadous Dataset/denoised_txt_epochs/001/001_168.txt', '/Volumes/MMIS-Saraiv/Datasets/Miltiadous Dataset/denoised_txt_epochs/001/001_169.txt', '/Volumes/MMIS-Saraiv/Datasets/Miltiadous Dataset/denoised_txt_epochs/001/001_170.txt', '/Volumes/MMIS-Saraiv/Datasets/Miltiadous Dataset/denoised_txt_epochs/001/001_171.txt', '/Volumes/MMIS-Saraiv/Datasets/Miltiadous Dataset/denoised_txt_epochs/001/001_172.txt', '/Volumes/MMIS-Saraiv/Datasets/Miltiadous Dataset/denoised_txt_epochs/001/001_173.txt', '/Volumes/MMIS-Saraiv/Datasets/Miltiadous Dataset/denoised_txt_epochs/001/001_174.txt', '/Volumes/MMIS-Saraiv/Datasets/Miltiadous Dataset/denoised_txt_epochs/001/001_175.txt', '/Volumes/MMIS-Saraiv/Datasets/Miltiadous Dataset/denoised_txt_epochs/001/001_176.txt', '/Volumes/MMIS-Saraiv/Datasets/Miltiadous Dataset/denoised_txt_epochs/001/001_177.txt', '/Volumes/MMIS-Saraiv/Datasets/Miltiadous Dataset/denoised_txt_epochs/001/001_178.txt', '/Volumes/MMIS-Saraiv/Datasets/Miltiadous Dataset/denoised_txt_epochs/001/001_179.txt', '/Volumes/MMIS-Saraiv/Datasets/Miltiadous Dataset/denoised_txt_epochs/001/001_180.txt', '/Volumes/MMIS-Saraiv/Datasets/Miltiadous Dataset/denoised_txt_epochs/001/001_181.txt', '/Volumes/MMIS-Saraiv/Datasets/Miltiadous Dataset/denoised_txt_epochs/001/001_182.txt', '/Volumes/MMIS-Saraiv/Datasets/Miltiadous Dataset/denoised_txt_epochs/001/001_183.txt', '/Volumes/MMIS-Saraiv/Datasets/Miltiadous Dataset/denoised_txt_epochs/001/001_184.txt', '/Volumes/MMIS-Saraiv/Datasets/Miltiadous Dataset/denoised_txt_epochs/001/001_185.txt', '/Volumes/MMIS-Saraiv/Datasets/Miltiadous Dataset/denoised_txt_epochs/001/001_186.txt', '/Volumes/MMIS-Saraiv/Datasets/Miltiadous Dataset/denoised_txt_epochs/001/001_187.txt', '/Volumes/MMIS-Saraiv/Datasets/Miltiadous Dataset/denoised_txt_epochs/001/001_188.txt', '/Volumes/MMIS-Saraiv/Datasets/Miltiadous Dataset/denoised_txt_epochs/001/001_189.txt', '/Volumes/MMIS-Saraiv/Datasets/Miltiadous Dataset/denoised_txt_epochs/001/001_190.txt', '/Volumes/MMIS-Saraiv/Datasets/Miltiadous Dataset/denoised_txt_epochs/001/001_191.txt', '/Volumes/MMIS-Saraiv/Datasets/Miltiadous Dataset/denoised_txt_epochs/001/001_192.txt', '/Volumes/MMIS-Saraiv/Datasets/Miltiadous Dataset/denoised_txt_epochs/001/001_193.txt', '/Volumes/MMIS-Saraiv/Datasets/Miltiadous Dataset/denoised_txt_epochs/001/001_194.txt', '/Volumes/MMIS-Saraiv/Datasets/Miltiadous Dataset/denoised_txt_epochs/001/001_195.txt', '/Volumes/MMIS-Saraiv/Datasets/Miltiadous Dataset/denoised_txt_epochs/001/001_196.txt', '/Volumes/MMIS-Saraiv/Datasets/Miltiadous Dataset/denoised_txt_epochs/001/001_197.txt', '/Volumes/MMIS-Saraiv/Datasets/Miltiadous Dataset/denoised_txt_epochs/001/001_198.txt', '/Volumes/MMIS-Saraiv/Datasets/Miltiadous Dataset/denoised_txt_epochs/001/001_199.txt', '/Volumes/MMIS-Saraiv/Datasets/Miltiadous Dataset/denoised_txt_epochs/001/001_200.txt', '/Volumes/MMIS-Saraiv/Datasets/Miltiadous Dataset/denoised_txt_epochs/001/001_201.txt', '/Volumes/MMIS-Saraiv/Datasets/Miltiadous Dataset/denoised_txt_epochs/001/001_202.txt', '/Volumes/MMIS-Saraiv/Datasets/Miltiadous Dataset/denoised_txt_epochs/001/001_203.txt', '/Volumes/MMIS-Saraiv/Datasets/Miltiadous Dataset/denoised_txt_epochs/001/001_204.txt', '/Volumes/MMIS-Saraiv/Datasets/Miltiadous Dataset/denoised_txt_epochs/001/001_205.txt', '/Volumes/MMIS-Saraiv/Datasets/Miltiadous Dataset/denoised_txt_epochs/001/001_206.txt', '/Volumes/MMIS-Saraiv/Datasets/Miltiadous Dataset/denoised_txt_epochs/001/001_207.txt', '/Volumes/MMIS-Saraiv/Datasets/Miltiadous Dataset/denoised_txt_epochs/001/001_208.txt', '/Volumes/MMIS-Saraiv/Datasets/Miltiadous Dataset/denoised_txt_epochs/001/001_209.txt', '/Volumes/MMIS-Saraiv/Datasets/Miltiadous Dataset/denoised_txt_epochs/001/001_210.txt', '/Volumes/MMIS-Saraiv/Datasets/Miltiadous Dataset/denoised_txt_epochs/001/001_211.txt', '/Volumes/MMIS-Saraiv/Datasets/Miltiadous Dataset/denoised_txt_epochs/001/001_212.txt', '/Volumes/MMIS-Saraiv/Datasets/Miltiadous Dataset/denoised_txt_epochs/001/001_213.txt', '/Volumes/MMIS-Saraiv/Datasets/Miltiadous Dataset/denoised_txt_epochs/001/001_214.txt', '/Volumes/MMIS-Saraiv/Datasets/Miltiadous Dataset/denoised_txt_epochs/001/001_215.txt', '/Volumes/MMIS-Saraiv/Datasets/Miltiadous Dataset/denoised_txt_epochs/001/001_216.txt', '/Volumes/MMIS-Saraiv/Datasets/Miltiadous Dataset/denoised_txt_epochs/001/001_217.txt', '/Volumes/MMIS-Saraiv/Datasets/Miltiadous Dataset/denoised_txt_epochs/001/001_218.txt', '/Volumes/MMIS-Saraiv/Datasets/Miltiadous Dataset/denoised_txt_epochs/001/001_219.txt', '/Volumes/MMIS-Saraiv/Datasets/Miltiadous Dataset/denoised_txt_epochs/001/001_220.txt', '/Volumes/MMIS-Saraiv/Datasets/Miltiadous Dataset/denoised_txt_epochs/001/001_221.txt', '/Volumes/MMIS-Saraiv/Datasets/Miltiadous Dataset/denoised_txt_epochs/001/001_222.txt', '/Volumes/MMIS-Saraiv/Datasets/Miltiadous Dataset/denoised_txt_epochs/001/001_223.txt', '/Volumes/MMIS-Saraiv/Datasets/Miltiadous Dataset/denoised_txt_epochs/001/001_224.txt', '/Volumes/MMIS-Saraiv/Datasets/Miltiadous Dataset/denoised_txt_epochs/001/001_225.txt', '/Volumes/MMIS-Saraiv/Datasets/Miltiadous Dataset/denoised_txt_epochs/001/001_226.txt', '/Volumes/MMIS-Saraiv/Datasets/Miltiadous Dataset/denoised_txt_epochs/001/001_227.txt', '/Volumes/MMIS-Saraiv/Datasets/Miltiadous Dataset/denoised_txt_epochs/001/001_228.txt', '/Volumes/MMIS-Saraiv/Datasets/Miltiadous Dataset/denoised_txt_epochs/001/001_229.txt', '/Volumes/MMIS-Saraiv/Datasets/Miltiadous Dataset/denoised_txt_epochs/001/001_230.txt', '/Volumes/MMIS-Saraiv/Datasets/Miltiadous Dataset/denoised_txt_epochs/001/001_231.txt', '/Volumes/MMIS-Saraiv/Datasets/Miltiadous Dataset/denoised_txt_epochs/001/001_232.txt', '/Volumes/MMIS-Saraiv/Datasets/Miltiadous Dataset/denoised_txt_epochs/001/001_233.txt', '/Volumes/MMIS-Saraiv/Datasets/Miltiadous Dataset/denoised_txt_epochs/001/001_234.txt', '/Volumes/MMIS-Saraiv/Datasets/Miltiadous Dataset/denoised_txt_epochs/001/001_235.txt', '/Volumes/MMIS-Saraiv/Datasets/Miltiadous Dataset/denoised_txt_epochs/001/001_236.txt', '/Volumes/MMIS-Saraiv/Datasets/Miltiadous Dataset/denoised_txt_epochs/001/001_237.txt', '/Volumes/MMIS-Saraiv/Datasets/Miltiadous Dataset/denoised_txt_epochs/001/001_238.txt', '/Volumes/MMIS-Saraiv/Datasets/Miltiadous Dataset/denoised_txt_epochs/001/001_239.txt', '/Volumes/MMIS-Saraiv/Datasets/Miltiadous Dataset/denoised_txt_epochs/001/001_240.txt', '/Volumes/MMIS-Saraiv/Datasets/Miltiadous Dataset/denoised_txt_epochs/001/001_241.txt', '/Volumes/MMIS-Saraiv/Datasets/Miltiadous Dataset/denoised_txt_epochs/001/001_242.txt', '/Volumes/MMIS-Saraiv/Datasets/Miltiadous Dataset/denoised_txt_epochs/001/001_243.txt', '/Volumes/MMIS-Saraiv/Datasets/Miltiadous Dataset/denoised_txt_epochs/001/001_244.txt', '/Volumes/MMIS-Saraiv/Datasets/Miltiadous Dataset/denoised_txt_epochs/001/001_245.txt', '/Volumes/MMIS-Saraiv/Datasets/Miltiadous Dataset/denoised_txt_epochs/001/001_246.txt', '/Volumes/MMIS-Saraiv/Datasets/Miltiadous Dataset/denoised_txt_epochs/001/001_247.txt', '/Volumes/MMIS-Saraiv/Datasets/Miltiadous Dataset/denoised_txt_epochs/001/001_248.txt', '/Volumes/MMIS-Saraiv/Datasets/Miltiadous Dataset/denoised_txt_epochs/001/001_249.txt', '/Volumes/MMIS-Saraiv/Datasets/Miltiadous Dataset/denoised_txt_epochs/001/001_250.txt', '/Volumes/MMIS-Saraiv/Datasets/Miltiadous Dataset/denoised_txt_epochs/001/001_251.txt', '/Volumes/MMIS-Saraiv/Datasets/Miltiadous Dataset/denoised_txt_epochs/001/001_252.txt', '/Volumes/MMIS-Saraiv/Datasets/Miltiadous Dataset/denoised_txt_epochs/001/001_253.txt', '/Volumes/MMIS-Saraiv/Datasets/Miltiadous Dataset/denoised_txt_epochs/001/001_254.txt', '/Volumes/MMIS-Saraiv/Datasets/Miltiadous Dataset/denoised_txt_epochs/001/001_255.txt', '/Volumes/MMIS-Saraiv/Datasets/Miltiadous Dataset/denoised_txt_epochs/001/001_256.txt', '/Volumes/MMIS-Saraiv/Datasets/Miltiadous Dataset/denoised_txt_epochs/001/001_257.txt', '/Volumes/MMIS-Saraiv/Datasets/Miltiadous Dataset/denoised_txt_epochs/001/001_258.txt', '/Volumes/MMIS-Saraiv/Datasets/Miltiadous Dataset/denoised_txt_epochs/001/001_259.txt', '/Volumes/MMIS-Saraiv/Datasets/Miltiadous Dataset/denoised_txt_epochs/001/001_260.txt', '/Volumes/MMIS-Saraiv/Datasets/Miltiadous Dataset/denoised_txt_epochs/001/001_261.txt', '/Volumes/MMIS-Saraiv/Datasets/Miltiadous Dataset/denoised_txt_epochs/001/001_262.txt', '/Volumes/MMIS-Saraiv/Datasets/Miltiadous Dataset/denoised_txt_epochs/001/001_263.txt', '/Volumes/MMIS-Saraiv/Datasets/Miltiadous Dataset/denoised_txt_epochs/001/001_264.txt', '/Volumes/MMIS-Saraiv/Datasets/Miltiadous Dataset/denoised_txt_epochs/001/001_265.txt', '/Volumes/MMIS-Saraiv/Datasets/Miltiadous Dataset/denoised_txt_epochs/001/001_266.txt', '/Volumes/MMIS-Saraiv/Datasets/Miltiadous Dataset/denoised_txt_epochs/001/001_267.txt', '/Volumes/MMIS-Saraiv/Datasets/Miltiadous Dataset/denoised_txt_epochs/001/001_268.txt', '/Volumes/MMIS-Saraiv/Datasets/Miltiadous Dataset/denoised_txt_epochs/001/001_269.txt', '/Volumes/MMIS-Saraiv/Datasets/Miltiadous Dataset/denoised_txt_epochs/001/001_270.txt', '/Volumes/MMIS-Saraiv/Datasets/Miltiadous Dataset/denoised_txt_epochs/001/001_271.txt', '/Volumes/MMIS-Saraiv/Datasets/Miltiadous Dataset/denoised_txt_epochs/001/001_272.txt', '/Volumes/MMIS-Saraiv/Datasets/Miltiadous Dataset/denoised_txt_epochs/001/001_273.txt', '/Volumes/MMIS-Saraiv/Datasets/Miltiadous Dataset/denoised_txt_epochs/001/001_274.txt']\n"
     ]
    },
    {
     "ename": "ValueError",
     "evalue": "could not convert string to float: '1.6493 2.2824 1.2492 -3.5361 0.1302 2.0646 4.3676 -1.5261 -2.2736 -0.5797 1.7576 1.7902 -5.2815 0.036 1.2154 0.5741 -1.3586 -4.1024 -0.2458'",
     "output_type": "error",
     "traceback": [
      "\u001B[0;31m---------------------------------------------------------------------------\u001B[0m",
      "\u001B[0;31mTypeError\u001B[0m                                 Traceback (most recent call last)",
      "File \u001B[0;32mpandas/_libs/parsers.pyx:1113\u001B[0m, in \u001B[0;36mpandas._libs.parsers.TextReader._convert_tokens\u001B[0;34m()\u001B[0m\n",
      "\u001B[0;31mTypeError\u001B[0m: Cannot cast array data from dtype('O') to dtype('float64') according to the rule 'safe'",
      "\nDuring handling of the above exception, another exception occurred:\n",
      "\u001B[0;31mValueError\u001B[0m                                Traceback (most recent call last)",
      "Input \u001B[0;32mIn [8]\u001B[0m, in \u001B[0;36m<cell line: 2>\u001B[0;34m()\u001B[0m\n\u001B[1;32m     10\u001B[0m \u001B[38;5;28mprint\u001B[39m(all_files)\n\u001B[1;32m     11\u001B[0m \u001B[38;5;28;01mfor\u001B[39;00m file \u001B[38;5;129;01min\u001B[39;00m all_files:\n\u001B[0;32m---> 12\u001B[0m     data \u001B[38;5;241m=\u001B[39m \u001B[43mpd\u001B[49m\u001B[38;5;241;43m.\u001B[39;49m\u001B[43mread_csv\u001B[49m\u001B[43m(\u001B[49m\u001B[43mfile\u001B[49m\u001B[43m,\u001B[49m\u001B[43m \u001B[49m\u001B[43msep\u001B[49m\u001B[38;5;241;43m=\u001B[39;49m\u001B[38;5;124;43m'\u001B[39;49m\u001B[38;5;130;43;01m\\t\u001B[39;49;00m\u001B[38;5;124;43m'\u001B[39;49m\u001B[43m,\u001B[49m\u001B[43m \u001B[49m\u001B[43mdtype\u001B[49m\u001B[38;5;241;43m=\u001B[39;49m\u001B[38;5;28;43mfloat\u001B[39;49m\u001B[43m)\u001B[49m  \u001B[38;5;66;03m# time x channels\u001B[39;00m\n\u001B[1;32m     13\u001B[0m     \u001B[38;5;66;03m# select electrodes O1 (18), Oz (19), O2 (20)\u001B[39;00m\n\u001B[1;32m     14\u001B[0m     freqs1, power1 \u001B[38;5;241m=\u001B[39m welch_spectrum(data\u001B[38;5;241m.\u001B[39miloc[:, \u001B[38;5;241m17\u001B[39m], sampling_rate\u001B[38;5;241m=\u001B[39msf, decibel\u001B[38;5;241m=\u001B[39m\u001B[38;5;28;01mTrue\u001B[39;00m, size\u001B[38;5;241m=\u001B[39m\u001B[38;5;28mint\u001B[39m(sf\u001B[38;5;241m*\u001B[39mMULTIPLIER\u001B[38;5;241m-\u001B[39m\u001B[38;5;241m1\u001B[39m))\n",
      "File \u001B[0;32m~/PycharmProjects/LTBio/venv/lib/python3.10/site-packages/pandas/util/_decorators.py:311\u001B[0m, in \u001B[0;36mdeprecate_nonkeyword_arguments.<locals>.decorate.<locals>.wrapper\u001B[0;34m(*args, **kwargs)\u001B[0m\n\u001B[1;32m    305\u001B[0m \u001B[38;5;28;01mif\u001B[39;00m \u001B[38;5;28mlen\u001B[39m(args) \u001B[38;5;241m>\u001B[39m num_allow_args:\n\u001B[1;32m    306\u001B[0m     warnings\u001B[38;5;241m.\u001B[39mwarn(\n\u001B[1;32m    307\u001B[0m         msg\u001B[38;5;241m.\u001B[39mformat(arguments\u001B[38;5;241m=\u001B[39marguments),\n\u001B[1;32m    308\u001B[0m         \u001B[38;5;167;01mFutureWarning\u001B[39;00m,\n\u001B[1;32m    309\u001B[0m         stacklevel\u001B[38;5;241m=\u001B[39mstacklevel,\n\u001B[1;32m    310\u001B[0m     )\n\u001B[0;32m--> 311\u001B[0m \u001B[38;5;28;01mreturn\u001B[39;00m \u001B[43mfunc\u001B[49m\u001B[43m(\u001B[49m\u001B[38;5;241;43m*\u001B[39;49m\u001B[43margs\u001B[49m\u001B[43m,\u001B[49m\u001B[43m \u001B[49m\u001B[38;5;241;43m*\u001B[39;49m\u001B[38;5;241;43m*\u001B[39;49m\u001B[43mkwargs\u001B[49m\u001B[43m)\u001B[49m\n",
      "File \u001B[0;32m~/PycharmProjects/LTBio/venv/lib/python3.10/site-packages/pandas/io/parsers/readers.py:680\u001B[0m, in \u001B[0;36mread_csv\u001B[0;34m(filepath_or_buffer, sep, delimiter, header, names, index_col, usecols, squeeze, prefix, mangle_dupe_cols, dtype, engine, converters, true_values, false_values, skipinitialspace, skiprows, skipfooter, nrows, na_values, keep_default_na, na_filter, verbose, skip_blank_lines, parse_dates, infer_datetime_format, keep_date_col, date_parser, dayfirst, cache_dates, iterator, chunksize, compression, thousands, decimal, lineterminator, quotechar, quoting, doublequote, escapechar, comment, encoding, encoding_errors, dialect, error_bad_lines, warn_bad_lines, on_bad_lines, delim_whitespace, low_memory, memory_map, float_precision, storage_options)\u001B[0m\n\u001B[1;32m    665\u001B[0m kwds_defaults \u001B[38;5;241m=\u001B[39m _refine_defaults_read(\n\u001B[1;32m    666\u001B[0m     dialect,\n\u001B[1;32m    667\u001B[0m     delimiter,\n\u001B[0;32m   (...)\u001B[0m\n\u001B[1;32m    676\u001B[0m     defaults\u001B[38;5;241m=\u001B[39m{\u001B[38;5;124m\"\u001B[39m\u001B[38;5;124mdelimiter\u001B[39m\u001B[38;5;124m\"\u001B[39m: \u001B[38;5;124m\"\u001B[39m\u001B[38;5;124m,\u001B[39m\u001B[38;5;124m\"\u001B[39m},\n\u001B[1;32m    677\u001B[0m )\n\u001B[1;32m    678\u001B[0m kwds\u001B[38;5;241m.\u001B[39mupdate(kwds_defaults)\n\u001B[0;32m--> 680\u001B[0m \u001B[38;5;28;01mreturn\u001B[39;00m \u001B[43m_read\u001B[49m\u001B[43m(\u001B[49m\u001B[43mfilepath_or_buffer\u001B[49m\u001B[43m,\u001B[49m\u001B[43m \u001B[49m\u001B[43mkwds\u001B[49m\u001B[43m)\u001B[49m\n",
      "File \u001B[0;32m~/PycharmProjects/LTBio/venv/lib/python3.10/site-packages/pandas/io/parsers/readers.py:581\u001B[0m, in \u001B[0;36m_read\u001B[0;34m(filepath_or_buffer, kwds)\u001B[0m\n\u001B[1;32m    578\u001B[0m     \u001B[38;5;28;01mreturn\u001B[39;00m parser\n\u001B[1;32m    580\u001B[0m \u001B[38;5;28;01mwith\u001B[39;00m parser:\n\u001B[0;32m--> 581\u001B[0m     \u001B[38;5;28;01mreturn\u001B[39;00m \u001B[43mparser\u001B[49m\u001B[38;5;241;43m.\u001B[39;49m\u001B[43mread\u001B[49m\u001B[43m(\u001B[49m\u001B[43mnrows\u001B[49m\u001B[43m)\u001B[49m\n",
      "File \u001B[0;32m~/PycharmProjects/LTBio/venv/lib/python3.10/site-packages/pandas/io/parsers/readers.py:1254\u001B[0m, in \u001B[0;36mTextFileReader.read\u001B[0;34m(self, nrows)\u001B[0m\n\u001B[1;32m   1252\u001B[0m nrows \u001B[38;5;241m=\u001B[39m validate_integer(\u001B[38;5;124m\"\u001B[39m\u001B[38;5;124mnrows\u001B[39m\u001B[38;5;124m\"\u001B[39m, nrows)\n\u001B[1;32m   1253\u001B[0m \u001B[38;5;28;01mtry\u001B[39;00m:\n\u001B[0;32m-> 1254\u001B[0m     index, columns, col_dict \u001B[38;5;241m=\u001B[39m \u001B[38;5;28;43mself\u001B[39;49m\u001B[38;5;241;43m.\u001B[39;49m\u001B[43m_engine\u001B[49m\u001B[38;5;241;43m.\u001B[39;49m\u001B[43mread\u001B[49m\u001B[43m(\u001B[49m\u001B[43mnrows\u001B[49m\u001B[43m)\u001B[49m\n\u001B[1;32m   1255\u001B[0m \u001B[38;5;28;01mexcept\u001B[39;00m \u001B[38;5;167;01mException\u001B[39;00m:\n\u001B[1;32m   1256\u001B[0m     \u001B[38;5;28mself\u001B[39m\u001B[38;5;241m.\u001B[39mclose()\n",
      "File \u001B[0;32m~/PycharmProjects/LTBio/venv/lib/python3.10/site-packages/pandas/io/parsers/c_parser_wrapper.py:225\u001B[0m, in \u001B[0;36mCParserWrapper.read\u001B[0;34m(self, nrows)\u001B[0m\n\u001B[1;32m    223\u001B[0m \u001B[38;5;28;01mtry\u001B[39;00m:\n\u001B[1;32m    224\u001B[0m     \u001B[38;5;28;01mif\u001B[39;00m \u001B[38;5;28mself\u001B[39m\u001B[38;5;241m.\u001B[39mlow_memory:\n\u001B[0;32m--> 225\u001B[0m         chunks \u001B[38;5;241m=\u001B[39m \u001B[38;5;28;43mself\u001B[39;49m\u001B[38;5;241;43m.\u001B[39;49m\u001B[43m_reader\u001B[49m\u001B[38;5;241;43m.\u001B[39;49m\u001B[43mread_low_memory\u001B[49m\u001B[43m(\u001B[49m\u001B[43mnrows\u001B[49m\u001B[43m)\u001B[49m\n\u001B[1;32m    226\u001B[0m         \u001B[38;5;66;03m# destructive to chunks\u001B[39;00m\n\u001B[1;32m    227\u001B[0m         data \u001B[38;5;241m=\u001B[39m _concatenate_chunks(chunks)\n",
      "File \u001B[0;32mpandas/_libs/parsers.pyx:805\u001B[0m, in \u001B[0;36mpandas._libs.parsers.TextReader.read_low_memory\u001B[0;34m()\u001B[0m\n",
      "File \u001B[0;32mpandas/_libs/parsers.pyx:883\u001B[0m, in \u001B[0;36mpandas._libs.parsers.TextReader._read_rows\u001B[0;34m()\u001B[0m\n",
      "File \u001B[0;32mpandas/_libs/parsers.pyx:1026\u001B[0m, in \u001B[0;36mpandas._libs.parsers.TextReader._convert_column_data\u001B[0;34m()\u001B[0m\n",
      "File \u001B[0;32mpandas/_libs/parsers.pyx:1119\u001B[0m, in \u001B[0;36mpandas._libs.parsers.TextReader._convert_tokens\u001B[0;34m()\u001B[0m\n",
      "\u001B[0;31mValueError\u001B[0m: could not convert string to float: '1.6493 2.2824 1.2492 -3.5361 0.1302 2.0646 4.3676 -1.5261 -2.2736 -0.5797 1.7576 1.7902 -5.2815 0.036 1.2154 0.5741 -1.3586 -4.1024 -0.2458'"
     ]
    }
   ],
   "execution_count": 8
  },
  {
   "metadata": {
    "ExecuteTime": {
     "end_time": "2024-12-02T14:55:03.426633Z",
     "start_time": "2024-12-02T14:55:03.422269Z"
    }
   },
   "cell_type": "code",
   "source": [
    "res.index = res['Subject']\n",
    "res = res.drop(columns=['Subject'])\n",
    "res"
   ],
   "id": "5f7452f0c78b9cf1",
   "outputs": [],
   "execution_count": null
  },
  {
   "metadata": {
    "ExecuteTime": {
     "start_time": "2024-12-02T14:55:03.426127Z"
    }
   },
   "cell_type": "code",
   "source": [
    "# Save to CSV\n",
    "res.to_csv(out_path)"
   ],
   "id": "79ebdf9447cc8b0f",
   "outputs": [],
   "execution_count": null
  },
  {
   "metadata": {
    "ExecuteTime": {
     "start_time": "2024-12-02T14:55:03.427835Z"
    }
   },
   "cell_type": "code",
   "source": [],
   "id": "f689440c7b30a893",
   "outputs": [],
   "execution_count": null
  }
 ],
 "metadata": {
  "kernelspec": {
   "display_name": "Python 3",
   "language": "python",
   "name": "python3"
  },
  "language_info": {
   "codemirror_mode": {
    "name": "ipython",
    "version": 2
   },
   "file_extension": ".py",
   "mimetype": "text/x-python",
   "name": "python",
   "nbconvert_exporter": "python",
   "pygments_lexer": "ipython2",
   "version": "2.7.6"
  }
 },
 "nbformat": 4,
 "nbformat_minor": 5
}
