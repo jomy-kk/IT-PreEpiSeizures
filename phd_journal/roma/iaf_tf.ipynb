{
 "cells": [
  {
   "cell_type": "code",
   "id": "initial_id",
   "metadata": {
    "collapsed": true,
    "ExecuteTime": {
     "end_time": "2024-10-15T12:51:24.152812Z",
     "start_time": "2024-10-15T12:51:24.033434Z"
    }
   },
   "source": [
    "from glob import glob\n",
    "from os.path import join, basename\n",
    "\n",
    "import pandas as pd\n",
    "import numpy as np\n",
    "from biosppy.signals.tools import welch_spectrum\n",
    "import seaborn as sns\n",
    "import matplotlib.pyplot as plt"
   ],
   "execution_count": 1,
   "outputs": []
  },
  {
   "metadata": {
    "ExecuteTime": {
     "end_time": "2024-10-15T12:51:47.994172Z",
     "start_time": "2024-10-15T12:51:47.990236Z"
    }
   },
   "cell_type": "code",
   "source": [
    "common_path = \"/Volumes/MMIS-Saraiv/Datasets/Izmir/EC/as_given_denoised_2s-epoched\"\n",
    "#common_path = \"/Volumes/MMIS-Saraiv/Datasets/Sapienza/denoised_txt_epochs_matlab\"\n",
    "out_path = '/Volumes/MMIS-Saraiv/Datasets/Izmir/iaf_tf_my-boudaries.csv'\n",
    "sf = 128.0"
   ],
   "id": "7c37a64a692db3fe",
   "execution_count": 6,
   "outputs": []
  },
  {
   "metadata": {
    "ExecuteTime": {
     "end_time": "2024-10-15T12:51:48.364512Z",
     "start_time": "2024-10-15T12:51:48.326380Z"
    }
   },
   "cell_type": "code",
   "source": [
    "all_subjects = glob(join(common_path, '*'))\n",
    "all_subjects"
   ],
   "id": "2b72e165101177bc",
   "execution_count": 7,
   "outputs": []
  },
  {
   "metadata": {
    "ExecuteTime": {
     "end_time": "2024-10-15T12:51:48.662554Z",
     "start_time": "2024-10-15T12:51:48.657661Z"
    }
   },
   "cell_type": "code",
   "source": "res = pd.DataFrame(columns=['Subject', 'IAF', 'TF'])",
   "id": "6052d105546b6657",
   "execution_count": 8,
   "outputs": []
  },
  {
   "metadata": {
    "ExecuteTime": {
     "end_time": "2024-10-15T12:56:00.777215Z",
     "start_time": "2024-10-15T12:51:49.048420Z"
    }
   },
   "cell_type": "code",
   "source": [
    "MULTIPLIER = 2\n",
    "for subject_path in all_subjects:\n",
    "    subject = basename(subject_path).split('-')[0].split(' ')[1]\n",
    "    #subject = basename(subject_path).split('PARTICIPANT')[1]\n",
    "    print(\"Subject Code\", subject)\n",
    "    all_files = glob(join(subject_path, '*.txt'))\n",
    "    power = []\n",
    "    freqs = None\n",
    "    # go by epoch\n",
    "    for file in all_files:\n",
    "        data = pd.read_csv(file, sep='\\t', dtype=float)  # time x channels\n",
    "        # select electrodes O1 (18), Oz (19), O2 (20)\n",
    "        freqs1, power1 = welch_spectrum(data.iloc[:, 17], sampling_rate=sf, decibel=True, size=int(sf*MULTIPLIER-1))\n",
    "        freqs2, power2 = welch_spectrum(data.iloc[:, 18], sampling_rate=sf, decibel=True, size=int(sf*MULTIPLIER-1))\n",
    "        freqs3, power3 = welch_spectrum(data.iloc[:, 19], sampling_rate=sf, decibel=True, size=int(sf*MULTIPLIER-1))\n",
    "        assert np.all(freqs1 == freqs2) and np.all(freqs2 == freqs3)\n",
    "        # Average power of the three electrodes\n",
    "        power.append((power1 + power2 + power3) / 3)\n",
    "        freqs = freqs1\n",
    "    \n",
    "    # average power across epochs\n",
    "    power_avg = np.mean(np.array(power), axis=0)\n",
    "    \n",
    "    # find IAF between 8 and 14 Hz\n",
    "    iaf = freqs[np.argmax(power_avg[8*MULTIPLIER:12*MULTIPLIER]) + 8*MULTIPLIER]\n",
    "    iaf = round(iaf, 1)\n",
    "    print(\"IAF\", iaf)\n",
    "    # find TF between 3 and 8 Hz\n",
    "    tf = freqs[np.argmin(power_avg[4*MULTIPLIER:8*MULTIPLIER]) + 4*MULTIPLIER]\n",
    "    tf = round(tf, 1)\n",
    "    print(\"TF\", tf)\n",
    "    \n",
    "    # plot all psds\n",
    "    \"\"\"\n",
    "    sns.set_palette(\"husl\")\n",
    "    for p in power:\n",
    "        sns.lineplot(x=freqs[:46], y=p[:46], alpha=0.05, color='orange')\n",
    "    sns.lineplot(x=freqs[:46], y=power_avg[:46], linewidth=3, color='black')\n",
    "    plt.axvline(iaf, color='red', linestyle='--')\n",
    "    plt.axvline(tf, color='blue', linestyle='--')\n",
    "    sns.despine()\n",
    "    plt.title(\"Subject Code {}\".format(subject))\n",
    "    plt.xlabel(\"Frequency (Hz)\")\n",
    "    plt.ylabel(\"Power (dB)\")\n",
    "    plt.show()\n",
    "    \"\"\"\n",
    "    \n",
    "    res = res.append({'Subject': subject, 'IAF': iaf, 'TF': tf}, ignore_index=True)"
   ],
   "id": "b9a3811bb08b7377",
   "execution_count": 9,
   "outputs": []
  },
  {
   "metadata": {
    "ExecuteTime": {
     "end_time": "2024-10-15T12:56:00.790219Z",
     "start_time": "2024-10-15T12:56:00.779531Z"
    }
   },
   "cell_type": "code",
   "source": [
    "res.index = res['Subject']\n",
    "res = res.drop(columns=['Subject'])\n",
    "res"
   ],
   "id": "5f7452f0c78b9cf1",
   "execution_count": 10,
   "outputs": []
  },
  {
   "metadata": {
    "ExecuteTime": {
     "end_time": "2024-10-15T12:56:00.799990Z",
     "start_time": "2024-10-15T12:56:00.791775Z"
    }
   },
   "cell_type": "code",
   "source": [
    "# Save to CSV\n",
    "res.to_csv(out_path)"
   ],
   "id": "79ebdf9447cc8b0f",
   "execution_count": 11,
   "outputs": []
  },
  {
   "metadata": {},
   "cell_type": "code",
   "execution_count": null,
   "source": "",
   "id": "7fb2ddf1b0710dbd",
   "outputs": []
  }
 ],
 "metadata": {
  "kernelspec": {
   "display_name": "Python 3",
   "language": "python",
   "name": "python3"
  },
  "language_info": {
   "codemirror_mode": {
    "name": "ipython",
    "version": 2
   },
   "file_extension": ".py",
   "mimetype": "text/x-python",
   "name": "python",
   "nbconvert_exporter": "python",
   "pygments_lexer": "ipython2",
   "version": "2.7.6"
  }
 },
 "nbformat": 4,
 "nbformat_minor": 5
}
