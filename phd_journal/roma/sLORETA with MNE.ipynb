{
 "cells": [
  {
   "metadata": {
    "ExecuteTime": {
     "end_time": "2024-10-11T11:34:50.163462Z",
     "start_time": "2024-10-11T11:34:47.142764Z"
    }
   },
   "cell_type": "code",
   "source": [
    "from glob import glob\n",
    "from os import mkdir\n",
    "from os.path import join, exists\n",
    "\n",
    "from ltbio.biosignals.modalities import EEG"
   ],
   "id": "8b5d2964ca38f081",
   "execution_count": 1,
   "outputs": []
  },
  {
   "cell_type": "code",
   "id": "initial_id",
   "metadata": {
    "collapsed": true,
    "ExecuteTime": {
     "end_time": "2024-10-11T11:34:50.168898Z",
     "start_time": "2024-10-11T11:34:50.165218Z"
    }
   },
   "source": [
    "common_path = '/Volumes/MMIS-Saraiv/Datasets/Sapienza/denoised_biosignal'\n",
    "out_common_path = '/Volumes/MMIS-Saraiv/Datasets/Sapienza/roma_protocol_source_MNE'"
   ],
   "execution_count": 2,
   "outputs": []
  },
  {
   "metadata": {
    "ExecuteTime": {
     "end_time": "2024-10-11T11:34:50.244580Z",
     "start_time": "2024-10-11T11:34:50.170024Z"
    }
   },
   "cell_type": "code",
   "source": [
    "# Get recursively all .biosignal files in common_path\n",
    "all_files = glob(join(common_path, '**/*.biosignal'), recursive=True)"
   ],
   "id": "2dc010c21d35d234",
   "execution_count": 3,
   "outputs": []
  },
  {
   "metadata": {
    "ExecuteTime": {
     "end_time": "2024-10-11T11:34:50.252128Z",
     "start_time": "2024-10-11T11:34:50.247924Z"
    }
   },
   "cell_type": "code",
   "source": "channel_order = ('C3', 'C4', 'Cz', 'F3', 'F4', 'F7', 'F8', 'Fp1', 'Fp2', 'Fpz', 'Fz', 'O1', 'O2', 'P3', 'P4', 'Pz', 'T3', 'T4', 'T5', 'T6')  # without mastoids",
   "id": "e9797fc583600ae2",
   "execution_count": 4,
   "outputs": []
  },
  {
   "metadata": {
    "ExecuteTime": {
     "end_time": "2024-10-11T12:17:09.140883Z",
     "start_time": "2024-10-11T11:34:50.253907Z"
    }
   },
   "cell_type": "code",
   "source": [
    "for filepath in all_files:\n",
    "    filename = filepath.split('/')[-1].split('.')[0]\n",
    "    print(filename)\n",
    "    subject_out_path = join(out_common_path, filename)\n",
    "    if not exists(subject_out_path):\n",
    "        mkdir(subject_out_path)\n",
    "\n",
    "    subject_out_filepath = join(subject_out_path, 'source_estimates.csv')\n",
    "    if not exists(subject_out_filepath):\n",
    "\n",
    "        # Load Biosignal\n",
    "        x: EEG = EEG.load(filepath)\n",
    "        x = x[channel_order]  # get only channels of interest\n",
    "        \n",
    "        # sLORETA\n",
    "        sources = x.inverse_solution(method='sLORETA', epoch_duration=2.0, spacing=\"oct6\", mri_space=\"fsaverage\", eeg_channel_locations=\"/Volumes/MMIS-Saraiv/Datasets/Sapienza/electrodes_auto.xyz\")\n",
    "        sources.to_csv(subject_out_filepath)\n"
   ],
   "id": "5c1f9b1546fe1e50",
   "execution_count": 5,
   "outputs": []
  },
  {
   "metadata": {},
   "cell_type": "code",
   "execution_count": null,
   "source": "",
   "id": "547b9a72749ddee9",
   "outputs": []
  }
 ],
 "metadata": {
  "kernelspec": {
   "display_name": "Python 3",
   "language": "python",
   "name": "python3"
  },
  "language_info": {
   "codemirror_mode": {
    "name": "ipython",
    "version": 2
   },
   "file_extension": ".py",
   "mimetype": "text/x-python",
   "name": "python",
   "nbconvert_exporter": "python",
   "pygments_lexer": "ipython2",
   "version": "2.7.6"
  }
 },
 "nbformat": 4,
 "nbformat_minor": 5
}
