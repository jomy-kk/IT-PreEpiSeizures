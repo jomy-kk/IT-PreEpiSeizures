{
 "cells": [
  {
   "cell_type": "code",
   "id": "initial_id",
   "metadata": {
    "collapsed": true,
    "ExecuteTime": {
     "end_time": "2024-10-10T09:13:38.675220Z",
     "start_time": "2024-10-10T09:13:38.671518Z"
    }
   },
   "source": [
    "from datetime import timedelta\n",
    "from glob import glob\n",
    "from os import mkdir, remove, rename\n",
    "from os.path import join, exists, dirname, basename"
   ],
   "execution_count": 5,
   "outputs": []
  },
  {
   "metadata": {
    "ExecuteTime": {
     "end_time": "2024-10-10T09:13:02.103584Z",
     "start_time": "2024-10-10T09:12:59.089821Z"
    }
   },
   "cell_type": "code",
   "source": [
    "common_path = \"/Volumes/MMIS-Saraiv/Loreta for ComBat/01-txt/izmir-30 ch\"\n",
    "all_files = glob(join(common_path, \"**/*.txt\"), recursive=True)\n",
    "print(len(all_files))"
   ],
   "id": "b5a099d10bfcd7f5",
   "execution_count": 3,
   "outputs": []
  },
  {
   "metadata": {
    "ExecuteTime": {
     "end_time": "2024-10-10T09:15:28.151996Z",
     "start_time": "2024-10-10T09:15:27.252796Z"
    }
   },
   "cell_type": "code",
   "source": [
    "for file in all_files:\n",
    "    if \"\\\\\" in file:\n",
    "        # directory\n",
    "        directory = dirname(file)\n",
    "        #print(directory)\n",
    "        # fix name\n",
    "        new_filename = file.split(\"\\\\\")[-1]\n",
    "        #print(new_filename)\n",
    "        # rename\n",
    "        new_filepath = join(directory, new_filename)\n",
    "        print(\"Old:\", file)\n",
    "        print(\"New:\", new_filepath)\n",
    "        rename(file, join(directory, new_filename))"
   ],
   "id": "137acab3b44b45b5",
   "execution_count": 12,
   "outputs": []
  },
  {
   "metadata": {},
   "cell_type": "code",
   "execution_count": null,
   "source": "",
   "id": "5028bda4e6299034",
   "outputs": []
  }
 ],
 "metadata": {
  "kernelspec": {
   "display_name": "Python 3",
   "language": "python",
   "name": "python3"
  },
  "language_info": {
   "codemirror_mode": {
    "name": "ipython",
    "version": 2
   },
   "file_extension": ".py",
   "mimetype": "text/x-python",
   "name": "python",
   "nbconvert_exporter": "python",
   "pygments_lexer": "ipython2",
   "version": "2.7.6"
  }
 },
 "nbformat": 4,
 "nbformat_minor": 5
}
