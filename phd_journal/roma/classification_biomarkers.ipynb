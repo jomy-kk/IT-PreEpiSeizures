{
 "cells": [
  {
   "metadata": {
    "ExecuteTime": {
     "end_time": "2024-10-25T10:47:12.651506Z",
     "start_time": "2024-10-25T10:47:12.390638Z"
    }
   },
   "cell_type": "code",
   "source": [
    "from os.path import join\n",
    "\n",
    "import numpy as np\n",
    "import pandas as pd\n",
    "import matplotlib.pyplot as plt\n",
    "import seaborn as sns\n",
    "from scipy.stats import zscore\n",
    "from sklearn.discriminant_analysis import LinearDiscriminantAnalysis\n",
    "from sklearn.linear_model import LassoCV, ElasticNet\n",
    "from sklearn.ensemble import RandomForestClassifier\n",
    "from sklearn.svm import SVC\n",
    "from sklearn.feature_selection import RFE"
   ],
   "id": "705cfb5e4a26770f",
   "execution_count": 1,
   "outputs": []
  },
  {
   "metadata": {},
   "cell_type": "markdown",
   "source": [
    "#### I/O"
   ],
   "id": "6204040c57827e4"
  },
  {
   "cell_type": "code",
   "id": "initial_id",
   "metadata": {
    "collapsed": true,
    "ExecuteTime": {
     "end_time": "2024-10-25T10:47:12.657725Z",
     "start_time": "2024-10-25T10:47:12.654612Z"
    }
   },
   "source": [
    "datasets_paths = {\n",
    "    \"Newcastle\": \"/Volumes/MMIS-Saraiv/Datasets/Newcastle/EC/features_source_ind-bands\",\n",
    "    \"Izmir\": \"/Volumes/MMIS-Saraiv/Datasets/Izmir/EC/features_source_ind-bands\",\n",
    "    \"Istambul\": \"/Volumes/MMIS-Saraiv/Datasets/Istambul/features_source_ind-bands\",\n",
    "}"
   ],
   "execution_count": 2,
   "outputs": []
  },
  {
   "metadata": {
    "ExecuteTime": {
     "end_time": "2024-10-25T10:47:12.662781Z",
     "start_time": "2024-10-25T10:47:12.659188Z"
    }
   },
   "cell_type": "code",
   "source": [
    "datasets_metadata_paths = {\n",
    "    \"Izmir\": \"/Volumes/MMIS-Saraiv/Datasets/Izmir/metadata.csv\",\n",
    "    \"Istambul\": \"/Volumes/MMIS-Saraiv/Datasets/Istambul/metadata.csv\",\n",
    "    \"Newcastle\": \"/Volumes/MMIS-Saraiv/Datasets/Newcastle/metadata.csv\",\n",
    "}"
   ],
   "id": "633d84671254cdd",
   "execution_count": 3,
   "outputs": []
  },
  {
   "metadata": {
    "ExecuteTime": {
     "end_time": "2024-10-25T10:47:12.667922Z",
     "start_time": "2024-10-25T10:47:12.664876Z"
    }
   },
   "cell_type": "code",
   "source": [
    "plots_path = \"/Users/saraiva/Desktop/Doktorand/Combat Project\""
   ],
   "id": "b8eb81058e9f52f2",
   "execution_count": 4,
   "outputs": []
  },
  {
   "metadata": {},
   "cell_type": "markdown",
   "source": [
    "#### Functions"
   ],
   "id": "5367dae51377816"
  },
  {
   "metadata": {
    "ExecuteTime": {
     "end_time": "2024-10-25T10:47:12.672642Z",
     "start_time": "2024-10-25T10:47:12.669472Z"
    }
   },
   "cell_type": "code",
   "source": [
    "def get_subject_code(identifier: str) -> int:\n",
    "    return int(identifier.split(\"PARTICIPANT\")[1])"
   ],
   "id": "ecc5b23d4b496ce",
   "execution_count": 5,
   "outputs": []
  },
  {
   "metadata": {
    "ExecuteTime": {
     "end_time": "2024-10-25T10:47:12.680253Z",
     "start_time": "2024-10-25T10:47:12.674579Z"
    }
   },
   "cell_type": "code",
   "source": [
    "def dataset_norm(df: pd.DataFrame, method:str):\n",
    "    if method == 'z-score':  # Z-score\n",
    "        return df.apply(zscore)\n",
    "    elif method == 'min-max':\n",
    "        return (df - df.min()) / (df.max() - df.min())\n",
    "    elif method == 'log10':\n",
    "        return df.applymap(lambda x: np.log10(x) if x > 0 else 0)"
   ],
   "id": "fc97bf3f3170bbce",
   "execution_count": 6,
   "outputs": []
  },
  {
   "metadata": {
    "ExecuteTime": {
     "end_time": "2024-10-25T10:47:12.688650Z",
     "start_time": "2024-10-25T10:47:12.685407Z"
    }
   },
   "cell_type": "code",
   "source": [
    "def inter_dataset_norm(df: pd.DataFrame):\n",
    "    pass"
   ],
   "id": "b7a821f8abd73a58",
   "execution_count": 7,
   "outputs": []
  },
  {
   "metadata": {
    "ExecuteTime": {
     "end_time": "2024-10-25T10:47:12.694509Z",
     "start_time": "2024-10-25T10:47:12.690478Z"
    }
   },
   "cell_type": "code",
   "source": [
    "def read_dataset(path: str, label:str) -> pd.DataFrame:\n",
    "    df = pd.read_csv(join(path, \"all_features.csv\"), index_col=0)\n",
    "    df.index = [(f\"{label}-{get_subject_code(s)}\" if isinstance(s, str) else f\"{label}-{s}\") for s in df.index]\n",
    "    return df"
   ],
   "id": "941d56c4188b33ba",
   "execution_count": 8,
   "outputs": []
  },
  {
   "metadata": {
    "ExecuteTime": {
     "end_time": "2024-10-25T10:47:12.699132Z",
     "start_time": "2024-10-25T10:47:12.695815Z"
    }
   },
   "cell_type": "code",
   "source": [
    "def read_metadata(path: str, label: str) -> pd.DataFrame:\n",
    "    df = pd.read_csv(path, index_col=0)\n",
    "    df.index = [(f\"{label}-{get_subject_code(s)}\" if isinstance(s, str) else f\"{label}-{s}\")  for s in df.index]\n",
    "    return df"
   ],
   "id": "98329c05c834dc4f",
   "execution_count": 9,
   "outputs": []
  },
  {
   "metadata": {
    "ExecuteTime": {
     "end_time": "2024-10-25T10:47:12.705217Z",
     "start_time": "2024-10-25T10:47:12.700187Z"
    }
   },
   "cell_type": "code",
   "source": [
    "def neuro_harmonize(_X: pd.DataFrame, _metadata: pd.DataFrame) -> pd.DataFrame:\n",
    "    from neuroHarmonize import harmonizationLearn\n",
    "    assert _X.index.tolist() == _metadata.index.tolist()\n",
    "    data = _X.to_numpy(dtype=np.float32)\n",
    "    covariates:pd.DataFrame = _metadata.copy()\n",
    "    # keep only the age and gender columns\n",
    "    covariates = covariates[['AGE', 'GENDER']]\n",
    "    # binarize gender: M=1, F=0\n",
    "    covariates['GENDER'].replace('M', 1, inplace=True)\n",
    "    covariates['GENDER'].replace('F', 0, inplace=True)\n",
    "    # add column 'SITE' with the dataset name\n",
    "    covariates['SITE'] = [s.split('-')[0] for s in covariates.index]\n",
    "    # run\n",
    "    combat_model, harmonized_data = harmonizationLearn(data, covariates)\n",
    "    return pd.DataFrame(harmonized_data, index=_X.index, columns=_X.columns)"
   ],
   "id": "2b2dcaece54086c4",
   "execution_count": 10,
   "outputs": []
  },
  {
   "metadata": {},
   "cell_type": "markdown",
   "source": [
    "#### Read"
   ],
   "id": "5822ac6237948486"
  },
  {
   "metadata": {
    "ExecuteTime": {
     "end_time": "2024-10-25T10:47:12.790423Z",
     "start_time": "2024-10-25T10:47:12.706630Z"
    }
   },
   "cell_type": "code",
   "source": [
    "# Read datasets\n",
    "datasets = {}\n",
    "for dataset_name, path in datasets_paths.items():\n",
    "    dataset = read_dataset(path, label=dataset_name)\n",
    "    datasets[dataset_name] = dataset \n",
    "#datasets"
   ],
   "id": "84c7a933cb54153",
   "execution_count": 11,
   "outputs": []
  },
  {
   "metadata": {
    "ExecuteTime": {
     "end_time": "2024-10-25T10:47:12.864501Z",
     "start_time": "2024-10-25T10:47:12.791741Z"
    }
   },
   "cell_type": "code",
   "source": [
    "# Read metadata\n",
    "datasets_metadata = {}\n",
    "for dataset_name, path in datasets_metadata_paths.items():\n",
    "    dataset = read_metadata(path, label=dataset_name)\n",
    "    datasets_metadata[dataset_name] = dataset \n",
    "#datasets_metadata"
   ],
   "id": "9f88e24696d9eedd",
   "execution_count": 12,
   "outputs": []
  },
  {
   "metadata": {
    "ExecuteTime": {
     "end_time": "2024-10-25T10:47:12.873872Z",
     "start_time": "2024-10-25T10:47:12.866245Z"
    }
   },
   "cell_type": "code",
   "source": [
    "# Join all datasets and metadata\n",
    "X = pd.concat(datasets.values())\n",
    "all_metadata = pd.concat(datasets_metadata.values())\n",
    "all_metadata = all_metadata.loc[X.index]  # keep only the metadata of the subjects in X\n",
    "assert X.shape[0] == all_metadata.shape[0]"
   ],
   "id": "4a468a11499879f",
   "execution_count": 13,
   "outputs": []
  },
  {
   "metadata": {
    "ExecuteTime": {
     "end_time": "2024-10-25T10:47:12.884191Z",
     "start_time": "2024-10-25T10:47:12.876026Z"
    }
   },
   "cell_type": "code",
   "source": [
    "# Print class frequency\n",
    "all_metadata['DIAGNOSIS'].value_counts()"
   ],
   "id": "d946422a9d4941df",
   "execution_count": 14,
   "outputs": []
  },
  {
   "metadata": {
    "ExecuteTime": {
     "end_time": "2024-10-25T10:47:12.892339Z",
     "start_time": "2024-10-25T10:47:12.886040Z"
    }
   },
   "cell_type": "code",
   "source": [
    "class_freq = all_metadata['DIAGNOSIS'].value_counts(normalize=True)\n",
    "class_freq"
   ],
   "id": "c2a4afadd9c628b0",
   "execution_count": 15,
   "outputs": []
  },
  {
   "metadata": {
    "ExecuteTime": {
     "end_time": "2024-10-25T10:47:12.898617Z",
     "start_time": "2024-10-25T10:47:12.894318Z"
    }
   },
   "cell_type": "code",
   "source": [
    "# Make integer targets (diagnosis)\n",
    "targets = all_metadata['DIAGNOSIS'].astype('category').cat.codes"
   ],
   "id": "23a7dd832567b304",
   "execution_count": 16,
   "outputs": []
  },
  {
   "metadata": {},
   "cell_type": "markdown",
   "source": [
    "#### Inter-Normalisation & Harmonisation"
   ],
   "id": "64362507d2de4ac7"
  },
  {
   "metadata": {
    "ExecuteTime": {
     "end_time": "2024-10-25T10:47:12.904567Z",
     "start_time": "2024-10-25T10:47:12.900690Z"
    }
   },
   "cell_type": "code",
   "source": [
    "selected_features = ['Alpha1_Frontal', 'Alpha1_Central', 'Alpha1_Temporal',\n",
    "       'Theta_Occipital', 'Alpha3_Parietal', 'Alpha3_Occipital',\n",
    "       'Alpha3_Temporal', 'Alpha3_Limbic', 'Beta1_Central', 'Beta1_Occipital']\n",
    "X = X[selected_features]"
   ],
   "id": "8d1d84b52ff0690b",
   "execution_count": 17,
   "outputs": []
  },
  {
   "metadata": {
    "ExecuteTime": {
     "end_time": "2024-10-25T10:47:12.913470Z",
     "start_time": "2024-10-25T10:47:12.906649Z"
    }
   },
   "cell_type": "code",
   "source": [
    "# Inter-dataset normalization\n",
    "#X = dataset_norm(X, method='z-score')\n",
    "X = dataset_norm(X, method='log10')"
   ],
   "id": "ae7670ec6f6943e0",
   "execution_count": 18,
   "outputs": []
  },
  {
   "metadata": {
    "ExecuteTime": {
     "end_time": "2024-10-25T10:47:13.069258Z",
     "start_time": "2024-10-25T10:47:12.915263Z"
    }
   },
   "cell_type": "code",
   "source": [
    "# NeuroHarmonize\n",
    "X = neuro_harmonize(X, all_metadata)"
   ],
   "id": "e5850c9e8d07aaa7",
   "execution_count": 19,
   "outputs": []
  },
  {
   "metadata": {
    "ExecuteTime": {
     "end_time": "2024-10-25T10:47:13.086592Z",
     "start_time": "2024-10-25T10:47:13.070928Z"
    }
   },
   "cell_type": "code",
   "source": [
    "X = dataset_norm(X, method='z-score')"
   ],
   "id": "ca2942385ad60585",
   "execution_count": 20,
   "outputs": []
  },
  {
   "metadata": {
    "ExecuteTime": {
     "end_time": "2024-10-25T10:47:13.106967Z",
     "start_time": "2024-10-25T10:47:13.088856Z"
    }
   },
   "cell_type": "code",
   "source": [
    "X"
   ],
   "id": "ca4f78aceaf7a280",
   "execution_count": 21,
   "outputs": []
  },
  {
   "metadata": {},
   "cell_type": "markdown",
   "source": [
    "#### Feature Selection"
   ],
   "id": "ed77da561ee2c2c2"
  },
  {
   "metadata": {
    "ExecuteTime": {
     "end_time": "2024-10-25T10:47:13.124361Z",
     "start_time": "2024-10-25T10:47:13.116382Z"
    }
   },
   "cell_type": "code",
   "source": [
    "# Model\n",
    "model = RandomForestClassifier(n_estimators=100, max_depth=5, random_state=0)\n",
    "#model = SVC(kernel='linear', C=1, degree=3)\n",
    "model"
   ],
   "id": "d2d3791a9f06a608",
   "execution_count": 22,
   "outputs": []
  },
  {
   "metadata": {
    "ExecuteTime": {
     "end_time": "2024-10-25T10:47:13.274390Z",
     "start_time": "2024-10-25T10:47:13.125958Z"
    }
   },
   "cell_type": "code",
   "source": [
    "# RFE\n",
    "rfe = RFE(estimator=model, n_features_to_select=10, step=1)\n",
    "rfe.fit(X, targets)\n",
    "selected_features = X.columns[rfe.support_]\n",
    "selected_features"
   ],
   "id": "565e3b714aa3df31",
   "execution_count": 23,
   "outputs": []
  },
  {
   "metadata": {
    "ExecuteTime": {
     "end_time": "2024-10-25T10:47:13.280097Z",
     "start_time": "2024-10-25T10:47:13.276171Z"
    }
   },
   "cell_type": "code",
   "source": [
    "# Selected biomarkers [Hardcoded]\n",
    "selected_features = ['Alpha1_Occipital', 'Alpha1_Temporal', 'Theta_Temporal', 'Theta_Limbic',\n",
    "       'Alpha3_Parietal', 'Alpha3_Occipital', 'Alpha3_Limbic',\n",
    "       'Beta1_Parietal', 'Beta1_Occipital', 'Beta1_Limbic']"
   ],
   "id": "f7896074a2ba668",
   "execution_count": 24,
   "outputs": []
  },
  {
   "metadata": {
    "ExecuteTime": {
     "end_time": "2024-10-25T10:47:13.285008Z",
     "start_time": "2024-10-25T10:47:13.282054Z"
    }
   },
   "cell_type": "code",
   "source": [
    "selected_features = ['Alpha1_Frontal', 'Alpha1_Central', 'Alpha1_Temporal',\n",
    "       'Theta_Occipital', 'Alpha3_Parietal', 'Alpha3_Occipital',\n",
    "       'Alpha3_Temporal', 'Alpha3_Limbic', 'Beta1_Central', 'Beta1_Occipital']"
   ],
   "id": "2b9189af9c094d92",
   "execution_count": 25,
   "outputs": []
  },
  {
   "metadata": {
    "ExecuteTime": {
     "end_time": "2024-10-25T10:47:13.302318Z",
     "start_time": "2024-10-25T10:47:13.286872Z"
    }
   },
   "cell_type": "code",
   "source": [
    "# Keep relevant features only\n",
    "X = X[selected_features]\n",
    "X"
   ],
   "id": "9e8c29f30bea8e4",
   "execution_count": 26,
   "outputs": []
  },
  {
   "metadata": {},
   "cell_type": "markdown",
   "source": [
    "#### Analytics"
   ],
   "id": "461903d097c964d"
  },
  {
   "metadata": {
    "ExecuteTime": {
     "end_time": "2024-10-25T10:47:13.316112Z",
     "start_time": "2024-10-25T10:47:13.304440Z"
    }
   },
   "cell_type": "code",
   "source": [
    "# Mean and Std of all features\n",
    "# AD\n",
    "ad = X[targets == 1]\n",
    "mean, std = ad.mean(), ad.std()\n",
    "print(\"AD:\")\n",
    "for i, (m, s) in enumerate(zip(mean, std)):\n",
    "    print(f\"{selected_features[i]}: {m:.2f} +- {s:.2f}\")\n",
    "# HC\n",
    "hc = X[targets == 0]\n",
    "mean, std = hc.mean(), hc.std()\n",
    "print(\"HC:\")\n",
    "for i, (m, s) in enumerate(zip(mean, std)):\n",
    "    print(f\"{selected_features[i]}: {m:.2f} +- {s:.2f}\")"
   ],
   "id": "81cb6d67253011b0",
   "execution_count": 27,
   "outputs": []
  },
  {
   "metadata": {},
   "cell_type": "markdown",
   "source": [
    "#### Classification"
   ],
   "id": "4535a00b52b17629"
  },
  {
   "metadata": {
    "ExecuteTime": {
     "end_time": "2024-10-25T10:47:13.322327Z",
     "start_time": "2024-10-25T10:47:13.318552Z"
    }
   },
   "cell_type": "code",
   "source": [
    "# Model\n",
    "model = RandomForestClassifier(n_estimators=200, max_depth=15, random_state=0)\n",
    "# Linear discriminant analysis\n",
    "#model = ElasticNet(alpha=0.1, l1_ratio=0.1)"
   ],
   "id": "2be9ceb96919439a",
   "execution_count": 28,
   "outputs": []
  },
  {
   "metadata": {
    "ExecuteTime": {
     "end_time": "2024-10-25T10:47:21.865864Z",
     "start_time": "2024-10-25T10:47:13.324120Z"
    }
   },
   "cell_type": "code",
   "source": [
    "# Leave-One-Out CV\n",
    "from sklearn.model_selection import LeaveOneOut\n",
    "from sklearn.metrics import accuracy_score\n",
    "\n",
    "loo = LeaveOneOut()\n",
    "accuracies = []\n",
    "for i, (train_index, test_index) in enumerate(loo.split(X)):\n",
    "    print(f\"Fold {i+1}\")\n",
    "    X_train, X_test = X.iloc[train_index], X.iloc[test_index]\n",
    "    y_train, y_test = targets.iloc[train_index], targets.iloc[test_index]\n",
    "    \n",
    "    model.fit(X_train, y_train)\n",
    "    y_pred = model.predict(X_test)\n",
    "    y_pred = np.round(y_pred)\n",
    "    accuracies.append(accuracy_score(y_test, y_pred))\n",
    "    \n",
    "mean_accuracy = sum(accuracies) / len(accuracies)\n",
    "std_accuracy = sum([(a - mean_accuracy)**2 for a in accuracies]) / len(accuracies)\n",
    "print(mean_accuracy, '+-', std_accuracy)"
   ],
   "id": "4217b29a226219c1",
   "execution_count": 29,
   "outputs": []
  },
  {
   "metadata": {},
   "cell_type": "code",
   "source": [],
   "id": "492d52285308e255",
   "execution_count": null,
   "outputs": []
  }
 ],
 "metadata": {
  "kernelspec": {
   "display_name": "Python 3",
   "language": "python",
   "name": "python3"
  },
  "language_info": {
   "codemirror_mode": {
    "name": "ipython",
    "version": 2
   },
   "file_extension": ".py",
   "mimetype": "text/x-python",
   "name": "python",
   "nbconvert_exporter": "python",
   "pygments_lexer": "ipython2",
   "version": "2.7.6"
  }
 },
 "nbformat": 4,
 "nbformat_minor": 5
}
