{
 "cells": [
  {
   "cell_type": "code",
   "id": "705cfb5e4a26770f",
   "metadata": {},
   "source": [
    "from scipy.stats import zscore\n",
    "\n",
    "from phd_journal.roma.plotting import *\n",
    "from phd_journal.roma.combat_variations import *\n",
    "from phd_journal.roma.read import *"
   ],
   "execution_count": null,
   "outputs": []
  },
  {
   "cell_type": "markdown",
   "id": "6204040c57827e4",
   "metadata": {},
   "source": [
    "#### I/O"
   ]
  },
  {
   "cell_type": "code",
   "id": "initial_id",
   "metadata": {
    "collapsed": true
   },
   "source": [
    "datasets_paths = {\n",
    "    \"Newcastle\": \"/Volumes/MMIS-Saraiv/Datasets/Newcastle/EC/features_source_ind-bands\",\n",
    "    \"Izmir\": \"/Volumes/MMIS-Saraiv/Datasets/Izmir/EC/features_source_ind-bands\",\n",
    "    \"Sapienza\": \"/Volumes/MMIS-Saraiv/Datasets/Sapienza/features_source_ind-bands\",\n",
    "}"
   ],
   "execution_count": null,
   "outputs": []
  },
  {
   "cell_type": "code",
   "id": "633d84671254cdd",
   "metadata": {},
   "source": [
    "datasets_metadata_paths = {\n",
    "    \"Izmir\": \"/Volumes/MMIS-Saraiv/Datasets/Izmir/metadata.csv\",\n",
    "    \"Sapienza\": \"/Volumes/MMIS-Saraiv/Datasets/Sapienza/metadata.csv\",\n",
    "    \"Newcastle\": \"/Volumes/MMIS-Saraiv/Datasets/Newcastle/metadata.csv\",\n",
    "}"
   ],
   "execution_count": null,
   "outputs": []
  },
  {
   "cell_type": "markdown",
   "id": "5822ac6237948486",
   "metadata": {},
   "source": [
    "#### Read"
   ]
  },
  {
   "cell_type": "code",
   "id": "84c7a933cb54153",
   "metadata": {},
   "source": [
    "# Read datasets\n",
    "datasets = {}\n",
    "for dataset_name, path in datasets_paths.items():\n",
    "    dataset = read_dataset(path, label=dataset_name)\n",
    "    datasets[dataset_name] = dataset"
   ],
   "execution_count": null,
   "outputs": []
  },
  {
   "cell_type": "code",
   "id": "9f88e24696d9eedd",
   "metadata": {},
   "source": [
    "# Read metadata\n",
    "datasets_metadata = {}\n",
    "for dataset_name, path in datasets_metadata_paths.items():\n",
    "    dataset = read_metadata(path, label=dataset_name)\n",
    "    dataset['SITE'] = [s.split('-')[0] for s in dataset.index]\n",
    "    datasets_metadata[dataset_name] = dataset"
   ],
   "execution_count": null,
   "outputs": []
  },
  {
   "cell_type": "markdown",
   "id": "7ac3623bc00dccae",
   "metadata": {},
   "source": [
    "#### Before log transformation"
   ]
  },
  {
   "cell_type": "code",
   "id": "a390127b4fd252db",
   "metadata": {},
   "source": [
    "plot_mean_std_indep(datasets, datasets_metadata, log_scale=False)"
   ],
   "execution_count": null,
   "outputs": []
  },
  {
   "cell_type": "code",
   "id": "9e7caeeee2779e33",
   "metadata": {},
   "source": [
    "plot_mean_diffs(datasets)"
   ],
   "execution_count": null,
   "outputs": []
  },
  {
   "cell_type": "code",
   "id": "c03f39b39da28b9e",
   "metadata": {},
   "source": [
    "# Check normality before\n",
    "check_normality(datasets, datasets_metadata)\n",
    "#create_qq_plots(datasets)"
   ],
   "execution_count": null,
   "outputs": []
  },
  {
   "cell_type": "markdown",
   "id": "302da1f5d97a5b44",
   "metadata": {},
   "source": [
    "#### Log transformation"
   ]
  },
  {
   "cell_type": "code",
   "id": "2271c04b5bcb9e7f",
   "metadata": {},
   "source": [
    "# Approximate normality by log transformation\n",
    "datasets = {dataset_name: intra_dataset_norm(dataset, method='log') for dataset_name, dataset in datasets.items()}"
   ],
   "execution_count": null,
   "outputs": []
  },
  {
   "cell_type": "code",
   "id": "4678b757c85e7160",
   "metadata": {},
   "source": [
    "# Check normality after log\n",
    "check_normality(datasets, datasets_metadata)\n",
    "create_qq_plots(datasets)"
   ],
   "execution_count": null,
   "outputs": []
  },
  {
   "cell_type": "code",
   "id": "c10d493e538ccd03",
   "metadata": {},
   "source": [
    "plot_mean_std_indep(datasets, datasets_metadata, log_scale=False)"
   ],
   "execution_count": null,
   "outputs": []
  },
  {
   "cell_type": "code",
   "id": "658b2c608067e74b",
   "metadata": {},
   "source": [
    "plot_mean_diffs(datasets, log=True)"
   ],
   "execution_count": null,
   "outputs": []
  },
  {
   "cell_type": "markdown",
   "id": "9199aa979ee95c02",
   "metadata": {},
   "source": [
    "#### Harmonisation"
   ]
  },
  {
   "metadata": {},
   "cell_type": "code",
   "source": [
    "# Selected features\n",
    "columns_to_keep = ['Alpha1_Central', 'Alpha1_Occipital', 'Alpha1_Temporal',\n",
    " 'Alpha2_Occipital',\n",
    " 'Alpha3_Central',\n",
    " 'Alpha3_Limbic',\n",
    " 'Alpha3_Occipital',\n",
    " 'Alpha3_Parietal',\n",
    " 'Alpha3_Temporal',\n",
    " 'Beta1_Occipital',\n",
    " 'Beta1_Parietal',\n",
    " 'Delta_Limbic',\n",
    " 'Theta_Limbic',\n",
    " 'Theta_Temporal']\n",
    "\n",
    "datasets = {name: dataset[columns_to_keep] for name, dataset in datasets.items()}"
   ],
   "id": "fb9427faeda415a2",
   "execution_count": null,
   "outputs": []
  },
  {
   "cell_type": "code",
   "id": "8dc8ee3d622e0094",
   "metadata": {},
   "source": [
    "# Join all datasets and metadata\n",
    "X = pd.concat(datasets.values())\n",
    "all_metadata = pd.concat(datasets_metadata.values())\n",
    "all_metadata = all_metadata.loc[X.index]  # keep only the metadata of the subjects in X\n",
    "assert X.shape[0] == all_metadata.shape[0]\n",
    "X = neuro_harmonize(X, all_metadata, cov_age=True, cov_gender=True, cov_education=True)\n",
    "datasets_after = {dataset_name: X.loc[datasets[dataset_name].index] for dataset_name in datasets.keys()}"
   ],
   "execution_count": null,
   "outputs": []
  },
  {
   "metadata": {},
   "cell_type": "code",
   "source": [
    "X = intra_dataset_norm(X, method='z-score')\n",
    "# Put back as it was\n",
    "datasets_after_zscore = {dataset_name: X.loc[datasets[dataset_name].index] for dataset_name in datasets.keys()}"
   ],
   "id": "e0374b121ef7f259",
   "execution_count": null,
   "outputs": []
  },
  {
   "cell_type": "code",
   "id": "5e746a6352dbf353",
   "metadata": {},
   "source": [
    "# Undo log transformation\n",
    "datasets_after_nolog = {dataset_name: np.power(10, dataset) for dataset_name, dataset in datasets_after.items()}"
   ],
   "execution_count": null,
   "outputs": []
  },
  {
   "cell_type": "markdown",
   "id": "13640ec00fef7d2d",
   "metadata": {},
   "source": [
    "#### After harmonisation"
   ]
  },
  {
   "cell_type": "code",
   "id": "56acb8819cf779fc",
   "metadata": {},
   "source": [
    "# Check normality after COMBAT\n",
    "check_normality(datasets_after, datasets_metadata)\n",
    "#create_qq_plots(datasets)"
   ],
   "execution_count": null,
   "outputs": []
  },
  {
   "cell_type": "code",
   "id": "ff8c17a9c469ff3b",
   "metadata": {},
   "source": [
    "# Plot all regions\n",
    "plot_mean_std_indep(datasets_after, datasets_metadata)"
   ],
   "execution_count": null,
   "outputs": []
  },
  {
   "cell_type": "code",
   "id": "4b4c4e392bdcd29d",
   "metadata": {},
   "source": [
    "# Plot all regions (Z-score)\n",
    "plot_mean_std_indep(datasets_after_zscore, datasets_metadata)"
   ],
   "execution_count": null,
   "outputs": []
  },
  {
   "cell_type": "code",
   "id": "10cbe981ebfc7698",
   "metadata": {},
   "source": [
    "# Plot all regions (no log)\n",
    "plot_mean_std_indep(datasets_after_nolog, datasets_metadata)"
   ],
   "execution_count": null,
   "outputs": []
  },
  {
   "cell_type": "code",
   "id": "90da6ffdc9feeb4c",
   "metadata": {},
   "source": [
    "plot_mean_diffs(datasets_after, log=True)"
   ],
   "execution_count": null,
   "outputs": []
  },
  {
   "cell_type": "code",
   "id": "96076d5190d02c52",
   "metadata": {},
   "source": [
    "correlation_with_var(datasets, datasets_after, datasets_metadata, (\"DIAGNOSIS\", \"SITE\"))"
   ],
   "execution_count": null,
   "outputs": []
  },
  {
   "cell_type": "code",
   "id": "ae7a149ceaf4c30a",
   "metadata": {},
   "source": [
    "classification_with_var(datasets, datasets_after, datasets_metadata, (\"DIAGNOSIS\", \"SITE\"), relevant_features=None)"
   ],
   "execution_count": null,
   "outputs": []
  },
  {
   "cell_type": "code",
   "id": "2089fdefdb4c0662",
   "metadata": {},
   "source": [
    "plot_2components(datasets, datasets_after, datasets_metadata, method='pca')"
   ],
   "execution_count": null,
   "outputs": []
  },
  {
   "cell_type": "code",
   "id": "4009f6332a1bfe8a",
   "metadata": {},
   "source": [
    "plot_2components(datasets, datasets_after, datasets_metadata, method='lda')"
   ],
   "execution_count": null,
   "outputs": []
  },
  {
   "cell_type": "code",
   "id": "7ebce835a954c2b1",
   "metadata": {},
   "source": [
    "plot_2components(datasets, datasets_after, datasets_metadata, method='tsne')"
   ],
   "execution_count": null,
   "outputs": []
  },
  {
   "cell_type": "code",
   "id": "aaf3eddc8cf94fc8",
   "metadata": {},
   "source": [
    "plot_distance_matrix(datasets, datasets_after, datasets_metadata)"
   ],
   "execution_count": null,
   "outputs": []
  },
  {
   "cell_type": "code",
   "id": "a07c5242a939b2fa",
   "metadata": {},
   "source": [],
   "execution_count": null,
   "outputs": []
  }
 ],
 "metadata": {
  "kernelspec": {
   "display_name": "Python 3 (ipykernel)",
   "language": "python",
   "name": "python3"
  },
  "language_info": {
   "codemirror_mode": {
    "name": "ipython",
    "version": 3
   },
   "file_extension": ".py",
   "mimetype": "text/x-python",
   "name": "python",
   "nbconvert_exporter": "python",
   "pygments_lexer": "ipython3",
   "version": "3.10.4"
  }
 },
 "nbformat": 4,
 "nbformat_minor": 5
}
