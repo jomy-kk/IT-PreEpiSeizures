{
 "cells": [
  {
   "cell_type": "code",
   "id": "705cfb5e4a26770f",
   "metadata": {
    "ExecuteTime": {
     "end_time": "2024-11-06T13:54:57.488477Z",
     "start_time": "2024-11-06T13:54:29.925306Z"
    }
   },
   "source": [
    "from scipy.stats import zscore\n",
    "\n",
    "from phd_journal.roma.plotting import *\n",
    "from phd_journal.roma.combat_variations import *\n",
    "from phd_journal.roma.read import *"
   ],
   "execution_count": 1,
   "outputs": []
  },
  {
   "cell_type": "markdown",
   "id": "6204040c57827e4",
   "metadata": {},
   "source": [
    "#### I/O"
   ]
  },
  {
   "cell_type": "code",
   "id": "initial_id",
   "metadata": {
    "collapsed": true,
    "ExecuteTime": {
     "end_time": "2024-11-06T13:54:57.494903Z",
     "start_time": "2024-11-06T13:54:57.490835Z"
    }
   },
   "source": [
    "datasets_paths = {\n",
    "    \"Newcastle\": \"/Volumes/MMIS-Saraiv/Datasets/Newcastle/EC/features_source_ind-bands\",\n",
    "    \"Izmir\": \"/Volumes/MMIS-Saraiv/Datasets/Izmir/EC/features_source_ind-bands\",\n",
    "    \"Sapienza\": \"/Volumes/MMIS-Saraiv/Datasets/Sapienza/features_source_ind-bands\",\n",
    "}"
   ],
   "execution_count": 2,
   "outputs": []
  },
  {
   "cell_type": "code",
   "id": "633d84671254cdd",
   "metadata": {
    "ExecuteTime": {
     "end_time": "2024-11-06T13:54:57.504706Z",
     "start_time": "2024-11-06T13:54:57.496760Z"
    }
   },
   "source": [
    "datasets_metadata_paths = {\n",
    "    \"Izmir\": \"/Volumes/MMIS-Saraiv/Datasets/Izmir/metadata.csv\",\n",
    "    \"Sapienza\": \"/Volumes/MMIS-Saraiv/Datasets/Sapienza/metadata.csv\",\n",
    "    \"Newcastle\": \"/Volumes/MMIS-Saraiv/Datasets/Newcastle/metadata.csv\",\n",
    "}"
   ],
   "execution_count": 3,
   "outputs": []
  },
  {
   "cell_type": "markdown",
   "id": "5822ac6237948486",
   "metadata": {},
   "source": [
    "#### Read"
   ]
  },
  {
   "cell_type": "code",
   "id": "84c7a933cb54153",
   "metadata": {
    "ExecuteTime": {
     "end_time": "2024-11-06T13:54:58.028722Z",
     "start_time": "2024-11-06T13:54:57.509023Z"
    }
   },
   "source": [
    "# Read datasets\n",
    "datasets = {}\n",
    "for dataset_name, path in datasets_paths.items():\n",
    "    dataset = read_dataset(path, label=dataset_name)\n",
    "    datasets[dataset_name] = dataset"
   ],
   "execution_count": 4,
   "outputs": []
  },
  {
   "cell_type": "code",
   "id": "9f88e24696d9eedd",
   "metadata": {
    "ExecuteTime": {
     "end_time": "2024-11-06T13:54:58.118987Z",
     "start_time": "2024-11-06T13:54:58.030809Z"
    }
   },
   "source": [
    "# Read metadata\n",
    "datasets_metadata = {}\n",
    "for dataset_name, path in datasets_metadata_paths.items():\n",
    "    dataset = read_metadata(path, label=dataset_name)\n",
    "    dataset['SITE'] = [s.split('-')[0] for s in dataset.index]\n",
    "    datasets_metadata[dataset_name] = dataset"
   ],
   "execution_count": 5,
   "outputs": []
  },
  {
   "metadata": {
    "ExecuteTime": {
     "end_time": "2024-11-06T14:08:59.906940Z",
     "start_time": "2024-11-06T14:08:59.901962Z"
    }
   },
   "cell_type": "code",
   "source": [],
   "id": "f592eeb7226bde6d",
   "execution_count": 31,
   "outputs": []
  },
  {
   "metadata": {
    "ExecuteTime": {
     "end_time": "2024-11-06T14:10:40.438763Z",
     "start_time": "2024-11-06T14:10:40.431865Z"
    }
   },
   "cell_type": "code",
   "source": [
    "for d in ('Sapienza', 'Izmir', 'Newcastle'):\n",
    "    print(d)\n",
    "    x = datasets_metadata[d]\n",
    "    print(\"HC\", len(x[x['DIAGNOSIS'] == 'HC']))\n",
    "    print(\"AD\", len(x[x['DIAGNOSIS'] == 'AD']))"
   ],
   "id": "48231617a2cc34f3",
   "execution_count": 36,
   "outputs": []
  },
  {
   "cell_type": "markdown",
   "id": "7ac3623bc00dccae",
   "metadata": {},
   "source": [
    "#### Before log transformation"
   ]
  },
  {
   "cell_type": "code",
   "id": "a390127b4fd252db",
   "metadata": {
    "ExecuteTime": {
     "end_time": "2024-11-06T13:55:02.128045Z",
     "start_time": "2024-11-06T13:54:58.120436Z"
    }
   },
   "source": [
    "plot_mean_std_indep(datasets, datasets_metadata, log_scale=False)"
   ],
   "execution_count": 6,
   "outputs": []
  },
  {
   "cell_type": "code",
   "id": "9e7caeeee2779e33",
   "metadata": {
    "ExecuteTime": {
     "end_time": "2024-11-06T13:55:03.143562Z",
     "start_time": "2024-11-06T13:55:02.133314Z"
    }
   },
   "source": [
    "plot_mean_diffs(datasets)"
   ],
   "execution_count": 7,
   "outputs": []
  },
  {
   "cell_type": "code",
   "id": "c03f39b39da28b9e",
   "metadata": {
    "ExecuteTime": {
     "end_time": "2024-11-06T13:55:03.172580Z",
     "start_time": "2024-11-06T13:55:03.151599Z"
    }
   },
   "source": [
    "# Check normality before\n",
    "check_normality(datasets, datasets_metadata)\n",
    "#create_qq_plots(datasets)"
   ],
   "execution_count": 8,
   "outputs": []
  },
  {
   "cell_type": "markdown",
   "id": "302da1f5d97a5b44",
   "metadata": {},
   "source": [
    "#### Log transformation"
   ]
  },
  {
   "cell_type": "code",
   "id": "2271c04b5bcb9e7f",
   "metadata": {
    "ExecuteTime": {
     "end_time": "2024-11-06T13:55:03.197701Z",
     "start_time": "2024-11-06T13:55:03.179090Z"
    }
   },
   "source": [
    "# Approximate normality by log transformation\n",
    "datasets = {dataset_name: intra_dataset_norm(dataset, method='log') for dataset_name, dataset in datasets.items()}"
   ],
   "execution_count": 9,
   "outputs": []
  },
  {
   "cell_type": "code",
   "id": "4678b757c85e7160",
   "metadata": {
    "ExecuteTime": {
     "end_time": "2024-11-06T13:55:26.930715Z",
     "start_time": "2024-11-06T13:55:03.207649Z"
    }
   },
   "source": [
    "# Check normality after log\n",
    "check_normality(datasets, datasets_metadata)\n",
    "create_qq_plots(datasets)"
   ],
   "execution_count": 10,
   "outputs": []
  },
  {
   "cell_type": "code",
   "id": "c10d493e538ccd03",
   "metadata": {
    "ExecuteTime": {
     "end_time": "2024-11-06T13:55:30.050380Z",
     "start_time": "2024-11-06T13:55:26.932679Z"
    }
   },
   "source": [
    "plot_mean_std_indep(datasets, datasets_metadata, log_scale=False)"
   ],
   "execution_count": 11,
   "outputs": []
  },
  {
   "cell_type": "code",
   "id": "658b2c608067e74b",
   "metadata": {
    "ExecuteTime": {
     "end_time": "2024-11-06T13:55:30.502727Z",
     "start_time": "2024-11-06T13:55:30.052029Z"
    }
   },
   "source": [
    "plot_mean_diffs(datasets, log=True)"
   ],
   "execution_count": 12,
   "outputs": []
  },
  {
   "cell_type": "markdown",
   "id": "9199aa979ee95c02",
   "metadata": {},
   "source": [
    "#### Harmonisation"
   ]
  },
  {
   "cell_type": "code",
   "id": "8dc8ee3d622e0094",
   "metadata": {
    "ExecuteTime": {
     "end_time": "2024-11-06T13:55:31.807713Z",
     "start_time": "2024-11-06T13:55:30.504772Z"
    }
   },
   "source": [
    "# Join all datasets and metadata\n",
    "X = pd.concat(datasets.values())\n",
    "all_metadata = pd.concat(datasets_metadata.values())\n",
    "all_metadata = all_metadata.loc[X.index]  # keep only the metadata of the subjects in X\n",
    "assert X.shape[0] == all_metadata.shape[0]\n",
    "# NeuroHarmonize\n",
    "X = neuro_harmonize(X, all_metadata, cov_age=True, cov_gender=True, cov_education=True, cov_diagnosis=True)\n",
    "datasets_after = {dataset_name: X.loc[datasets[dataset_name].index] for dataset_name in datasets.keys()}"
   ],
   "execution_count": 13,
   "outputs": []
  },
  {
   "cell_type": "code",
   "id": "e0374b121ef7f259",
   "metadata": {
    "ExecuteTime": {
     "end_time": "2024-11-06T13:55:31.905192Z",
     "start_time": "2024-11-06T13:55:31.809975Z"
    }
   },
   "source": [
    "X = intra_dataset_norm(X, method='z-score')\n",
    "# Put back as it was\n",
    "datasets_after_zscore = {dataset_name: X.loc[datasets[dataset_name].index] for dataset_name in datasets.keys()}"
   ],
   "execution_count": 14,
   "outputs": []
  },
  {
   "cell_type": "code",
   "id": "5e746a6352dbf353",
   "metadata": {
    "ExecuteTime": {
     "end_time": "2024-11-06T13:55:31.914569Z",
     "start_time": "2024-11-06T13:55:31.908445Z"
    }
   },
   "source": [
    "# Undo log transformation\n",
    "datasets_after_nolog = {dataset_name: np.power(10, dataset) for dataset_name, dataset in datasets_after.items()}"
   ],
   "execution_count": 15,
   "outputs": []
  },
  {
   "cell_type": "markdown",
   "id": "13640ec00fef7d2d",
   "metadata": {},
   "source": [
    "#### After harmonisation"
   ]
  },
  {
   "cell_type": "code",
   "id": "56acb8819cf779fc",
   "metadata": {
    "ExecuteTime": {
     "end_time": "2024-11-06T13:55:31.938871Z",
     "start_time": "2024-11-06T13:55:31.916612Z"
    }
   },
   "source": [
    "# Check normality after COMBAT\n",
    "check_normality(datasets_after, datasets_metadata)\n",
    "#create_qq_plots(datasets)"
   ],
   "execution_count": 16,
   "outputs": []
  },
  {
   "cell_type": "code",
   "id": "ff8c17a9c469ff3b",
   "metadata": {
    "ExecuteTime": {
     "end_time": "2024-11-06T13:55:38.603810Z",
     "start_time": "2024-11-06T13:55:31.941327Z"
    }
   },
   "source": [
    "# Plot all regions\n",
    "plot_mean_std_indep(datasets_after, datasets_metadata)"
   ],
   "execution_count": 17,
   "outputs": []
  },
  {
   "cell_type": "code",
   "id": "4b4c4e392bdcd29d",
   "metadata": {
    "ExecuteTime": {
     "end_time": "2024-11-06T13:55:43.557958Z",
     "start_time": "2024-11-06T13:55:38.607182Z"
    }
   },
   "source": [
    "# Plot all regions (Z-score)\n",
    "plot_mean_std_indep(datasets_after_zscore, datasets_metadata)"
   ],
   "execution_count": 18,
   "outputs": []
  },
  {
   "cell_type": "code",
   "id": "10cbe981ebfc7698",
   "metadata": {
    "ExecuteTime": {
     "end_time": "2024-11-06T13:55:47.742647Z",
     "start_time": "2024-11-06T13:55:43.560645Z"
    }
   },
   "source": [
    "# Plot all regions (no log)\n",
    "plot_mean_std_indep(datasets_after_nolog, datasets_metadata)"
   ],
   "execution_count": 19,
   "outputs": []
  },
  {
   "cell_type": "code",
   "id": "90da6ffdc9feeb4c",
   "metadata": {
    "ExecuteTime": {
     "end_time": "2024-11-06T13:55:48.257655Z",
     "start_time": "2024-11-06T13:55:47.744736Z"
    }
   },
   "source": [
    "plot_mean_diffs(datasets_after, log=True)"
   ],
   "execution_count": 20,
   "outputs": []
  },
  {
   "cell_type": "code",
   "id": "96076d5190d02c52",
   "metadata": {
    "ExecuteTime": {
     "end_time": "2024-11-06T13:55:48.642750Z",
     "start_time": "2024-11-06T13:55:48.259496Z"
    }
   },
   "source": [
    "correlation_with_var(datasets, datasets_after, datasets_metadata, (\"DIAGNOSIS\", \"SITE\"))"
   ],
   "execution_count": 21,
   "outputs": []
  },
  {
   "cell_type": "code",
   "id": "ae7a149ceaf4c30a",
   "metadata": {
    "ExecuteTime": {
     "end_time": "2024-11-06T13:59:12.222116Z",
     "start_time": "2024-11-06T13:55:48.644583Z"
    }
   },
   "source": [
    "classification_with_var(datasets, datasets_after, datasets_metadata, (\"DIAGNOSIS\", \"SITE\"), relevant_features=None)"
   ],
   "execution_count": 22,
   "outputs": []
  },
  {
   "metadata": {
    "ExecuteTime": {
     "end_time": "2024-11-06T13:59:12.243941Z",
     "start_time": "2024-11-06T13:59:12.224038Z"
    }
   },
   "cell_type": "code",
   "source": [
    "datasets_metadata['Izmir']"
   ],
   "id": "ba9fce25b7afabb1",
   "execution_count": 23,
   "outputs": []
  },
  {
   "metadata": {
    "ExecuteTime": {
     "end_time": "2024-11-06T14:03:21.616264Z",
     "start_time": "2024-11-06T13:59:12.248269Z"
    }
   },
   "cell_type": "code",
   "source": [
    "regression_with_var(datasets, datasets_after, datasets_metadata, (\"MMSE\", \"AGE\"), relevant_features=None)"
   ],
   "id": "b05bafc25d868f02",
   "execution_count": 24,
   "outputs": []
  },
  {
   "cell_type": "code",
   "id": "2089fdefdb4c0662",
   "metadata": {
    "ExecuteTime": {
     "end_time": "2024-11-06T14:03:22.116098Z",
     "start_time": "2024-11-06T14:03:21.618722Z"
    }
   },
   "source": [
    "plot_2components(datasets, datasets_after, datasets_metadata, method='pca')"
   ],
   "execution_count": 25,
   "outputs": []
  },
  {
   "cell_type": "code",
   "id": "4009f6332a1bfe8a",
   "metadata": {
    "ExecuteTime": {
     "end_time": "2024-11-06T14:03:22.586613Z",
     "start_time": "2024-11-06T14:03:22.118121Z"
    }
   },
   "source": [
    "plot_2components(datasets, datasets_after, datasets_metadata, method='lda')"
   ],
   "execution_count": 26,
   "outputs": []
  },
  {
   "cell_type": "code",
   "id": "7ebce835a954c2b1",
   "metadata": {
    "ExecuteTime": {
     "end_time": "2024-11-06T14:03:24.271820Z",
     "start_time": "2024-11-06T14:03:22.587990Z"
    }
   },
   "source": [
    "plot_2components(datasets, datasets_after, datasets_metadata, method='tsne')"
   ],
   "execution_count": 27,
   "outputs": []
  },
  {
   "cell_type": "code",
   "id": "aaf3eddc8cf94fc8",
   "metadata": {
    "ExecuteTime": {
     "end_time": "2024-11-06T14:03:24.463811Z",
     "start_time": "2024-11-06T14:03:24.279364Z"
    }
   },
   "source": [
    "plot_distance_matrix(datasets, datasets_after, datasets_metadata)"
   ],
   "execution_count": 28,
   "outputs": []
  },
  {
   "cell_type": "code",
   "id": "a07c5242a939b2fa",
   "metadata": {
    "ExecuteTime": {
     "end_time": "2024-11-06T14:03:24.468011Z",
     "start_time": "2024-11-06T14:03:24.465379Z"
    }
   },
   "source": [],
   "execution_count": 28,
   "outputs": []
  }
 ],
 "metadata": {
  "kernelspec": {
   "display_name": "Python 3 (ipykernel)",
   "language": "python",
   "name": "python3"
  },
  "language_info": {
   "codemirror_mode": {
    "name": "ipython",
    "version": 3
   },
   "file_extension": ".py",
   "mimetype": "text/x-python",
   "name": "python",
   "nbconvert_exporter": "python",
   "pygments_lexer": "ipython3",
   "version": "3.10.4"
  }
 },
 "nbformat": 4,
 "nbformat_minor": 5
}
