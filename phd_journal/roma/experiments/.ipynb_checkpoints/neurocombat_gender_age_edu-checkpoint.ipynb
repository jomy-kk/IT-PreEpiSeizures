{
 "cells": [
  {
   "cell_type": "code",
   "execution_count": 1,
   "id": "705cfb5e4a26770f",
   "metadata": {
    "ExecuteTime": {
     "end_time": "2024-10-25T11:33:04.849780Z",
     "start_time": "2024-10-25T11:33:00.390769Z"
    }
   },
   "source": [
    "from scipy.stats import zscore\n",
    "\n",
    "from phd_journal.roma.plotting import *\n",
    "from phd_journal.roma.combat_variations import *\n",
    "from phd_journal.roma.read import *"
   ],
   "outputs": []
  },
  {
   "cell_type": "markdown",
   "id": "6204040c57827e4",
   "metadata": {},
   "source": [
    "#### I/O"
   ]
  },
  {
   "cell_type": "code",
   "execution_count": 2,
   "id": "initial_id",
   "metadata": {
    "ExecuteTime": {
     "end_time": "2024-10-25T11:33:04.862671Z",
     "start_time": "2024-10-25T11:33:04.855600Z"
    },
    "collapsed": true
   },
   "source": [
    "datasets_paths = {\n",
    "    \"Newcastle\": \"/Volumes/MMIS-Saraiv/Datasets/Newcastle/EC/features_source_ind-bands\",\n",
    "    \"Izmir\": \"/Volumes/MMIS-Saraiv/Datasets/Izmir/EC/features_source_ind-bands\",\n",
    "    \"Sapienza\": \"/Volumes/MMIS-Saraiv/Datasets/Sapienza/features_source_ind-bands\",\n",
    "}"
   ],
   "outputs": []
  },
  {
   "cell_type": "code",
   "execution_count": 3,
   "id": "633d84671254cdd",
   "metadata": {
    "ExecuteTime": {
     "end_time": "2024-10-25T11:33:04.874486Z",
     "start_time": "2024-10-25T11:33:04.867385Z"
    }
   },
   "source": [
    "datasets_metadata_paths = {\n",
    "    \"Izmir\": \"/Volumes/MMIS-Saraiv/Datasets/Izmir/metadata.csv\",\n",
    "    \"Sapienza\": \"/Volumes/MMIS-Saraiv/Datasets/Sapienza/metadata.csv\",\n",
    "    \"Newcastle\": \"/Volumes/MMIS-Saraiv/Datasets/Newcastle/metadata.csv\",\n",
    "}"
   ],
   "outputs": []
  },
  {
   "cell_type": "markdown",
   "id": "5822ac6237948486",
   "metadata": {},
   "source": [
    "#### Read"
   ]
  },
  {
   "cell_type": "code",
   "execution_count": 4,
   "id": "84c7a933cb54153",
   "metadata": {
    "ExecuteTime": {
     "end_time": "2024-10-25T11:33:04.924579Z",
     "start_time": "2024-10-25T11:33:04.877734Z"
    }
   },
   "source": [
    "# Read datasets\n",
    "datasets = {}\n",
    "for dataset_name, path in datasets_paths.items():\n",
    "    dataset = read_dataset(path, label=dataset_name)\n",
    "    datasets[dataset_name] = dataset"
   ],
   "outputs": []
  },
  {
   "cell_type": "code",
   "execution_count": 5,
   "id": "9f88e24696d9eedd",
   "metadata": {
    "ExecuteTime": {
     "end_time": "2024-10-25T11:33:04.964Z",
     "start_time": "2024-10-25T11:33:04.935371Z"
    }
   },
   "source": [
    "# Read metadata\n",
    "datasets_metadata = {}\n",
    "for dataset_name, path in datasets_metadata_paths.items():\n",
    "    dataset = read_metadata(path, label=dataset_name)\n",
    "    dataset['SITE'] = [s.split('-')[0] for s in dataset.index]\n",
    "    datasets_metadata[dataset_name] = dataset"
   ],
   "outputs": []
  },
  {
   "cell_type": "markdown",
   "id": "7ac3623bc00dccae",
   "metadata": {},
   "source": [
    "#### Before log transformation"
   ]
  },
  {
   "cell_type": "code",
   "execution_count": 6,
   "id": "a390127b4fd252db",
   "metadata": {
    "ExecuteTime": {
     "end_time": "2024-10-25T11:33:16.390849Z",
     "start_time": "2024-10-25T11:33:04.968699Z"
    }
   },
   "source": [
    "plot_mean_std_indep(datasets, datasets_metadata, log_scale=False)"
   ],
   "outputs": []
  },
  {
   "cell_type": "code",
   "execution_count": 7,
   "id": "9e7caeeee2779e33",
   "metadata": {
    "ExecuteTime": {
     "end_time": "2024-10-25T11:33:18.172568Z",
     "start_time": "2024-10-25T11:33:16.397784Z"
    }
   },
   "source": [
    "plot_mean_diffs(datasets)"
   ],
   "outputs": []
  },
  {
   "cell_type": "code",
   "execution_count": 8,
   "id": "c03f39b39da28b9e",
   "metadata": {
    "ExecuteTime": {
     "end_time": "2024-10-25T11:33:18.209357Z",
     "start_time": "2024-10-25T11:33:18.176133Z"
    }
   },
   "source": [
    "# Check normality before\n",
    "check_normality(datasets, datasets_metadata)\n",
    "#create_qq_plots(datasets)"
   ],
   "outputs": []
  },
  {
   "cell_type": "markdown",
   "id": "302da1f5d97a5b44",
   "metadata": {},
   "source": [
    "#### Log transformation"
   ]
  },
  {
   "cell_type": "code",
   "execution_count": 9,
   "id": "2271c04b5bcb9e7f",
   "metadata": {
    "ExecuteTime": {
     "end_time": "2024-10-25T11:33:18.228030Z",
     "start_time": "2024-10-25T11:33:18.213520Z"
    }
   },
   "source": [
    "# Approximate normality by log transformation\n",
    "datasets = {dataset_name: intra_dataset_norm(dataset, method='log') for dataset_name, dataset in datasets.items()}"
   ],
   "outputs": []
  },
  {
   "cell_type": "code",
   "execution_count": 10,
   "id": "4678b757c85e7160",
   "metadata": {
    "ExecuteTime": {
     "end_time": "2024-10-25T11:34:09.106600Z",
     "start_time": "2024-10-25T11:33:18.234390Z"
    }
   },
   "source": [
    "# Check normality after log\n",
    "check_normality(datasets, datasets_metadata)\n",
    "create_qq_plots(datasets)"
   ],
   "outputs": []
  },
  {
   "cell_type": "code",
   "execution_count": 11,
   "id": "c10d493e538ccd03",
   "metadata": {
    "ExecuteTime": {
     "end_time": "2024-10-25T11:34:16.628597Z",
     "start_time": "2024-10-25T11:34:09.110178Z"
    }
   },
   "source": [
    "plot_mean_std_indep(datasets, datasets_metadata, log_scale=False)"
   ],
   "outputs": []
  },
  {
   "cell_type": "code",
   "execution_count": 12,
   "id": "658b2c608067e74b",
   "metadata": {
    "ExecuteTime": {
     "end_time": "2024-10-25T11:34:17.620218Z",
     "start_time": "2024-10-25T11:34:16.633178Z"
    }
   },
   "source": [
    "plot_mean_diffs(datasets, log=True)"
   ],
   "outputs": []
  },
  {
   "cell_type": "markdown",
   "id": "9199aa979ee95c02",
   "metadata": {},
   "source": [
    "#### Harmonisation"
   ]
  },
  {
   "cell_type": "code",
   "execution_count": 13,
   "id": "8dc8ee3d622e0094",
   "metadata": {
    "ExecuteTime": {
     "end_time": "2024-10-25T11:34:17.788122Z",
     "start_time": "2024-10-25T11:34:17.624297Z"
    }
   },
   "source": [
    "# Join all datasets and metadata\n",
    "X = pd.concat(datasets.values())\n",
    "all_metadata = pd.concat(datasets_metadata.values())\n",
    "all_metadata = all_metadata.loc[X.index]  # keep only the metadata of the subjects in X\n",
    "assert X.shape[0] == all_metadata.shape[0]\n",
    "# NeuroHarmonize\n",
    "X = neuro_harmonize(X, all_metadata, cov_age=True, cov_gender=True, cov_education=True)\n",
    "datasets_after = {dataset_name: X.loc[datasets[dataset_name].index] for dataset_name in datasets.keys()}"
   ],
   "outputs": []
  },
  {
   "cell_type": "code",
   "execution_count": 14,
   "id": "e0374b121ef7f259",
   "metadata": {
    "ExecuteTime": {
     "end_time": "2024-10-25T11:34:17.936402Z",
     "start_time": "2024-10-25T11:34:17.807458Z"
    }
   },
   "source": [
    "X = intra_dataset_norm(X, method='z-score')\n",
    "# Put back as it was\n",
    "datasets_after_zscore = {dataset_name: X.loc[datasets[dataset_name].index] for dataset_name in datasets.keys()}"
   ],
   "outputs": []
  },
  {
   "cell_type": "code",
   "execution_count": 15,
   "id": "5e746a6352dbf353",
   "metadata": {
    "ExecuteTime": {
     "end_time": "2024-10-25T11:34:17.978646Z",
     "start_time": "2024-10-25T11:34:17.946654Z"
    }
   },
   "source": [
    "# Undo log transformation\n",
    "datasets_after_nolog = {dataset_name: np.power(10, dataset) for dataset_name, dataset in datasets_after.items()}"
   ],
   "outputs": []
  },
  {
   "cell_type": "markdown",
   "id": "13640ec00fef7d2d",
   "metadata": {},
   "source": [
    "#### After harmonisation"
   ]
  },
  {
   "cell_type": "code",
   "execution_count": 16,
   "id": "56acb8819cf779fc",
   "metadata": {
    "ExecuteTime": {
     "end_time": "2024-10-25T11:34:18.009194Z",
     "start_time": "2024-10-25T11:34:17.989944Z"
    }
   },
   "source": [
    "# Check normality after COMBAT\n",
    "check_normality(datasets_after, datasets_metadata)\n",
    "#create_qq_plots(datasets)"
   ],
   "outputs": []
  },
  {
   "cell_type": "code",
   "execution_count": 17,
   "id": "ff8c17a9c469ff3b",
   "metadata": {
    "ExecuteTime": {
     "end_time": "2024-10-25T11:34:25.428050Z",
     "start_time": "2024-10-25T11:34:18.014073Z"
    }
   },
   "source": [
    "# Plot all regions\n",
    "plot_mean_std_indep(datasets_after, datasets_metadata)"
   ],
   "outputs": []
  },
  {
   "cell_type": "code",
   "execution_count": 18,
   "id": "4b4c4e392bdcd29d",
   "metadata": {
    "ExecuteTime": {
     "end_time": "2024-10-25T11:34:31.740047Z",
     "start_time": "2024-10-25T11:34:25.431013Z"
    }
   },
   "source": [
    "# Plot all regions (Z-score)\n",
    "plot_mean_std_indep(datasets_after_zscore, datasets_metadata)"
   ],
   "outputs": []
  },
  {
   "cell_type": "code",
   "execution_count": 19,
   "id": "10cbe981ebfc7698",
   "metadata": {
    "ExecuteTime": {
     "end_time": "2024-10-25T11:34:38.066869Z",
     "start_time": "2024-10-25T11:34:31.744214Z"
    }
   },
   "source": [
    "# Plot all regions (no log)\n",
    "plot_mean_std_indep(datasets_after_nolog, datasets_metadata)"
   ],
   "outputs": []
  },
  {
   "cell_type": "code",
   "execution_count": 20,
   "id": "90da6ffdc9feeb4c",
   "metadata": {
    "ExecuteTime": {
     "end_time": "2024-10-25T11:34:38.944596Z",
     "start_time": "2024-10-25T11:34:38.070308Z"
    }
   },
   "source": [
    "plot_mean_diffs(datasets_after, log=True)"
   ],
   "outputs": []
  },
  {
   "cell_type": "code",
   "execution_count": 21,
   "id": "96076d5190d02c52",
   "metadata": {
    "ExecuteTime": {
     "end_time": "2024-10-25T11:34:39.442629Z",
     "start_time": "2024-10-25T11:34:38.948417Z"
    }
   },
   "source": [
    "correlation_with_var(datasets, datasets_after, datasets_metadata, (\"DIAGNOSIS\", \"SITE\"))"
   ],
   "outputs": []
  },
  {
   "cell_type": "code",
   "execution_count": 22,
   "id": "ae7a149ceaf4c30a",
   "metadata": {
    "ExecuteTime": {
     "end_time": "2024-10-25T11:41:31.549179Z",
     "start_time": "2024-10-25T11:34:39.449500Z"
    }
   },
   "source": [
    "classification_with_var(datasets, datasets_after, datasets_metadata, (\"DIAGNOSIS\", \"SITE\"), relevant_features=None)"
   ],
   "outputs": []
  },
  {
   "cell_type": "code",
   "execution_count": 23,
   "id": "2089fdefdb4c0662",
   "metadata": {
    "ExecuteTime": {
     "end_time": "2024-10-25T11:41:32.589557Z",
     "start_time": "2024-10-25T11:41:31.556422Z"
    }
   },
   "source": [
    "plot_2components(datasets, datasets_after, datasets_metadata, method='pca')"
   ],
   "outputs": []
  },
  {
   "cell_type": "code",
   "execution_count": 24,
   "id": "4009f6332a1bfe8a",
   "metadata": {
    "ExecuteTime": {
     "end_time": "2024-10-25T11:41:33.578140Z",
     "start_time": "2024-10-25T11:41:32.596655Z"
    }
   },
   "source": [
    "plot_2components(datasets, datasets_after, datasets_metadata, method='lda')"
   ],
   "outputs": []
  },
  {
   "cell_type": "code",
   "execution_count": 25,
   "id": "7ebce835a954c2b1",
   "metadata": {
    "ExecuteTime": {
     "end_time": "2024-10-25T11:41:50.889016Z",
     "start_time": "2024-10-25T11:41:33.599089Z"
    }
   },
   "source": [
    "plot_2components(datasets, datasets_after, datasets_metadata, method='tsne')"
   ],
   "outputs": []
  },
  {
   "cell_type": "code",
   "execution_count": 26,
   "id": "aaf3eddc8cf94fc8",
   "metadata": {
    "ExecuteTime": {
     "end_time": "2024-10-25T11:41:51.208231Z",
     "start_time": "2024-10-25T11:41:50.895605Z"
    }
   },
   "source": [
    "plot_distance_matrix(datasets, datasets_after, datasets_metadata)"
   ],
   "outputs": []
  },
  {
   "cell_type": "code",
   "execution_count": 26,
   "id": "a07c5242a939b2fa",
   "metadata": {
    "ExecuteTime": {
     "end_time": "2024-10-25T11:41:51.218537Z",
     "start_time": "2024-10-25T11:41:51.213305Z"
    }
   },
   "source": [],
   "outputs": []
  }
 ],
 "metadata": {
  "kernelspec": {
   "display_name": "Python 3 (ipykernel)",
   "language": "python",
   "name": "python3"
  },
  "language_info": {
   "codemirror_mode": {
    "name": "ipython",
    "version": 3
   },
   "file_extension": ".py",
   "mimetype": "text/x-python",
   "name": "python",
   "nbconvert_exporter": "python",
   "pygments_lexer": "ipython3",
   "version": "3.10.4"
  }
 },
 "nbformat": 4,
 "nbformat_minor": 5
}
