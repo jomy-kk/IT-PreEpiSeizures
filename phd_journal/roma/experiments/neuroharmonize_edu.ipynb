{
 "cells": [
  {
   "cell_type": "code",
   "execution_count": 1,
   "id": "705cfb5e4a26770f",
   "metadata": {
    "ExecuteTime": {
     "end_time": "2024-10-25T11:33:24.159763Z",
     "start_time": "2024-10-25T11:33:18.497515Z"
    }
   },
   "source": [
    "from scipy.stats import zscore\n",
    "\n",
    "from phd_journal.roma.plotting import *\n",
    "from phd_journal.roma.combat_variations import *\n",
    "from phd_journal.roma.read import *"
   ],
   "outputs": []
  },
  {
   "cell_type": "markdown",
   "id": "6204040c57827e4",
   "metadata": {},
   "source": [
    "#### I/O"
   ]
  },
  {
   "cell_type": "code",
   "execution_count": 2,
   "id": "initial_id",
   "metadata": {
    "ExecuteTime": {
     "end_time": "2024-10-25T11:33:24.172133Z",
     "start_time": "2024-10-25T11:33:24.166944Z"
    },
    "collapsed": true
   },
   "source": [
    "datasets_paths = {\n",
    "    \"Newcastle\": \"/Volumes/MMIS-Saraiv/Datasets/Newcastle/EC/features_source_ind-bands\",\n",
    "    \"Izmir\": \"/Volumes/MMIS-Saraiv/Datasets/Izmir/EC/features_source_ind-bands\",\n",
    "    \"Sapienza\": \"/Volumes/MMIS-Saraiv/Datasets/Sapienza/features_source_ind-bands\",\n",
    "}"
   ],
   "outputs": []
  },
  {
   "cell_type": "code",
   "execution_count": 3,
   "id": "633d84671254cdd",
   "metadata": {
    "ExecuteTime": {
     "end_time": "2024-10-25T11:33:24.180525Z",
     "start_time": "2024-10-25T11:33:24.175175Z"
    }
   },
   "source": [
    "datasets_metadata_paths = {\n",
    "    \"Izmir\": \"/Volumes/MMIS-Saraiv/Datasets/Izmir/metadata.csv\",\n",
    "    \"Sapienza\": \"/Volumes/MMIS-Saraiv/Datasets/Sapienza/metadata.csv\",\n",
    "    \"Newcastle\": \"/Volumes/MMIS-Saraiv/Datasets/Newcastle/metadata.csv\",\n",
    "}"
   ],
   "outputs": []
  },
  {
   "cell_type": "markdown",
   "id": "5822ac6237948486",
   "metadata": {},
   "source": [
    "#### Read"
   ]
  },
  {
   "cell_type": "code",
   "execution_count": 4,
   "id": "84c7a933cb54153",
   "metadata": {
    "ExecuteTime": {
     "end_time": "2024-10-25T11:33:24.213382Z",
     "start_time": "2024-10-25T11:33:24.183772Z"
    }
   },
   "source": [
    "# Read datasets\n",
    "datasets = {}\n",
    "for dataset_name, path in datasets_paths.items():\n",
    "    dataset = read_dataset(path, label=dataset_name)\n",
    "    datasets[dataset_name] = dataset"
   ],
   "outputs": []
  },
  {
   "cell_type": "code",
   "execution_count": 5,
   "id": "9f88e24696d9eedd",
   "metadata": {
    "ExecuteTime": {
     "end_time": "2024-10-25T11:33:24.253979Z",
     "start_time": "2024-10-25T11:33:24.225320Z"
    }
   },
   "source": [
    "# Read metadata\n",
    "datasets_metadata = {}\n",
    "for dataset_name, path in datasets_metadata_paths.items():\n",
    "    dataset = read_metadata(path, label=dataset_name)\n",
    "    dataset['SITE'] = [s.split('-')[0] for s in dataset.index]\n",
    "    datasets_metadata[dataset_name] = dataset"
   ],
   "outputs": []
  },
  {
   "cell_type": "markdown",
   "id": "7ac3623bc00dccae",
   "metadata": {},
   "source": [
    "#### Before log transformation"
   ]
  },
  {
   "cell_type": "code",
   "execution_count": 6,
   "id": "a390127b4fd252db",
   "metadata": {
    "ExecuteTime": {
     "end_time": "2024-10-25T11:33:32.781390Z",
     "start_time": "2024-10-25T11:33:24.257401Z"
    }
   },
   "source": [
    "plot_mean_std_indep(datasets, datasets_metadata, log_scale=False)"
   ],
   "outputs": []
  },
  {
   "cell_type": "code",
   "execution_count": 7,
   "id": "9e7caeeee2779e33",
   "metadata": {
    "ExecuteTime": {
     "end_time": "2024-10-25T11:33:33.821274Z",
     "start_time": "2024-10-25T11:33:32.785306Z"
    }
   },
   "source": [
    "plot_mean_diffs(datasets)"
   ],
   "outputs": []
  },
  {
   "cell_type": "code",
   "execution_count": 8,
   "id": "c03f39b39da28b9e",
   "metadata": {
    "ExecuteTime": {
     "end_time": "2024-10-25T11:33:33.853565Z",
     "start_time": "2024-10-25T11:33:33.824789Z"
    }
   },
   "source": [
    "# Check normality before\n",
    "check_normality(datasets, datasets_metadata)\n",
    "#create_qq_plots(datasets)"
   ],
   "outputs": []
  },
  {
   "cell_type": "markdown",
   "id": "302da1f5d97a5b44",
   "metadata": {},
   "source": [
    "#### Log transformation"
   ]
  },
  {
   "cell_type": "code",
   "execution_count": 9,
   "id": "2271c04b5bcb9e7f",
   "metadata": {
    "ExecuteTime": {
     "end_time": "2024-10-25T11:33:33.864315Z",
     "start_time": "2024-10-25T11:33:33.856823Z"
    }
   },
   "source": [
    "# Approximate normality by log transformation\n",
    "datasets = {dataset_name: intra_dataset_norm(dataset, method='log') for dataset_name, dataset in datasets.items()}"
   ],
   "outputs": []
  },
  {
   "cell_type": "code",
   "execution_count": 10,
   "id": "4678b757c85e7160",
   "metadata": {
    "ExecuteTime": {
     "end_time": "2024-10-25T11:34:23.972665Z",
     "start_time": "2024-10-25T11:33:33.868229Z"
    }
   },
   "source": [
    "# Check normality after log\n",
    "check_normality(datasets, datasets_metadata)\n",
    "create_qq_plots(datasets)"
   ],
   "outputs": []
  },
  {
   "cell_type": "code",
   "execution_count": 11,
   "id": "c10d493e538ccd03",
   "metadata": {
    "ExecuteTime": {
     "end_time": "2024-10-25T11:34:30.230063Z",
     "start_time": "2024-10-25T11:34:23.977072Z"
    }
   },
   "source": [
    "plot_mean_std_indep(datasets, datasets_metadata, log_scale=False)"
   ],
   "outputs": []
  },
  {
   "cell_type": "code",
   "execution_count": 12,
   "id": "658b2c608067e74b",
   "metadata": {
    "ExecuteTime": {
     "end_time": "2024-10-25T11:34:31.111380Z",
     "start_time": "2024-10-25T11:34:30.233113Z"
    }
   },
   "source": [
    "plot_mean_diffs(datasets, log=True)"
   ],
   "outputs": []
  },
  {
   "cell_type": "markdown",
   "id": "9199aa979ee95c02",
   "metadata": {},
   "source": [
    "#### Harmonisation"
   ]
  },
  {
   "cell_type": "code",
   "execution_count": 13,
   "id": "8dc8ee3d622e0094",
   "metadata": {
    "ExecuteTime": {
     "end_time": "2024-10-25T11:34:31.234561Z",
     "start_time": "2024-10-25T11:34:31.115142Z"
    }
   },
   "source": [
    "# Join all datasets and metadata\n",
    "X = pd.concat(datasets.values())\n",
    "all_metadata = pd.concat(datasets_metadata.values())\n",
    "all_metadata = all_metadata.loc[X.index]  # keep only the metadata of the subjects in X\n",
    "assert X.shape[0] == all_metadata.shape[0]\n",
    "# NeuroHarmonize\n",
    "X = neuro_harmonize(X, all_metadata, cov_age=False, cov_gender=False, cov_education=True)\n",
    "datasets_after = {dataset_name: X.loc[datasets[dataset_name].index] for dataset_name in datasets.keys()}"
   ],
   "outputs": []
  },
  {
   "cell_type": "code",
   "execution_count": 14,
   "id": "e0374b121ef7f259",
   "metadata": {
    "ExecuteTime": {
     "end_time": "2024-10-25T11:34:31.363209Z",
     "start_time": "2024-10-25T11:34:31.259828Z"
    }
   },
   "source": [
    "X = intra_dataset_norm(X, method='z-score')\n",
    "# Put back as it was\n",
    "datasets_after_zscore = {dataset_name: X.loc[datasets[dataset_name].index] for dataset_name in datasets.keys()}"
   ],
   "outputs": []
  },
  {
   "cell_type": "code",
   "execution_count": 15,
   "id": "fadbce4c4192f312",
   "metadata": {
    "ExecuteTime": {
     "end_time": "2024-10-25T11:34:31.372457Z",
     "start_time": "2024-10-25T11:34:31.366013Z"
    }
   },
   "source": [
    "# Undo log transformation\n",
    "datasets_after_nolog = {dataset_name: np.power(10, dataset) for dataset_name, dataset in datasets_after.items()}"
   ],
   "outputs": []
  },
  {
   "cell_type": "markdown",
   "id": "13640ec00fef7d2d",
   "metadata": {},
   "source": [
    "#### After harmonisation"
   ]
  },
  {
   "cell_type": "code",
   "execution_count": 16,
   "id": "56acb8819cf779fc",
   "metadata": {
    "ExecuteTime": {
     "end_time": "2024-10-25T11:34:31.395276Z",
     "start_time": "2024-10-25T11:34:31.375812Z"
    }
   },
   "source": [
    "# Check normality after COMBAT\n",
    "check_normality(datasets_after, datasets_metadata)\n",
    "#create_qq_plots(datasets)"
   ],
   "outputs": []
  },
  {
   "cell_type": "code",
   "execution_count": 17,
   "id": "ff8c17a9c469ff3b",
   "metadata": {
    "ExecuteTime": {
     "end_time": "2024-10-25T11:34:37.971302Z",
     "start_time": "2024-10-25T11:34:31.399089Z"
    }
   },
   "source": [
    "# Plot all regions\n",
    "plot_mean_std_indep(datasets_after, datasets_metadata)"
   ],
   "outputs": []
  },
  {
   "cell_type": "code",
   "execution_count": 18,
   "id": "4b4c4e392bdcd29d",
   "metadata": {
    "ExecuteTime": {
     "end_time": "2024-10-25T11:34:44.083338Z",
     "start_time": "2024-10-25T11:34:37.974239Z"
    }
   },
   "source": [
    "# Plot all regions (Z-score)\n",
    "plot_mean_std_indep(datasets_after_zscore, datasets_metadata)"
   ],
   "outputs": []
  },
  {
   "cell_type": "code",
   "execution_count": 19,
   "id": "bfefd334b4e7d1a1",
   "metadata": {
    "ExecuteTime": {
     "end_time": "2024-10-25T11:34:50.574889Z",
     "start_time": "2024-10-25T11:34:44.088600Z"
    }
   },
   "source": [
    "# Plot all regions (no log)\n",
    "plot_mean_std_indep(datasets_after_nolog, datasets_metadata)"
   ],
   "outputs": []
  },
  {
   "cell_type": "code",
   "execution_count": 20,
   "id": "90da6ffdc9feeb4c",
   "metadata": {
    "ExecuteTime": {
     "end_time": "2024-10-25T11:34:51.488608Z",
     "start_time": "2024-10-25T11:34:50.578289Z"
    }
   },
   "source": [
    "plot_mean_diffs(datasets_after, log=True)"
   ],
   "outputs": []
  },
  {
   "cell_type": "code",
   "execution_count": 21,
   "id": "96076d5190d02c52",
   "metadata": {
    "ExecuteTime": {
     "end_time": "2024-10-25T11:34:52.005456Z",
     "start_time": "2024-10-25T11:34:51.493167Z"
    }
   },
   "source": [
    "correlation_with_var(datasets, datasets_after, datasets_metadata, (\"DIAGNOSIS\", \"SITE\"))"
   ],
   "outputs": []
  },
  {
   "cell_type": "code",
   "execution_count": 22,
   "id": "c72b6da8672aec4c",
   "metadata": {
    "ExecuteTime": {
     "end_time": "2024-10-25T11:41:42.365902Z",
     "start_time": "2024-10-25T11:34:52.009533Z"
    }
   },
   "source": [
    "classification_with_var(datasets, datasets_after, datasets_metadata, (\"DIAGNOSIS\", \"SITE\"), relevant_features=None)"
   ],
   "outputs": []
  },
  {
   "cell_type": "code",
   "execution_count": 23,
   "id": "2089fdefdb4c0662",
   "metadata": {
    "ExecuteTime": {
     "end_time": "2024-10-25T11:41:43.298763Z",
     "start_time": "2024-10-25T11:41:42.371998Z"
    }
   },
   "source": [
    "plot_2components(datasets, datasets_after, datasets_metadata, method='pca')"
   ],
   "outputs": []
  },
  {
   "cell_type": "code",
   "execution_count": 24,
   "id": "4009f6332a1bfe8a",
   "metadata": {
    "ExecuteTime": {
     "end_time": "2024-10-25T11:41:44.222206Z",
     "start_time": "2024-10-25T11:41:43.310971Z"
    }
   },
   "source": [
    "plot_2components(datasets, datasets_after, datasets_metadata, method='lda')"
   ],
   "outputs": []
  },
  {
   "cell_type": "code",
   "execution_count": 25,
   "id": "7ebce835a954c2b1",
   "metadata": {
    "ExecuteTime": {
     "end_time": "2024-10-25T11:41:55.646462Z",
     "start_time": "2024-10-25T11:41:44.230813Z"
    }
   },
   "source": [
    "plot_2components(datasets, datasets_after, datasets_metadata, method='tsne')"
   ],
   "outputs": []
  },
  {
   "cell_type": "code",
   "execution_count": 26,
   "id": "aaf3eddc8cf94fc8",
   "metadata": {
    "ExecuteTime": {
     "end_time": "2024-10-25T11:41:55.875461Z",
     "start_time": "2024-10-25T11:41:55.648593Z"
    }
   },
   "source": [
    "plot_distance_matrix(datasets, datasets_after, datasets_metadata)"
   ],
   "outputs": []
  },
  {
   "cell_type": "code",
   "execution_count": 26,
   "id": "a07c5242a939b2fa",
   "metadata": {
    "ExecuteTime": {
     "end_time": "2024-10-25T11:41:55.880029Z",
     "start_time": "2024-10-25T11:41:55.877605Z"
    }
   },
   "source": [],
   "outputs": []
  }
 ],
 "metadata": {
  "kernelspec": {
   "display_name": "Python 3 (ipykernel)",
   "language": "python",
   "name": "python3"
  },
  "language_info": {
   "codemirror_mode": {
    "name": "ipython",
    "version": 3
   },
   "file_extension": ".py",
   "mimetype": "text/x-python",
   "name": "python",
   "nbconvert_exporter": "python",
   "pygments_lexer": "ipython3",
   "version": "3.10.4"
  }
 },
 "nbformat": 4,
 "nbformat_minor": 5
}
