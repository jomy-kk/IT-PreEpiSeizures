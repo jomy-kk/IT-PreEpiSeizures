{
 "cells": [
  {
   "cell_type": "code",
   "id": "initial_id",
   "metadata": {
    "collapsed": true,
    "ExecuteTime": {
     "end_time": "2024-10-15T12:02:50.849640Z",
     "start_time": "2024-10-15T12:02:50.797632Z"
    }
   },
   "source": [
    "from glob import glob\n",
    "from os import mkdir\n",
    "from os.path import join, basename\n",
    "\n",
    "import pandas as pd\n",
    "import numpy as np"
   ],
   "execution_count": 7,
   "outputs": []
  },
  {
   "metadata": {
    "ExecuteTime": {
     "end_time": "2024-10-15T12:04:14.450323Z",
     "start_time": "2024-10-15T12:04:14.444470Z"
    }
   },
   "cell_type": "code",
   "source": [
    "common_path = \"/Volumes/MMIS-Saraiv/Datasets/Izmir/EC/as_given_denoised_2s-epoched\"\n",
    "out_common_path = \"/Volumes/MMIS-Saraiv/Datasets/Izmir/EC/128Hz_denoised_2s-epoched\"\n",
    "original_sf = 500.0\n",
    "new_sf = 128.0"
   ],
   "id": "7c37a64a692db3fe",
   "execution_count": 9,
   "outputs": []
  },
  {
   "metadata": {
    "ExecuteTime": {
     "end_time": "2024-10-15T12:04:14.789490Z",
     "start_time": "2024-10-15T12:04:14.740504Z"
    }
   },
   "cell_type": "code",
   "source": [
    "all_subjects = glob(join(common_path, '*'))\n",
    "all_subjects"
   ],
   "id": "2b72e165101177bc",
   "execution_count": 10,
   "outputs": []
  },
  {
   "metadata": {
    "ExecuteTime": {
     "end_time": "2024-10-15T12:12:55.260732Z",
     "start_time": "2024-10-15T12:05:34.589993Z"
    }
   },
   "cell_type": "code",
   "source": [
    "for subject_path in all_subjects:\n",
    "    subject = basename(subject_path).split('-')[0].split(' ')[1]\n",
    "    print(\"Subject Code\", subject)\n",
    "    all_files = glob(join(subject_path, '*.txt'))\n",
    "    \n",
    "    out_subject_path = join(out_common_path, basename(subject_path))\n",
    "    mkdir(out_subject_path)\n",
    "\n",
    "    # go by epoch\n",
    "    for file in all_files:\n",
    "        data = pd.read_csv(file, sep='\\t', dtype=float)  # time x channels\n",
    "        resampled_data = []\n",
    "        # go by channel (column)\n",
    "        for i in range(data.shape[1]):\n",
    "            channel = np.array(data.iloc[:, i].values)\n",
    "            # resample with numpy\n",
    "            channel = np.interp(np.arange(0, len(channel), original_sf/new_sf), np.arange(0, len(channel)), channel)\n",
    "            # put it back in the dataframe\n",
    "            resampled_data.append(channel)\n",
    "        resampled_data = pd.DataFrame(np.array(resampled_data).T)\n",
    "        # save the resampled data\n",
    "        new_file = join(out_subject_path, basename(file))\n",
    "        resampled_data.to_csv(new_file, sep='\\t', index=False, header=False)"
   ],
   "id": "b9a3811bb08b7377",
   "execution_count": 13,
   "outputs": []
  },
  {
   "metadata": {
    "ExecuteTime": {
     "end_time": "2024-10-15T12:13:21.998930Z",
     "start_time": "2024-10-15T12:13:21.990225Z"
    }
   },
   "cell_type": "code",
   "source": "",
   "id": "5acc564ad093836c",
   "execution_count": 13,
   "outputs": []
  },
  {
   "metadata": {},
   "cell_type": "code",
   "execution_count": null,
   "source": "",
   "id": "43014977916871e",
   "outputs": []
  }
 ],
 "metadata": {
  "kernelspec": {
   "display_name": "Python 3",
   "language": "python",
   "name": "python3"
  },
  "language_info": {
   "codemirror_mode": {
    "name": "ipython",
    "version": 2
   },
   "file_extension": ".py",
   "mimetype": "text/x-python",
   "name": "python",
   "nbconvert_exporter": "python",
   "pygments_lexer": "ipython2",
   "version": "2.7.6"
  }
 },
 "nbformat": 4,
 "nbformat_minor": 5
}
