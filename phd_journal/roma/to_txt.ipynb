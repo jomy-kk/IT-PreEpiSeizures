{
 "cells": [
  {
   "metadata": {
    "ExecuteTime": {
     "end_time": "2024-10-10T10:54:52.293256Z",
     "start_time": "2024-10-10T10:54:49.510210Z"
    }
   },
   "cell_type": "code",
   "source": [
    "\n",
    "from glob import glob\n",
    "from os.path import join\n",
    "\n",
    "import numpy as np\n",
    "\n",
    "from ltbio.biosignals.modalities import EEG"
   ],
   "id": "87196f9773b9c756",
   "execution_count": 2,
   "outputs": []
  },
  {
   "cell_type": "code",
   "id": "initial_id",
   "metadata": {
    "collapsed": true,
    "ExecuteTime": {
     "end_time": "2024-10-10T10:54:52.756764Z",
     "start_time": "2024-10-10T10:54:52.295031Z"
    }
   },
   "source": [
    "#common_path = \"/Volumes/MMIS-Saraiv/Datasets/Sapienza/denoised_biosignal/\"\n",
    "common_path = \"/Volumes/MMIS-Saraiv/Datasets/Istambul/denoised_biosignal/\"\n",
    "out_common_path = \"/Volumes/MMIS-Saraiv/Datasets/Sapienza/denoised_txt/\"\n",
    "all_files = glob(join(common_path, \"*.biosignal\"))"
   ],
   "execution_count": 3,
   "outputs": []
  },
  {
   "metadata": {
    "ExecuteTime": {
     "end_time": "2024-10-10T10:54:52.766718Z",
     "start_time": "2024-10-10T10:54:52.760386Z"
    }
   },
   "cell_type": "code",
   "source": "channel_order = ('C3', 'C4', 'Cz', 'F3', 'F4', 'F7', 'F8', 'Fp1', 'Fp2', 'Fpz', 'Fz', 'O1', 'O2', 'P3', 'P4', 'Pz', 'T3', 'T4', 'T5', 'T6')  # without mastoids",
   "id": "160216cb80b8f1e2",
   "execution_count": 4,
   "outputs": []
  },
  {
   "metadata": {
    "ExecuteTime": {
     "end_time": "2024-10-10T10:57:58.387821Z",
     "start_time": "2024-10-10T10:57:53.291811Z"
    }
   },
   "cell_type": "code",
   "source": [
    "for filepath in all_files:\n",
    "    filename = filepath.split('/')[-1].split('.')[0]\n",
    "    print(filename)\n",
    "    # Load Biosignal\n",
    "    x = EEG.load(filepath)\n",
    "    x = x[channel_order]  # get only channels of interest\n",
    "    # To array\n",
    "    _array: np.ndarray = x.to_array(channel_order).T\n",
    "    #remove last line\n",
    "    _array = _array[:-1]\n",
    "    # save numpy array to txt; write with maximum 4 decimal places\n",
    "    out_filepath = join(out_common_path, f'{filename[11:13]}.txt')\n",
    "    np.savetxt(out_filepath, _array, fmt='%.4f', delimiter='\\t')\n",
    "    print(out_filepath)\n",
    "         "
   ],
   "id": "d8563a50f2d656f3",
   "execution_count": 6,
   "outputs": []
  },
  {
   "metadata": {},
   "cell_type": "code",
   "execution_count": null,
   "source": "",
   "id": "f5f9bc2ec8a3e87d",
   "outputs": []
  }
 ],
 "metadata": {
  "kernelspec": {
   "display_name": "Python 3",
   "language": "python",
   "name": "python3"
  },
  "language_info": {
   "codemirror_mode": {
    "name": "ipython",
    "version": 2
   },
   "file_extension": ".py",
   "mimetype": "text/x-python",
   "name": "python",
   "nbconvert_exporter": "python",
   "pygments_lexer": "ipython2",
   "version": "2.7.6"
  }
 },
 "nbformat": 4,
 "nbformat_minor": 5
}
