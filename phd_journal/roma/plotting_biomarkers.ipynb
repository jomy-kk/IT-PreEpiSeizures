{
 "cells": [
  {
   "metadata": {
    "ExecuteTime": {
     "end_time": "2024-10-29T09:53:07.812303Z",
     "start_time": "2024-10-29T09:53:05.742113Z"
    }
   },
   "cell_type": "code",
   "source": [
    "from scipy.stats import zscore\n",
    "\n",
    "from plotting import *\n",
    "from combat_variations import *\n",
    "from read import *"
   ],
   "id": "705cfb5e4a26770f",
   "execution_count": 1,
   "outputs": []
  },
  {
   "metadata": {},
   "cell_type": "markdown",
   "source": "#### I/O",
   "id": "6204040c57827e4"
  },
  {
   "cell_type": "code",
   "id": "initial_id",
   "metadata": {
    "collapsed": true,
    "ExecuteTime": {
     "end_time": "2024-10-29T09:53:07.818654Z",
     "start_time": "2024-10-29T09:53:07.814807Z"
    }
   },
   "source": [
    "datasets_paths = {\n",
    "    \"Newcastle\": \"/Volumes/MMIS-Saraiv/Datasets/Newcastle/EC/features_source_ind-bands\",\n",
    "    \"Izmir\": \"/Volumes/MMIS-Saraiv/Datasets/Izmir/EC/features_source_ind-bands\",\n",
    "    \"Sapienza\": \"/Volumes/MMIS-Saraiv/Datasets/Sapienza/features_source_ind-bands\",\n",
    "}"
   ],
   "execution_count": 2,
   "outputs": []
  },
  {
   "metadata": {
    "ExecuteTime": {
     "end_time": "2024-10-29T09:53:07.825359Z",
     "start_time": "2024-10-29T09:53:07.821842Z"
    }
   },
   "cell_type": "code",
   "source": [
    "datasets_metadata_paths = {\n",
    "    \"Izmir\": \"/Volumes/MMIS-Saraiv/Datasets/Izmir/metadata.csv\",\n",
    "    \"Sapienza\": \"/Volumes/MMIS-Saraiv/Datasets/Sapienza/metadata.csv\",\n",
    "    \"Newcastle\": \"/Volumes/MMIS-Saraiv/Datasets/Newcastle/metadata.csv\",\n",
    "}"
   ],
   "id": "633d84671254cdd",
   "execution_count": 3,
   "outputs": []
  },
  {
   "metadata": {},
   "cell_type": "markdown",
   "source": "#### Read",
   "id": "5822ac6237948486"
  },
  {
   "metadata": {
    "ExecuteTime": {
     "end_time": "2024-10-29T09:53:07.849745Z",
     "start_time": "2024-10-29T09:53:07.829514Z"
    }
   },
   "cell_type": "code",
   "source": [
    "# Read datasets\n",
    "datasets = {}\n",
    "for dataset_name, path in datasets_paths.items():\n",
    "    dataset = read_dataset(path, label=dataset_name)\n",
    "    datasets[dataset_name] = dataset"
   ],
   "id": "84c7a933cb54153",
   "execution_count": 4,
   "outputs": []
  },
  {
   "metadata": {
    "ExecuteTime": {
     "end_time": "2024-10-29T09:53:07.865772Z",
     "start_time": "2024-10-29T09:53:07.851407Z"
    }
   },
   "cell_type": "code",
   "source": [
    "# Read metadata\n",
    "datasets_metadata = {}\n",
    "for dataset_name, path in datasets_metadata_paths.items():\n",
    "    dataset = read_metadata(path, label=dataset_name)\n",
    "    dataset['SITE'] = [s.split('-')[0] for s in dataset.index]\n",
    "    datasets_metadata[dataset_name] = dataset"
   ],
   "id": "9f88e24696d9eedd",
   "execution_count": 5,
   "outputs": []
  },
  {
   "metadata": {},
   "cell_type": "markdown",
   "source": "#### Before log transformation",
   "id": "7ac3623bc00dccae"
  },
  {
   "metadata": {
    "ExecuteTime": {
     "end_time": "2024-10-29T09:52:30.148650Z",
     "start_time": "2024-10-29T09:52:27.440169Z"
    }
   },
   "cell_type": "code",
   "source": "plot_mean_std_indep(datasets, datasets_metadata, log_scale=False)",
   "id": "a390127b4fd252db",
   "execution_count": 6,
   "outputs": []
  },
  {
   "metadata": {
    "ExecuteTime": {
     "end_time": "2024-10-29T09:52:30.508398Z",
     "start_time": "2024-10-29T09:52:30.149780Z"
    }
   },
   "cell_type": "code",
   "source": "plot_mean_diffs(datasets)",
   "id": "9e7caeeee2779e33",
   "execution_count": 7,
   "outputs": []
  },
  {
   "metadata": {
    "ExecuteTime": {
     "end_time": "2024-10-29T09:52:30.521614Z",
     "start_time": "2024-10-29T09:52:30.510135Z"
    }
   },
   "cell_type": "code",
   "source": [
    "# Check normality before\n",
    "check_normality(datasets, datasets_metadata)\n",
    "#create_qq_plots(datasets)"
   ],
   "id": "c03f39b39da28b9e",
   "execution_count": 8,
   "outputs": []
  },
  {
   "metadata": {},
   "cell_type": "markdown",
   "source": "#### Log transformation",
   "id": "302da1f5d97a5b44"
  },
  {
   "metadata": {
    "ExecuteTime": {
     "end_time": "2024-10-29T09:53:10.435919Z",
     "start_time": "2024-10-29T09:53:10.432309Z"
    }
   },
   "cell_type": "code",
   "source": [
    "# Approximate normality by log transformation\n",
    "datasets = {dataset_name: intra_dataset_norm(dataset, method='log') for dataset_name, dataset in datasets.items()}"
   ],
   "id": "2271c04b5bcb9e7f",
   "execution_count": 6,
   "outputs": []
  },
  {
   "metadata": {
    "ExecuteTime": {
     "end_time": "2024-10-28T15:20:19.321179Z",
     "start_time": "2024-10-28T15:20:00.972037Z"
    }
   },
   "cell_type": "code",
   "source": [
    "# Check normality after log\n",
    "check_normality(datasets, datasets_metadata)\n",
    "#create_qq_plots(datasets)"
   ],
   "id": "4678b757c85e7160",
   "execution_count": 10,
   "outputs": []
  },
  {
   "metadata": {
    "ExecuteTime": {
     "end_time": "2024-10-28T15:20:21.808439Z",
     "start_time": "2024-10-28T15:20:19.322279Z"
    }
   },
   "cell_type": "code",
   "source": "plot_mean_std_indep(datasets, datasets_metadata, log_scale=False)",
   "id": "c10d493e538ccd03",
   "execution_count": 11,
   "outputs": []
  },
  {
   "metadata": {
    "ExecuteTime": {
     "end_time": "2024-10-28T15:20:22.167814Z",
     "start_time": "2024-10-28T15:20:21.810230Z"
    }
   },
   "cell_type": "code",
   "source": "plot_mean_diffs(datasets, log=True)",
   "id": "658b2c608067e74b",
   "execution_count": 12,
   "outputs": []
  },
  {
   "metadata": {},
   "cell_type": "markdown",
   "source": "#### Harmonisation",
   "id": "9199aa979ee95c02"
  },
  {
   "metadata": {
    "ExecuteTime": {
     "end_time": "2024-10-29T09:53:15.302800Z",
     "start_time": "2024-10-29T09:53:14.151223Z"
    }
   },
   "cell_type": "code",
   "source": [
    "# Join all datasets and metadata\n",
    "X = pd.concat(datasets.values())\n",
    "all_metadata = pd.concat(datasets_metadata.values())\n",
    "all_metadata = all_metadata.loc[X.index]  # keep only the metadata of the subjects in X\n",
    "assert X.shape[0] == all_metadata.shape[0]\n",
    "# NeuroHarmonize\n",
    "#X = neuro_harmonize(X, all_metadata, cov_age=True, cov_gender=True, cov_education=True)\n",
    "X = neuro_combat(X, all_metadata, cov_age=True, cov_gender=True, cov_education=True)\n",
    "datasets_after = {dataset_name: X.loc[datasets[dataset_name].index] for dataset_name in datasets.keys()}"
   ],
   "id": "8dc8ee3d622e0094",
   "execution_count": 7,
   "outputs": []
  },
  {
   "metadata": {
    "ExecuteTime": {
     "end_time": "2024-10-29T09:45:20.011380Z",
     "start_time": "2024-10-29T09:45:19.960584Z"
    }
   },
   "cell_type": "code",
   "source": [
    "X = intra_dataset_norm(X, method='z-score')\n",
    "# Put back as it was\n",
    "datasets_after_zscore = {dataset_name: X.loc[datasets[dataset_name].index] for dataset_name in datasets.keys()}"
   ],
   "id": "e0374b121ef7f259",
   "execution_count": 8,
   "outputs": []
  },
  {
   "metadata": {},
   "cell_type": "markdown",
   "source": "#### After harmonisation",
   "id": "13640ec00fef7d2d"
  },
  {
   "metadata": {},
   "cell_type": "code",
   "source": [
    "# Check normality after COMBAT\n",
    "check_normality(datasets_after, datasets_metadata)\n",
    "#create_qq_plots(datasets)"
   ],
   "id": "56acb8819cf779fc",
   "execution_count": null,
   "outputs": []
  },
  {
   "metadata": {
    "ExecuteTime": {
     "end_time": "2024-10-29T09:45:27.041309Z",
     "start_time": "2024-10-29T09:45:24.563466Z"
    }
   },
   "cell_type": "code",
   "source": [
    "# Plot all regions\n",
    "plot_mean_std_indep(datasets_after, datasets_metadata)"
   ],
   "id": "ff8c17a9c469ff3b",
   "execution_count": 9,
   "outputs": []
  },
  {
   "metadata": {
    "ExecuteTime": {
     "end_time": "2024-10-29T09:45:34.650742Z",
     "start_time": "2024-10-29T09:45:32.154819Z"
    }
   },
   "cell_type": "code",
   "source": [
    "# Plot all regions (Z-score)\n",
    "plot_mean_std_indep(datasets_after_zscore, datasets_metadata)"
   ],
   "id": "4b4c4e392bdcd29d",
   "execution_count": 10,
   "outputs": []
  },
  {
   "metadata": {
    "ExecuteTime": {
     "end_time": "2024-10-29T09:45:39.329418Z",
     "start_time": "2024-10-29T09:45:38.834190Z"
    }
   },
   "cell_type": "code",
   "source": "plot_mean_diffs(datasets_after, log=True)",
   "id": "90da6ffdc9feeb4c",
   "execution_count": 11,
   "outputs": []
  },
  {
   "metadata": {
    "ExecuteTime": {
     "end_time": "2024-10-29T09:45:40.989992Z",
     "start_time": "2024-10-29T09:45:40.758887Z"
    }
   },
   "cell_type": "code",
   "source": "correlation_with_var(datasets, datasets_after, datasets_metadata, (\"DIAGNOSIS\", \"SITE\"))",
   "id": "96076d5190d02c52",
   "execution_count": 12,
   "outputs": []
  },
  {
   "metadata": {
    "ExecuteTime": {
     "end_time": "2024-10-29T09:49:26.447839Z",
     "start_time": "2024-10-29T09:46:38.214085Z"
    }
   },
   "cell_type": "code",
   "source": "classification_with_var(datasets, datasets_after, datasets_metadata, (\"DIAGNOSIS\", \"SITE\"), relevant_features=None)",
   "id": "fb113501b5ab25bc",
   "execution_count": 18,
   "outputs": []
  },
  {
   "metadata": {
    "ExecuteTime": {
     "end_time": "2024-10-29T09:45:49.761271Z",
     "start_time": "2024-10-29T09:45:49.303255Z"
    }
   },
   "cell_type": "code",
   "source": "plot_2components(datasets, datasets_after, datasets_metadata, method='pca')",
   "id": "2089fdefdb4c0662",
   "execution_count": 13,
   "outputs": []
  },
  {
   "metadata": {
    "ExecuteTime": {
     "end_time": "2024-10-29T09:45:52.720710Z",
     "start_time": "2024-10-29T09:45:52.267130Z"
    }
   },
   "cell_type": "code",
   "source": "plot_2components(datasets, datasets_after, datasets_metadata, method='lda')",
   "id": "4009f6332a1bfe8a",
   "execution_count": 14,
   "outputs": []
  },
  {
   "metadata": {
    "ExecuteTime": {
     "end_time": "2024-10-29T09:45:57.379566Z",
     "start_time": "2024-10-29T09:45:55.813153Z"
    }
   },
   "cell_type": "code",
   "source": "plot_2components(datasets, datasets_after, datasets_metadata, method='tsne')",
   "id": "7ebce835a954c2b1",
   "execution_count": 15,
   "outputs": []
  },
  {
   "metadata": {
    "ExecuteTime": {
     "end_time": "2024-10-29T09:45:58.698822Z",
     "start_time": "2024-10-29T09:45:58.531368Z"
    }
   },
   "cell_type": "code",
   "source": "plot_distance_matrix(datasets, datasets_after, datasets_metadata)",
   "id": "aaf3eddc8cf94fc8",
   "execution_count": 16,
   "outputs": []
  },
  {
   "metadata": {},
   "cell_type": "code",
   "source": "",
   "id": "a07c5242a939b2fa",
   "execution_count": null,
   "outputs": []
  }
 ],
 "metadata": {
  "kernelspec": {
   "display_name": "Python 3",
   "language": "python",
   "name": "python3"
  },
  "language_info": {
   "codemirror_mode": {
    "name": "ipython",
    "version": 2
   },
   "file_extension": ".py",
   "mimetype": "text/x-python",
   "name": "python",
   "nbconvert_exporter": "python",
   "pygments_lexer": "ipython2",
   "version": "2.7.6"
  }
 },
 "nbformat": 4,
 "nbformat_minor": 5
}
