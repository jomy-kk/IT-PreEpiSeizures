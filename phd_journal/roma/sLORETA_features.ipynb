{
 "cells": [
  {
   "metadata": {
    "ExecuteTime": {
     "end_time": "2024-10-17T10:17:27.719818Z",
     "start_time": "2024-10-17T10:17:27.716150Z"
    }
   },
   "cell_type": "code",
   "source": [
    "from glob import glob\n",
    "from os.path import join, basename\n",
    "\n",
    "import pandas as pd\n",
    "import numpy as np\n",
    "from matplotlib import pyplot as plt"
   ],
   "id": "dac60d63b4ba1bca",
   "execution_count": 1,
   "outputs": []
  },
  {
   "cell_type": "code",
   "id": "initial_id",
   "metadata": {
    "collapsed": true,
    "ExecuteTime": {
     "end_time": "2024-10-17T10:18:01.979246Z",
     "start_time": "2024-10-17T10:18:01.974237Z"
    }
   },
   "source": [
    "common_path = \"/Volumes/MMIS-Saraiv/Datasets/Newcastle/EC/sLORETA/LORETA_0,5Hz-resolution\"\n",
    "#common_path = \"/Volumes/MMIS-Saraiv/Datasets/Sapienza/sLORETA/LORETA_0,5Hz-resolution\"\n",
    "out_common_path = \"/Volumes/MMIS-Saraiv/Datasets/Newcastle/EC/features_source_ind-bands\"\n",
    "header = ['Frontal', 'Central', 'Parietal', 'Occipital', 'Temporal', 'Limbic']\n",
    "freqs = np.arange(0.5, 45.5, 0.5)  # these are the lower bound frequencies of 0.5Hz bins"
   ],
   "execution_count": 11,
   "outputs": []
  },
  {
   "metadata": {
    "ExecuteTime": {
     "end_time": "2024-10-17T10:18:02.235081Z",
     "start_time": "2024-10-17T10:18:02.215539Z"
    }
   },
   "cell_type": "code",
   "source": [
    "# Read IAF and TF values\n",
    "iaf_tf_path = \"/Volumes/MMIS-Saraiv/Datasets/Newcastle/EC/iaf_tf_my-boudaries.csv\"\n",
    "#iaf_tf_path = \"/Volumes/MMIS-Saraiv/Datasets/Izmir/iaf_tf_my-boudaries.csv\"\n",
    "all_iaf_tf = pd.read_csv(iaf_tf_path, index_col=0)"
   ],
   "id": "b85b4b4a57ea29b9",
   "execution_count": 12,
   "outputs": []
  },
  {
   "metadata": {
    "ExecuteTime": {
     "end_time": "2024-10-17T10:18:02.656651Z",
     "start_time": "2024-10-17T10:18:02.483525Z"
    }
   },
   "cell_type": "code",
   "source": "all_subjects = glob(join(common_path, '*Roi.txt'))",
   "id": "13fb8fd23aea957b",
   "execution_count": 13,
   "outputs": []
  },
  {
   "metadata": {
    "ExecuteTime": {
     "end_time": "2024-10-17T10:18:02.934686Z",
     "start_time": "2024-10-17T10:18:02.924520Z"
    }
   },
   "cell_type": "code",
   "source": [
    "def plot_individual_bands(bands: dict[str, tuple[float, float]], tf: float, iaf: float, subject_code: str):\n",
    "    # Make a horizonal plot with the bands on the x-axis\n",
    "    fig, ax = plt.subplots(1, 1, figsize=(20, 3))\n",
    "    for i, (band, (inf, sup)) in enumerate(bands.items()):\n",
    "        # coarse line\n",
    "        plt.hlines(i, inf, sup, label=band, color='black', lw=4)\n",
    "    # plot vertically dashed in red the TF and IAF\n",
    "    plt.vlines(tf, -1, len(bands), color='red', linestyles='dashed', lw=2, label='TF')\n",
    "    plt.vlines(iaf, -1, len(bands), color='blue', linestyles='dashed', lw=2, label='IAF')\n",
    "    ax.set_yticks(range(len(bands)))\n",
    "    ax.set_yticklabels(list(bands.keys()))\n",
    "    ax.set_xlabel(\"Frequency (Hz)\")\n",
    "    # make all x-ticks from 'bands' and add TF and IAF\n",
    "    xticks = list(bands.values())\n",
    "    xticks.append((tf, tf))\n",
    "    xticks.append((iaf, iaf))\n",
    "    ax.set_xticks([x for x, _ in xticks])\n",
    "    ax.set_title(\"Individual bands of subject \" + subject_code)\n",
    "    #plt.show()\n",
    "    plt.savefig(join(out_common_path, f\"{subject_code}_bands.png\"), dpi=300, bbox_inches='tight')\n",
    "    plt.close()"
   ],
   "id": "b08a650c0a20ab69",
   "execution_count": 14,
   "outputs": []
  },
  {
   "metadata": {
    "ExecuteTime": {
     "end_time": "2024-10-17T10:18:03.912233Z",
     "start_time": "2024-10-17T10:18:03.904702Z"
    }
   },
   "cell_type": "code",
   "source": [
    "def average_band(_df, inf, sup, label, verbose=False):\n",
    "    if verbose:\n",
    "        print(\"Inf:\", inf, \"Sup:\", sup)\n",
    "        \n",
    "    # Discretize input\n",
    "    # If inf or sup are not .0 or .5, round to the nearest .0 or .5\n",
    "    inf = round(inf*2)/2\n",
    "    sup = round(sup*2)/2\n",
    "    \n",
    "    # Average by column\n",
    "    res = _df.loc[inf: sup-0.5].mean(axis=0)\n",
    "    \n",
    "    # Print the index of all rows that were averaged\n",
    "    bins = _df.loc[inf: sup-0.5].index.tolist()\n",
    "    n_bins = len(bins)\n",
    "    if verbose:\n",
    "        print(label, \"| Averaging\", bins)\n",
    "        \n",
    "    return res, pd.Series({l: n_bins for l in header})"
   ],
   "id": "ae6c6d8523060b6c",
   "execution_count": 15,
   "outputs": []
  },
  {
   "metadata": {
    "ExecuteTime": {
     "end_time": "2024-10-17T10:18:04.358490Z",
     "start_time": "2024-10-17T10:18:04.352832Z"
    }
   },
   "cell_type": "code",
   "source": [
    "def flatten_df(_df):\n",
    "    # E.g. Delta_Frontal, Delta_Central, Delta_Parietal, Delta_Occipital, Delta_Temporal, Delta_Limbic, ...\n",
    "    _res = {}\n",
    "    for band, band_df in _df.items():\n",
    "        for region, value in band_df.items():\n",
    "            _res[f\"{band}_{region}\"] = value\n",
    "    _res = pd.DataFrame(_res, index=[0])\n",
    "    return _res"
   ],
   "id": "b918fa399aa90d17",
   "execution_count": 16,
   "outputs": []
  },
  {
   "metadata": {
    "ExecuteTime": {
     "end_time": "2024-10-17T10:18:41.721086Z",
     "start_time": "2024-10-17T10:18:04.855976Z"
    }
   },
   "cell_type": "code",
   "source": [
    "res = pd.DataFrame(dtype=float)\n",
    "res_number_bins = pd.DataFrame(dtype=int)\n",
    "skipped_subjects = 0\n",
    "low_tf_subjects = 0\n",
    "for filepath in all_subjects:\n",
    "    subject_code = basename(filepath).split('-')[0].split(' ')[1]\n",
    "    #subject_code = basename(filepath).split('-')[0].split('PARTICIPANT')[1]\n",
    "    print(\"Subject code:\", subject_code)\n",
    "    subject_out_filepath = join(out_common_path, f\"{subject_code}.csv\")\n",
    "    \n",
    "    # Read .txt file to Dataframe\n",
    "    df = pd.read_csv(filepath, sep='  ', header=None, engine='python')\n",
    "    df.columns = header\n",
    "    df.index = freqs\n",
    "    assert df.shape == (90, 6)\n",
    "    \n",
    "    # Get IAF and TF of this subject\n",
    "    iaf, tf = all_iaf_tf.loc[int(subject_code)]\n",
    "    print(\"IAF:\", iaf, \"TF:\", tf)\n",
    "    iaf, tf = round(iaf, 1), round(tf, 1)  # round to 1 decimal place\n",
    "    \n",
    "    # Extract/average values per individual band\n",
    "    band_features = {}\n",
    "    band_bins = {}\n",
    "    \n",
    "    if tf >= iaf:\n",
    "        print(\"TF is greater than or equal to IAF. Skipping...\")\n",
    "        skipped_subjects += 1\n",
    "        continue\n",
    "     \n",
    "    if tf < 4.5:\n",
    "        print(\"TF is less than 4Hz, hence no Delta band\")#, Skipping...\")\n",
    "        low_tf_subjects += 1\n",
    "        #continue\n",
    "    \n",
    "    # Delta\n",
    "    delta_inf = tf - 4 if tf - 4 >= 2 else 2\n",
    "    delta_sup = tf-2 if tf-2 > delta_inf else 3\n",
    "    band_features['Delta'], band_bins['Delta'] = average_band(df, delta_inf, delta_sup, 'Delta', verbose=True)\n",
    "    # Alpha 1\n",
    "    alpha1_sup = tf + ((iaf - tf) / 2)\n",
    "    alpha1_inf = tf if alpha1_sup - tf >= 0.5 else alpha1_sup - 0.5\n",
    "    if alpha1_inf < 6:\n",
    "        alpha1_inf = 6 \n",
    "        alpha1_sup = 6.5\n",
    "    band_features['Alpha1'], band_bins['Alpha1'] = average_band(df, alpha1_inf, alpha1_sup, 'Alpha1', verbose=True)\n",
    "    # Theta\n",
    "    theta_inf = tf-2 if tf-2 >= delta_sup else delta_sup\n",
    "    theta_sup = tf if tf - theta_inf >= 2 else alpha1_inf\n",
    "    if theta_sup > alpha1_inf:\n",
    "        theta_sup = alpha1_inf\n",
    "    band_features['Theta'], band_bins['Theta'] = average_band(df, theta_inf, theta_sup, 'Theta', verbose=True)\n",
    "    # Alpha 2\n",
    "    alpha2_inf = alpha1_sup\n",
    "    alpha2_sup = iaf if iaf - alpha2_inf >= 0.5 else alpha2_inf + 1.0\n",
    "    band_features['Alpha2'], band_bins['Alpha2'] = average_band(df, alpha2_inf, alpha2_sup, 'Alpha2', verbose=True)\n",
    "    # Alpha 3\n",
    "    alpha3_inf = iaf if iaf >= alpha2_sup else alpha2_sup\n",
    "    alpha3_sup = iaf + 2 if iaf + 2 <= 13 else 13\n",
    "    band_features['Alpha3'], band_bins['Alpha3'] = average_band(df, alpha3_inf, alpha3_sup, 'Alpha3')\n",
    "    # Beta 1\n",
    "    beta1_inf = 14\n",
    "    beta1_sup = 20\n",
    "    band_features['Beta1'], band_bins['Beta1'] = average_band(df, beta1_inf, beta1_sup, 'Beta1')\n",
    "    # Beta 2\n",
    "    beta2_inf = 20\n",
    "    beta2_sup = 30\n",
    "    band_features['Beta2'], band_bins['Beta2'] = average_band(df, beta2_inf, beta2_sup, 'Beta2')\n",
    "    # Gamma\n",
    "    gamma_inf = 30\n",
    "    gamma_sup = 40\n",
    "    band_features['Gamma'], band_bins['Gamma'] = average_band(df, gamma_inf, gamma_sup, 'Gamma')\n",
    "    \n",
    "    # Plot individual bands\n",
    "    plot_individual_bands({'Delta': (delta_inf, delta_sup), 'Theta': (theta_inf, theta_sup), 'Alpha1': (alpha1_inf, alpha1_sup), \n",
    "                           'Alpha2': (alpha2_inf, alpha2_sup), 'Alpha3': (alpha3_inf, alpha3_sup), 'Beta1': (beta1_inf, beta1_sup)},\n",
    "                          tf, iaf, subject_code)\n",
    "    \n",
    "    # Flatten band_features\n",
    "    subject_res = flatten_df(band_features)\n",
    "    subject_res.index = [subject_code]\n",
    "    \n",
    "    subject_res_bins = flatten_df(band_bins)\n",
    "    subject_res_bins.index = [subject_code] \n",
    "    \n",
    "    # Add to res using concat\n",
    "    res = pd.concat([res, subject_res], axis=0)\n",
    "    res_number_bins = pd.concat([res_number_bins, subject_res_bins], axis=0)"
   ],
   "id": "a2105e3e286293ab",
   "execution_count": 17,
   "outputs": []
  },
  {
   "metadata": {
    "ExecuteTime": {
     "end_time": "2024-10-17T10:18:41.728363Z",
     "start_time": "2024-10-17T10:18:41.724061Z"
    }
   },
   "cell_type": "code",
   "source": [
    "print(\"Skipped subjects:\", skipped_subjects)\n",
    "print(\"Low TF subjects:\", low_tf_subjects)"
   ],
   "id": "935f58974ea7d30d",
   "execution_count": 18,
   "outputs": []
  },
  {
   "metadata": {
    "ExecuteTime": {
     "end_time": "2024-10-17T10:18:41.781487Z",
     "start_time": "2024-10-17T10:18:41.730433Z"
    }
   },
   "cell_type": "code",
   "source": "res",
   "id": "b04676ec1b5f9ca3",
   "execution_count": 19,
   "outputs": []
  },
  {
   "metadata": {
    "ExecuteTime": {
     "end_time": "2024-10-17T12:17:00.873385Z",
     "start_time": "2024-10-17T12:17:00.741690Z"
    }
   },
   "cell_type": "code",
   "source": "res_number_bins",
   "id": "dfc95c49d7a52428",
   "execution_count": 20,
   "outputs": []
  },
  {
   "metadata": {
    "ExecuteTime": {
     "end_time": "2024-10-17T12:17:11.419641Z",
     "start_time": "2024-10-17T12:17:11.371110Z"
    }
   },
   "cell_type": "code",
   "source": [
    "# Save res\n",
    "res.to_csv(join(out_common_path, \"all_features.csv\"))"
   ],
   "id": "9356f24c18647b09",
   "execution_count": 21,
   "outputs": []
  },
  {
   "metadata": {},
   "cell_type": "code",
   "execution_count": null,
   "source": "",
   "id": "5311dd36279bc608",
   "outputs": []
  }
 ],
 "metadata": {
  "kernelspec": {
   "display_name": "Python 3",
   "language": "python",
   "name": "python3"
  },
  "language_info": {
   "codemirror_mode": {
    "name": "ipython",
    "version": 2
   },
   "file_extension": ".py",
   "mimetype": "text/x-python",
   "name": "python",
   "nbconvert_exporter": "python",
   "pygments_lexer": "ipython2",
   "version": "2.7.6"
  }
 },
 "nbformat": 4,
 "nbformat_minor": 5
}
