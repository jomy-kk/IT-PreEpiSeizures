{
 "cells": [
  {
   "cell_type": "markdown",
   "source": [
    "<img height=\"42\" src=\"../logos.png\" width=\"320\"/>\n",
    "\n",
    "**Avaliação com Utilizadores** -- Propostas de Solução"
   ],
   "metadata": {
    "collapsed": false,
    "pycharm": {
     "name": "#%% md\n"
    }
   }
  },
  {
   "cell_type": "markdown",
   "source": [
    "# Tarefa 1\n",
    "\n",
    "Existe um sinal de ECG no seguinte caminho:"
   ],
   "metadata": {
    "collapsed": false,
    "pycharm": {
     "name": "#%% md\n"
    }
   }
  },
  {
   "cell_type": "code",
   "execution_count": 17,
   "outputs": [],
   "source": [
    "filepath = '../data/ecg.biosignal'"
   ],
   "metadata": {
    "collapsed": false,
    "pycharm": {
     "name": "#%%\n"
    }
   }
  },
  {
   "cell_type": "markdown",
   "source": [
    "**Abrir com o LTBio**\n",
    "Opção de Resolução 1:"
   ],
   "metadata": {
    "collapsed": false,
    "pycharm": {
     "name": "#%% md\n"
    }
   }
  },
  {
   "cell_type": "code",
   "execution_count": 18,
   "outputs": [],
   "source": [
    "from ltbio.biosignals.modalities import ECG\n",
    "ecg = ECG.load(filepath)"
   ],
   "metadata": {
    "collapsed": false,
    "pycharm": {
     "name": "#%%\n"
    }
   }
  },
  {
   "cell_type": "markdown",
   "source": [
    "Opção de Resolução 2:"
   ],
   "metadata": {
    "collapsed": false,
    "pycharm": {
     "name": "#%% md\n"
    }
   }
  },
  {
   "cell_type": "code",
   "execution_count": 19,
   "outputs": [],
   "source": [
    "from ltbio.biosignals import Biosignal\n",
    "ecg = Biosignal.load(filepath)"
   ],
   "metadata": {
    "collapsed": false,
    "pycharm": {
     "name": "#%%\n"
    }
   }
  },
  {
   "cell_type": "markdown",
   "source": [
    "**Inspecionar o Biosinal**\n",
    "Opção de Resolução 1:"
   ],
   "metadata": {
    "collapsed": false,
    "pycharm": {
     "name": "#%% md\n"
    }
   }
  },
  {
   "cell_type": "code",
   "execution_count": 20,
   "outputs": [
    {
     "data": {
      "text/plain": "Name: Chest-Abdomen ECG\nType: ECG\nLocation: Chest\nNumber of Channels: 2\nChannels: Gel, Band, \nUseful Duration: 0:41:30\nSource: ScientISST Sense\nEvents:\n- baseline: [07 Jul, 18:00:41; 07 Jul, 18:01:25]\n- lift: [07 Jul, 18:02:19; 07 Jul, 18:03:57]\n- greetings: [07 Jul, 18:04:24; 07 Jul, 18:04:56]\n- gesticulate: [07 Jul, 18:05:36; 07 Jul, 18:06:44]\n- walk_before: [07 Jul, 18:07:38; 07 Jul, 18:12:06]\n- run: [07 Jul, 18:15:02; 07 Jul, 18:47:33]\n- walk_after: [07 Jul, 18:47:33; 07 Jul, 18:51:00]"
     },
     "execution_count": 20,
     "metadata": {},
     "output_type": "execute_result"
    }
   ],
   "source": [
    "ecg"
   ],
   "metadata": {
    "collapsed": false,
    "pycharm": {
     "name": "#%%\n"
    }
   }
  },
  {
   "cell_type": "markdown",
   "source": [
    "Opção de Resolução 2:"
   ],
   "metadata": {
    "collapsed": false,
    "pycharm": {
     "name": "#%% md\n"
    }
   }
  },
  {
   "cell_type": "code",
   "execution_count": 21,
   "outputs": [
    {
     "name": "stdout",
     "output_type": "stream",
     "text": [
      "Name: Chest-Abdomen ECG\n",
      "Type: ECG\n",
      "Location: Chest\n",
      "Number of Channels: 2\n",
      "Channels: Gel, Band, \n",
      "Useful Duration: 0:41:30\n",
      "Source: ScientISST Sense\n",
      "Events:\n",
      "- baseline: [07 Jul, 18:00:41; 07 Jul, 18:01:25]\n",
      "- lift: [07 Jul, 18:02:19; 07 Jul, 18:03:57]\n",
      "- greetings: [07 Jul, 18:04:24; 07 Jul, 18:04:56]\n",
      "- gesticulate: [07 Jul, 18:05:36; 07 Jul, 18:06:44]\n",
      "- walk_before: [07 Jul, 18:07:38; 07 Jul, 18:12:06]\n",
      "- run: [07 Jul, 18:15:02; 07 Jul, 18:47:33]\n",
      "- walk_after: [07 Jul, 18:47:33; 07 Jul, 18:51:00]\n",
      "\n"
     ]
    }
   ],
   "source": [
    "print(ecg)"
   ],
   "metadata": {
    "collapsed": false,
    "pycharm": {
     "name": "#%%\n"
    }
   }
  },
  {
   "cell_type": "markdown",
   "source": [
    "Opção de Resolução 3:"
   ],
   "metadata": {
    "collapsed": false,
    "pycharm": {
     "name": "#%% md\n"
    }
   }
  },
  {
   "cell_type": "code",
   "execution_count": 25,
   "outputs": [
    {
     "data": {
      "text/plain": "2"
     },
     "execution_count": 25,
     "metadata": {},
     "output_type": "execute_result"
    }
   ],
   "source": [
    "len(ecg)"
   ],
   "metadata": {
    "collapsed": false,
    "pycharm": {
     "name": "#%%\n"
    }
   }
  },
  {
   "cell_type": "code",
   "execution_count": 22,
   "outputs": [
    {
     "data": {
      "text/plain": "41.5"
     },
     "execution_count": 22,
     "metadata": {},
     "output_type": "execute_result"
    }
   ],
   "source": [
    "ecg.duration.total_seconds() / 60  # em minutos"
   ],
   "metadata": {
    "collapsed": false,
    "pycharm": {
     "name": "#%%\n"
    }
   }
  },
  {
   "cell_type": "code",
   "execution_count": 23,
   "outputs": [
    {
     "data": {
      "text/plain": "(baseline: [07 Jul, 18:00:41; 07 Jul, 18:01:25],\n lift: [07 Jul, 18:02:19; 07 Jul, 18:03:57],\n greetings: [07 Jul, 18:04:24; 07 Jul, 18:04:56],\n gesticulate: [07 Jul, 18:05:36; 07 Jul, 18:06:44],\n walk_before: [07 Jul, 18:07:38; 07 Jul, 18:12:06],\n run: [07 Jul, 18:15:02; 07 Jul, 18:47:33],\n walk_after: [07 Jul, 18:47:33; 07 Jul, 18:51:00])"
     },
     "execution_count": 23,
     "metadata": {},
     "output_type": "execute_result"
    }
   ],
   "source": [
    "ecg.events"
   ],
   "metadata": {
    "collapsed": false,
    "pycharm": {
     "name": "#%%\n"
    }
   }
  },
  {
   "cell_type": "code",
   "execution_count": 24,
   "outputs": [
    {
     "data": {
      "text/plain": "7"
     },
     "execution_count": 24,
     "metadata": {},
     "output_type": "execute_result"
    }
   ],
   "source": [
    "len(ecg.events)"
   ],
   "metadata": {
    "collapsed": false,
    "pycharm": {
     "name": "#%%\n"
    }
   }
  },
  {
   "cell_type": "markdown",
   "source": [
    "**Resposta às perguntas colocadas:**\n",
    "* o sinal tem 2 canais\n",
    "* O sinal tem 41 minutos e meio sem interrupções (ou equivalente).\n",
    "* Estão anotados 7 eventos no sinal (ou equivalente)."
   ],
   "metadata": {
    "collapsed": false,
    "pycharm": {
     "name": "#%% md\n"
    }
   }
  }
 ],
 "metadata": {
  "kernelspec": {
   "display_name": "Python 3",
   "language": "python",
   "name": "python3"
  },
  "language_info": {
   "codemirror_mode": {
    "name": "ipython",
    "version": 2
   },
   "file_extension": ".py",
   "mimetype": "text/x-python",
   "name": "python",
   "nbconvert_exporter": "python",
   "pygments_lexer": "ipython2",
   "version": "2.7.6"
  }
 },
 "nbformat": 4,
 "nbformat_minor": 0
}