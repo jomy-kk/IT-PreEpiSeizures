{
 "cells": [
  {
   "cell_type": "code",
   "execution_count": 3,
   "metadata": {
    "collapsed": true,
    "pycharm": {
     "name": "#%%\n"
    }
   },
   "outputs": [],
   "source": [
    "from datetime import datetime\n",
    "\n",
    "import biosppy as bp\n",
    "import matplotlib.pyplot as plt\n",
    "import numpy as np\n",
    "import pandas as pd\n",
    "import seaborn as sb\n",
    "\n",
    "from ltbio.biosignals import modalities, Event\n",
    "from ltbio.biosignals.sources.BitalinoShort import BitalinoShort\n"
   ]
  },
  {
   "cell_type": "code",
   "execution_count": 4,
   "outputs": [],
   "source": [
    "\n",
    "path_ = 'D:\\\\PreEpiSeizures\\\\Patients_HEM\\\\FCSFDM\\\\Bitalino'\n",
    "options = {'date1': datetime(2021, 4, 15, 14, 45, 49),\n",
    "           'date2': datetime(2021, 4, 15, 14, 49, 32)}\n",
    "data = BitalinoShort._read(dir=path_, type=modalities.RESP, **options)"
   ],
   "metadata": {
    "collapsed": false,
    "pycharm": {
     "name": "#%%\n"
    }
   }
  },
  {
   "cell_type": "code",
   "execution_count": 5,
   "outputs": [
    {
     "data": {
      "text/plain": "{'ACCX_chest': <ltbio.biosignals.timeseries.Timeseries.Timeseries at 0x1e205c9afb0>,\n 'ACCY_chest': <ltbio.biosignals.timeseries.Timeseries.Timeseries at 0x1e205c9b430>,\n 'ACCZ_chest': <ltbio.biosignals.timeseries.Timeseries.Timeseries at 0x1e2643bc190>}"
     },
     "execution_count": 5,
     "metadata": {},
     "output_type": "execute_result"
    }
   ],
   "source": [
    "sig = data['PZT_chest']"
   ],
   "metadata": {
    "collapsed": false,
    "pycharm": {
     "name": "#%%\n"
    }
   }
  },
  {
   "cell_type": "code",
   "execution_count": null,
   "outputs": [],
   "source": [
    "event1 = Event('crise 4', datetime(2021, 4, 15, 14, 47, 32))"
   ],
   "metadata": {
    "collapsed": false,
    "pycharm": {
     "name": "#%%\n",
     "is_executing": true
    }
   }
  },
  {
   "cell_type": "code",
   "execution_count": null,
   "outputs": [],
   "source": [
    "resp_info = bp.signals.resp.resp(sig.to_array())"
   ],
   "metadata": {
    "collapsed": false,
    "pycharm": {
     "name": "#%%\n",
     "is_executing": true
    }
   }
  },
  {
   "cell_type": "code",
   "execution_count": null,
   "outputs": [],
   "source": [
    "rrate_idx = (resp_info['resp_rate_ts'] * sig.sampling_frequency).astype(int)\n",
    "rrate = 60 * resp_info['resp_rate']\n",
    "resp_sig = resp_info['filtered']\n",
    "ts = resp_info['ts']"
   ],
   "metadata": {
    "collapsed": false,
    "pycharm": {
     "name": "#%%\n",
     "is_executing": true
    }
   }
  },
  {
   "cell_type": "code",
   "execution_count": null,
   "outputs": [],
   "source": [
    "sb.set(font_scale=2)\n",
    "sb.set_style(style='white')\n",
    "fig, (ax1, ax2) = plt.subplots(nrows=1, ncols=2, figsize=(25, 7))\n",
    "\n",
    "# plt.title('Respiratory Rate During Seizure')\n",
    "ax2.set_ylabel('Breaths per minute')\n",
    "ax2.set_xlabel('Time (s)')\n",
    "ax1.set_ylabel('Relative Amplitude')\n",
    "ax1.set_xlabel('Time (s)')\n",
    "ax2.set_title('Respiratory Rate During FAS')\n",
    "ax1.set_title('Respiration Signal During FAS')\n",
    "\n",
    "x_axis = pd.date_range(sig.initial_datetime, sig.final_datetime, periods=len(sig))\n",
    "ax2.plot(x_axis[rrate_idx][x_axis[rrate_idx] <= event1.onset], rrate[:len(x_axis[rrate_idx][x_axis[rrate_idx] <= event1.onset])], linewidth=3,\n",
    "         color='#A9D1ED', label='preictal')\n",
    "ax1.plot(x_axis[x_axis <= event1.onset], resp_sig[:len(x_axis[x_axis <= event1.onset])], linewidth=3,\n",
    "         color='#A9D1ED', label='preictal')\n",
    "\n",
    "ax1.plot(x_axis[x_axis >= event1.onset], resp_sig[-len(x_axis[x_axis >= event1.onset]):], linewidth=2, color='#F8CBAD', label='ictal')\n",
    "ax2.plot(x_axis[rrate_idx][x_axis[rrate_idx] >= event1.onset], rrate[-len(x_axis[rrate_idx][x_axis[rrate_idx] >= event1.onset]):], linewidth=2, color='#F8CBAD', label='ictal')\n",
    "\n",
    "\n",
    "from matplotlib.dates import DateFormatter\n",
    "ax1.vlines(event1.onset, np.max(resp_sig), np.min(resp_sig), color= '#843C0C', label='Seizure Onset', linewidth=3)\n",
    "ax2.vlines(event1.onset, np.max(rrate), np.min(rrate), color= '#843C0C', label='Seizure Onset', linewidth=3)\n",
    "\n",
    "ax1.xaxis.set_major_formatter(DateFormatter('%M:%S'))\n",
    "ax2.xaxis.set_major_formatter(DateFormatter('%M:%S'))\n",
    "\n",
    "\n",
    "ax1.legend()\n",
    "ax2.legend()\n",
    "plt.tight_layout()\n",
    "figname = 'C:\\\\Users\\\\Mariana\\\\Documents\\\\Epilepsy\\\\images\\\\resp_during_seizure'\n",
    "plt.savefig(figname + '.png')\n",
    "plt.savefig(figname + '.eps', format='eps')\n",
    "plt.show()\n"
   ],
   "metadata": {
    "collapsed": false,
    "pycharm": {
     "name": "#%%\n",
     "is_executing": true
    }
   }
  },
  {
   "cell_type": "code",
   "execution_count": null,
   "outputs": [],
   "source": [],
   "metadata": {
    "collapsed": false,
    "pycharm": {
     "name": "#%%\n",
     "is_executing": true
    }
   }
  }
 ],
 "metadata": {
  "kernelspec": {
   "display_name": "Python 3",
   "language": "python",
   "name": "python3"
  },
  "language_info": {
   "codemirror_mode": {
    "name": "ipython",
    "version": 2
   },
   "file_extension": ".py",
   "mimetype": "text/x-python",
   "name": "python",
   "nbconvert_exporter": "python",
   "pygments_lexer": "ipython2",
   "version": "2.7.6"
  }
 },
 "nbformat": 4,
 "nbformat_minor": 0
}