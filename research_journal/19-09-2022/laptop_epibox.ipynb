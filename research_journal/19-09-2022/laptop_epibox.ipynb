{
 "cells": [
  {
   "cell_type": "code",
   "execution_count": 1,
   "outputs": [],
   "source": [
    "import ast\n",
    "from dateutil.parser import parse as to_datetime\n",
    "from datetime import timedelta\n",
    "import os\n",
    "\n",
    "import matplotlib.pyplot as plt\n",
    "import numpy as np\n",
    "import pandas as pd\n",
    "import seaborn as sns"
   ],
   "metadata": {
    "collapsed": false,
    "pycharm": {
     "name": "#%%\n"
    }
   }
  },
  {
   "cell_type": "code",
   "execution_count": 2,
   "outputs": [],
   "source": [
    "path_lp = 'G:\\\\PreEpiSeizures\\\\Patients_HSM'\n",
    "\n",
    "path_ep = 'G:\\\\PreEpiSeizures\\\\Patients_HEM'\n",
    "\n",
    "table = pd.DataFrame(columns=['patient', 'source', '#files', 'duration'])"
   ],
   "metadata": {
    "collapsed": false,
    "pycharm": {
     "name": "#%%\n"
    }
   }
  },
  {
   "cell_type": "code",
   "execution_count": 10,
   "outputs": [],
   "source": [
    "def aux_date(header):\n",
    "    \"\"\"\n",
    "    Get starting time from header\n",
    "    \"\"\"\n",
    "    time_key = [key for key in header.keys() if 'time' in key][0]\n",
    "\n",
    "    try:\n",
    "        return to_datetime(header['date'].strip('\\\"') + ' ' + header[time_key].strip('\\\"'))\n",
    "    except Exception as e:\n",
    "        print(e)\n",
    "\n",
    "\n",
    "def count_bit_files(patient, dir, source):\n",
    "    # count number of files in a directory\n",
    "    # add also the filesize\n",
    "    dir_bit = os.path.join(dir, patient, 'Bitalino')\n",
    "    files = [file for file in os.listdir(dir_bit) if file.startswith('A2')]\n",
    "    print(patient)\n",
    "    file_dur = timedelta(seconds=0)\n",
    "    for file in files:\n",
    "        dirfile = os.path.join(dir_bit, file)\n",
    "        with open(dirfile) as fh:\n",
    "            next(fh)\n",
    "            header = next(fh)[2:]\n",
    "            next(fh)\n",
    "            file_len = np.sum([1 for line in fh])\n",
    "        header = ast.literal_eval(header)\n",
    "        if len(header.keys()) <= 2:\n",
    "            device = list(header.keys())[0]\n",
    "            header = header[device]\n",
    "        file_dur += timedelta(seconds=file_len/header['sampling rate'])\n",
    "    print(file_dur)\n",
    "\n",
    "    return {'patient': patient, 'source': source, '#files': len(files), 'duration': file_dur}"
   ],
   "metadata": {
    "collapsed": false,
    "pycharm": {
     "name": "#%%\n"
    }
   }
  },
  {
   "cell_type": "code",
   "execution_count": 11,
   "outputs": [
    {
     "name": "stdout",
     "output_type": "stream",
     "text": [
      "Error Nota de alta V-PSG template.dotx\n",
      "Error Nota de alta VEEG template.dotx\n",
      "Error eeg_ist\n",
      "Patient1\n",
      "8:49:06\n",
      "Patient100\n",
      "3 days, 4:47:01.500000\n",
      "Patient101\n",
      "1 day, 19:21:49.823000\n",
      "Patient102\n",
      "1 day, 23:41:59.600000\n",
      "Patient103\n",
      "2 days, 7:19:31.300000\n",
      "Patient104\n",
      "2 days, 8:16:44.900000\n",
      "Patient105\n",
      "1 day, 20:51:19.200000\n",
      "Patient106\n",
      "9:26:34.400000\n",
      "Patient107\n",
      "1 day, 19:21:27.500000\n",
      "Patient108\n",
      "1 day, 15:42:05.951000\n",
      "Patient109\n",
      "1 day, 10:22:40.200000\n",
      "Error Patient110\n",
      "Patient111\n",
      "2 days, 10:51:59.700000\n",
      "Patient112\n",
      "Error Patient112\n",
      "Patient2\n",
      "0:23:36\n",
      "Patient4\n",
      "1:29:51\n",
      "Error Novos\n",
      "Error CloudStation\n",
      "Error pat_8_3_2021\n",
      "Error videos\n",
      "Error A2009-03-04 21-06-56.txt\n",
      "Error drift_log_file_2009-03-04 21-06-56.txt\n",
      "Error teste_casa\n",
      "Patient200\n",
      "Error Patient200\n",
      "Error Patient201\n",
      "Error Patient202\n",
      "Error Patient204\n",
      "Error Miguel_25_11_2019\n",
      "Error ~$Patients_HSM_.xlsx\n",
      "Error Patient203\n",
      "Error Patient205\n",
      "Error Patient206\n",
      "Patient207\n",
      "0:00:00.900000\n",
      "Patient208\n",
      "Error Patient208\n",
      "Error Patient209\n",
      "hsm_joao\n",
      "3 days, 18:46:21.242000\n",
      "Error Patients_HSM_.xlsx\n",
      "patient_3_3_2021\n",
      "Error patient_3_3_2021\n",
      "patient_2_3_2021\n",
      "0:03:30.500000\n",
      "Error .bash_history\n",
      "Error patient_12_4_2021signal_new_2021-04-12 15-07-07__2021-04-12 16-13-22.h5\n",
      "Error patient_12_4_2021signal_new_2021-04-12 16-13-22__2021-04-12 17-15-24.h5\n",
      "Error patient_12_4_2021signal_new_2021-04-12 17-15-24__2021-04-12 18-27-21.h5\n",
      "Error Retrospective\n",
      "FCSFDM\n",
      "3 days, 10:27:22.089000\n",
      "FLRB\n",
      "1 day, 3:01:34.600000\n",
      "AMRL\n",
      "3 days, 9:35:35.800000\n",
      "DAGN\n",
      "2 days, 13:53:03.900000\n",
      "DAJRD\n",
      "1 day, 10:55:48.500000\n",
      "DAOS\n",
      "Error DAOS\n",
      "MARG\n",
      "2 days, 12:10:04.401000\n",
      "NC\n",
      "1 day, 7:10:02.600000\n",
      "JFPS\n",
      "15:09:41.200000\n",
      "SVABC\n",
      "6:57:26.600000\n",
      "TASL\n",
      "1 day, 2:43:42.200000\n",
      "TSSVAS\n",
      "1 day, 0:37:43.900000\n",
      "RSG\n",
      "Error RSG\n",
      "Error SFS\n",
      "Error Video\n",
      "JANE\n",
      "0:00:00\n",
      "Error Pat_HEM.xlsx\n"
     ]
    }
   ],
   "source": [
    "for patient in os.listdir(path_lp):\n",
    "    new_row = {}\n",
    "    try:\n",
    "        new_row = count_bit_files(patient, path_lp, 'laptop')\n",
    "    except:\n",
    "        print('Error', patient)\n",
    "    if new_row != {}:\n",
    "        table = pd.concat((table, pd.DataFrame(new_row, index=[0])), ignore_index=True)\n",
    "table.to_csv('C:\\\\Users\\\\Mariana\\\\PycharmProjects\\\\IT-LongTermBiosignals\\\\research_journal\\\\19-09-2022\\\\table_laptop.csv')\n",
    "\n",
    "for patient in os.listdir(path_ep):\n",
    "    new_row = {}\n",
    "    try:\n",
    "        new_row = count_bit_files(patient, path_ep, 'epibox')\n",
    "    except:\n",
    "        print('Error', patient)\n",
    "    if new_row != {}:\n",
    "        table = pd.concat((table, pd.DataFrame(new_row, index=[0])), ignore_index=True)\n",
    "table.to_csv('C:\\\\Users\\\\Mariana\\\\PycharmProjects\\\\IT-LongTermBiosignals\\\\research_journal\\\\19-09-2022\\\\table_epibox.csv')"
   ],
   "metadata": {
    "collapsed": false,
    "pycharm": {
     "name": "#%%\n"
    }
   }
  },
  {
   "cell_type": "code",
   "execution_count": null,
   "outputs": [],
   "source": [],
   "metadata": {
    "collapsed": false,
    "pycharm": {
     "name": "#%%\n"
    }
   }
  },
  {
   "cell_type": "code",
   "execution_count": 73,
   "outputs": [],
   "source": [
    "table_lp = pd.read_csv('C:\\\\Users\\\\Mariana\\\\PycharmProjects\\\\IT-LongTermBiosignals\\\\research_journal\\\\19-09-2022\\\\table_laptop.csv', index_col=0)\n",
    "table_ep = pd.read_csv('C:\\\\Users\\\\Mariana\\\\PycharmProjects\\\\IT-LongTermBiosignals\\\\research_journal\\\\19-09-2022\\\\table_epibox.csv', index_col=0)"
   ],
   "metadata": {
    "collapsed": false,
    "pycharm": {
     "name": "#%%\n"
    }
   }
  },
  {
   "cell_type": "code",
   "execution_count": 74,
   "outputs": [
    {
     "data": {
      "text/plain": "             patient  source  #files                duration\n0         Patient102  laptop     972  1 days 23:41:59.600000\n1           Patient1  laptop     336         0 days 08:49:06\n2         Patient100  laptop     379  3 days 04:47:01.500000\n3         Patient101  laptop     505  1 days 19:21:49.823000\n4         Patient102  laptop     972  1 days 23:41:59.600000\n5         Patient103  laptop    2578  2 days 07:19:31.300000\n6         Patient104  laptop    2452  2 days 08:16:44.900000\n7         Patient105  laptop    1911  1 days 20:51:19.200000\n8         Patient106  laptop    1323  0 days 09:26:34.400000\n9         Patient107  laptop    1161  1 days 19:21:27.500000\n10          Patient2  laptop      25         0 days 00:23:36\n11          Patient4  laptop      34         0 days 01:29:51\n12        Patient207  laptop       1  0 days 00:00:00.900000\n13          Patient1  laptop     336         0 days 08:49:06\n14        Patient100  laptop     379  3 days 04:47:01.500000\n15        Patient101  laptop     505  1 days 19:21:49.823000\n16        Patient102  laptop     972  1 days 23:41:59.600000\n17        Patient103  laptop    2578  2 days 07:19:31.300000\n18        Patient104  laptop    2452  2 days 08:16:44.900000\n19        Patient105  laptop    1911  1 days 20:51:19.200000\n20        Patient106  laptop    1323  0 days 09:26:34.400000\n21        Patient107  laptop    1161  1 days 19:21:27.500000\n22        Patient108  laptop    1128  1 days 15:42:05.951000\n23        Patient109  laptop    1264  1 days 10:22:40.200000\n24        Patient111  laptop     544  2 days 10:51:59.700000\n25          Patient2  laptop      25         0 days 00:23:36\n26          Patient4  laptop      34         0 days 01:29:51\n27        Patient207  laptop       1  0 days 00:00:00.900000\n28          hsm_joao  laptop      12  3 days 18:46:21.242000\n29  patient_2_3_2021  epibox       4  0 days 00:03:30.500000\n30            FCSFDM  epibox     200  3 days 10:27:22.089000\n31              FLRB  epibox      93  1 days 03:01:34.600000\n32              AMRL  epibox     264  3 days 09:35:35.800000\n33              DAGN  epibox     186  2 days 13:53:03.900000\n34             DAJRD  epibox      95  1 days 10:55:48.500000\n35              MARG  epibox     113  2 days 12:10:04.401000\n36                NC  epibox      97  1 days 07:10:02.600000\n37              JFPS  epibox    1695  0 days 15:09:41.200000\n38             SVABC  epibox     650  0 days 06:57:26.600000\n39              TASL  epibox    4743  1 days 02:43:42.200000\n40            TSSVAS  epibox      28  1 days 00:37:43.900000\n41              JANE  epibox    3009         0 days 00:00:00",
      "text/html": "<div>\n<style scoped>\n    .dataframe tbody tr th:only-of-type {\n        vertical-align: middle;\n    }\n\n    .dataframe tbody tr th {\n        vertical-align: top;\n    }\n\n    .dataframe thead th {\n        text-align: right;\n    }\n</style>\n<table border=\"1\" class=\"dataframe\">\n  <thead>\n    <tr style=\"text-align: right;\">\n      <th></th>\n      <th>patient</th>\n      <th>source</th>\n      <th>#files</th>\n      <th>duration</th>\n    </tr>\n  </thead>\n  <tbody>\n    <tr>\n      <th>0</th>\n      <td>Patient102</td>\n      <td>laptop</td>\n      <td>972</td>\n      <td>1 days 23:41:59.600000</td>\n    </tr>\n    <tr>\n      <th>1</th>\n      <td>Patient1</td>\n      <td>laptop</td>\n      <td>336</td>\n      <td>0 days 08:49:06</td>\n    </tr>\n    <tr>\n      <th>2</th>\n      <td>Patient100</td>\n      <td>laptop</td>\n      <td>379</td>\n      <td>3 days 04:47:01.500000</td>\n    </tr>\n    <tr>\n      <th>3</th>\n      <td>Patient101</td>\n      <td>laptop</td>\n      <td>505</td>\n      <td>1 days 19:21:49.823000</td>\n    </tr>\n    <tr>\n      <th>4</th>\n      <td>Patient102</td>\n      <td>laptop</td>\n      <td>972</td>\n      <td>1 days 23:41:59.600000</td>\n    </tr>\n    <tr>\n      <th>5</th>\n      <td>Patient103</td>\n      <td>laptop</td>\n      <td>2578</td>\n      <td>2 days 07:19:31.300000</td>\n    </tr>\n    <tr>\n      <th>6</th>\n      <td>Patient104</td>\n      <td>laptop</td>\n      <td>2452</td>\n      <td>2 days 08:16:44.900000</td>\n    </tr>\n    <tr>\n      <th>7</th>\n      <td>Patient105</td>\n      <td>laptop</td>\n      <td>1911</td>\n      <td>1 days 20:51:19.200000</td>\n    </tr>\n    <tr>\n      <th>8</th>\n      <td>Patient106</td>\n      <td>laptop</td>\n      <td>1323</td>\n      <td>0 days 09:26:34.400000</td>\n    </tr>\n    <tr>\n      <th>9</th>\n      <td>Patient107</td>\n      <td>laptop</td>\n      <td>1161</td>\n      <td>1 days 19:21:27.500000</td>\n    </tr>\n    <tr>\n      <th>10</th>\n      <td>Patient2</td>\n      <td>laptop</td>\n      <td>25</td>\n      <td>0 days 00:23:36</td>\n    </tr>\n    <tr>\n      <th>11</th>\n      <td>Patient4</td>\n      <td>laptop</td>\n      <td>34</td>\n      <td>0 days 01:29:51</td>\n    </tr>\n    <tr>\n      <th>12</th>\n      <td>Patient207</td>\n      <td>laptop</td>\n      <td>1</td>\n      <td>0 days 00:00:00.900000</td>\n    </tr>\n    <tr>\n      <th>13</th>\n      <td>Patient1</td>\n      <td>laptop</td>\n      <td>336</td>\n      <td>0 days 08:49:06</td>\n    </tr>\n    <tr>\n      <th>14</th>\n      <td>Patient100</td>\n      <td>laptop</td>\n      <td>379</td>\n      <td>3 days 04:47:01.500000</td>\n    </tr>\n    <tr>\n      <th>15</th>\n      <td>Patient101</td>\n      <td>laptop</td>\n      <td>505</td>\n      <td>1 days 19:21:49.823000</td>\n    </tr>\n    <tr>\n      <th>16</th>\n      <td>Patient102</td>\n      <td>laptop</td>\n      <td>972</td>\n      <td>1 days 23:41:59.600000</td>\n    </tr>\n    <tr>\n      <th>17</th>\n      <td>Patient103</td>\n      <td>laptop</td>\n      <td>2578</td>\n      <td>2 days 07:19:31.300000</td>\n    </tr>\n    <tr>\n      <th>18</th>\n      <td>Patient104</td>\n      <td>laptop</td>\n      <td>2452</td>\n      <td>2 days 08:16:44.900000</td>\n    </tr>\n    <tr>\n      <th>19</th>\n      <td>Patient105</td>\n      <td>laptop</td>\n      <td>1911</td>\n      <td>1 days 20:51:19.200000</td>\n    </tr>\n    <tr>\n      <th>20</th>\n      <td>Patient106</td>\n      <td>laptop</td>\n      <td>1323</td>\n      <td>0 days 09:26:34.400000</td>\n    </tr>\n    <tr>\n      <th>21</th>\n      <td>Patient107</td>\n      <td>laptop</td>\n      <td>1161</td>\n      <td>1 days 19:21:27.500000</td>\n    </tr>\n    <tr>\n      <th>22</th>\n      <td>Patient108</td>\n      <td>laptop</td>\n      <td>1128</td>\n      <td>1 days 15:42:05.951000</td>\n    </tr>\n    <tr>\n      <th>23</th>\n      <td>Patient109</td>\n      <td>laptop</td>\n      <td>1264</td>\n      <td>1 days 10:22:40.200000</td>\n    </tr>\n    <tr>\n      <th>24</th>\n      <td>Patient111</td>\n      <td>laptop</td>\n      <td>544</td>\n      <td>2 days 10:51:59.700000</td>\n    </tr>\n    <tr>\n      <th>25</th>\n      <td>Patient2</td>\n      <td>laptop</td>\n      <td>25</td>\n      <td>0 days 00:23:36</td>\n    </tr>\n    <tr>\n      <th>26</th>\n      <td>Patient4</td>\n      <td>laptop</td>\n      <td>34</td>\n      <td>0 days 01:29:51</td>\n    </tr>\n    <tr>\n      <th>27</th>\n      <td>Patient207</td>\n      <td>laptop</td>\n      <td>1</td>\n      <td>0 days 00:00:00.900000</td>\n    </tr>\n    <tr>\n      <th>28</th>\n      <td>hsm_joao</td>\n      <td>laptop</td>\n      <td>12</td>\n      <td>3 days 18:46:21.242000</td>\n    </tr>\n    <tr>\n      <th>29</th>\n      <td>patient_2_3_2021</td>\n      <td>epibox</td>\n      <td>4</td>\n      <td>0 days 00:03:30.500000</td>\n    </tr>\n    <tr>\n      <th>30</th>\n      <td>FCSFDM</td>\n      <td>epibox</td>\n      <td>200</td>\n      <td>3 days 10:27:22.089000</td>\n    </tr>\n    <tr>\n      <th>31</th>\n      <td>FLRB</td>\n      <td>epibox</td>\n      <td>93</td>\n      <td>1 days 03:01:34.600000</td>\n    </tr>\n    <tr>\n      <th>32</th>\n      <td>AMRL</td>\n      <td>epibox</td>\n      <td>264</td>\n      <td>3 days 09:35:35.800000</td>\n    </tr>\n    <tr>\n      <th>33</th>\n      <td>DAGN</td>\n      <td>epibox</td>\n      <td>186</td>\n      <td>2 days 13:53:03.900000</td>\n    </tr>\n    <tr>\n      <th>34</th>\n      <td>DAJRD</td>\n      <td>epibox</td>\n      <td>95</td>\n      <td>1 days 10:55:48.500000</td>\n    </tr>\n    <tr>\n      <th>35</th>\n      <td>MARG</td>\n      <td>epibox</td>\n      <td>113</td>\n      <td>2 days 12:10:04.401000</td>\n    </tr>\n    <tr>\n      <th>36</th>\n      <td>NC</td>\n      <td>epibox</td>\n      <td>97</td>\n      <td>1 days 07:10:02.600000</td>\n    </tr>\n    <tr>\n      <th>37</th>\n      <td>JFPS</td>\n      <td>epibox</td>\n      <td>1695</td>\n      <td>0 days 15:09:41.200000</td>\n    </tr>\n    <tr>\n      <th>38</th>\n      <td>SVABC</td>\n      <td>epibox</td>\n      <td>650</td>\n      <td>0 days 06:57:26.600000</td>\n    </tr>\n    <tr>\n      <th>39</th>\n      <td>TASL</td>\n      <td>epibox</td>\n      <td>4743</td>\n      <td>1 days 02:43:42.200000</td>\n    </tr>\n    <tr>\n      <th>40</th>\n      <td>TSSVAS</td>\n      <td>epibox</td>\n      <td>28</td>\n      <td>1 days 00:37:43.900000</td>\n    </tr>\n    <tr>\n      <th>41</th>\n      <td>JANE</td>\n      <td>epibox</td>\n      <td>3009</td>\n      <td>0 days 00:00:00</td>\n    </tr>\n  </tbody>\n</table>\n</div>"
     },
     "execution_count": 74,
     "metadata": {},
     "output_type": "execute_result"
    }
   ],
   "source": [
    "table_ep"
   ],
   "metadata": {
    "collapsed": false,
    "pycharm": {
     "name": "#%%\n"
    }
   }
  },
  {
   "cell_type": "code",
   "execution_count": 81,
   "outputs": [
    {
     "data": {
      "text/plain": "       patient  source  #files                duration\n0   Patient102  laptop     972  1 days 23:41:59.600000\n2   Patient100  laptop     379  3 days 04:47:01.500000\n3   Patient101  laptop     505  1 days 19:21:49.823000\n5   Patient103  laptop    2578  2 days 07:19:31.300000\n6   Patient104  laptop    2452  2 days 08:16:44.900000\n7   Patient105  laptop    1911  1 days 20:51:19.200000\n9   Patient107  laptop    1161  1 days 19:21:27.500000\n22  Patient108  laptop    1128  1 days 15:42:05.951000\n23  Patient109  laptop    1264  1 days 10:22:40.200000\n24  Patient111  laptop     544  2 days 10:51:59.700000",
      "text/html": "<div>\n<style scoped>\n    .dataframe tbody tr th:only-of-type {\n        vertical-align: middle;\n    }\n\n    .dataframe tbody tr th {\n        vertical-align: top;\n    }\n\n    .dataframe thead th {\n        text-align: right;\n    }\n</style>\n<table border=\"1\" class=\"dataframe\">\n  <thead>\n    <tr style=\"text-align: right;\">\n      <th></th>\n      <th>patient</th>\n      <th>source</th>\n      <th>#files</th>\n      <th>duration</th>\n    </tr>\n  </thead>\n  <tbody>\n    <tr>\n      <th>0</th>\n      <td>Patient102</td>\n      <td>laptop</td>\n      <td>972</td>\n      <td>1 days 23:41:59.600000</td>\n    </tr>\n    <tr>\n      <th>2</th>\n      <td>Patient100</td>\n      <td>laptop</td>\n      <td>379</td>\n      <td>3 days 04:47:01.500000</td>\n    </tr>\n    <tr>\n      <th>3</th>\n      <td>Patient101</td>\n      <td>laptop</td>\n      <td>505</td>\n      <td>1 days 19:21:49.823000</td>\n    </tr>\n    <tr>\n      <th>5</th>\n      <td>Patient103</td>\n      <td>laptop</td>\n      <td>2578</td>\n      <td>2 days 07:19:31.300000</td>\n    </tr>\n    <tr>\n      <th>6</th>\n      <td>Patient104</td>\n      <td>laptop</td>\n      <td>2452</td>\n      <td>2 days 08:16:44.900000</td>\n    </tr>\n    <tr>\n      <th>7</th>\n      <td>Patient105</td>\n      <td>laptop</td>\n      <td>1911</td>\n      <td>1 days 20:51:19.200000</td>\n    </tr>\n    <tr>\n      <th>9</th>\n      <td>Patient107</td>\n      <td>laptop</td>\n      <td>1161</td>\n      <td>1 days 19:21:27.500000</td>\n    </tr>\n    <tr>\n      <th>22</th>\n      <td>Patient108</td>\n      <td>laptop</td>\n      <td>1128</td>\n      <td>1 days 15:42:05.951000</td>\n    </tr>\n    <tr>\n      <th>23</th>\n      <td>Patient109</td>\n      <td>laptop</td>\n      <td>1264</td>\n      <td>1 days 10:22:40.200000</td>\n    </tr>\n    <tr>\n      <th>24</th>\n      <td>Patient111</td>\n      <td>laptop</td>\n      <td>544</td>\n      <td>2 days 10:51:59.700000</td>\n    </tr>\n  </tbody>\n</table>\n</div>"
     },
     "execution_count": 81,
     "metadata": {},
     "output_type": "execute_result"
    }
   ],
   "source": [
    "list_patients = ['Patient100', 'Patient101', 'Patient102', 'Patient103', 'Patient104', 'Patient105', 'Patient107', 'Patient108', 'Patient109', 'Patient111']\n",
    "table_lp = table_lp.loc[table_lp['patient'].isin(list_patients)].drop_duplicates()\n",
    "table_lp"
   ],
   "metadata": {
    "collapsed": false,
    "pycharm": {
     "name": "#%%\n"
    }
   }
  },
  {
   "cell_type": "code",
   "execution_count": 82,
   "outputs": [],
   "source": [
    "list_patients_ep = ['FCSFDM', 'FLRB', 'AMRL', 'DAGN', 'DAJRD', 'MARG', 'NC', 'TASL', 'TSSVAS', 'JFPS']\n",
    "table_ep = table_ep.loc[table_ep['patient'].isin(list_patients_ep)]"
   ],
   "metadata": {
    "collapsed": false,
    "pycharm": {
     "name": "#%%\n"
    }
   }
  },
  {
   "cell_type": "code",
   "execution_count": 83,
   "outputs": [
    {
     "data": {
      "text/plain": "   patient  source  #files                duration     ratio\n30  FCSFDM  epibox     200  3 days 10:27:22.089000  1.484210\n31    FLRB  epibox      93  1 days 03:01:34.600000  1.046178\n32    AMRL  epibox     264  3 days 09:35:35.800000  1.112636\n33    DAGN  epibox     186  2 days 13:53:03.900000  1.197763\n34   DAJRD  epibox      95  1 days 10:55:48.500000  1.323668\n35    MARG  epibox     113  2 days 12:10:04.401000  1.916853\n36      NC  epibox      97  1 days 07:10:02.600000  1.156728\n37    JFPS  epibox    1695  0 days 15:09:41.200000  0.032201\n39    TASL  epibox    4743  1 days 02:43:42.200000  0.020287\n40  TSSVAS  epibox      28  1 days 00:37:43.900000  3.166568",
      "text/html": "<div>\n<style scoped>\n    .dataframe tbody tr th:only-of-type {\n        vertical-align: middle;\n    }\n\n    .dataframe tbody tr th {\n        vertical-align: top;\n    }\n\n    .dataframe thead th {\n        text-align: right;\n    }\n</style>\n<table border=\"1\" class=\"dataframe\">\n  <thead>\n    <tr style=\"text-align: right;\">\n      <th></th>\n      <th>patient</th>\n      <th>source</th>\n      <th>#files</th>\n      <th>duration</th>\n      <th>ratio</th>\n    </tr>\n  </thead>\n  <tbody>\n    <tr>\n      <th>30</th>\n      <td>FCSFDM</td>\n      <td>epibox</td>\n      <td>200</td>\n      <td>3 days 10:27:22.089000</td>\n      <td>1.484210</td>\n    </tr>\n    <tr>\n      <th>31</th>\n      <td>FLRB</td>\n      <td>epibox</td>\n      <td>93</td>\n      <td>1 days 03:01:34.600000</td>\n      <td>1.046178</td>\n    </tr>\n    <tr>\n      <th>32</th>\n      <td>AMRL</td>\n      <td>epibox</td>\n      <td>264</td>\n      <td>3 days 09:35:35.800000</td>\n      <td>1.112636</td>\n    </tr>\n    <tr>\n      <th>33</th>\n      <td>DAGN</td>\n      <td>epibox</td>\n      <td>186</td>\n      <td>2 days 13:53:03.900000</td>\n      <td>1.197763</td>\n    </tr>\n    <tr>\n      <th>34</th>\n      <td>DAJRD</td>\n      <td>epibox</td>\n      <td>95</td>\n      <td>1 days 10:55:48.500000</td>\n      <td>1.323668</td>\n    </tr>\n    <tr>\n      <th>35</th>\n      <td>MARG</td>\n      <td>epibox</td>\n      <td>113</td>\n      <td>2 days 12:10:04.401000</td>\n      <td>1.916853</td>\n    </tr>\n    <tr>\n      <th>36</th>\n      <td>NC</td>\n      <td>epibox</td>\n      <td>97</td>\n      <td>1 days 07:10:02.600000</td>\n      <td>1.156728</td>\n    </tr>\n    <tr>\n      <th>37</th>\n      <td>JFPS</td>\n      <td>epibox</td>\n      <td>1695</td>\n      <td>0 days 15:09:41.200000</td>\n      <td>0.032201</td>\n    </tr>\n    <tr>\n      <th>39</th>\n      <td>TASL</td>\n      <td>epibox</td>\n      <td>4743</td>\n      <td>1 days 02:43:42.200000</td>\n      <td>0.020287</td>\n    </tr>\n    <tr>\n      <th>40</th>\n      <td>TSSVAS</td>\n      <td>epibox</td>\n      <td>28</td>\n      <td>1 days 00:37:43.900000</td>\n      <td>3.166568</td>\n    </tr>\n  </tbody>\n</table>\n</div>"
     },
     "execution_count": 83,
     "metadata": {},
     "output_type": "execute_result"
    }
   ],
   "source": [
    "table_ep"
   ],
   "metadata": {
    "collapsed": false,
    "pycharm": {
     "name": "#%%\n"
    }
   }
  },
  {
   "cell_type": "code",
   "execution_count": 133,
   "outputs": [
    {
     "name": "stdout",
     "output_type": "stream",
     "text": [
      "------------------\n",
      "------------------\n",
      "------------------\n",
      "------------------\n",
      "------------------\n",
      "------------------\n",
      "------------------\n",
      "------------------\n",
      "------------------\n",
      "------------------\n"
     ]
    }
   ],
   "source": [
    "new_col_ep, new_col_lp = [], []\n",
    "order_ep, order_lp = [], []\n",
    "for row in range(10):\n",
    "    print('------------------')\n",
    "    order_ep += [row]\n",
    "    order_lp += [row]\n",
    "    new_col_ep += [1/((pd.Timedelta(table_ep['duration'].iloc[row]).total_seconds()/3600)/(int(table_ep['#files'].iloc[row])))]\n",
    "    new_col_lp += [1/((pd.Timedelta(table_lp['duration'].iloc[row]).total_seconds()/3600)/(int(table_lp['#files'].iloc[row])))]"
   ],
   "metadata": {
    "collapsed": false,
    "pycharm": {
     "name": "#%%\n"
    }
   }
  },
  {
   "cell_type": "code",
   "execution_count": 134,
   "outputs": [
    {
     "data": {
      "text/plain": "1477.7316666666666"
     },
     "execution_count": 134,
     "metadata": {},
     "output_type": "execute_result"
    }
   ],
   "source": [
    "pd.Timedelta(table_ep['duration'].iloc[row]).total_seconds()/60"
   ],
   "metadata": {
    "collapsed": false,
    "pycharm": {
     "name": "#%%\n"
    }
   }
  },
  {
   "cell_type": "code",
   "execution_count": 127,
   "outputs": [
    {
     "data": {
      "text/plain": "1477.7316666666666"
     },
     "execution_count": 127,
     "metadata": {},
     "output_type": "execute_result"
    }
   ],
   "source": [
    "pd.Timedelta(table_ep['duration'].iloc[row]).total_seconds()/60"
   ],
   "metadata": {
    "collapsed": false,
    "pycharm": {
     "name": "#%%\n"
    }
   }
  },
  {
   "cell_type": "code",
   "execution_count": 135,
   "outputs": [],
   "source": [
    "table_ep['ratio'] = new_col_ep\n",
    "table_lp['ratio'] = new_col_lp\n",
    "table_ep['order'] = order_ep\n",
    "table_lp['order'] = order_lp"
   ],
   "metadata": {
    "collapsed": false,
    "pycharm": {
     "name": "#%%\n"
    }
   }
  },
  {
   "cell_type": "code",
   "execution_count": 137,
   "outputs": [
    {
     "data": {
      "text/plain": "   patient  source  #files                duration       ratio  order\n30  FCSFDM  epibox     200  3 days 10:27:22.089000    2.425532      0\n31    FLRB  epibox      93  1 days 03:01:34.600000    3.441095      1\n32    AMRL  epibox     264  3 days 09:35:35.800000    3.235561      2\n33    DAGN  epibox     186  2 days 13:53:03.900000    3.005603      3\n34   DAJRD  epibox      95  1 days 10:55:48.500000    2.719714      4\n35    MARG  epibox     113  2 days 12:10:04.401000    1.878078      5\n36      NC  epibox      97  1 days 07:10:02.600000    3.112227      6\n37    JFPS  epibox    1695  0 days 15:09:41.200000  111.796736      7\n39    TASL  epibox    4743  1 days 02:43:42.200000  177.451773      8\n40  TSSVAS  epibox      28  1 days 00:37:43.900000    1.136878      9",
      "text/html": "<div>\n<style scoped>\n    .dataframe tbody tr th:only-of-type {\n        vertical-align: middle;\n    }\n\n    .dataframe tbody tr th {\n        vertical-align: top;\n    }\n\n    .dataframe thead th {\n        text-align: right;\n    }\n</style>\n<table border=\"1\" class=\"dataframe\">\n  <thead>\n    <tr style=\"text-align: right;\">\n      <th></th>\n      <th>patient</th>\n      <th>source</th>\n      <th>#files</th>\n      <th>duration</th>\n      <th>ratio</th>\n      <th>order</th>\n    </tr>\n  </thead>\n  <tbody>\n    <tr>\n      <th>30</th>\n      <td>FCSFDM</td>\n      <td>epibox</td>\n      <td>200</td>\n      <td>3 days 10:27:22.089000</td>\n      <td>2.425532</td>\n      <td>0</td>\n    </tr>\n    <tr>\n      <th>31</th>\n      <td>FLRB</td>\n      <td>epibox</td>\n      <td>93</td>\n      <td>1 days 03:01:34.600000</td>\n      <td>3.441095</td>\n      <td>1</td>\n    </tr>\n    <tr>\n      <th>32</th>\n      <td>AMRL</td>\n      <td>epibox</td>\n      <td>264</td>\n      <td>3 days 09:35:35.800000</td>\n      <td>3.235561</td>\n      <td>2</td>\n    </tr>\n    <tr>\n      <th>33</th>\n      <td>DAGN</td>\n      <td>epibox</td>\n      <td>186</td>\n      <td>2 days 13:53:03.900000</td>\n      <td>3.005603</td>\n      <td>3</td>\n    </tr>\n    <tr>\n      <th>34</th>\n      <td>DAJRD</td>\n      <td>epibox</td>\n      <td>95</td>\n      <td>1 days 10:55:48.500000</td>\n      <td>2.719714</td>\n      <td>4</td>\n    </tr>\n    <tr>\n      <th>35</th>\n      <td>MARG</td>\n      <td>epibox</td>\n      <td>113</td>\n      <td>2 days 12:10:04.401000</td>\n      <td>1.878078</td>\n      <td>5</td>\n    </tr>\n    <tr>\n      <th>36</th>\n      <td>NC</td>\n      <td>epibox</td>\n      <td>97</td>\n      <td>1 days 07:10:02.600000</td>\n      <td>3.112227</td>\n      <td>6</td>\n    </tr>\n    <tr>\n      <th>37</th>\n      <td>JFPS</td>\n      <td>epibox</td>\n      <td>1695</td>\n      <td>0 days 15:09:41.200000</td>\n      <td>111.796736</td>\n      <td>7</td>\n    </tr>\n    <tr>\n      <th>39</th>\n      <td>TASL</td>\n      <td>epibox</td>\n      <td>4743</td>\n      <td>1 days 02:43:42.200000</td>\n      <td>177.451773</td>\n      <td>8</td>\n    </tr>\n    <tr>\n      <th>40</th>\n      <td>TSSVAS</td>\n      <td>epibox</td>\n      <td>28</td>\n      <td>1 days 00:37:43.900000</td>\n      <td>1.136878</td>\n      <td>9</td>\n    </tr>\n  </tbody>\n</table>\n</div>"
     },
     "execution_count": 137,
     "metadata": {},
     "output_type": "execute_result"
    }
   ],
   "source": [
    "table_ep"
   ],
   "metadata": {
    "collapsed": false,
    "pycharm": {
     "name": "#%%\n"
    }
   }
  },
  {
   "cell_type": "code",
   "execution_count": 138,
   "outputs": [
    {
     "data": {
      "text/plain": "<AxesSubplot:xlabel='order', ylabel='ratio'>"
     },
     "execution_count": 138,
     "metadata": {},
     "output_type": "execute_result"
    },
    {
     "data": {
      "text/plain": "<Figure size 432x288 with 1 Axes>",
      "image/png": "[encoded data removed]"
     },
     "metadata": {},
     "output_type": "display_data"
    }
   ],
   "source": [
    "sns.pointplot(data=table_lp, y= 'ratio', x='order')\n",
    "sns.pointplot(data=table_ep, y= 'ratio', x='order')"
   ],
   "metadata": {
    "collapsed": false,
    "pycharm": {
     "name": "#%%\n"
    }
   }
  },
  {
   "cell_type": "code",
   "execution_count": 140,
   "outputs": [],
   "source": [
    "table_all = pd.concat((table_ep, table_lp))"
   ],
   "metadata": {
    "collapsed": false,
    "pycharm": {
     "name": "#%%\n"
    }
   }
  },
  {
   "cell_type": "code",
   "execution_count": 154,
   "outputs": [
    {
     "data": {
      "text/plain": "<AxesSubplot:xlabel='ratio', ylabel='source'>"
     },
     "execution_count": 154,
     "metadata": {},
     "output_type": "execute_result"
    },
    {
     "data": {
      "text/plain": "<Figure size 1440x288 with 1 Axes>",
      "image/png": "[encoded data removed]"
     },
     "metadata": {},
     "output_type": "display_data"
    }
   ],
   "source": [
    "plt.figure(figsize=(20,4))\n",
    "sns.boxplot(data=table_all, x='ratio', y='source')"
   ],
   "metadata": {
    "collapsed": false,
    "pycharm": {
     "name": "#%%\n"
    }
   }
  },
  {
   "cell_type": "code",
   "execution_count": 142,
   "outputs": [
    {
     "data": {
      "text/plain": "<Figure size 432x288 with 1 Axes>",
      "image/png": "[encoded data removed]"
     },
     "metadata": {},
     "output_type": "display_data"
    }
   ],
   "source": [
    "sns.scatterplot(data=table_all, y='ratio', x='order', hue='source')\n",
    "sns.lineplot(y=np.ones(len(table_ep))*np.median(table_ep['ratio']), x=np.arange(len(table_ep)))\n",
    "sns.lineplot(y=np.ones(len(table_lp))*np.median(table_lp['ratio']), x=np.arange(len(table_lp)))\n",
    "plt.savefig('laptopvsepibox.png')"
   ],
   "metadata": {
    "collapsed": false,
    "pycharm": {
     "name": "#%%\n"
    }
   }
  },
  {
   "cell_type": "code",
   "execution_count": 156,
   "outputs": [
    {
     "data": {
      "text/plain": "<AxesSubplot:xlabel='ratio', ylabel='source'>"
     },
     "execution_count": 156,
     "metadata": {},
     "output_type": "execute_result"
    },
    {
     "data": {
      "text/plain": "<Figure size 1440x288 with 1 Axes>",
      "image/png": "[encoded data removed]"
     },
     "metadata": {},
     "output_type": "display_data"
    }
   ],
   "source": [
    "plt.figure(figsize=(20,4))\n",
    "sns.boxenplot(data=table_all, x='ratio', y='source')"
   ],
   "metadata": {
    "collapsed": false,
    "pycharm": {
     "name": "#%%\n"
    }
   }
  },
  {
   "cell_type": "code",
   "execution_count": 168,
   "outputs": [
    {
     "data": {
      "text/plain": "<AxesSubplot:xlabel='ratio', ylabel='source'>"
     },
     "execution_count": 168,
     "metadata": {},
     "output_type": "execute_result"
    },
    {
     "data": {
      "text/plain": "<Figure size 720x720 with 1 Axes>",
      "image/png": "[encoded data removed]"
     },
     "metadata": {},
     "output_type": "display_data"
    }
   ],
   "source": [
    "plt.figure(figsize=(10,10))\n",
    "sns.barplot(data=table_all, x='ratio', y='source', estimator='median')"
   ],
   "metadata": {
    "collapsed": false,
    "pycharm": {
     "name": "#%%\n"
    }
   }
  },
  {
   "cell_type": "code",
   "execution_count": 147,
   "outputs": [
    {
     "data": {
      "text/plain": "30    2.425532\n31    3.441095\n32    3.235561\n33    3.005603\n34    2.719714\n35    1.878078\n36    3.112227\n40    1.136878\nName: ratio, dtype: float64"
     },
     "execution_count": 147,
     "metadata": {},
     "output_type": "execute_result"
    }
   ],
   "source": [
    "table_ep['ratio'].loc[table_ep['ratio']<100]"
   ],
   "metadata": {
    "collapsed": false,
    "pycharm": {
     "name": "#%%\n"
    }
   }
  },
  {
   "cell_type": "code",
   "execution_count": 148,
   "outputs": [
    {
     "data": {
      "text/plain": "0.3333333333333333"
     },
     "execution_count": 148,
     "metadata": {},
     "output_type": "execute_result"
    }
   ],
   "source": [
    "1/3"
   ],
   "metadata": {
    "collapsed": false,
    "pycharm": {
     "name": "#%%\n"
    }
   }
  },
  {
   "cell_type": "code",
   "execution_count": 149,
   "outputs": [
    {
     "data": {
      "text/plain": "0.6666666666666666"
     },
     "execution_count": 149,
     "metadata": {},
     "output_type": "execute_result"
    }
   ],
   "source": [
    "2/(3)"
   ],
   "metadata": {
    "collapsed": false,
    "pycharm": {
     "name": "#%%\n"
    }
   }
  },
  {
   "cell_type": "code",
   "execution_count": null,
   "outputs": [],
   "source": [],
   "metadata": {
    "collapsed": false,
    "pycharm": {
     "name": "#%%\n"
    }
   }
  }
 ],
 "metadata": {
  "kernelspec": {
   "display_name": "Python 3",
   "language": "python",
   "name": "python3"
  },
  "language_info": {
   "codemirror_mode": {
    "name": "ipython",
    "version": 2
   },
   "file_extension": ".py",
   "mimetype": "text/x-python",
   "name": "python",
   "nbconvert_exporter": "python",
   "pygments_lexer": "ipython2",
   "version": "2.7.6"
  }
 },
 "nbformat": 4,
 "nbformat_minor": 0
}