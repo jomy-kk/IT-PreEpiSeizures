{
 "cells": [
  {
   "cell_type": "markdown",
   "source": [
    "# ScientISST MOVE: Getting Started with LTBio\n",
    "Please cite:\n",
    "_Saraiva et al., ScientISST MOVE: Activity-annotated Multimodal Biosignals acquired from multiple Wearable Devices, Scientific Data (2023)_"
   ],
   "metadata": {
    "collapsed": false
   }
  },
  {
   "cell_type": "markdown",
   "source": [
    "## A. Download Dataset"
   ],
   "metadata": {
    "collapsed": false
   }
  },
  {
   "cell_type": "code",
   "execution_count": null,
   "source": [
    "import wget, zipfile, os\n",
    "\n",
    "# Download dataset in LTBio format\n",
    "url = 'https://zenodo.org/record/7940439/files/biosignal.zip?download=1'\n",
    "filename = wget.download(url)  # into to the current directory\n",
    "\n",
    "# Decompress zip file\n",
    "with zipfile.ZipFile(filename, 'r') as zip_ref:\n",
    "    zip_ref.extractall('biosignal.zip')\n",
    "\n",
    "# Delete zip file\n",
    "os.remove(filename)"
   ],
   "metadata": {
    "collapsed": false
   },
   "outputs": []
  },
  {
   "cell_type": "markdown",
   "source": [
    "## B. Install LTBio"
   ],
   "metadata": {
    "collapsed": false
   }
  },
  {
   "cell_type": "code",
   "execution_count": null,
   "source": [
    "# Create a virtual environment\n",
    "!python -m venv env  # comment this if already created\n",
    "\n",
    "# Install LTBio\n",
    "!pip install ltbio  # comment this if already installed"
   ],
   "metadata": {
    "collapsed": false
   },
   "outputs": []
  },
  {
   "cell_type": "markdown",
   "source": [
    "## 1. Load and Explore a Biosignal\n",
    "Let's use subject XXXX as an example. Consider we will need only the ECGs for this project."
   ],
   "metadata": {
    "collapsed": false
   }
  },
  {
   "cell_type": "code",
   "execution_count": 2,
   "source": [
    "from ltbio.biosignals.modalities import ECG\n",
    "code = 'F408'\n",
    "ecg = ECG.load(f'biosignal/{code}/ecg.biosignal')\n",
    "ecg"
   ],
   "metadata": {
    "collapsed": false,
    "ExecuteTime": {
     "start_time": "2023-05-26T18:59:08.837912Z",
     "end_time": "2023-05-26T18:59:08.949380Z"
    }
   },
   "outputs": []
  },
  {
   "cell_type": "markdown",
   "source": [
    "Above we can see a textual description of the biosignal. From this we can gather that it was acquired with a ScientISST Sense device, that it has 2 channels, with 38 minutes of simultaneous recording on both, and that 7 events were annotated on it.\n",
    "\n",
    "We can also get information about the subject conditions:"
   ],
   "metadata": {
    "collapsed": false
   }
  },
  {
   "cell_type": "code",
   "execution_count": 3,
   "source": [
    "ecg.patient_conditions"
   ],
   "metadata": {
    "collapsed": false,
    "ExecuteTime": {
     "start_time": "2023-05-26T18:59:10.397944Z",
     "end_time": "2023-05-26T18:59:10.433186Z"
    }
   },
   "outputs": []
  },
  {
   "cell_type": "markdown",
   "source": [
    "We can see the subject had COVID approximately half a year ago.\n",
    "\n",
    "But enough about metadata... Let's get a quick sneak-peak of the ECG signals:"
   ],
   "metadata": {
    "collapsed": false
   }
  },
  {
   "cell_type": "code",
   "execution_count": 4,
   "source": [
    "ecg.preview.plot()"
   ],
   "metadata": {
    "collapsed": false,
    "ExecuteTime": {
     "start_time": "2023-05-26T18:59:11.736231Z",
     "end_time": "2023-05-26T18:59:12.443370Z"
    }
   },
   "outputs": []
  },
  {
   "cell_type": "markdown",
   "source": [
    "When using `preview`, you're asking for a 5-second window right in the middle of the time series. This is helpful to quickly get a glimpse of the acquisition. We can notice that the \"dry\" channel is upside down, so let's invert it:"
   ],
   "metadata": {
    "collapsed": false
   }
  },
  {
   "cell_type": "code",
   "execution_count": 5,
   "source": [
    "ecg.invert('dry')\n",
    "ecg.preview.plot()"
   ],
   "metadata": {
    "collapsed": false,
    "ExecuteTime": {
     "start_time": "2023-05-26T18:59:12.713282Z",
     "end_time": "2023-05-26T18:59:13.452216Z"
    }
   },
   "outputs": []
  },
  {
   "cell_type": "markdown",
   "source": [
    "## 2. Index a Biosignal\n",
    "Awsome! Let's see the ECG when the subject was lifting a chair. Recall the events annotated and their names:"
   ],
   "metadata": {
    "collapsed": false
   }
  },
  {
   "cell_type": "code",
   "execution_count": 6,
   "source": [
    "ecg.events"
   ],
   "metadata": {
    "collapsed": false,
    "ExecuteTime": {
     "start_time": "2023-05-26T18:59:13.705985Z",
     "end_time": "2023-05-26T18:59:13.767994Z"
    }
   },
   "outputs": []
  },
  {
   "cell_type": "markdown",
   "source": [
    "That's right, we're using the name \"lift\" for that. We can simply index the Biosignal in that interval, by indexing with the string \"lift\":"
   ],
   "metadata": {
    "collapsed": false
   }
  },
  {
   "cell_type": "code",
   "execution_count": 7,
   "source": [
    "ecg['lift'].plot()"
   ],
   "metadata": {
    "collapsed": false,
    "ExecuteTime": {
     "start_time": "2023-05-26T18:59:14.518483Z",
     "end_time": "2023-05-26T18:59:15.182191Z"
    }
   },
   "outputs": []
  },
  {
   "cell_type": "markdown",
   "source": [
    "Look how we plotted the signals from 03:10 to 04:15, without having to memorize these timestamps.\n",
    "In LTBio you can index a Biosignal with almost anything! Event names, Channel names, Datetime intervals, tuples of these, etc. Check [this article](https://ltbio.readthedocs.io/en/latest/learn/basic/ltbio101.html#indexing-a-biosignal)!\n",
    "For instance, let's just get the gel electrodes when gesticulating:"
   ],
   "metadata": {
    "collapsed": false
   }
  },
  {
   "cell_type": "code",
   "execution_count": 8,
   "source": [
    "ecg['gel']['gesticulate'].plot()"
   ],
   "metadata": {
    "collapsed": false,
    "ExecuteTime": {
     "start_time": "2023-05-26T18:59:15.463454Z",
     "end_time": "2023-05-26T18:59:15.770212Z"
    }
   },
   "outputs": []
  },
  {
   "cell_type": "markdown",
   "source": [
    "## 3. Process a Biosignal\n",
    "LTBio offers a diverse set of post-processing tools.\n",
    "Let's just get the gel electrodes first to work on that signal only:"
   ],
   "metadata": {
    "collapsed": false
   }
  },
  {
   "cell_type": "code",
   "execution_count": 19,
   "source": [
    "gel_ecg = ecg['gel']\n",
    "gel_ecg"
   ],
   "metadata": {
    "collapsed": false,
    "ExecuteTime": {
     "start_time": "2023-05-26T19:09:13.554933Z",
     "end_time": "2023-05-26T19:09:13.565431Z"
    }
   },
   "outputs": []
  },
  {
   "cell_type": "markdown",
   "source": [
    "Firstly, let's resample it to 100 Hz:"
   ],
   "metadata": {
    "collapsed": false
   }
  },
  {
   "cell_type": "code",
   "execution_count": 11,
   "source": [
    "gel_ecg.resample(100)"
   ],
   "metadata": {
    "collapsed": false,
    "ExecuteTime": {
     "start_time": "2023-05-26T19:00:57.624419Z",
     "end_time": "2023-05-26T19:00:57.801540Z"
    }
   },
   "outputs": []
  },
  {
   "cell_type": "markdown",
   "source": [
    "Now let's filter the signal wih a simple FIR passband from 1 to 40 Hz:"
   ],
   "metadata": {
    "collapsed": false
   }
  },
  {
   "cell_type": "code",
   "execution_count": 12,
   "source": [
    "from ltbio.processing.filters import *\n",
    "\n",
    "passband_filter = FrequencyDomainFilter(FrequencyResponse.FIR, BandType.BANDPASS, (1, 40), order=20)  # design the filter\n",
    "gel_ecg = passband_filter(gel_ecg)  # apply the filter\n",
    "\n",
    "gel_ecg.preview.plot()"
   ],
   "metadata": {
    "collapsed": false,
    "ExecuteTime": {
     "start_time": "2023-05-26T19:01:07.578822Z",
     "end_time": "2023-05-26T19:01:07.740676Z"
    }
   },
   "outputs": []
  },
  {
   "cell_type": "markdown",
   "source": [
    "Much better! Let's normalize it:"
   ],
   "metadata": {
    "collapsed": false
   }
  },
  {
   "cell_type": "code",
   "execution_count": 15,
   "source": [
    "from ltbio.processing.formaters import Normalizer\n",
    "\n",
    "normalizer = Normalizer(method='minmax')  # design the normalizer\n",
    "gel_ecg = normalizer(gel_ecg)\n",
    "\n",
    "gel_ecg.preview.plot()"
   ],
   "metadata": {
    "collapsed": false,
    "ExecuteTime": {
     "start_time": "2023-05-26T19:02:36.618836Z",
     "end_time": "2023-05-26T19:02:36.811172Z"
    }
   },
   "outputs": []
  },
  {
   "cell_type": "markdown",
   "source": [
    "Get to know all the LTBio features in [Learn the Basics](https://ltbio.readthedocs.io/en/latest/learn/learn.html)."
   ],
   "metadata": {
    "collapsed": false
   }
  },
  {
   "cell_type": "markdown",
   "source": [
    "## 4. Stepping out of LTBio\n",
    "\n",
    "Biosignal objects can be saved, with all the modifications and processing done so-far, in a single line:"
   ],
   "metadata": {
    "collapsed": false
   }
  },
  {
   "cell_type": "code",
   "execution_count": null,
   "source": [
    "gel_ecg.save('processed_gel_ecg.biosignal')"
   ],
   "metadata": {
    "collapsed": false
   },
   "outputs": []
  },
  {
   "cell_type": "markdown",
   "source": [
    "You can also convert it to NumPy array and keep going from there:"
   ],
   "metadata": {
    "collapsed": false
   }
  },
  {
   "cell_type": "code",
   "execution_count": 17,
   "source": [
    "gel_ecg.to_array()"
   ],
   "metadata": {
    "collapsed": false,
    "ExecuteTime": {
     "start_time": "2023-05-26T19:06:13.602325Z",
     "end_time": "2023-05-26T19:06:13.629234Z"
    }
   },
   "outputs": []
  },
  {
   "cell_type": "markdown",
   "source": [
    "Or to a Pandas DataFrame:"
   ],
   "metadata": {
    "collapsed": false
   }
  },
  {
   "cell_type": "code",
   "execution_count": 18,
   "source": [
    "gel_ecg.to_dataframe()"
   ],
   "metadata": {
    "collapsed": false,
    "ExecuteTime": {
     "start_time": "2023-05-26T19:06:38.585607Z",
     "end_time": "2023-05-26T19:06:39.735726Z"
    }
   },
   "outputs": []
  },
  {
   "cell_type": "markdown",
   "source": [
    "________\n",
    "© 2023 ScientISST. All rights reserved.\n",
    "\n",
    "Notebook offered by the [LTBio team](https://github.com/jomy-kk/LTBio).\n",
    "Contact: joaomiguelsaraiva@tecnico.ulisboa.pt"
   ],
   "metadata": {
    "collapsed": false
   }
  }
 ],
 "metadata": {
  "kernelspec": {
   "display_name": "Python 3",
   "language": "python",
   "name": "python3"
  },
  "language_info": {
   "codemirror_mode": {
    "name": "ipython",
    "version": 2
   },
   "file_extension": ".py",
   "mimetype": "text/x-python",
   "name": "python",
   "nbconvert_exporter": "python",
   "pygments_lexer": "ipython2",
   "version": "2.7.6"
  }
 },
 "nbformat": 4,
 "nbformat_minor": 0
}
