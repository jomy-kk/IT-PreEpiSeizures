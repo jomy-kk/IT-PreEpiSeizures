{
 "cells": [
  {
   "cell_type": "code",
   "execution_count": 29,
   "metadata": {
    "collapsed": true,
    "pycharm": {
     "name": "#%%\n"
    }
   },
   "outputs": [],
   "source": [
    "import os\n",
    "import datetime\n",
    "\n",
    "import matplotlib.pyplot as plt\n",
    "import numpy as np\n",
    "import pandas as pd\n",
    "import seaborn as sb\n",
    "\n",
    "colors = ['#A9D1ED', '#843C0C', '#F8CBAD', '#B0B0B0']"
   ]
  },
  {
   "cell_type": "code",
   "execution_count": 57,
   "outputs": [],
   "source": [
    "dir = 'C:\\\\Users\\\\Mariana\\\\Documents\\\\Epilepsy\\\\data_domains'\n",
    "\n",
    "hospital = 'HEM'\n",
    "\n",
    "hsm_dict = {'Patient4': ['PC + ArmBit ForearmBit', '2017-04-23 21:50:21.105000'],\n",
    "              'Patient2': ['PC + ArmBit ForearmBit', '2017-04-06 17:25:15.775000'],\n",
    "              'Patient1': [\"PC + ArmBit ForearmBit\", '2017-02-23 21:50:00.774000'],\n",
    "              'Patient100': ['PC + ArmBit ForearmBit', '2019-02-12 21:44:32.796000'],\n",
    "              'Patient112': ['PC + ChestBit WristBit', '2020-03-03 18:57:57.772000'],\n",
    "              'Patient105': ['PC + ChestBit WristBit', '2019-07-07 10:04:10.321000'],\n",
    "              'Patient104': ['PC + ChestBit WristBit', '2019-05-07 10:20:10.321000'],\n",
    "              'Patient101': ['PC + ChestBit WristBit', '2019-02-26 11:10:35.275000'],\n",
    "              'Patient108': ['PC + ChestBit WristBit', '2019-12-10 10:20:10.321000'],\n",
    "              'Patient106': ['PC + ChestBit WristBit', '2019-07-30 10:20:10.321000'],\n",
    "              'Patient111': ['PC + ChestBit WristBit', '2020-02-18 12:02:39.799000'],\n",
    "              'Patient103': ['PC + ChestBit WristBit', '2019-04-09 10:20:10.321000'],\n",
    "              'Patient107': ['PC + ChestBit WristBit', '2019-08-27 16:17:18.854000'],\n",
    "              'Patient109': ['PC + ChestBit WristBit', '2020-01-07 17:58:35.450000'],\n",
    "              'Patient102': ['PC + ChestBit WristBit', '2019-03-12 10:58:29.403000'],\n",
    "              'Patient200': ['EpiBOX + ChestBit', '2021-03-01 14:36:05.022688'],\n",
    "              'Patient205': ['EpiBOX + ChestBit', '2021-09-22 16:21:14.498261'],\n",
    "              'Patient203': ['EpiBOX + ChestBit', '2021-05-04 15:55:46.148100'],\n",
    "              'Patient207': ['EpiBOX + ChestBit', '2021-11-09 17:15:50.462852'],\n",
    "              'Patient209': ['EpiBOX + ChestBit', '2021-12-13 13:39:30.879850'],\n",
    "              'hsm_19_7_2022': ['EpiBOX + ChestBit', '2022-07-19 09:23:17.661779'],\n",
    "              'hsm_5_7_2022': ['EpiBOX + ChestBit', '2022-07-04 15:29:19.722616'],\n",
    "              'hsm_joao': ['EpiBOX + ChestBit', '2022-08-08 15:54:56.728592']}\n",
    "\n",
    "hem_dict = {'TSSVAS': ['EpiBOX + ChestBit', '2017-04-23 21:50:21.105000'],\n",
    "              'TASL': ['EpiBOX + ChestBit', '2017-04-06 17:25:15.775000'],\n",
    "              'SFS': ['EpiBOX + ChestBit', '2017-02-23 21:50:00.774000'],\n",
    "              'RSG': ['EpiBOX + ChestBit', '2019-02-12 21:44:32.796000'],\n",
    "              'SVABC': ['EpiBOX + ChestBit', '2020-03-03 18:57:57.772000'],\n",
    "              'AMRL': ['EpiBOX + ChestBit', '2021-07-19 15:00:37'],\n",
    "              'NC': ['EpiBOX + ChestBit', '2019-05-07 10:20:10.321000'],\n",
    "              'MARG': ['EpiBOX + ChestBit', '2019-02-26 11:10:35.275000'],\n",
    "              'JFPS': ['EpiBOX + ChestBit', '2021-03-01 14:36:05.022688'],\n",
    "              'FLRB': ['EpiBOX + ChestBit', '2021-09-22 16:21:14.498261'],\n",
    "              'FCSFDM': ['EpiBOX + ChestBit', '2021-05-04 15:55:46.148100'],\n",
    "              'DAJRD': ['EpiBOX + ChestBit', '2021-08-03 11:44:34'],\n",
    "              'DAOS': ['EpiBOX + ChestBit', '2021-12-13 13:39:30.879850'],\n",
    "              'DAGN': ['EpiBOX + ChestBit', '2021-04-19 13:47:13']\n",
    "}"
   ],
   "metadata": {
    "collapsed": false,
    "pycharm": {
     "name": "#%%\n"
    }
   }
  },
  {
   "cell_type": "code",
   "execution_count": 58,
   "outputs": [],
   "source": [
    "dirpath = os.path.join(dir, hospital)\n",
    "list_patients = os.listdir(dirpath)\n",
    "\n",
    "def get_time_patient(dirpath, patient_file):\n",
    "    # get domain file\n",
    "    table_bit = pd.read_parquet(os.path.join(dirpath, patient_file), engine='fastparquet')\n",
    "    # pass to datetime\n",
    "    times = pd.to_datetime(table_bit['Time'])\n",
    "    # get time jumps\n",
    "    idx_jumps = np.where(np.diff(times) > np.timedelta64(1000000000))[0]\n",
    "    # get time right\n",
    "    time_right = np.sum([np.sum(np.diff(times.iloc[idx_jumps[i]+1:idx_jumps[i+1]])) for i in range(len(idx_jumps)-1)])\n",
    "\n",
    "    return time_right.astype('timedelta64[s]').astype(float)\n"
   ],
   "metadata": {
    "collapsed": false,
    "pycharm": {
     "name": "#%%\n"
    }
   }
  },
  {
   "cell_type": "code",
   "execution_count": 61,
   "outputs": [],
   "source": [
    "\n",
    "# table_times = pd.DataFrame(columns=['patient', 'sensor', 'device', 'timeright'])\n",
    "\n",
    "for patient_file in list_patients:\n",
    "\n",
    "    patient = patient_file.split('_domain')[0]\n",
    "    if patient not in hem_dict.keys():\n",
    "        continue\n",
    "    if hem_dict[patient]:\n",
    "        device = hem_dict[patient][0]\n",
    "    else:\n",
    "        device = ''\n",
    "        print(f'{patient} has no device')\n",
    "\n",
    "    time_right = get_time_patient(dirpath, patient_file)\n",
    "    if 'ChestBit' in device:\n",
    "        for sens in ['ECG', 'Resp', 'Acc']:\n",
    "            table_times = pd.concat((table_times, pd.DataFrame([[patient, sens, 'ChestBit', time_right]], columns=['patient', 'sensor', 'device', 'timeright'])), ignore_index=True)\n",
    "\n",
    "    if 'WristBit' in device:\n",
    "        for sens in ['EDA', 'PPG', 'Acc']:\n",
    "            table_times = pd.concat((table_times, pd.DataFrame([[patient, sens, 'WristBit', time_right]], columns=['patient', 'sensor', 'device', 'timeright'])), ignore_index=True)\n",
    "\n",
    "    if 'ArmBit' in device:\n",
    "        for sens in ['ECG', 'EDA', 'PPG', 'EMG', 'Acc', 'Acc']:\n",
    "            table_times = pd.concat((table_times, pd.DataFrame([[patient, sens, 'ArmBit', time_right]], columns=['patient', 'sensor', 'device', 'timeright'])), ignore_index=True)\n"
   ],
   "metadata": {
    "collapsed": false,
    "pycharm": {
     "name": "#%%\n"
    }
   }
  },
  {
   "cell_type": "code",
   "execution_count": 62,
   "outputs": [
    {
     "data": {
      "text/plain": "           patient sensor    device timeright\n0    hsm_19_7_2022    ECG  ChestBit  191854.0\n1    hsm_19_7_2022   Resp  ChestBit  191854.0\n2    hsm_19_7_2022    Acc  ChestBit  191854.0\n3     hsm_5_7_2022    ECG  ChestBit   94859.0\n4     hsm_5_7_2022   Resp  ChestBit   94859.0\n..             ...    ...       ...       ...\n151           TASL   Resp  ChestBit   89012.0\n152           TASL    Acc  ChestBit   89012.0\n153         TSSVAS    ECG  ChestBit   86972.0\n154         TSSVAS   Resp  ChestBit   86972.0\n155         TSSVAS    Acc  ChestBit   86972.0\n\n[156 rows x 4 columns]",
      "text/html": "<div>\n<style scoped>\n    .dataframe tbody tr th:only-of-type {\n        vertical-align: middle;\n    }\n\n    .dataframe tbody tr th {\n        vertical-align: top;\n    }\n\n    .dataframe thead th {\n        text-align: right;\n    }\n</style>\n<table border=\"1\" class=\"dataframe\">\n  <thead>\n    <tr style=\"text-align: right;\">\n      <th></th>\n      <th>patient</th>\n      <th>sensor</th>\n      <th>device</th>\n      <th>timeright</th>\n    </tr>\n  </thead>\n  <tbody>\n    <tr>\n      <th>0</th>\n      <td>hsm_19_7_2022</td>\n      <td>ECG</td>\n      <td>ChestBit</td>\n      <td>191854.0</td>\n    </tr>\n    <tr>\n      <th>1</th>\n      <td>hsm_19_7_2022</td>\n      <td>Resp</td>\n      <td>ChestBit</td>\n      <td>191854.0</td>\n    </tr>\n    <tr>\n      <th>2</th>\n      <td>hsm_19_7_2022</td>\n      <td>Acc</td>\n      <td>ChestBit</td>\n      <td>191854.0</td>\n    </tr>\n    <tr>\n      <th>3</th>\n      <td>hsm_5_7_2022</td>\n      <td>ECG</td>\n      <td>ChestBit</td>\n      <td>94859.0</td>\n    </tr>\n    <tr>\n      <th>4</th>\n      <td>hsm_5_7_2022</td>\n      <td>Resp</td>\n      <td>ChestBit</td>\n      <td>94859.0</td>\n    </tr>\n    <tr>\n      <th>...</th>\n      <td>...</td>\n      <td>...</td>\n      <td>...</td>\n      <td>...</td>\n    </tr>\n    <tr>\n      <th>151</th>\n      <td>TASL</td>\n      <td>Resp</td>\n      <td>ChestBit</td>\n      <td>89012.0</td>\n    </tr>\n    <tr>\n      <th>152</th>\n      <td>TASL</td>\n      <td>Acc</td>\n      <td>ChestBit</td>\n      <td>89012.0</td>\n    </tr>\n    <tr>\n      <th>153</th>\n      <td>TSSVAS</td>\n      <td>ECG</td>\n      <td>ChestBit</td>\n      <td>86972.0</td>\n    </tr>\n    <tr>\n      <th>154</th>\n      <td>TSSVAS</td>\n      <td>Resp</td>\n      <td>ChestBit</td>\n      <td>86972.0</td>\n    </tr>\n    <tr>\n      <th>155</th>\n      <td>TSSVAS</td>\n      <td>Acc</td>\n      <td>ChestBit</td>\n      <td>86972.0</td>\n    </tr>\n  </tbody>\n</table>\n<p>156 rows × 4 columns</p>\n</div>"
     },
     "execution_count": 62,
     "metadata": {},
     "output_type": "execute_result"
    }
   ],
   "source": [
    "table_times"
   ],
   "metadata": {
    "collapsed": false,
    "pycharm": {
     "name": "#%%\n"
    }
   }
  },
  {
   "cell_type": "code",
   "execution_count": 47,
   "outputs": [],
   "source": [
    "def add_value_label(x_list,y_list):\n",
    "    for i in range(1, len(x_list)+1):\n",
    "        plt.text(y_list[i-1]+2, i-1.1,y_list[i-1], ha=\"center\")"
   ],
   "metadata": {
    "collapsed": false,
    "pycharm": {
     "name": "#%%\n"
    }
   }
  },
  {
   "cell_type": "code",
   "execution_count": 48,
   "outputs": [
    {
     "data": {
      "text/plain": "<Figure size 720x360 with 1 Axes>",
      "image/png": "[encoded data removed]"
     },
     "metadata": {
      "needs_background": "light"
     },
     "output_type": "display_data"
    }
   ],
   "source": [
    "\n",
    "plt.figure(figsize=(10,5))\n",
    "add_value_label(np.arange(len(list(seizures_dict.keys()))), list(seizures_dict.values()))\n",
    "plt.title('Clinical Manifestations in Seizures from PreEpiSeizures Dataset')\n",
    "plt.barh(width = list(seizures_dict.values()), y = list(seizures_dict.keys()), color = colors[0])\n",
    "plt.xlabel('# Seizures')\n",
    "plt.tight_layout()\n",
    "plt.savefig('seizures_manifestations.png')"
   ],
   "metadata": {
    "collapsed": false,
    "pycharm": {
     "name": "#%%\n"
    }
   }
  }
 ],
 "metadata": {
  "kernelspec": {
   "display_name": "Python 3",
   "language": "python",
   "name": "python3"
  },
  "language_info": {
   "codemirror_mode": {
    "name": "ipython",
    "version": 2
   },
   "file_extension": ".py",
   "mimetype": "text/x-python",
   "name": "python",
   "nbconvert_exporter": "python",
   "pygments_lexer": "ipython2",
   "version": "2.7.6"
  }
 },
 "nbformat": 4,
 "nbformat_minor": 0
}