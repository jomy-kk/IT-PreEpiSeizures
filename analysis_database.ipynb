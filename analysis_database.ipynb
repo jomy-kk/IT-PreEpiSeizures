{
 "cells": [
  {
   "cell_type": "code",
   "execution_count": 81,
   "metadata": {
    "collapsed": true,
    "pycharm": {
     "name": "#%%\n"
    }
   },
   "outputs": [],
   "source": [
    "import os\n",
    "\n",
    "import numpy as np\n",
    "import pandas as pd\n",
    "\n",
    "hospital = 'HSM'\n",
    "\n",
    "dir_ = 'C:\\\\Users\\\\Mariana\\\\Documents\\\\CAT\\\\data_domains\\\\' + hospital + '\\\\'\n",
    "\n",
    "\n",
    "ytics_dict = {'Patient4': ['PC + ArmBit ForearmBit', '2017-04-23 21:50:21.105000'],\n",
    "              'Patient2': ['PC + ArmBit ForearmBit', '2017-04-06 17:25:15.775000'],\n",
    "              'Patient1': [\"PC + ArmBit ForearmBit\", '2017-02-23 21:50:00.774000'],\n",
    "              'Patient100': ['PC + ArmBit ForearmBit', '2019-02-12 21:44:32.796000'],\n",
    "              'Patient112': ['PC + ChestBit WristBit', '2020-03-03 18:57:57.772000'],\n",
    "              'Patient105': ['PC + ChestBit WristBit', '2019-07-07 10:04:10.321000'],\n",
    "              'Patient104': ['PC + ChestBit WristBit', '2019-05-07 10:20:10.321000'],\n",
    "              'Patient101': ['PC + ChestBit WristBit', '2019-02-26 11:10:35.275000'],\n",
    "              'Patient108': ['PC + ChestBit WristBit', '2019-12-10 10:20:10.321000'],\n",
    "              'Patient106': ['PC + ChestBit WristBit', '2019-07-30 10:20:10.321000'],\n",
    "              'Patient111': ['PC + ChestBit WristBit', '2020-02-18 12:02:39.799000'],\n",
    "              'Patient103': ['PC + ChestBit WristBit', '2019-04-09 10:20:10.321000'],\n",
    "              'Patient107': ['PC + ChestBit WristBit', '2019-08-27 16:17:18.854000'],\n",
    "              'Patient109': ['PC + ChestBit WristBit', '2020-01-07 17:58:35.450000'],\n",
    "              'Patient102': ['PC + ChestBit WristBit', '2019-03-12 10:58:29.403000'],\n",
    "              'Patient200': ['EpiBOX + ChestBit', '2021-03-01 14:36:05.022688'],\n",
    "              'Patient205': ['EpiBOX + ChestBit', '2021-09-22 16:21:14.498261'],\n",
    "              'Patient203': ['EpiBOX + ChestBit', '2021-05-04 15:55:46.148100'],\n",
    "              'Patient207': ['EpiBOX + ChestBit', '2021-11-09 17:15:50.462852'],\n",
    "              'Patient209': ['EpiBOX + ChestBit', '2021-12-13 13:39:30.879850'],\n",
    "              'hsm_19_7_2022': ['EpiBOX + ChestBit', '2022-07-19 09:23:17.661779'],\n",
    "              'hsm_5_7_2022': ['EpiBOX + ChestBit', '2022-07-04 15:29:19.722616'],\n",
    "              'hsm_joao': ['EpiBOX + ChestBit', '2022-08-08 15:54:56.728592']}"
   ]
  },
  {
   "cell_type": "code",
   "execution_count": 79,
   "outputs": [],
   "source": [
    "\n",
    "def time_range(patient):\n",
    "    dirbit = os.path.join(dir_, patient)\n",
    "\n",
    "    table_bit = pd.read_parquet(dirbit, engine='fastparquet')\n",
    "    times = pd.to_datetime(table_bit['Time'])\n",
    "\n",
    "    times.iloc[-1] - times.iloc[0]\n",
    "\n",
    "    total_time = (times.iloc[-1] - times.iloc[0]).total_seconds()\n",
    "\n",
    "    idx_jumps = np.where(np.diff(times) > np.timedelta64(1000000000))[0]\n",
    "    idx_jumps[-1]\n",
    "\n",
    "    time_right = np.sum([np.sum(np.diff(times.iloc[idx_jumps[i]+1:idx_jumps[i+1]])) for i in range(len(idx_jumps)-1)])\n",
    "\n",
    "    loss_sec = total_time - time_right.astype('timedelta64[s]').astype(float)\n",
    "\n",
    "    loss = np.round(100 * (loss_sec/ total_time), 2)\n",
    "    print(f'Percentage Loss = {loss}%')\n",
    "    return loss, time_right.astype('timedelta64[s]').astype(float)"
   ],
   "metadata": {
    "collapsed": false,
    "pycharm": {
     "name": "#%%\n"
    }
   }
  },
  {
   "cell_type": "code",
   "execution_count": 103,
   "outputs": [
    {
     "name": "stdout",
     "output_type": "stream",
     "text": [
      "Patient hsm_19_7_2022_domain.parquet\n",
      "Percentage Loss = 28.77%\n",
      "====================\n",
      "Patient hsm_20_09_2021_domain.parquet\n",
      "Patient hsm_5_7_2022_domain.parquet\n",
      "Percentage Loss = 63.88%\n",
      "====================\n",
      "Patient hsm_joao_domain.parquet\n",
      "Percentage Loss = 18.1%\n",
      "====================\n",
      "Patient Patient100_domain.parquet\n",
      "Percentage Loss = 45.24%\n",
      "====================\n",
      "Patient Patient101_domain.parquet\n",
      "Percentage Loss = 43.53%\n",
      "====================\n",
      "Patient Patient101_hospital_domain.parquet\n",
      "Patient Patient102_domain.parquet\n",
      "Percentage Loss = 33.71%\n",
      "====================\n",
      "Patient Patient102_hospital_domain.parquet\n",
      "Patient Patient103_domain.parquet\n",
      "Percentage Loss = 99.94%\n",
      "====================\n",
      "Patient Patient103_hospital_domain.parquet\n",
      "Patient Patient104_domain.parquet\n",
      "Percentage Loss = 9.02%\n",
      "====================\n",
      "Patient Patient105_domain.parquet\n",
      "Percentage Loss = 11.98%\n",
      "====================\n",
      "Patient Patient105_hospital_domain.parquet\n",
      "Patient Patient106_domain.parquet\n",
      "Percentage Loss = 67.32%\n",
      "====================\n",
      "Patient Patient106_hospital_domain.parquet\n",
      "Patient Patient107_domain.parquet\n",
      "Percentage Loss = 29.22%\n",
      "====================\n",
      "Patient Patient107_hospital_domain.parquet\n",
      "Patient Patient108_domain.parquet\n",
      "Percentage Loss = 17.08%\n",
      "====================\n",
      "Patient Patient108_hospital_domain.parquet\n",
      "Patient Patient109_domain.parquet\n",
      "Percentage Loss = 46.88%\n",
      "====================\n",
      "Patient Patient109_hospital_domain.parquet\n",
      "Patient Patient110_hospital_domain.parquet\n",
      "Patient Patient111_domain.parquet\n",
      "Percentage Loss = 21.08%\n",
      "====================\n",
      "Patient Patient111_hospital_domain.parquet\n",
      "Patient Patient112_domain.parquet\n",
      "Percentage Loss = 46.39%\n",
      "====================\n",
      "Patient Patient1_domain.parquet\n",
      "Percentage Loss = 35.64%\n",
      "====================\n",
      "Patient Patient200_domain.parquet\n",
      "Percentage Loss = 34.59%\n",
      "====================\n",
      "Patient Patient200_hospital_domain.parquet\n",
      "Patient Patient201_hospital_domain.parquet\n",
      "Patient Patient202_hospital_domain.parquet\n",
      "Patient Patient203_domain.parquet\n",
      "Percentage Loss = 77.36%\n",
      "====================\n",
      "Patient Patient205_domain.parquet\n",
      "Percentage Loss = 98.01%\n",
      "====================\n",
      "Patient Patient207_domain.parquet\n",
      "index -1 is out of bounds for axis 0 with size 0\n",
      "====================\n",
      "Patient Patient208_domain.parquet\n",
      "Patient Patient209_domain.parquet\n",
      "Percentage Loss = 94.66%\n",
      "====================\n",
      "Patient Patient2_domain.parquet\n",
      "Percentage Loss = 97.67%\n",
      "====================\n",
      "Patient Patient4_domain.parquet\n",
      "Percentage Loss = 94.26%\n",
      "====================\n",
      "Patient teste_casa_domain.parquet\n"
     ]
    }
   ],
   "source": [
    "table = pd.DataFrame(columns=['loss', 'patient', 'real'])\n",
    "\n",
    "for patient in os.listdir(dir_):\n",
    "    print(f'Patient {patient}')\n",
    "    if (patient.split('_domain')[0] not in ytics_dict.keys()):\n",
    "        continue\n",
    "    try:\n",
    "        loss, time_right = time_range(patient)\n",
    "        table = pd.concat((table, pd.DataFrame([[loss, patient, time_right]], columns = ['loss', 'patient', 'real'])), ignore_index=True)\n",
    "    except Exception as e:\n",
    "        print(e)\n",
    "\n",
    "    print('='*20)"
   ],
   "metadata": {
    "collapsed": false,
    "pycharm": {
     "name": "#%%\n"
    }
   }
  },
  {
   "cell_type": "code",
   "execution_count": 99,
   "outputs": [
    {
     "name": "stdout",
     "output_type": "stream",
     "text": [
      "Percentage Loss = 45.24%\n"
     ]
    }
   ],
   "source": [
    "patient = 'Patient100_domain.parquet'\n",
    "loss, time_right = time_range(patient)\n",
    "table = pd.concat((table, pd.DataFrame([[loss, patient, time_right]], columns = ['loss', 'patient', 'real'])), ignore_index=True)"
   ],
   "metadata": {
    "collapsed": false,
    "pycharm": {
     "name": "#%%\n"
    }
   }
  },
  {
   "cell_type": "code",
   "execution_count": 104,
   "outputs": [
    {
     "data": {
      "text/plain": "     loss                       patient      real\n0   28.77  hsm_19_7_2022_domain.parquet  191854.0\n1   63.88   hsm_5_7_2022_domain.parquet   94859.0\n2    18.1       hsm_joao_domain.parquet  266875.0\n3   45.24     Patient100_domain.parquet  275832.0\n4   43.53     Patient101_domain.parquet  155351.0\n5   33.71     Patient102_domain.parquet  169316.0\n6   99.94     Patient103_domain.parquet  187027.0\n7    9.02     Patient104_domain.parquet  197524.0\n8   11.98     Patient105_domain.parquet  156187.0\n9   67.32     Patient106_domain.parquet   31324.0\n10  29.22     Patient107_domain.parquet  154336.0\n11  17.08     Patient108_domain.parquet  123315.0\n12  46.88     Patient109_domain.parquet  121354.0\n13  21.08     Patient111_domain.parquet  196779.0\n14  46.39     Patient112_domain.parquet   38487.0\n15  35.64       Patient1_domain.parquet   31012.0\n16  34.59     Patient200_domain.parquet  252379.0\n17  77.36     Patient203_domain.parquet   53684.0\n18  98.01     Patient205_domain.parquet    3598.0\n19  94.66     Patient209_domain.parquet  231458.0\n20  97.67       Patient2_domain.parquet     122.0\n21  94.26       Patient4_domain.parquet     324.0",
      "text/html": "<div>\n<style scoped>\n    .dataframe tbody tr th:only-of-type {\n        vertical-align: middle;\n    }\n\n    .dataframe tbody tr th {\n        vertical-align: top;\n    }\n\n    .dataframe thead th {\n        text-align: right;\n    }\n</style>\n<table border=\"1\" class=\"dataframe\">\n  <thead>\n    <tr style=\"text-align: right;\">\n      <th></th>\n      <th>loss</th>\n      <th>patient</th>\n      <th>real</th>\n    </tr>\n  </thead>\n  <tbody>\n    <tr>\n      <th>0</th>\n      <td>28.77</td>\n      <td>hsm_19_7_2022_domain.parquet</td>\n      <td>191854.0</td>\n    </tr>\n    <tr>\n      <th>1</th>\n      <td>63.88</td>\n      <td>hsm_5_7_2022_domain.parquet</td>\n      <td>94859.0</td>\n    </tr>\n    <tr>\n      <th>2</th>\n      <td>18.1</td>\n      <td>hsm_joao_domain.parquet</td>\n      <td>266875.0</td>\n    </tr>\n    <tr>\n      <th>3</th>\n      <td>45.24</td>\n      <td>Patient100_domain.parquet</td>\n      <td>275832.0</td>\n    </tr>\n    <tr>\n      <th>4</th>\n      <td>43.53</td>\n      <td>Patient101_domain.parquet</td>\n      <td>155351.0</td>\n    </tr>\n    <tr>\n      <th>5</th>\n      <td>33.71</td>\n      <td>Patient102_domain.parquet</td>\n      <td>169316.0</td>\n    </tr>\n    <tr>\n      <th>6</th>\n      <td>99.94</td>\n      <td>Patient103_domain.parquet</td>\n      <td>187027.0</td>\n    </tr>\n    <tr>\n      <th>7</th>\n      <td>9.02</td>\n      <td>Patient104_domain.parquet</td>\n      <td>197524.0</td>\n    </tr>\n    <tr>\n      <th>8</th>\n      <td>11.98</td>\n      <td>Patient105_domain.parquet</td>\n      <td>156187.0</td>\n    </tr>\n    <tr>\n      <th>9</th>\n      <td>67.32</td>\n      <td>Patient106_domain.parquet</td>\n      <td>31324.0</td>\n    </tr>\n    <tr>\n      <th>10</th>\n      <td>29.22</td>\n      <td>Patient107_domain.parquet</td>\n      <td>154336.0</td>\n    </tr>\n    <tr>\n      <th>11</th>\n      <td>17.08</td>\n      <td>Patient108_domain.parquet</td>\n      <td>123315.0</td>\n    </tr>\n    <tr>\n      <th>12</th>\n      <td>46.88</td>\n      <td>Patient109_domain.parquet</td>\n      <td>121354.0</td>\n    </tr>\n    <tr>\n      <th>13</th>\n      <td>21.08</td>\n      <td>Patient111_domain.parquet</td>\n      <td>196779.0</td>\n    </tr>\n    <tr>\n      <th>14</th>\n      <td>46.39</td>\n      <td>Patient112_domain.parquet</td>\n      <td>38487.0</td>\n    </tr>\n    <tr>\n      <th>15</th>\n      <td>35.64</td>\n      <td>Patient1_domain.parquet</td>\n      <td>31012.0</td>\n    </tr>\n    <tr>\n      <th>16</th>\n      <td>34.59</td>\n      <td>Patient200_domain.parquet</td>\n      <td>252379.0</td>\n    </tr>\n    <tr>\n      <th>17</th>\n      <td>77.36</td>\n      <td>Patient203_domain.parquet</td>\n      <td>53684.0</td>\n    </tr>\n    <tr>\n      <th>18</th>\n      <td>98.01</td>\n      <td>Patient205_domain.parquet</td>\n      <td>3598.0</td>\n    </tr>\n    <tr>\n      <th>19</th>\n      <td>94.66</td>\n      <td>Patient209_domain.parquet</td>\n      <td>231458.0</td>\n    </tr>\n    <tr>\n      <th>20</th>\n      <td>97.67</td>\n      <td>Patient2_domain.parquet</td>\n      <td>122.0</td>\n    </tr>\n    <tr>\n      <th>21</th>\n      <td>94.26</td>\n      <td>Patient4_domain.parquet</td>\n      <td>324.0</td>\n    </tr>\n  </tbody>\n</table>\n</div>"
     },
     "execution_count": 104,
     "metadata": {},
     "output_type": "execute_result"
    }
   ],
   "source": [
    "table"
   ],
   "metadata": {
    "collapsed": false,
    "pycharm": {
     "name": "#%%\n"
    }
   }
  },
  {
   "cell_type": "code",
   "execution_count": 91,
   "outputs": [
    {
     "data": {
      "text/plain": "    loss                    patient      real\n0  45.24  Patient100_domain.parquet  275832.0",
      "text/html": "<div>\n<style scoped>\n    .dataframe tbody tr th:only-of-type {\n        vertical-align: middle;\n    }\n\n    .dataframe tbody tr th {\n        vertical-align: top;\n    }\n\n    .dataframe thead th {\n        text-align: right;\n    }\n</style>\n<table border=\"1\" class=\"dataframe\">\n  <thead>\n    <tr style=\"text-align: right;\">\n      <th></th>\n      <th>loss</th>\n      <th>patient</th>\n      <th>real</th>\n    </tr>\n  </thead>\n  <tbody>\n    <tr>\n      <th>0</th>\n      <td>45.24</td>\n      <td>Patient100_domain.parquet</td>\n      <td>275832.0</td>\n    </tr>\n  </tbody>\n</table>\n</div>"
     },
     "execution_count": 91,
     "metadata": {},
     "output_type": "execute_result"
    }
   ],
   "source": [
    "table"
   ],
   "metadata": {
    "collapsed": false,
    "pycharm": {
     "name": "#%%\n"
    }
   }
  },
  {
   "cell_type": "code",
   "execution_count": null,
   "outputs": [],
   "source": [],
   "metadata": {
    "collapsed": false,
    "pycharm": {
     "name": "#%%\n"
    }
   }
  }
 ],
 "metadata": {
  "kernelspec": {
   "display_name": "Python 3",
   "language": "python",
   "name": "python3"
  },
  "language_info": {
   "codemirror_mode": {
    "name": "ipython",
    "version": 2
   },
   "file_extension": ".py",
   "mimetype": "text/x-python",
   "name": "python",
   "nbconvert_exporter": "python",
   "pygments_lexer": "ipython2",
   "version": "2.7.6"
  }
 },
 "nbformat": 4,
 "nbformat_minor": 0
}